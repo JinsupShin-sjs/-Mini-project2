{
 "cells": [
  {
   "attachments": {},
   "cell_type": "markdown",
   "metadata": {},
   "source": [
    "### 1. 파일 불러오기"
   ]
  },
  {
   "cell_type": "code",
   "execution_count": 1,
   "metadata": {},
   "outputs": [],
   "source": [
    "import pandas as pd\n",
    "import numpy as np\n",
    "import matplotlib.pyplot as plt\n",
    "import seaborn as sns  "
   ]
  },
  {
   "cell_type": "code",
   "execution_count": 2,
   "metadata": {},
   "outputs": [
    {
     "data": {
      "text/html": [
       "<div>\n",
       "<style scoped>\n",
       "    .dataframe tbody tr th:only-of-type {\n",
       "        vertical-align: middle;\n",
       "    }\n",
       "\n",
       "    .dataframe tbody tr th {\n",
       "        vertical-align: top;\n",
       "    }\n",
       "\n",
       "    .dataframe thead th {\n",
       "        text-align: right;\n",
       "    }\n",
       "</style>\n",
       "<table border=\"1\" class=\"dataframe\">\n",
       "  <thead>\n",
       "    <tr style=\"text-align: right;\">\n",
       "      <th></th>\n",
       "      <th>ym</th>\n",
       "      <th>local</th>\n",
       "      <th>bill</th>\n",
       "      <th>rsn</th>\n",
       "      <th>cnt</th>\n",
       "      <th>amt</th>\n",
       "      <th>amt_class</th>\n",
       "      <th>kospi</th>\n",
       "      <th>usd</th>\n",
       "      <th>cny</th>\n",
       "      <th>...</th>\n",
       "      <th>unemp</th>\n",
       "      <th>p_pi</th>\n",
       "      <th>c_pi</th>\n",
       "      <th>exp_pi</th>\n",
       "      <th>imp_pi</th>\n",
       "      <th>house_pi</th>\n",
       "      <th>bk_rate</th>\n",
       "      <th>coloan</th>\n",
       "      <th>peloan</th>\n",
       "      <th>chkloan</th>\n",
       "    </tr>\n",
       "  </thead>\n",
       "  <tbody>\n",
       "    <tr>\n",
       "      <th>0</th>\n",
       "      <td>201808</td>\n",
       "      <td>1</td>\n",
       "      <td>1</td>\n",
       "      <td>1</td>\n",
       "      <td>2</td>\n",
       "      <td>60000</td>\n",
       "      <td>0</td>\n",
       "      <td>2322.88</td>\n",
       "      <td>1108.8</td>\n",
       "      <td>162.29</td>\n",
       "      <td>...</td>\n",
       "      <td>4.0</td>\n",
       "      <td>104.32</td>\n",
       "      <td>99.462</td>\n",
       "      <td>106.09</td>\n",
       "      <td>111.18</td>\n",
       "      <td>78.46</td>\n",
       "      <td>0.07</td>\n",
       "      <td>5.24</td>\n",
       "      <td>4.95</td>\n",
       "      <td>5.11</td>\n",
       "    </tr>\n",
       "    <tr>\n",
       "      <th>1</th>\n",
       "      <td>201808</td>\n",
       "      <td>1</td>\n",
       "      <td>1</td>\n",
       "      <td>2</td>\n",
       "      <td>3</td>\n",
       "      <td>90000</td>\n",
       "      <td>0</td>\n",
       "      <td>2322.88</td>\n",
       "      <td>1108.8</td>\n",
       "      <td>162.29</td>\n",
       "      <td>...</td>\n",
       "      <td>4.0</td>\n",
       "      <td>104.32</td>\n",
       "      <td>99.462</td>\n",
       "      <td>106.09</td>\n",
       "      <td>111.18</td>\n",
       "      <td>78.46</td>\n",
       "      <td>0.07</td>\n",
       "      <td>5.24</td>\n",
       "      <td>4.95</td>\n",
       "      <td>5.11</td>\n",
       "    </tr>\n",
       "    <tr>\n",
       "      <th>2</th>\n",
       "      <td>201808</td>\n",
       "      <td>1</td>\n",
       "      <td>1</td>\n",
       "      <td>3</td>\n",
       "      <td>2</td>\n",
       "      <td>21000</td>\n",
       "      <td>0</td>\n",
       "      <td>2322.88</td>\n",
       "      <td>1108.8</td>\n",
       "      <td>162.29</td>\n",
       "      <td>...</td>\n",
       "      <td>4.0</td>\n",
       "      <td>104.32</td>\n",
       "      <td>99.462</td>\n",
       "      <td>106.09</td>\n",
       "      <td>111.18</td>\n",
       "      <td>78.46</td>\n",
       "      <td>0.07</td>\n",
       "      <td>5.24</td>\n",
       "      <td>4.95</td>\n",
       "      <td>5.11</td>\n",
       "    </tr>\n",
       "    <tr>\n",
       "      <th>3</th>\n",
       "      <td>201808</td>\n",
       "      <td>1</td>\n",
       "      <td>1</td>\n",
       "      <td>4</td>\n",
       "      <td>1</td>\n",
       "      <td>35000</td>\n",
       "      <td>0</td>\n",
       "      <td>2322.88</td>\n",
       "      <td>1108.8</td>\n",
       "      <td>162.29</td>\n",
       "      <td>...</td>\n",
       "      <td>4.0</td>\n",
       "      <td>104.32</td>\n",
       "      <td>99.462</td>\n",
       "      <td>106.09</td>\n",
       "      <td>111.18</td>\n",
       "      <td>78.46</td>\n",
       "      <td>0.07</td>\n",
       "      <td>5.24</td>\n",
       "      <td>4.95</td>\n",
       "      <td>5.11</td>\n",
       "    </tr>\n",
       "    <tr>\n",
       "      <th>4</th>\n",
       "      <td>201808</td>\n",
       "      <td>1</td>\n",
       "      <td>1</td>\n",
       "      <td>6</td>\n",
       "      <td>3</td>\n",
       "      <td>27000</td>\n",
       "      <td>0</td>\n",
       "      <td>2322.88</td>\n",
       "      <td>1108.8</td>\n",
       "      <td>162.29</td>\n",
       "      <td>...</td>\n",
       "      <td>4.0</td>\n",
       "      <td>104.32</td>\n",
       "      <td>99.462</td>\n",
       "      <td>106.09</td>\n",
       "      <td>111.18</td>\n",
       "      <td>78.46</td>\n",
       "      <td>0.07</td>\n",
       "      <td>5.24</td>\n",
       "      <td>4.95</td>\n",
       "      <td>5.11</td>\n",
       "    </tr>\n",
       "  </tbody>\n",
       "</table>\n",
       "<p>5 rows × 24 columns</p>\n",
       "</div>"
      ],
      "text/plain": [
       "       ym local  bill  rsn  cnt    amt  amt_class    kospi     usd     cny  \\\n",
       "0  201808     1     1    1    2  60000          0  2322.88  1108.8  162.29   \n",
       "1  201808     1     1    2    3  90000          0  2322.88  1108.8  162.29   \n",
       "2  201808     1     1    3    2  21000          0  2322.88  1108.8  162.29   \n",
       "3  201808     1     1    4    1  35000          0  2322.88  1108.8  162.29   \n",
       "4  201808     1     1    6    3  27000          0  2322.88  1108.8  162.29   \n",
       "\n",
       "   ...  unemp    p_pi    c_pi  exp_pi  imp_pi  house_pi  bk_rate  coloan  \\\n",
       "0  ...    4.0  104.32  99.462  106.09  111.18     78.46     0.07    5.24   \n",
       "1  ...    4.0  104.32  99.462  106.09  111.18     78.46     0.07    5.24   \n",
       "2  ...    4.0  104.32  99.462  106.09  111.18     78.46     0.07    5.24   \n",
       "3  ...    4.0  104.32  99.462  106.09  111.18     78.46     0.07    5.24   \n",
       "4  ...    4.0  104.32  99.462  106.09  111.18     78.46     0.07    5.24   \n",
       "\n",
       "   peloan  chkloan  \n",
       "0    4.95     5.11  \n",
       "1    4.95     5.11  \n",
       "2    4.95     5.11  \n",
       "3    4.95     5.11  \n",
       "4    4.95     5.11  \n",
       "\n",
       "[5 rows x 24 columns]"
      ]
     },
     "execution_count": 2,
     "metadata": {},
     "output_type": "execute_result"
    }
   ],
   "source": [
    "df = pd.read_csv('c:/Bankruptcy/data/bankruptcy.csv', index_col=0)\n",
    "df.head() "
   ]
  },
  {
   "cell_type": "code",
   "execution_count": null,
   "metadata": {},
   "outputs": [],
   "source": [
    "# 불필요한 열 삭제\n",
    "#df.drop(df[{'local', 'bill', 'rsn', 'cnt', 'amt_class'}], axis=1, inplace=True)\n",
    "#df.head()"
   ]
  },
  {
   "attachments": {},
   "cell_type": "markdown",
   "metadata": {},
   "source": [
    "### 2. EDA"
   ]
  },
  {
   "cell_type": "code",
   "execution_count": null,
   "metadata": {},
   "outputs": [],
   "source": [
    "%matplotlib inline\n",
    "import matplotlib.pyplot as plt\n",
    "df.hist(bins=100, figsize=(20,15))\n",
    "plt.show() \n"
   ]
  },
  {
   "cell_type": "code",
   "execution_count": null,
   "metadata": {},
   "outputs": [],
   "source": [
    "df.describe().transpose()"
   ]
  },
  {
   "attachments": {},
   "cell_type": "markdown",
   "metadata": {},
   "source": [
    "### 3. 상관분석"
   ]
  },
  {
   "cell_type": "code",
   "execution_count": null,
   "metadata": {},
   "outputs": [],
   "source": [
    "df.corr()"
   ]
  },
  {
   "cell_type": "code",
   "execution_count": null,
   "metadata": {},
   "outputs": [],
   "source": [
    "plt.figure(figsize=(20,15))\n",
    "cmap= sns.light_palette('blue', as_cmap=True)\n",
    "sns.heatmap(df.corr(), annot=True, cmap=cmap)\n",
    "plt.show()"
   ]
  },
  {
   "cell_type": "code",
   "execution_count": 3,
   "metadata": {},
   "outputs": [
    {
     "name": "stderr",
     "output_type": "stream",
     "text": [
      "C:\\Users\\tjoeun\\AppData\\Local\\Temp\\ipykernel_12188\\1161888184.py:2: FutureWarning: Passing a set as an indexer is deprecated and will raise in a future version. Use a list instead.\n",
      "  df1 = df[{'amt','kospi', 'usd', 'jpy', 'call', 'bond',\n"
     ]
    },
    {
     "data": {
      "text/html": [
       "<div>\n",
       "<style scoped>\n",
       "    .dataframe tbody tr th:only-of-type {\n",
       "        vertical-align: middle;\n",
       "    }\n",
       "\n",
       "    .dataframe tbody tr th {\n",
       "        vertical-align: top;\n",
       "    }\n",
       "\n",
       "    .dataframe thead th {\n",
       "        text-align: right;\n",
       "    }\n",
       "</style>\n",
       "<table border=\"1\" class=\"dataframe\">\n",
       "  <thead>\n",
       "    <tr style=\"text-align: right;\">\n",
       "      <th></th>\n",
       "      <th>jpy</th>\n",
       "      <th>c_pi</th>\n",
       "      <th>coloan</th>\n",
       "      <th>chkloan</th>\n",
       "      <th>bond</th>\n",
       "      <th>bk_rate</th>\n",
       "      <th>unemp</th>\n",
       "      <th>call</th>\n",
       "      <th>kospi</th>\n",
       "      <th>usd</th>\n",
       "      <th>amt</th>\n",
       "    </tr>\n",
       "  </thead>\n",
       "  <tbody>\n",
       "    <tr>\n",
       "      <th>0</th>\n",
       "      <td>998.65</td>\n",
       "      <td>99.462</td>\n",
       "      <td>5.24</td>\n",
       "      <td>5.11</td>\n",
       "      <td>3.452</td>\n",
       "      <td>0.07</td>\n",
       "      <td>4.0</td>\n",
       "      <td>3.425</td>\n",
       "      <td>2322.88</td>\n",
       "      <td>1108.8</td>\n",
       "      <td>60000</td>\n",
       "    </tr>\n",
       "    <tr>\n",
       "      <th>1</th>\n",
       "      <td>998.65</td>\n",
       "      <td>99.462</td>\n",
       "      <td>5.24</td>\n",
       "      <td>5.11</td>\n",
       "      <td>3.452</td>\n",
       "      <td>0.07</td>\n",
       "      <td>4.0</td>\n",
       "      <td>3.425</td>\n",
       "      <td>2322.88</td>\n",
       "      <td>1108.8</td>\n",
       "      <td>90000</td>\n",
       "    </tr>\n",
       "    <tr>\n",
       "      <th>2</th>\n",
       "      <td>998.65</td>\n",
       "      <td>99.462</td>\n",
       "      <td>5.24</td>\n",
       "      <td>5.11</td>\n",
       "      <td>3.452</td>\n",
       "      <td>0.07</td>\n",
       "      <td>4.0</td>\n",
       "      <td>3.425</td>\n",
       "      <td>2322.88</td>\n",
       "      <td>1108.8</td>\n",
       "      <td>21000</td>\n",
       "    </tr>\n",
       "    <tr>\n",
       "      <th>3</th>\n",
       "      <td>998.65</td>\n",
       "      <td>99.462</td>\n",
       "      <td>5.24</td>\n",
       "      <td>5.11</td>\n",
       "      <td>3.452</td>\n",
       "      <td>0.07</td>\n",
       "      <td>4.0</td>\n",
       "      <td>3.425</td>\n",
       "      <td>2322.88</td>\n",
       "      <td>1108.8</td>\n",
       "      <td>35000</td>\n",
       "    </tr>\n",
       "    <tr>\n",
       "      <th>4</th>\n",
       "      <td>998.65</td>\n",
       "      <td>99.462</td>\n",
       "      <td>5.24</td>\n",
       "      <td>5.11</td>\n",
       "      <td>3.452</td>\n",
       "      <td>0.07</td>\n",
       "      <td>4.0</td>\n",
       "      <td>3.425</td>\n",
       "      <td>2322.88</td>\n",
       "      <td>1108.8</td>\n",
       "      <td>27000</td>\n",
       "    </tr>\n",
       "  </tbody>\n",
       "</table>\n",
       "</div>"
      ],
      "text/plain": [
       "      jpy    c_pi  coloan  chkloan   bond  bk_rate  unemp   call    kospi  \\\n",
       "0  998.65  99.462    5.24     5.11  3.452     0.07    4.0  3.425  2322.88   \n",
       "1  998.65  99.462    5.24     5.11  3.452     0.07    4.0  3.425  2322.88   \n",
       "2  998.65  99.462    5.24     5.11  3.452     0.07    4.0  3.425  2322.88   \n",
       "3  998.65  99.462    5.24     5.11  3.452     0.07    4.0  3.425  2322.88   \n",
       "4  998.65  99.462    5.24     5.11  3.452     0.07    4.0  3.425  2322.88   \n",
       "\n",
       "      usd    amt  \n",
       "0  1108.8  60000  \n",
       "1  1108.8  90000  \n",
       "2  1108.8  21000  \n",
       "3  1108.8  35000  \n",
       "4  1108.8  27000  "
      ]
     },
     "execution_count": 3,
     "metadata": {},
     "output_type": "execute_result"
    }
   ],
   "source": [
    "# 분석 변수 선정\n",
    "df1 = df[{'amt','kospi', 'usd', 'jpy', 'call', 'bond', \n",
    "          'unemp', 'c_pi', 'bk_rate', 'coloan', 'chkloan'}] \n",
    "df1.head()"
   ]
  },
  {
   "cell_type": "code",
   "execution_count": null,
   "metadata": {},
   "outputs": [],
   "source": [
    "plt.figure(figsize=(7,5))\n",
    "cmap= sns.light_palette('blue', as_cmap=True)\n",
    "sns.heatmap(df1.corr(), annot=True, cmap=cmap)\n",
    "plt.show()"
   ]
  },
  {
   "cell_type": "code",
   "execution_count": null,
   "metadata": {},
   "outputs": [],
   "source": [
    "fig =plt.figure(figsize=(20,15))\n",
    "ax1 = fig.add_subplot(4,3,1)\n",
    "ax2 = fig.add_subplot(4,3,2)\n",
    "ax3 = fig.add_subplot(4,3,3)\n",
    "ax4 = fig.add_subplot(4,3,4)\n",
    "ax5 = fig.add_subplot(4,3,5)\n",
    "ax6 = fig.add_subplot(4,3,6)\n",
    "ax7 = fig.add_subplot(4,3,7)\n",
    "ax8 = fig.add_subplot(4,3,8)\n",
    "ax9 = fig.add_subplot(4,3,9)\n",
    "ax10 = fig.add_subplot(4,3,10)\n",
    "\n",
    "sns.scatterplot(data=df1, x='unemp', y='amt', ax=ax1)\n",
    "sns.scatterplot(data=df1, x='kospi', y='amt', ax=ax2)\n",
    "sns.scatterplot(data=df1, x='usd', y='amt', ax=ax3)\n",
    "sns.scatterplot(data=df1, x='jpy', y='amt', ax=ax4)\n",
    "sns.scatterplot(data=df1, x='bk_rate', y='amt', ax=ax5)\n",
    "sns.scatterplot(data=df1, x='c_pi', y='amt', ax=ax6)\n",
    "sns.scatterplot(data=df1, x='call', y='amt', ax=ax7)\n",
    "sns.scatterplot(data=df1, x='bond', y='amt', ax=ax8)\n",
    "sns.scatterplot(data=df1, x='coloan', y='amt', ax=ax9)\n",
    "sns.scatterplot(data=df1, x='chkloan', y='amt', ax=ax10)  \n",
    " \n",
    " "
   ]
  },
  {
   "cell_type": "code",
   "execution_count": null,
   "metadata": {},
   "outputs": [],
   "source": [
    "sns.pairplot(df1[[{'amt','kospi', 'usd', 'jpy', 'call', 'bond',\n",
    "                   'unemp', 'c_pi', 'bk_rate', 'coloan', 'chkloan'}]].sample(frac=0.05))\n",
    "plt.show()"
   ]
  },
  {
   "attachments": {},
   "cell_type": "markdown",
   "metadata": {},
   "source": [
    "### 4. 회귀분석"
   ]
  },
  {
   "cell_type": "code",
   "execution_count": null,
   "metadata": {},
   "outputs": [],
   "source": [
    "df1.boxplot()"
   ]
  },
  {
   "cell_type": "code",
   "execution_count": 4,
   "metadata": {},
   "outputs": [
    {
     "data": {
      "text/html": [
       "<div>\n",
       "<style scoped>\n",
       "    .dataframe tbody tr th:only-of-type {\n",
       "        vertical-align: middle;\n",
       "    }\n",
       "\n",
       "    .dataframe tbody tr th {\n",
       "        vertical-align: top;\n",
       "    }\n",
       "\n",
       "    .dataframe thead th {\n",
       "        text-align: right;\n",
       "    }\n",
       "</style>\n",
       "<table border=\"1\" class=\"dataframe\">\n",
       "  <thead>\n",
       "    <tr style=\"text-align: right;\">\n",
       "      <th></th>\n",
       "      <th>0</th>\n",
       "      <th>1</th>\n",
       "      <th>2</th>\n",
       "      <th>3</th>\n",
       "      <th>4</th>\n",
       "    </tr>\n",
       "  </thead>\n",
       "  <tbody>\n",
       "    <tr>\n",
       "      <th>jpy</th>\n",
       "      <td>998.650</td>\n",
       "      <td>998.650</td>\n",
       "      <td>998.650</td>\n",
       "      <td>998.650</td>\n",
       "      <td>998.650</td>\n",
       "    </tr>\n",
       "    <tr>\n",
       "      <th>c_pi</th>\n",
       "      <td>99.462</td>\n",
       "      <td>99.462</td>\n",
       "      <td>99.462</td>\n",
       "      <td>99.462</td>\n",
       "      <td>99.462</td>\n",
       "    </tr>\n",
       "    <tr>\n",
       "      <th>coloan</th>\n",
       "      <td>5.240</td>\n",
       "      <td>5.240</td>\n",
       "      <td>5.240</td>\n",
       "      <td>5.240</td>\n",
       "      <td>5.240</td>\n",
       "    </tr>\n",
       "    <tr>\n",
       "      <th>chkloan</th>\n",
       "      <td>5.110</td>\n",
       "      <td>5.110</td>\n",
       "      <td>5.110</td>\n",
       "      <td>5.110</td>\n",
       "      <td>5.110</td>\n",
       "    </tr>\n",
       "    <tr>\n",
       "      <th>bond</th>\n",
       "      <td>3.452</td>\n",
       "      <td>3.452</td>\n",
       "      <td>3.452</td>\n",
       "      <td>3.452</td>\n",
       "      <td>3.452</td>\n",
       "    </tr>\n",
       "    <tr>\n",
       "      <th>bk_rate</th>\n",
       "      <td>0.070</td>\n",
       "      <td>0.070</td>\n",
       "      <td>0.070</td>\n",
       "      <td>0.070</td>\n",
       "      <td>0.070</td>\n",
       "    </tr>\n",
       "    <tr>\n",
       "      <th>unemp</th>\n",
       "      <td>4.000</td>\n",
       "      <td>4.000</td>\n",
       "      <td>4.000</td>\n",
       "      <td>4.000</td>\n",
       "      <td>4.000</td>\n",
       "    </tr>\n",
       "    <tr>\n",
       "      <th>call</th>\n",
       "      <td>3.425</td>\n",
       "      <td>3.425</td>\n",
       "      <td>3.425</td>\n",
       "      <td>3.425</td>\n",
       "      <td>3.425</td>\n",
       "    </tr>\n",
       "    <tr>\n",
       "      <th>kospi</th>\n",
       "      <td>2322.880</td>\n",
       "      <td>2322.880</td>\n",
       "      <td>2322.880</td>\n",
       "      <td>2322.880</td>\n",
       "      <td>2322.880</td>\n",
       "    </tr>\n",
       "    <tr>\n",
       "      <th>usd</th>\n",
       "      <td>1108.800</td>\n",
       "      <td>1108.800</td>\n",
       "      <td>1108.800</td>\n",
       "      <td>1108.800</td>\n",
       "      <td>1108.800</td>\n",
       "    </tr>\n",
       "  </tbody>\n",
       "</table>\n",
       "</div>"
      ],
      "text/plain": [
       "                0         1         2         3         4\n",
       "jpy       998.650   998.650   998.650   998.650   998.650\n",
       "c_pi       99.462    99.462    99.462    99.462    99.462\n",
       "coloan      5.240     5.240     5.240     5.240     5.240\n",
       "chkloan     5.110     5.110     5.110     5.110     5.110\n",
       "bond        3.452     3.452     3.452     3.452     3.452\n",
       "bk_rate     0.070     0.070     0.070     0.070     0.070\n",
       "unemp       4.000     4.000     4.000     4.000     4.000\n",
       "call        3.425     3.425     3.425     3.425     3.425\n",
       "kospi    2322.880  2322.880  2322.880  2322.880  2322.880\n",
       "usd      1108.800  1108.800  1108.800  1108.800  1108.800"
      ]
     },
     "execution_count": 4,
     "metadata": {},
     "output_type": "execute_result"
    }
   ],
   "source": [
    "df2=pd.DataFrame(df1)\n",
    "price_label = df1['amt'].copy()\n",
    "df2.drop('amt',axis=1, inplace=True)\n",
    "df2.head().transpose()"
   ]
  },
  {
   "cell_type": "code",
   "execution_count": null,
   "metadata": {},
   "outputs": [],
   "source": [
    "df2.boxplot()"
   ]
  },
  {
   "cell_type": "code",
   "execution_count": null,
   "metadata": {},
   "outputs": [],
   "source": [
    "'''스케일링\n",
    "from sklearn.preprocessing import StandardScaler\n",
    "\n",
    "scaler = StandardScaler()\n",
    "scaler.fit(df1)\n",
    "scaled_df = scaler.transform(df1)\n",
    "scaled_df.shape'''"
   ]
  },
  {
   "cell_type": "code",
   "execution_count": 5,
   "metadata": {},
   "outputs": [
    {
     "name": "stdout",
     "output_type": "stream",
     "text": [
      "모형의적합성_R2 : 0.024301935412783027\n",
      "P-value:\n",
      " jpy        2.189022e-01\n",
      "c_pi       8.336130e-01\n",
      "coloan     9.694560e-01\n",
      "chkloan    8.549839e-01\n",
      "bond       5.346858e-01\n",
      "bk_rate    8.882262e-09\n",
      "unemp      8.576460e-01\n",
      "call       9.762379e-01\n",
      "kospi      4.735033e-01\n",
      "usd        5.186539e-01\n",
      "dtype: float64\n"
     ]
    },
    {
     "data": {
      "text/html": [
       "<table class=\"simpletable\">\n",
       "<caption>OLS Regression Results</caption>\n",
       "<tr>\n",
       "  <th>Dep. Variable:</th>           <td>amt</td>       <th>  R-squared (uncentered):</th>       <td>   0.024</td>  \n",
       "</tr>\n",
       "<tr>\n",
       "  <th>Model:</th>                   <td>OLS</td>       <th>  Adj. R-squared (uncentered):</th>  <td>   0.023</td>  \n",
       "</tr>\n",
       "<tr>\n",
       "  <th>Method:</th>             <td>Least Squares</td>  <th>  F-statistic:       </th>           <td>   19.66</td>  \n",
       "</tr>\n",
       "<tr>\n",
       "  <th>Date:</th>             <td>Fri, 21 Apr 2023</td> <th>  Prob (F-statistic):</th>           <td>2.54e-36</td>  \n",
       "</tr>\n",
       "<tr>\n",
       "  <th>Time:</th>                 <td>17:43:02</td>     <th>  Log-Likelihood:    </th>          <td>-1.3756e+05</td>\n",
       "</tr>\n",
       "<tr>\n",
       "  <th>No. Observations:</th>      <td>  7902</td>      <th>  AIC:               </th>           <td>2.751e+05</td> \n",
       "</tr>\n",
       "<tr>\n",
       "  <th>Df Residuals:</th>          <td>  7892</td>      <th>  BIC:               </th>           <td>2.752e+05</td> \n",
       "</tr>\n",
       "<tr>\n",
       "  <th>Df Model:</th>              <td>    10</td>      <th>                     </th>               <td> </td>     \n",
       "</tr>\n",
       "<tr>\n",
       "  <th>Covariance Type:</th>      <td>nonrobust</td>    <th>                     </th>               <td> </td>     \n",
       "</tr>\n",
       "</table>\n",
       "<table class=\"simpletable\">\n",
       "<tr>\n",
       "     <td></td>        <th>coef</th>     <th>std err</th>      <th>t</th>      <th>P>|t|</th>  <th>[0.025</th>    <th>0.975]</th>  \n",
       "</tr>\n",
       "<tr>\n",
       "  <th>jpy</th>     <td>-2533.9243</td> <td> 2060.855</td> <td>   -1.230</td> <td> 0.219</td> <td>-6573.745</td> <td> 1505.896</td>\n",
       "</tr>\n",
       "<tr>\n",
       "  <th>c_pi</th>    <td>-1.338e+04</td> <td> 6.37e+04</td> <td>   -0.210</td> <td> 0.834</td> <td>-1.38e+05</td> <td> 1.11e+05</td>\n",
       "</tr>\n",
       "<tr>\n",
       "  <th>coloan</th>  <td> 3.297e+04</td> <td> 8.61e+05</td> <td>    0.038</td> <td> 0.969</td> <td>-1.65e+06</td> <td> 1.72e+06</td>\n",
       "</tr>\n",
       "<tr>\n",
       "  <th>chkloan</th> <td> 1.232e+05</td> <td> 6.74e+05</td> <td>    0.183</td> <td> 0.855</td> <td> -1.2e+06</td> <td> 1.44e+06</td>\n",
       "</tr>\n",
       "<tr>\n",
       "  <th>bond</th>    <td>-3.966e+05</td> <td> 6.39e+05</td> <td>   -0.621</td> <td> 0.535</td> <td>-1.65e+06</td> <td> 8.55e+05</td>\n",
       "</tr>\n",
       "<tr>\n",
       "  <th>bk_rate</th> <td> 1.445e+07</td> <td> 2.51e+06</td> <td>    5.757</td> <td> 0.000</td> <td> 9.53e+06</td> <td> 1.94e+07</td>\n",
       "</tr>\n",
       "<tr>\n",
       "  <th>unemp</th>   <td> 3.568e+04</td> <td> 1.99e+05</td> <td>    0.179</td> <td> 0.858</td> <td>-3.54e+05</td> <td> 4.26e+05</td>\n",
       "</tr>\n",
       "<tr>\n",
       "  <th>call</th>    <td> 3.197e+04</td> <td> 1.07e+06</td> <td>    0.030</td> <td> 0.976</td> <td>-2.07e+06</td> <td> 2.14e+06</td>\n",
       "</tr>\n",
       "<tr>\n",
       "  <th>kospi</th>   <td>  363.3241</td> <td>  506.852</td> <td>    0.717</td> <td> 0.474</td> <td> -630.240</td> <td> 1356.888</td>\n",
       "</tr>\n",
       "<tr>\n",
       "  <th>usd</th>     <td> 2551.8691</td> <td> 3953.624</td> <td>    0.645</td> <td> 0.519</td> <td>-5198.280</td> <td> 1.03e+04</td>\n",
       "</tr>\n",
       "</table>\n",
       "<table class=\"simpletable\">\n",
       "<tr>\n",
       "  <th>Omnibus:</th>       <td>18435.629</td> <th>  Durbin-Watson:     </th>   <td>   1.883</td>   \n",
       "</tr>\n",
       "<tr>\n",
       "  <th>Prob(Omnibus):</th>  <td> 0.000</td>   <th>  Jarque-Bera (JB):  </th> <td>171546621.622</td>\n",
       "</tr>\n",
       "<tr>\n",
       "  <th>Skew:</th>           <td>23.037</td>   <th>  Prob(JB):          </th>   <td>    0.00</td>   \n",
       "</tr>\n",
       "<tr>\n",
       "  <th>Kurtosis:</th>       <td>723.347</td>  <th>  Cond. No.          </th>   <td>7.30e+04</td>   \n",
       "</tr>\n",
       "</table><br/><br/>Notes:<br/>[1] R² is computed without centering (uncentered) since the model does not contain a constant.<br/>[2] Standard Errors assume that the covariance matrix of the errors is correctly specified.<br/>[3] The condition number is large, 7.3e+04. This might indicate that there are<br/>strong multicollinearity or other numerical problems."
      ],
      "text/plain": [
       "<class 'statsmodels.iolib.summary.Summary'>\n",
       "\"\"\"\n",
       "                                 OLS Regression Results                                \n",
       "=======================================================================================\n",
       "Dep. Variable:                    amt   R-squared (uncentered):                   0.024\n",
       "Model:                            OLS   Adj. R-squared (uncentered):              0.023\n",
       "Method:                 Least Squares   F-statistic:                              19.66\n",
       "Date:                Fri, 21 Apr 2023   Prob (F-statistic):                    2.54e-36\n",
       "Time:                        17:43:02   Log-Likelihood:                     -1.3756e+05\n",
       "No. Observations:                7902   AIC:                                  2.751e+05\n",
       "Df Residuals:                    7892   BIC:                                  2.752e+05\n",
       "Df Model:                          10                                                  \n",
       "Covariance Type:            nonrobust                                                  \n",
       "==============================================================================\n",
       "                 coef    std err          t      P>|t|      [0.025      0.975]\n",
       "------------------------------------------------------------------------------\n",
       "jpy        -2533.9243   2060.855     -1.230      0.219   -6573.745    1505.896\n",
       "c_pi       -1.338e+04   6.37e+04     -0.210      0.834   -1.38e+05    1.11e+05\n",
       "coloan      3.297e+04   8.61e+05      0.038      0.969   -1.65e+06    1.72e+06\n",
       "chkloan     1.232e+05   6.74e+05      0.183      0.855    -1.2e+06    1.44e+06\n",
       "bond       -3.966e+05   6.39e+05     -0.621      0.535   -1.65e+06    8.55e+05\n",
       "bk_rate     1.445e+07   2.51e+06      5.757      0.000    9.53e+06    1.94e+07\n",
       "unemp       3.568e+04   1.99e+05      0.179      0.858   -3.54e+05    4.26e+05\n",
       "call        3.197e+04   1.07e+06      0.030      0.976   -2.07e+06    2.14e+06\n",
       "kospi        363.3241    506.852      0.717      0.474    -630.240    1356.888\n",
       "usd         2551.8691   3953.624      0.645      0.519   -5198.280    1.03e+04\n",
       "==============================================================================\n",
       "Omnibus:                    18435.629   Durbin-Watson:                   1.883\n",
       "Prob(Omnibus):                  0.000   Jarque-Bera (JB):        171546621.622\n",
       "Skew:                          23.037   Prob(JB):                         0.00\n",
       "Kurtosis:                     723.347   Cond. No.                     7.30e+04\n",
       "==============================================================================\n",
       "\n",
       "Notes:\n",
       "[1] R² is computed without centering (uncentered) since the model does not contain a constant.\n",
       "[2] Standard Errors assume that the covariance matrix of the errors is correctly specified.\n",
       "[3] The condition number is large, 7.3e+04. This might indicate that there are\n",
       "strong multicollinearity or other numerical problems.\n",
       "\"\"\""
      ]
     },
     "execution_count": 5,
     "metadata": {},
     "output_type": "execute_result"
    }
   ],
   "source": [
    "#선택변수만 \n",
    "X = df2 \n",
    "y= price_label\n",
    "\n",
    "import statsmodels.api as sm\n",
    "\n",
    "model = sm.OLS(y, X)\n",
    "result = model.fit()\n",
    "print(\"모형의적합성_R2 :\",result.rsquared)\n",
    "print(\"P-value:\\n\",result.pvalues)\n",
    "result.summary()"
   ]
  },
  {
   "cell_type": "code",
   "execution_count": 7,
   "metadata": {},
   "outputs": [
    {
     "name": "stdout",
     "output_type": "stream",
     "text": [
      "모형의적합성_R2 : 0.08791730701633282\n",
      "P-value:\n",
      " jpy          6.311602e-01\n",
      "c_pi         3.756912e-01\n",
      "bk_rate      3.226049e-08\n",
      "house_pi     8.696793e-01\n",
      "unemp        9.069224e-01\n",
      "call         7.601724e-01\n",
      "kospi        9.874608e-01\n",
      "p_pi         5.061874e-01\n",
      "usd          7.470357e-01\n",
      "cd           7.591124e-01\n",
      "cnt         2.581766e-117\n",
      "coloan       9.921523e-01\n",
      "bond         6.872627e-01\n",
      "chkloan      7.891109e-01\n",
      "cny          9.532692e-01\n",
      "peloan       9.167284e-01\n",
      "dtype: float64\n"
     ]
    },
    {
     "name": "stderr",
     "output_type": "stream",
     "text": [
      "C:\\Users\\tjoeun\\AppData\\Local\\Temp\\ipykernel_12188\\808749201.py:2: FutureWarning: Passing a set as an indexer is deprecated and will raise in a future version. Use a list instead.\n",
      "  X = df[\n"
     ]
    },
    {
     "data": {
      "text/html": [
       "<table class=\"simpletable\">\n",
       "<caption>OLS Regression Results</caption>\n",
       "<tr>\n",
       "  <th>Dep. Variable:</th>           <td>amt</td>       <th>  R-squared (uncentered):</th>       <td>   0.088</td>  \n",
       "</tr>\n",
       "<tr>\n",
       "  <th>Model:</th>                   <td>OLS</td>       <th>  Adj. R-squared (uncentered):</th>  <td>   0.086</td>  \n",
       "</tr>\n",
       "<tr>\n",
       "  <th>Method:</th>             <td>Least Squares</td>  <th>  F-statistic:       </th>           <td>   47.51</td>  \n",
       "</tr>\n",
       "<tr>\n",
       "  <th>Date:</th>             <td>Fri, 21 Apr 2023</td> <th>  Prob (F-statistic):</th>           <td>3.18e-144</td> \n",
       "</tr>\n",
       "<tr>\n",
       "  <th>Time:</th>                 <td>17:44:11</td>     <th>  Log-Likelihood:    </th>          <td>-1.3730e+05</td>\n",
       "</tr>\n",
       "<tr>\n",
       "  <th>No. Observations:</th>      <td>  7902</td>      <th>  AIC:               </th>           <td>2.746e+05</td> \n",
       "</tr>\n",
       "<tr>\n",
       "  <th>Df Residuals:</th>          <td>  7886</td>      <th>  BIC:               </th>           <td>2.747e+05</td> \n",
       "</tr>\n",
       "<tr>\n",
       "  <th>Df Model:</th>              <td>    16</td>      <th>                     </th>               <td> </td>     \n",
       "</tr>\n",
       "<tr>\n",
       "  <th>Covariance Type:</th>      <td>nonrobust</td>    <th>                     </th>               <td> </td>     \n",
       "</tr>\n",
       "</table>\n",
       "<table class=\"simpletable\">\n",
       "<tr>\n",
       "      <td></td>        <th>coef</th>     <th>std err</th>      <th>t</th>      <th>P>|t|</th>  <th>[0.025</th>    <th>0.975]</th>  \n",
       "</tr>\n",
       "<tr>\n",
       "  <th>jpy</th>      <td>-1585.1204</td> <td> 3301.555</td> <td>   -0.480</td> <td> 0.631</td> <td>-8057.043</td> <td> 4886.802</td>\n",
       "</tr>\n",
       "<tr>\n",
       "  <th>c_pi</th>     <td>-7.661e+04</td> <td> 8.65e+04</td> <td>   -0.886</td> <td> 0.376</td> <td>-2.46e+05</td> <td> 9.29e+04</td>\n",
       "</tr>\n",
       "<tr>\n",
       "  <th>bk_rate</th>  <td> 1.469e+07</td> <td> 2.65e+06</td> <td>    5.534</td> <td> 0.000</td> <td> 9.49e+06</td> <td> 1.99e+07</td>\n",
       "</tr>\n",
       "<tr>\n",
       "  <th>house_pi</th> <td> 1.666e+04</td> <td> 1.02e+05</td> <td>    0.164</td> <td> 0.870</td> <td>-1.82e+05</td> <td> 2.16e+05</td>\n",
       "</tr>\n",
       "<tr>\n",
       "  <th>unemp</th>    <td> 2.462e+04</td> <td> 2.11e+05</td> <td>    0.117</td> <td> 0.907</td> <td>-3.88e+05</td> <td> 4.37e+05</td>\n",
       "</tr>\n",
       "<tr>\n",
       "  <th>call</th>     <td>-4.287e+05</td> <td>  1.4e+06</td> <td>   -0.305</td> <td> 0.760</td> <td>-3.18e+06</td> <td> 2.32e+06</td>\n",
       "</tr>\n",
       "<tr>\n",
       "  <th>kospi</th>    <td>   13.6268</td> <td>  867.025</td> <td>    0.016</td> <td> 0.987</td> <td>-1685.972</td> <td> 1713.226</td>\n",
       "</tr>\n",
       "<tr>\n",
       "  <th>p_pi</th>     <td> 5.095e+04</td> <td> 7.66e+04</td> <td>    0.665</td> <td> 0.506</td> <td>-9.93e+04</td> <td> 2.01e+05</td>\n",
       "</tr>\n",
       "<tr>\n",
       "  <th>usd</th>      <td> 1916.8870</td> <td> 5942.698</td> <td>    0.323</td> <td> 0.747</td> <td>-9732.374</td> <td> 1.36e+04</td>\n",
       "</tr>\n",
       "<tr>\n",
       "  <th>cd</th>       <td> 4.002e+05</td> <td> 1.31e+06</td> <td>    0.307</td> <td> 0.759</td> <td>-2.16e+06</td> <td> 2.96e+06</td>\n",
       "</tr>\n",
       "<tr>\n",
       "  <th>cnt</th>      <td> 6.853e+04</td> <td> 2926.343</td> <td>   23.419</td> <td> 0.000</td> <td> 6.28e+04</td> <td> 7.43e+04</td>\n",
       "</tr>\n",
       "<tr>\n",
       "  <th>coloan</th>   <td>-3.004e+04</td> <td> 3.05e+06</td> <td>   -0.010</td> <td> 0.992</td> <td>-6.02e+06</td> <td> 5.96e+06</td>\n",
       "</tr>\n",
       "<tr>\n",
       "  <th>bond</th>     <td>-3.487e+05</td> <td> 8.66e+05</td> <td>   -0.403</td> <td> 0.687</td> <td>-2.05e+06</td> <td> 1.35e+06</td>\n",
       "</tr>\n",
       "<tr>\n",
       "  <th>chkloan</th>  <td>-2.047e+05</td> <td> 7.65e+05</td> <td>   -0.267</td> <td> 0.789</td> <td> -1.7e+06</td> <td>  1.3e+06</td>\n",
       "</tr>\n",
       "<tr>\n",
       "  <th>cny</th>      <td>-3854.6825</td> <td> 6.58e+04</td> <td>   -0.059</td> <td> 0.953</td> <td>-1.33e+05</td> <td> 1.25e+05</td>\n",
       "</tr>\n",
       "<tr>\n",
       "  <th>peloan</th>   <td> 3.849e+05</td> <td> 3.68e+06</td> <td>    0.105</td> <td> 0.917</td> <td>-6.83e+06</td> <td>  7.6e+06</td>\n",
       "</tr>\n",
       "</table>\n",
       "<table class=\"simpletable\">\n",
       "<tr>\n",
       "  <th>Omnibus:</th>       <td>18502.314</td> <th>  Durbin-Watson:     </th>   <td>   1.900</td>   \n",
       "</tr>\n",
       "<tr>\n",
       "  <th>Prob(Omnibus):</th>  <td> 0.000</td>   <th>  Jarque-Bera (JB):  </th> <td>190003737.659</td>\n",
       "</tr>\n",
       "<tr>\n",
       "  <th>Skew:</th>           <td>23.191</td>   <th>  Prob(JB):          </th>   <td>    0.00</td>   \n",
       "</tr>\n",
       "<tr>\n",
       "  <th>Kurtosis:</th>       <td>761.241</td>  <th>  Cond. No.          </th>   <td>1.45e+05</td>   \n",
       "</tr>\n",
       "</table><br/><br/>Notes:<br/>[1] R² is computed without centering (uncentered) since the model does not contain a constant.<br/>[2] Standard Errors assume that the covariance matrix of the errors is correctly specified.<br/>[3] The condition number is large, 1.45e+05. This might indicate that there are<br/>strong multicollinearity or other numerical problems."
      ],
      "text/plain": [
       "<class 'statsmodels.iolib.summary.Summary'>\n",
       "\"\"\"\n",
       "                                 OLS Regression Results                                \n",
       "=======================================================================================\n",
       "Dep. Variable:                    amt   R-squared (uncentered):                   0.088\n",
       "Model:                            OLS   Adj. R-squared (uncentered):              0.086\n",
       "Method:                 Least Squares   F-statistic:                              47.51\n",
       "Date:                Fri, 21 Apr 2023   Prob (F-statistic):                   3.18e-144\n",
       "Time:                        17:44:11   Log-Likelihood:                     -1.3730e+05\n",
       "No. Observations:                7902   AIC:                                  2.746e+05\n",
       "Df Residuals:                    7886   BIC:                                  2.747e+05\n",
       "Df Model:                          16                                                  \n",
       "Covariance Type:            nonrobust                                                  \n",
       "==============================================================================\n",
       "                 coef    std err          t      P>|t|      [0.025      0.975]\n",
       "------------------------------------------------------------------------------\n",
       "jpy        -1585.1204   3301.555     -0.480      0.631   -8057.043    4886.802\n",
       "c_pi       -7.661e+04   8.65e+04     -0.886      0.376   -2.46e+05    9.29e+04\n",
       "bk_rate     1.469e+07   2.65e+06      5.534      0.000    9.49e+06    1.99e+07\n",
       "house_pi    1.666e+04   1.02e+05      0.164      0.870   -1.82e+05    2.16e+05\n",
       "unemp       2.462e+04   2.11e+05      0.117      0.907   -3.88e+05    4.37e+05\n",
       "call       -4.287e+05    1.4e+06     -0.305      0.760   -3.18e+06    2.32e+06\n",
       "kospi         13.6268    867.025      0.016      0.987   -1685.972    1713.226\n",
       "p_pi        5.095e+04   7.66e+04      0.665      0.506   -9.93e+04    2.01e+05\n",
       "usd         1916.8870   5942.698      0.323      0.747   -9732.374    1.36e+04\n",
       "cd          4.002e+05   1.31e+06      0.307      0.759   -2.16e+06    2.96e+06\n",
       "cnt         6.853e+04   2926.343     23.419      0.000    6.28e+04    7.43e+04\n",
       "coloan     -3.004e+04   3.05e+06     -0.010      0.992   -6.02e+06    5.96e+06\n",
       "bond       -3.487e+05   8.66e+05     -0.403      0.687   -2.05e+06    1.35e+06\n",
       "chkloan    -2.047e+05   7.65e+05     -0.267      0.789    -1.7e+06     1.3e+06\n",
       "cny        -3854.6825   6.58e+04     -0.059      0.953   -1.33e+05    1.25e+05\n",
       "peloan      3.849e+05   3.68e+06      0.105      0.917   -6.83e+06     7.6e+06\n",
       "==============================================================================\n",
       "Omnibus:                    18502.314   Durbin-Watson:                   1.900\n",
       "Prob(Omnibus):                  0.000   Jarque-Bera (JB):        190003737.659\n",
       "Skew:                          23.191   Prob(JB):                         0.00\n",
       "Kurtosis:                     761.241   Cond. No.                     1.45e+05\n",
       "==============================================================================\n",
       "\n",
       "Notes:\n",
       "[1] R² is computed without centering (uncentered) since the model does not contain a constant.\n",
       "[2] Standard Errors assume that the covariance matrix of the errors is correctly specified.\n",
       "[3] The condition number is large, 1.45e+05. This might indicate that there are\n",
       "strong multicollinearity or other numerical problems.\n",
       "\"\"\""
      ]
     },
     "execution_count": 7,
     "metadata": {},
     "output_type": "execute_result"
    }
   ],
   "source": [
    "# 변수 추가 시\n",
    "X = df[\n",
    "    {'cnt','kospi','usd', 'cny', 'jpy', 'call', 'cd', \n",
    "     'bond', 'unemp', 'p_pi', 'c_pi', 'house_pi', 'bk_rate',\n",
    "     'coloan', 'peloan', 'chkloan'\n",
    "     }]\n",
    " \n",
    "y= df[ 'amt']\n",
    "\n",
    "import statsmodels.api as sm\n",
    "\n",
    "model = sm.OLS(y, X)\n",
    "result = model.fit()\n",
    "print(\"모형의적합성_R2 :\",result.rsquared)\n",
    "print(\"P-value:\\n\",result.pvalues)\n",
    "result.summary()"
   ]
  },
  {
   "cell_type": "code",
   "execution_count": null,
   "metadata": {},
   "outputs": [],
   "source": [
    "from sklearn.model_selection import train_test_split\n",
    "X_train, X_test, y_train, y_test = train_test_split(X, y, test_size=0.2, random_state=7)\n",
    "print(X_train.shape, X_test.shape)"
   ]
  },
  {
   "cell_type": "code",
   "execution_count": null,
   "metadata": {},
   "outputs": [],
   "source": [
    "from keras.models import Sequential\n",
    "from keras.layers import Dense\n",
    "model = Sequential()\n",
    "model.add(Dense(8,input_shape=(len(X_train.columns),),activation='relu'))\n",
    "model.add(Dense(4,activation='relu'))\n",
    "model.add(Dense(1))\n",
    "model.compile(loss='mse', optimizer='adam', metrics=['mse', 'mae'])\n",
    "model.summary()"
   ]
  },
  {
   "cell_type": "code",
   "execution_count": null,
   "metadata": {},
   "outputs": [],
   "source": [
    "X_train.boxplot()\n",
    "from sklearn.preprocessing import StandardScaler\n",
    "scaler=StandardScaler()\n",
    "scaler.fit(X_train)\n",
    "X_train_scaled=scaler.transform(X_train)\n",
    "X_test_scaled=scaler.transform(X_test)\n",
    "X_train_scaled=pd.DataFrame(X_train_scaled)\n",
    "X_test_scaled=pd.DataFrame(X_test_scaled)"
   ]
  },
  {
   "cell_type": "code",
   "execution_count": null,
   "metadata": {},
   "outputs": [],
   "source": [
    "import matplotlib.pyplot as plt\n",
    "X_train_scaled.boxplot()\n",
    "plt.show()"
   ]
  },
  {
   "cell_type": "code",
   "execution_count": null,
   "metadata": {},
   "outputs": [],
   "source": [
    "from keras.callbacks import EarlyStopping\n",
    "EarlyStopping = EarlyStopping(monitor='val_loss', patience=50)\n",
    "hist = model.fit(X_train_scaled, y_train, epochs=15, \n",
    "                 validation_split=0.2, callbacks=[EarlyStopping])"
   ]
  },
  {
   "cell_type": "code",
   "execution_count": null,
   "metadata": {},
   "outputs": [],
   "source": [
    "plt.plot(hist.history['loss'])\n",
    "plt.plot(hist.history['val_loss'])\n",
    "plt.legend(['loss', 'val_loss'])\n",
    "plt.show()"
   ]
  },
  {
   "cell_type": "code",
   "execution_count": null,
   "metadata": {},
   "outputs": [],
   "source": [
    "plt.plot(hist.history['mse'])\n",
    "plt.plot(hist.history['val_mse'])\n",
    "plt.legend(['mse', 'val_mse'])\n",
    "plt.show()"
   ]
  },
  {
   "cell_type": "code",
   "execution_count": null,
   "metadata": {},
   "outputs": [],
   "source": [
    "plt.plot(hist.history['mae'])\n",
    "plt.plot(hist.history['val_mae'])\n",
    "plt.legend(['mae', 'val_mae'])\n",
    "plt.show()"
   ]
  },
  {
   "cell_type": "code",
   "execution_count": null,
   "metadata": {},
   "outputs": [],
   "source": [
    "scores = model.evaluate(X_train_scaled, y_train)\n",
    "print(scores)\n",
    "\n",
    "scores = model.evaluate(X_test_scaled, y_test)\n",
    "print(scores)"
   ]
  },
  {
   "cell_type": "code",
   "execution_count": null,
   "metadata": {},
   "outputs": [],
   "source": [
    "from sklearn.metrics import r2_score\n",
    "pred=model.predict(X_test_scaled)\n",
    "r2_score(y_test, pred) "
   ]
  },
  {
   "cell_type": "code",
   "execution_count": null,
   "metadata": {},
   "outputs": [],
   "source": []
  },
  {
   "cell_type": "code",
   "execution_count": null,
   "metadata": {},
   "outputs": [],
   "source": []
  },
  {
   "cell_type": "code",
   "execution_count": null,
   "metadata": {},
   "outputs": [],
   "source": [
    "## 16개 변수 VIF 산출\n",
    "from statsmodels.stats.outliers_influence import variance_inflation_factor  \n",
    "\n",
    "vif = pd.DataFrame()\n",
    "vif['VIF']=[variance_inflation_factor(df1.values, i) for i in range(df1.shape[1])]\n",
    "vif['독립변수'] = df1.columns\n",
    "vif =vif.sort_values('VIF').reset_index(drop=True)\n",
    "vif  "
   ]
  },
  {
   "cell_type": "code",
   "execution_count": null,
   "metadata": {},
   "outputs": [],
   "source": []
  },
  {
   "cell_type": "code",
   "execution_count": null,
   "metadata": {},
   "outputs": [],
   "source": [
    "ㄹ개ㅡ "
   ]
  },
  {
   "cell_type": "code",
   "execution_count": null,
   "metadata": {},
   "outputs": [],
   "source": []
  },
  {
   "cell_type": "code",
   "execution_count": null,
   "metadata": {},
   "outputs": [],
   "source": []
  },
  {
   "cell_type": "code",
   "execution_count": null,
   "metadata": {},
   "outputs": [],
   "source": []
  },
  {
   "cell_type": "code",
   "execution_count": null,
   "metadata": {},
   "outputs": [],
   "source": []
  },
  {
   "cell_type": "code",
   "execution_count": null,
   "metadata": {},
   "outputs": [],
   "source": []
  },
  {
   "cell_type": "code",
   "execution_count": null,
   "metadata": {},
   "outputs": [],
   "source": [
    "# 8개 변수 데이터 생성\n",
    "df_X= df1[['면적당가격','전용면적','층', '건축년도','KOSDAQ_종가', '미국달러', \n",
    "         '소비자물가지수','주택담보대출금리']]\n",
    "df_X.head(3)"
   ]
  },
  {
   "cell_type": "code",
   "execution_count": null,
   "metadata": {},
   "outputs": [],
   "source": [
    "#VIF 큰 값, 비슷한 성격 제외 7개 독립 변수 데이터 생성\n",
    "df2=df1[['전용면적','층', '건축년도','KOSDAQ_종가', '미국달러', \n",
    "         '소비자물가지수','주택담보대출금리']]\n",
    "df2.head(3)"
   ]
  },
  {
   "cell_type": "code",
   "execution_count": null,
   "metadata": {},
   "outputs": [],
   "source": [
    "# 종속 변수 데이터 생성\n",
    "df_y= df1[['면적당가격']]\n",
    "df_y.head(3)"
   ]
  },
  {
   "cell_type": "code",
   "execution_count": null,
   "metadata": {},
   "outputs": [],
   "source": [
    "sns.pairplot(df2[['전용면적', '층', '건축년도', 'KOSDAQ_종가','미국달러', \n",
    "                  '소비자물가지수','주택담보대출금리']].sample(frac=0.05))\n",
    "plt.show()"
   ]
  },
  {
   "cell_type": "code",
   "execution_count": null,
   "metadata": {},
   "outputs": [],
   "source": [
    "# VIF 큰 값 제외한 다중회귀분석 (7개 독립변수)\n",
    "# 16개변수 적용시와 비교 결과 : 적합성 다소 떨어짐 0.805->0.80 / 조건수 높아짐   0.0000133 -> 0.00431\n",
    "X=df_X[['전용면적','층','건축년도', '미국달러', '소비자물가지수',  'KOSDAQ_종가','주택담보대출금리']]\n",
    "y=df_X['면적당가격']\n",
    "\n",
    "import statsmodels.api as sm\n",
    "\n",
    "model = sm.OLS(y, X)\n",
    "result = model.fit()\n",
    "print(\"모형의적합성_R2 :\",result.rsquared)\n",
    "print(\"P-value:\\n\",result.pvalues)\n",
    "result.summary()"
   ]
  },
  {
   "cell_type": "code",
   "execution_count": null,
   "metadata": {},
   "outputs": [],
   "source": [
    "# formular 형태 분석 시 R 값 0.236 \n",
    "import statsmodels.formula.api as smf\n",
    "\n",
    "model = smf.ols(\n",
    "    formula= \n",
    "    '면적당가격 ~ 전용면적 + 층 + 건축년도 + 미국달러 + 소비자물가지수 + KOSDAQ_종가 + 주택담보대출금리'\n",
    "    ,data=df_X).fit()\n",
    "model.summary()"
   ]
  },
  {
   "attachments": {},
   "cell_type": "markdown",
   "metadata": {},
   "source": [
    "## 변수별 적합성 검토"
   ]
  },
  {
   "cell_type": "code",
   "execution_count": null,
   "metadata": {},
   "outputs": [],
   "source": [
    "# 비슷한 유형별 변수 교체 (미국달러->일본엔)다중회귀분석 \n",
    "# 결과 : 적합성 낮아짐 0.80->0.798 / 조건수 낮아짐   0.00431 -> 0.00394\n",
    "X=df1[['전용면적','층','건축년도', '일본엔', '소비자물가지수',  'KOSDAQ_종가','주택담보대출금리']]\n",
    "y=df1['면적당가격']\n",
    "\n",
    "import statsmodels.api as sm\n",
    "\n",
    "model = sm.OLS(y, X)\n",
    "result = model.fit()\n",
    "print(\"모형의적합성_R2 :\",result.rsquared)\n",
    "print(\"P-value:\\n\",result.pvalues)\n",
    "result.summary()  "
   ]
  },
  {
   "cell_type": "code",
   "execution_count": null,
   "metadata": {},
   "outputs": [],
   "source": [
    "# 비슷한 유형별 변수 교체 (일본엔->유로)다중회귀분석 -> 미국달러가 가장 적합성 높음\n",
    "# 결과 : 적합성 높아짐 0.798->0.8 / 조건수 높아짐   0.00394 -> 0.00508\n",
    "X=df1[['전용면적','층','건축년도', '유로', '소비자물가지수',  'KOSDAQ_종가','주택담보대출금리']]\n",
    "y=df1['면적당가격']\n",
    "\n",
    "import statsmodels.api as sm\n",
    "\n",
    "model = sm.OLS(y, X)\n",
    "result = model.fit()\n",
    "print(\"모형의적합성_R2 :\",result.rsquared)\n",
    "print(\"P-value:\\n\",result.pvalues)\n",
    "result.summary()  "
   ]
  },
  {
   "cell_type": "code",
   "execution_count": null,
   "metadata": {},
   "outputs": [],
   "source": [
    "# 비슷한 유형별 변수 교체 (KOSDAQ->KOSPI)다중회귀분석 -> KOSDAQ 적합성 높음\n",
    "# 결과 : 적합성 떨어짐 0.80->0.796  / 조건수 높아짐   0.00431 -> 0.00588\n",
    "X=df1[['전용면적','층','건축년도', '미국달러', '소비자물가지수',  'KOSPI_종가','주택담보대출금리']]\n",
    "y=df1['면적당가격']\n",
    "\n",
    "import statsmodels.api as sm\n",
    "\n",
    "model = sm.OLS(y, X)\n",
    "result = model.fit()\n",
    "print(\"모형의적합성_R2 :\",result.rsquared)\n",
    "print(\"P-value:\\n\",result.pvalues)\n",
    "result.summary() "
   ]
  },
  {
   "cell_type": "code",
   "execution_count": null,
   "metadata": {},
   "outputs": [],
   "source": [
    "# 비슷한 유형별 변수 교체 (주택담보대출->콜금리) 다중회귀분석  \n",
    "# 결과 : 적합성 낮아짐 0.8->0.798  / 조건수 높아짐   0.00431 -> 0.00436\n",
    "X=df1[['전용면적','층','건축년도', '미국달러', '소비자물가지수',  'KOSDAQ_종가','콜금리_1일']]\n",
    "y=df1['면적당가격']\n",
    "\n",
    "import statsmodels.api as sm\n",
    "\n",
    "model = sm.OLS(y, X)\n",
    "result = model.fit()\n",
    "print(\"모형의적합성_R2 :\",result.rsquared)\n",
    "print(\"P-value:\\n\",result.pvalues)\n",
    "result.summary()"
   ]
  },
  {
   "cell_type": "code",
   "execution_count": null,
   "metadata": {},
   "outputs": [],
   "source": [
    "# 비슷한 유형별 변수 교체 (콜금리->KORIBOR_3개월) 다중회귀분석  \n",
    "# 결과 : 적합성 같음 0.798->0.798  / 조건수 낮아짐   0.00436 -> 0.00413\n",
    "X=df1[['전용면적','층','건축년도', '미국달러', '소비자물가지수',  'KOSDAQ_종가','KORIBOR_3개월']]\n",
    "y=df1['면적당가격']\n",
    "\n",
    "import statsmodels.api as sm\n",
    "\n",
    "model = sm.OLS(y, X)\n",
    "result = model.fit()\n",
    "print(\"모형의적합성_R2 :\",result.rsquared)\n",
    "print(\"P-value:\\n\",result.pvalues)\n",
    "result.summary()"
   ]
  },
  {
   "cell_type": "code",
   "execution_count": null,
   "metadata": {},
   "outputs": [],
   "source": [
    "# 비슷한 유형별 변수 교체 (KORIBOR_3개월->CD_91일) 다중회귀분석  \n",
    "# 결과 : 적합성 같음 0.798->0.798  / 조건수 높아짐   0.00413 -> 0.00416\n",
    "X=df1[['전용면적','층','건축년도', '미국달러', '소비자물가지수',  'KOSDAQ_종가','CD_91일']]\n",
    "y=df1['면적당가격']\n",
    "\n",
    "import statsmodels.api as sm\n",
    "\n",
    "model = sm.OLS(y, X)\n",
    "result = model.fit()\n",
    "print(\"모형의적합성_R2 :\",result.rsquared)\n",
    "print(\"P-value:\\n\",result.pvalues)\n",
    "result.summary()"
   ]
  },
  {
   "cell_type": "code",
   "execution_count": null,
   "metadata": {},
   "outputs": [],
   "source": [
    "# 비슷한 유형별 변수 교체 (CD_91일->국고채_1년) 다중회귀분석  -> 주택담보대출금리 적합성 가장 높음\n",
    "# 결과 : 적합성 같음 0.798->0.798  / 조건수 높아짐   0.00413 -> 0.00452\n",
    "X=df1[['전용면적','층','건축년도', '미국달러', '소비자물가지수',  'KOSDAQ_종가','국고채_1년']]\n",
    "y=df1['면적당가격']\n",
    "\n",
    "import statsmodels.api as sm\n",
    "\n",
    "model = sm.OLS(y, X)\n",
    "result = model.fit()\n",
    "print(\"모형의적합성_R2 :\",result.rsquared)\n",
    "print(\"P-value:\\n\",result.pvalues)\n",
    "result.summary()"
   ]
  },
  {
   "cell_type": "code",
   "execution_count": null,
   "metadata": {},
   "outputs": [],
   "source": [
    "# 비슷한 유형별 변수 교체 (국고채_1년->국고채_10년) 다중회귀분석  -> 주택담보대출금리 적합성 가장 높음\n",
    "# 결과 : 적합성 높아짐 0.798->0.799  / 조건수 낮아짐   0.00452 -> 0.00389\n",
    "X=df1[['전용면적','층','건축년도', '미국달러', '소비자물가지수',  'KOSDAQ_종가','국고채_10년']]\n",
    "y=df1['면적당가격']\n",
    "\n",
    "import statsmodels.api as sm\n",
    "\n",
    "model = sm.OLS(y, X)\n",
    "result = model.fit()\n",
    "print(\"모형의적합성_R2 :\",result.rsquared)\n",
    "print(\"P-value:\\n\",result.pvalues)\n",
    "result.summary()"
   ]
  },
  {
   "attachments": {},
   "cell_type": "markdown",
   "metadata": {},
   "source": [
    "## 변수별 예측"
   ]
  },
  {
   "cell_type": "code",
   "execution_count": null,
   "metadata": {},
   "outputs": [],
   "source": [
    "from sklearn.linear_model import LinearRegression\n",
    "model = LinearRegression()\n",
    "x=df1[['전용면적', '층', '미국달러','소비자물가지수', \n",
    "       'KOSDAQ_종가','주택담보대출금리']]      \n",
    "y=df1[['면적당가격']] \n",
    "model.fit(x,y)"
   ]
  },
  {
   "cell_type": "code",
   "execution_count": null,
   "metadata": {},
   "outputs": [],
   "source": [
    "#전용면적 상승, 나머지 변수 평균값 적용: 면적당 가격 885 => 가장 낮음\n",
    "전용면적 = 500\n",
    "층 = 9\n",
    "미국달러 = 1123\n",
    "소비자물가지수 = 93  \n",
    "KOSDAQ_종가 = 651  \n",
    "주택담보대출금리 = 3.8\n",
    "\n",
    "\n",
    "Predict = [전용면적, 층, 미국달러 ,소비자물가지수, KOSDAQ_종가, 주택담보대출금리]\n",
    "price1 = model.predict([Predict])\n",
    "price1"
   ]
  },
  {
   "cell_type": "code",
   "execution_count": null,
   "metadata": {},
   "outputs": [],
   "source": [
    "#층 상승 , 나머지 변수 평균값 적용: 면적당 가격 1173 \n",
    "전용면적 = 77\n",
    "층 = 80\n",
    "미국달러 = 1123\n",
    "소비자물가지수 = 93  \n",
    "KOSDAQ_종가 = 651  \n",
    "주택담보대출금리 = 3.8\n",
    "\n",
    "\n",
    "Predict = [전용면적, 층, 미국달러 ,소비자물가지수, KOSDAQ_종가, 주택담보대출금리]\n",
    "price2 = model.predict([Predict])\n",
    "price2"
   ]
  },
  {
   "cell_type": "code",
   "execution_count": null,
   "metadata": {},
   "outputs": [],
   "source": [
    "#미국달러 상승 , 나머지 변수 평균값 적용: 면적당 가격 1186\n",
    "전용면적 = 77\n",
    "층 = 9\n",
    "미국달러 = 1600\n",
    "소비자물가지수 = 93  \n",
    "KOSDAQ_종가 = 651  \n",
    "주택담보대출금리 = 3.8\n",
    "\n",
    "\n",
    "Predict = [전용면적, 층, 미국달러 ,소비자물가지수, KOSDAQ_종가, 주택담보대출금리]\n",
    "price3 = model.predict([Predict])\n",
    "price3"
   ]
  },
  {
   "cell_type": "code",
   "execution_count": null,
   "metadata": {},
   "outputs": [],
   "source": [
    "#소비자물가지수 상승 , 나머지 변수 평균값 적용: 면적당 가격 1399  => 가장 높음\n",
    "전용면적 = 77\n",
    "층 = 9\n",
    "미국달러 = 1123\n",
    "소비자물가지수 = 120  \n",
    "KOSDAQ_종가 = 651  \n",
    "주택담보대출금리 = 3.8\n",
    "\n",
    "\n",
    "Predict = [전용면적, 층, 미국달러 ,소비자물가지수, KOSDAQ_종가, 주택담보대출금리]\n",
    "price4 = model.predict([Predict])\n",
    "price4"
   ]
  },
  {
   "cell_type": "code",
   "execution_count": null,
   "metadata": {},
   "outputs": [],
   "source": [
    "#KOSDAQ_종가 상승 , 나머지 변수 평균값 적용: 면적당 가격 1132\n",
    "전용면적 = 77\n",
    "층 = 9\n",
    "미국달러 = 1123\n",
    "소비자물가지수 = 93  \n",
    "KOSDAQ_종가 = 1100  \n",
    "주택담보대출금리 = 3.8\n",
    "\n",
    "\n",
    "Predict = [전용면적, 층, 미국달러 ,소비자물가지수, KOSDAQ_종가, 주택담보대출금리]\n",
    "price5 = model.predict([Predict])\n",
    "price5"
   ]
  },
  {
   "cell_type": "code",
   "execution_count": null,
   "metadata": {},
   "outputs": [],
   "source": [
    "#극고채_10년 상승 , 나머지 변수 평균값 적용: 면적당 가격 1035 \n",
    "전용면적 = 77\n",
    "층 = 9\n",
    "미국달러 = 1123\n",
    "소비자물가지수 = 93  \n",
    "KOSDAQ_종가 = 651  \n",
    "주택담보대출금리 = 8\n",
    "\n",
    "\n",
    "Predict = [전용면적, 층, 미국달러 ,소비자물가지수, KOSDAQ_종가, 주택담보대출금리]\n",
    "price6 = model.predict([Predict])\n",
    "price6"
   ]
  },
  {
   "attachments": {},
   "cell_type": "markdown",
   "metadata": {},
   "source": [
    "## 모델적합성 개선 \n",
    "### - 후진제거법/P-value 큰 것 2개 전용면적, 주택담보대출금리 제거\n",
    "#### -- 결과 : 개별 변수들의 P-value 모두 유효함 ->  R2 값 0.80 에서 개선 없음  \n",
    " "
   ]
  },
  {
   "cell_type": "code",
   "execution_count": null,
   "metadata": {},
   "outputs": [],
   "source": [
    "# 전용면적 변수 제거(7개 변수 적용시 P-value = 7.000179e-261) -> R2=0.80\n",
    "X=df1[['주택담보대출금리','층','건축년도', '미국달러', '소비자물가지수',  'KOSDAQ_종가']]\n",
    "y=df1['면적당가격']\n",
    "\n",
    "import statsmodels.api as sm\n",
    "\n",
    "model = sm.OLS(y, X)\n",
    "result = model.fit()\n",
    "print(\"모형의적합성_R2 :\",result.rsquared)\n",
    "print(\"P-value:\\n\",result.pvalues)\n",
    "result.summary()"
   ]
  },
  {
   "cell_type": "code",
   "execution_count": null,
   "metadata": {},
   "outputs": [],
   "source": [
    "# 주택담보대출금리 변수 제거(16개 변수 적용시 P-value = 2.796779e-43) -> R2=0.797\n",
    "X=df1[['전용면적','층','건축년도', '미국달러', '소비자물가지수',  'KOSDAQ_종가']]\n",
    "y=df1['면적당가격']\n",
    "\n",
    "import statsmodels.api as sm\n",
    "\n",
    "model = sm.OLS(y, X)\n",
    "result = model.fit()\n",
    "print(\"모형의적합성_R2 :\",result.rsquared)\n",
    "print(\"P-value:\\n\",result.pvalues)\n",
    "result.summary()"
   ]
  },
  {
   "attachments": {},
   "cell_type": "markdown",
   "metadata": {},
   "source": [
    "## 교차검증\n",
    "### - 결과 \n",
    "#### -- 면적당 가격에 가장 큰 영향을 주는 특성은 주택담보대출금리이고\n",
    "#### -- 예측오차는 191.45 원이다.   "
   ]
  },
  {
   "cell_type": "code",
   "execution_count": null,
   "metadata": {},
   "outputs": [],
   "source": [
    "#정규화\n",
    "from sklearn.preprocessing import StandardScaler\n",
    "\n",
    "scaler = StandardScaler()\n",
    "scaler.fit(df2)\n",
    "scaled_df = scaler.transform(df2)\n",
    "scaled_df.shape"
   ]
  },
  {
   "cell_type": "code",
   "execution_count": null,
   "metadata": {},
   "outputs": [],
   "source": [
    "#학습용과 검증용을 8:2로 구분\n",
    "from sklearn.model_selection import train_test_split\n",
    "X_train, X_test, y_train, y_test = train_test_split(scaled_df, df_y, test_size=0.2, random_state=0)\n",
    "print(X_train.shape, X_test.shape)"
   ]
  },
  {
   "cell_type": "code",
   "execution_count": null,
   "metadata": {},
   "outputs": [],
   "source": [
    "from sklearn.linear_model import LinearRegression\n",
    "lin_reg = LinearRegression()\n",
    "lin_reg.fit(X_train, y_train)"
   ]
  },
  {
   "cell_type": "code",
   "execution_count": null,
   "metadata": {},
   "outputs": [],
   "source": [
    "# 평균제곱근오차 모형-> 오차 381\n",
    "from sklearn.metrics import mean_squared_error\n",
    "y_pred = lin_reg.predict(X_test)\n",
    "rms = np.sqrt(mean_squared_error(y_test, y_pred))\n",
    "print(rms)"
   ]
  },
  {
   "cell_type": "code",
   "execution_count": null,
   "metadata": {},
   "outputs": [],
   "source": [
    "# 의사결정 나무 모형 -> 오차 253\n",
    "from sklearn.tree import DecisionTreeRegressor\n",
    "tree_reg = DecisionTreeRegressor()\n",
    "tree_reg.fit(X_train, y_train)\n",
    "y_pred = tree_reg.predict(X_test)\n",
    "rms = np.sqrt(mean_squared_error(y_test, y_pred))\n",
    "print(rms)"
   ]
  },
  {
   "cell_type": "code",
   "execution_count": null,
   "metadata": {},
   "outputs": [],
   "source": [
    "# 랜덤 포레스트  -> 오차 192.8 로 가장 성능 좋은 모형\n",
    "from sklearn.ensemble import RandomForestRegressor\n",
    "forest_reg = RandomForestRegressor(n_jobs = -1) \n",
    "forest_reg.fit(X_train, y_train)\n",
    "\n",
    "y_pred = forest_reg.predict(X_test)\n",
    "rms = np.sqrt(mean_squared_error(y_test, y_pred))\n",
    "print(rms)"
   ]
  },
  {
   "cell_type": "code",
   "execution_count": null,
   "metadata": {},
   "outputs": [],
   "source": [
    "# 파라미터튜닝\n",
    "from sklearn.model_selection import GridSearchCV\n",
    "param_grid = [\n",
    " {'n_estimators': [3, 10, 30, 50, 100], 'max_features':[2, 4, 6, 8]},\n",
    " ]\n",
    " "
   ]
  },
  {
   "cell_type": "code",
   "execution_count": null,
   "metadata": {},
   "outputs": [],
   "source": [
    "from sklearn.model_selection import GridSearchCV\n",
    "forest_reg = RandomForestRegressor(random_state=0,n_jobs=-1)\n",
    "grid_search = GridSearchCV(forest_reg, param_grid, cv=2)\n",
    "grid_search.fit(X_train, y_train)"
   ]
  },
  {
   "cell_type": "code",
   "execution_count": null,
   "metadata": {},
   "outputs": [],
   "source": [
    "#최적파라미터\n",
    "grid_search.best_params_"
   ]
  },
  {
   "cell_type": "code",
   "execution_count": null,
   "metadata": {},
   "outputs": [],
   "source": [
    "#최적 모형\n",
    "grid_search.best_estimator_"
   ]
  },
  {
   "cell_type": "code",
   "execution_count": null,
   "metadata": {},
   "outputs": [],
   "source": [
    "df_X.head(1)"
   ]
  },
  {
   "cell_type": "code",
   "execution_count": null,
   "metadata": {},
   "outputs": [],
   "source": [
    "#랜덤포레스트 모형에서 가장 기여도 큰 변수 -> 소비자물가지수\n",
    "feature_importances = grid_search.best_estimator_.feature_importances_\n",
    "print(range(len(feature_importances)), feature_importances)"
   ]
  },
  {
   "cell_type": "code",
   "execution_count": null,
   "metadata": {},
   "outputs": [],
   "source": [
    "from sklearn.model_selection import RandomizedSearchCV\n",
    "from scipy.stats import randint\n",
    "param_distribs = {\n",
    " 'n_estimators': randint(low=1, high=100), \n",
    " 'max_features': randint(low=1, high=8), \n",
    " }\n",
    "forest_reg = RandomForestRegressor(random_state=0, n_jobs=-1)\n",
    "rnd_search = RandomizedSearchCV(forest_reg, param_distributions=param_distribs, cv=5, random_state=0)\n",
    "rnd_search.fit(X_train, y_train)"
   ]
  },
  {
   "cell_type": "code",
   "execution_count": null,
   "metadata": {},
   "outputs": [],
   "source": [
    "cvres = rnd_search.cv_results_\n",
    "for mean_score, params in zip(cvres[\"mean_test_score\"],\n",
    "cvres[\"params\"]):\n",
    " print(np.sqrt(mean_score), params)"
   ]
  },
  {
   "cell_type": "code",
   "execution_count": null,
   "metadata": {},
   "outputs": [],
   "source": [
    "#최적 모델\n",
    "rnd_search.best_estimator_"
   ]
  },
  {
   "cell_type": "code",
   "execution_count": null,
   "metadata": {},
   "outputs": [],
   "source": [
    "#최종 오차 는 191.45 평당 가격 \n",
    "final_model = rnd_search.best_estimator_\n",
    "y_pred = final_model.predict(X_test)\n",
    "rms = np.sqrt(mean_squared_error(y_test, y_pred))\n",
    "print(rms) "
   ]
  },
  {
   "cell_type": "code",
   "execution_count": null,
   "metadata": {},
   "outputs": [],
   "source": [
    "'''서포트벡터머신  -> 시간 너무 걸림 (에러 발생)\n",
    "from sklearn.svm import SVR\n",
    "svm_reg = SVR(kernel=\"linear\")\n",
    "svm_reg.fit(X_train, y_train)\n",
    "y_pred = svm_reg.predict(X_test)\n",
    "rms = np.sqrt(mean_squared_error(y_test, y_pred))\n",
    " # 스케일링(StandardScaler)\n",
    "from sklearn.preprocessing import StandardScaler\n",
    "scaler = StandardScaler() \n",
    "df2 = scaler.fit_transform(df1) \n",
    "df3 = pd.DataFrame(df2,columns=df1.columns)\n",
    "df3.boxplot()print(rms)'''"
   ]
  },
  {
   "attachments": {},
   "cell_type": "markdown",
   "metadata": {},
   "source": [
    "##  스케일링 후 VIF 값 산출 "
   ]
  },
  {
   "cell_type": "code",
   "execution_count": null,
   "metadata": {},
   "outputs": [],
   "source": [
    " # 스케일링(StandardScaler)\n",
    "from sklearn.preprocessing import StandardScaler\n",
    "scaler = StandardScaler() \n",
    "df_S = scaler.fit_transform(df1) \n",
    "df_S1= pd.DataFrame(df_S,columns=df1.columns)\n",
    "df_S1.boxplot()"
   ]
  },
  {
   "cell_type": "code",
   "execution_count": null,
   "metadata": {},
   "outputs": [],
   "source": [
    "## 스케일 후 16개 변수 VIF 산출\n",
    "from statsmodels.stats.outliers_influence import variance_inflation_factor  \n",
    "\n",
    "vif = pd.DataFrame()\n",
    "vif['VIF']=[variance_inflation_factor(df_S1.values, i) for i in range(df_S1.shape[1])]\n",
    "vif['독립변수'] = df_S1.columns\n",
    "vif =vif.sort_values('VIF').reset_index(drop=True)\n",
    "vif "
   ]
  },
  {
   "cell_type": "code",
   "execution_count": null,
   "metadata": {},
   "outputs": [],
   "source": [
    "# 스케일링 (RobustScaler)\n",
    "from sklearn.preprocessing import RobustScaler\n",
    "scaler = RobustScaler() \n",
    "df_R = scaler.fit_transform(df1) \n",
    "df_R1 = pd.DataFrame(df_R,columns=df1.columns)\n",
    "df_R1.boxplot()"
   ]
  },
  {
   "cell_type": "code",
   "execution_count": null,
   "metadata": {},
   "outputs": [],
   "source": [
    "## 16개 변수 VIF 산출\n",
    "from statsmodels.stats.outliers_influence import variance_inflation_factor  \n",
    "\n",
    "vif = pd.DataFrame()\n",
    "vif['VIF']=[variance_inflation_factor(df_R1.values, i) for i in range(df_R1.shape[1])]\n",
    "vif['독립변수'] = df_R1.columns\n",
    "vif =vif.sort_values('VIF').reset_index(drop=True)\n",
    "vif "
   ]
  },
  {
   "attachments": {},
   "cell_type": "markdown",
   "metadata": {},
   "source": [
    "### 5. Clasificatiom"
   ]
  },
  {
   "attachments": {},
   "cell_type": "markdown",
   "metadata": {},
   "source": [
    "df_r= pd.get_dummies(data=df, columns=['rsn']) \n",
    "df_r_"
   ]
  }
 ],
 "metadata": {
  "kernelspec": {
   "display_name": "base",
   "language": "python",
   "name": "python3"
  },
  "language_info": {
   "codemirror_mode": {
    "name": "ipython",
    "version": 3
   },
   "file_extension": ".py",
   "mimetype": "text/x-python",
   "name": "python",
   "nbconvert_exporter": "python",
   "pygments_lexer": "ipython3",
   "version": "3.9.13"
  },
  "orig_nbformat": 4
 },
 "nbformat": 4,
 "nbformat_minor": 2
}
