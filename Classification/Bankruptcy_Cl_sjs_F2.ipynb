{
 "cells": [
  {
   "attachments": {},
   "cell_type": "markdown",
   "metadata": {},
   "source": [
    "#### 1. 파일 불러오기"
   ]
  },
  {
   "cell_type": "code",
   "execution_count": 18,
   "metadata": {},
   "outputs": [],
   "source": [
    "import pandas as pd\n",
    "import numpy as np\n",
    "import matplotlib.pyplot as plt\n",
    "import seaborn as sns  \n",
    "import matplotlib.pyplot as plt\n",
    "from matplotlib import font_manager, rc \n",
    "font_name = font_manager.FontProperties(fname=\"c:/Windows/Fonts/malgun.ttf\").get_name() \n",
    "rc('font', family=font_name)"
   ]
  },
  {
   "cell_type": "code",
   "execution_count": 19,
   "metadata": {},
   "outputs": [
    {
     "data": {
      "text/html": [
       "<div>\n",
       "<style scoped>\n",
       "    .dataframe tbody tr th:only-of-type {\n",
       "        vertical-align: middle;\n",
       "    }\n",
       "\n",
       "    .dataframe tbody tr th {\n",
       "        vertical-align: top;\n",
       "    }\n",
       "\n",
       "    .dataframe thead th {\n",
       "        text-align: right;\n",
       "    }\n",
       "</style>\n",
       "<table border=\"1\" class=\"dataframe\">\n",
       "  <thead>\n",
       "    <tr style=\"text-align: right;\">\n",
       "      <th></th>\n",
       "      <th>cnt</th>\n",
       "      <th>kospi</th>\n",
       "      <th>usd</th>\n",
       "      <th>cny</th>\n",
       "      <th>jpy</th>\n",
       "      <th>call</th>\n",
       "      <th>cd</th>\n",
       "      <th>bond</th>\n",
       "      <th>unemp</th>\n",
       "      <th>p_pi</th>\n",
       "      <th>...</th>\n",
       "      <th>bill_4</th>\n",
       "      <th>bill_6</th>\n",
       "      <th>bill_7</th>\n",
       "      <th>rsn_1</th>\n",
       "      <th>rsn_2</th>\n",
       "      <th>rsn_3</th>\n",
       "      <th>rsn_4</th>\n",
       "      <th>rsn_5</th>\n",
       "      <th>rsn_6</th>\n",
       "      <th>amt_class</th>\n",
       "    </tr>\n",
       "    <tr>\n",
       "      <th>ym</th>\n",
       "      <th></th>\n",
       "      <th></th>\n",
       "      <th></th>\n",
       "      <th></th>\n",
       "      <th></th>\n",
       "      <th></th>\n",
       "      <th></th>\n",
       "      <th></th>\n",
       "      <th></th>\n",
       "      <th></th>\n",
       "      <th></th>\n",
       "      <th></th>\n",
       "      <th></th>\n",
       "      <th></th>\n",
       "      <th></th>\n",
       "      <th></th>\n",
       "      <th></th>\n",
       "      <th></th>\n",
       "      <th></th>\n",
       "      <th></th>\n",
       "      <th></th>\n",
       "    </tr>\n",
       "  </thead>\n",
       "  <tbody>\n",
       "    <tr>\n",
       "      <th>201808</th>\n",
       "      <td>2</td>\n",
       "      <td>2322.88</td>\n",
       "      <td>1108.8</td>\n",
       "      <td>162.29</td>\n",
       "      <td>998.65</td>\n",
       "      <td>3.425</td>\n",
       "      <td>3.61</td>\n",
       "      <td>3.452</td>\n",
       "      <td>4.0</td>\n",
       "      <td>104.32</td>\n",
       "      <td>...</td>\n",
       "      <td>0</td>\n",
       "      <td>0</td>\n",
       "      <td>0</td>\n",
       "      <td>1</td>\n",
       "      <td>0</td>\n",
       "      <td>0</td>\n",
       "      <td>0</td>\n",
       "      <td>0</td>\n",
       "      <td>0</td>\n",
       "      <td>0</td>\n",
       "    </tr>\n",
       "    <tr>\n",
       "      <th>201808</th>\n",
       "      <td>3</td>\n",
       "      <td>2322.88</td>\n",
       "      <td>1108.8</td>\n",
       "      <td>162.29</td>\n",
       "      <td>998.65</td>\n",
       "      <td>3.425</td>\n",
       "      <td>3.61</td>\n",
       "      <td>3.452</td>\n",
       "      <td>4.0</td>\n",
       "      <td>104.32</td>\n",
       "      <td>...</td>\n",
       "      <td>0</td>\n",
       "      <td>0</td>\n",
       "      <td>0</td>\n",
       "      <td>0</td>\n",
       "      <td>1</td>\n",
       "      <td>0</td>\n",
       "      <td>0</td>\n",
       "      <td>0</td>\n",
       "      <td>0</td>\n",
       "      <td>0</td>\n",
       "    </tr>\n",
       "    <tr>\n",
       "      <th>201808</th>\n",
       "      <td>2</td>\n",
       "      <td>2322.88</td>\n",
       "      <td>1108.8</td>\n",
       "      <td>162.29</td>\n",
       "      <td>998.65</td>\n",
       "      <td>3.425</td>\n",
       "      <td>3.61</td>\n",
       "      <td>3.452</td>\n",
       "      <td>4.0</td>\n",
       "      <td>104.32</td>\n",
       "      <td>...</td>\n",
       "      <td>0</td>\n",
       "      <td>0</td>\n",
       "      <td>0</td>\n",
       "      <td>0</td>\n",
       "      <td>0</td>\n",
       "      <td>1</td>\n",
       "      <td>0</td>\n",
       "      <td>0</td>\n",
       "      <td>0</td>\n",
       "      <td>0</td>\n",
       "    </tr>\n",
       "    <tr>\n",
       "      <th>201808</th>\n",
       "      <td>1</td>\n",
       "      <td>2322.88</td>\n",
       "      <td>1108.8</td>\n",
       "      <td>162.29</td>\n",
       "      <td>998.65</td>\n",
       "      <td>3.425</td>\n",
       "      <td>3.61</td>\n",
       "      <td>3.452</td>\n",
       "      <td>4.0</td>\n",
       "      <td>104.32</td>\n",
       "      <td>...</td>\n",
       "      <td>0</td>\n",
       "      <td>0</td>\n",
       "      <td>0</td>\n",
       "      <td>0</td>\n",
       "      <td>0</td>\n",
       "      <td>0</td>\n",
       "      <td>1</td>\n",
       "      <td>0</td>\n",
       "      <td>0</td>\n",
       "      <td>0</td>\n",
       "    </tr>\n",
       "    <tr>\n",
       "      <th>201808</th>\n",
       "      <td>3</td>\n",
       "      <td>2322.88</td>\n",
       "      <td>1108.8</td>\n",
       "      <td>162.29</td>\n",
       "      <td>998.65</td>\n",
       "      <td>3.425</td>\n",
       "      <td>3.61</td>\n",
       "      <td>3.452</td>\n",
       "      <td>4.0</td>\n",
       "      <td>104.32</td>\n",
       "      <td>...</td>\n",
       "      <td>0</td>\n",
       "      <td>0</td>\n",
       "      <td>0</td>\n",
       "      <td>0</td>\n",
       "      <td>0</td>\n",
       "      <td>0</td>\n",
       "      <td>0</td>\n",
       "      <td>0</td>\n",
       "      <td>1</td>\n",
       "      <td>0</td>\n",
       "    </tr>\n",
       "  </tbody>\n",
       "</table>\n",
       "<p>5 rows × 35 columns</p>\n",
       "</div>"
      ],
      "text/plain": [
       "        cnt    kospi     usd     cny     jpy   call    cd   bond  unemp  \\\n",
       "ym                                                                        \n",
       "201808    2  2322.88  1108.8  162.29  998.65  3.425  3.61  3.452    4.0   \n",
       "201808    3  2322.88  1108.8  162.29  998.65  3.425  3.61  3.452    4.0   \n",
       "201808    2  2322.88  1108.8  162.29  998.65  3.425  3.61  3.452    4.0   \n",
       "201808    1  2322.88  1108.8  162.29  998.65  3.425  3.61  3.452    4.0   \n",
       "201808    3  2322.88  1108.8  162.29  998.65  3.425  3.61  3.452    4.0   \n",
       "\n",
       "          p_pi  ...  bill_4  bill_6  bill_7  rsn_1  rsn_2  rsn_3  rsn_4  \\\n",
       "ym              ...                                                       \n",
       "201808  104.32  ...       0       0       0      1      0      0      0   \n",
       "201808  104.32  ...       0       0       0      0      1      0      0   \n",
       "201808  104.32  ...       0       0       0      0      0      1      0   \n",
       "201808  104.32  ...       0       0       0      0      0      0      1   \n",
       "201808  104.32  ...       0       0       0      0      0      0      0   \n",
       "\n",
       "        rsn_5  rsn_6  amt_class  \n",
       "ym                               \n",
       "201808      0      0          0  \n",
       "201808      0      0          0  \n",
       "201808      0      0          0  \n",
       "201808      0      0          0  \n",
       "201808      0      1          0  \n",
       "\n",
       "[5 rows x 35 columns]"
      ]
     },
     "execution_count": 19,
     "metadata": {},
     "output_type": "execute_result"
    }
   ],
   "source": [
    "df = pd.read_csv('c:/Bankruptcy/data/bankruptcy_cl.csv', index_col=0)\n",
    "df.head() "
   ]
  },
  {
   "cell_type": "code",
   "execution_count": 20,
   "metadata": {},
   "outputs": [
    {
     "data": {
      "text/html": [
       "<div>\n",
       "<style scoped>\n",
       "    .dataframe tbody tr th:only-of-type {\n",
       "        vertical-align: middle;\n",
       "    }\n",
       "\n",
       "    .dataframe tbody tr th {\n",
       "        vertical-align: top;\n",
       "    }\n",
       "\n",
       "    .dataframe thead th {\n",
       "        text-align: right;\n",
       "    }\n",
       "</style>\n",
       "<table border=\"1\" class=\"dataframe\">\n",
       "  <thead>\n",
       "    <tr style=\"text-align: right;\">\n",
       "      <th></th>\n",
       "      <th>cnt</th>\n",
       "      <th>kospi</th>\n",
       "      <th>usd</th>\n",
       "      <th>cny</th>\n",
       "      <th>jpy</th>\n",
       "      <th>call</th>\n",
       "      <th>cd</th>\n",
       "      <th>bond</th>\n",
       "      <th>unemp</th>\n",
       "      <th>p_pi</th>\n",
       "      <th>...</th>\n",
       "      <th>bill_3</th>\n",
       "      <th>bill_4</th>\n",
       "      <th>bill_6</th>\n",
       "      <th>bill_7</th>\n",
       "      <th>rsn_1</th>\n",
       "      <th>rsn_2</th>\n",
       "      <th>rsn_3</th>\n",
       "      <th>rsn_4</th>\n",
       "      <th>rsn_5</th>\n",
       "      <th>rsn_6</th>\n",
       "    </tr>\n",
       "    <tr>\n",
       "      <th>amt_class</th>\n",
       "      <th></th>\n",
       "      <th></th>\n",
       "      <th></th>\n",
       "      <th></th>\n",
       "      <th></th>\n",
       "      <th></th>\n",
       "      <th></th>\n",
       "      <th></th>\n",
       "      <th></th>\n",
       "      <th></th>\n",
       "      <th></th>\n",
       "      <th></th>\n",
       "      <th></th>\n",
       "      <th></th>\n",
       "      <th></th>\n",
       "      <th></th>\n",
       "      <th></th>\n",
       "      <th></th>\n",
       "      <th></th>\n",
       "      <th></th>\n",
       "      <th></th>\n",
       "    </tr>\n",
       "  </thead>\n",
       "  <tbody>\n",
       "    <tr>\n",
       "      <th>0</th>\n",
       "      <td>6.243086</td>\n",
       "      <td>2362.449101</td>\n",
       "      <td>1181.915558</td>\n",
       "      <td>173.433855</td>\n",
       "      <td>1047.497623</td>\n",
       "      <td>1.487823</td>\n",
       "      <td>1.774323</td>\n",
       "      <td>1.794844</td>\n",
       "      <td>3.625330</td>\n",
       "      <td>107.046748</td>\n",
       "      <td>...</td>\n",
       "      <td>0.159835</td>\n",
       "      <td>0.121827</td>\n",
       "      <td>0.111757</td>\n",
       "      <td>0.285066</td>\n",
       "      <td>0.248334</td>\n",
       "      <td>0.314991</td>\n",
       "      <td>0.003546</td>\n",
       "      <td>0.192171</td>\n",
       "      <td>0.013899</td>\n",
       "      <td>0.227060</td>\n",
       "    </tr>\n",
       "    <tr>\n",
       "      <th>1</th>\n",
       "      <td>55.404230</td>\n",
       "      <td>2396.425993</td>\n",
       "      <td>1190.173325</td>\n",
       "      <td>174.850435</td>\n",
       "      <td>1037.693608</td>\n",
       "      <td>1.527751</td>\n",
       "      <td>1.803690</td>\n",
       "      <td>1.800824</td>\n",
       "      <td>3.577086</td>\n",
       "      <td>108.190517</td>\n",
       "      <td>...</td>\n",
       "      <td>0.000000</td>\n",
       "      <td>0.004700</td>\n",
       "      <td>0.287897</td>\n",
       "      <td>0.586369</td>\n",
       "      <td>0.229142</td>\n",
       "      <td>0.561692</td>\n",
       "      <td>0.000000</td>\n",
       "      <td>0.012926</td>\n",
       "      <td>0.001175</td>\n",
       "      <td>0.195065</td>\n",
       "    </tr>\n",
       "  </tbody>\n",
       "</table>\n",
       "<p>2 rows × 34 columns</p>\n",
       "</div>"
      ],
      "text/plain": [
       "                 cnt        kospi          usd         cny          jpy  \\\n",
       "amt_class                                                                 \n",
       "0           6.243086  2362.449101  1181.915558  173.433855  1047.497623   \n",
       "1          55.404230  2396.425993  1190.173325  174.850435  1037.693608   \n",
       "\n",
       "               call        cd      bond     unemp        p_pi  ...    bill_3  \\\n",
       "amt_class                                                      ...             \n",
       "0          1.487823  1.774323  1.794844  3.625330  107.046748  ...  0.159835   \n",
       "1          1.527751  1.803690  1.800824  3.577086  108.190517  ...  0.000000   \n",
       "\n",
       "             bill_4    bill_6    bill_7     rsn_1     rsn_2     rsn_3  \\\n",
       "amt_class                                                               \n",
       "0          0.121827  0.111757  0.285066  0.248334  0.314991  0.003546   \n",
       "1          0.004700  0.287897  0.586369  0.229142  0.561692  0.000000   \n",
       "\n",
       "              rsn_4     rsn_5     rsn_6  \n",
       "amt_class                                \n",
       "0          0.192171  0.013899  0.227060  \n",
       "1          0.012926  0.001175  0.195065  \n",
       "\n",
       "[2 rows x 34 columns]"
      ]
     },
     "execution_count": 20,
     "metadata": {},
     "output_type": "execute_result"
    }
   ],
   "source": [
    "df.groupby(\"amt_class\").mean() "
   ]
  },
  {
   "cell_type": "code",
   "execution_count": 21,
   "metadata": {},
   "outputs": [
    {
     "name": "stdout",
     "output_type": "stream",
     "text": [
      "0    7051\n",
      "1     851\n",
      "Name: amt_class, dtype: int64\n"
     ]
    }
   ],
   "source": [
    "print(df['amt_class'].value_counts())"
   ]
  },
  {
   "attachments": {},
   "cell_type": "markdown",
   "metadata": {},
   "source": [
    "#### 2. 언더샘플링/ 종속,독립변수/ 학습용,검증용 분리 "
   ]
  },
  {
   "cell_type": "code",
   "execution_count": 22,
   "metadata": {},
   "outputs": [
    {
     "data": {
      "text/plain": [
       "0    851\n",
       "1    851\n",
       "Name: amt_class, dtype: int64"
      ]
     },
     "execution_count": 22,
     "metadata": {},
     "output_type": "execute_result"
    }
   ],
   "source": [
    "#언더샘플링\n",
    "from imblearn.under_sampling import RandomUnderSampler \n",
    "train_cols = df.columns[0:34] \n",
    "X = df[train_cols]  \n",
    "y = df[\"amt_class\"]\n",
    "X_sample, y_sample = RandomUnderSampler(random_state=0).fit_resample(X, y)\n",
    "X_samp = pd.DataFrame(data=X_sample,columns=train_cols )\n",
    "y_samp = pd.DataFrame(data=y_sample,columns=['amt_class'])\n",
    "df1=pd.concat([X_samp,y_samp],axis=1)\n",
    "df1[\"amt_class\"].value_counts()"
   ]
  },
  {
   "cell_type": "code",
   "execution_count": 23,
   "metadata": {},
   "outputs": [],
   "source": [
    "#독립변수 / 종속 변수\n",
    "X=df1[train_cols]\n",
    "y=df1[\"amt_class\"]"
   ]
  },
  {
   "attachments": {},
   "cell_type": "markdown",
   "metadata": {},
   "source": [
    "#### 3. Logit (로지스틱회귀분석)"
   ]
  },
  {
   "cell_type": "code",
   "execution_count": 24,
   "metadata": {},
   "outputs": [
    {
     "name": "stdout",
     "output_type": "stream",
     "text": [
      "Warning: Maximum number of iterations has been exceeded.\n",
      "         Current function value: 0.294822\n",
      "         Iterations: 35\n"
     ]
    },
    {
     "ename": "LinAlgError",
     "evalue": "Singular matrix",
     "output_type": "error",
     "traceback": [
      "\u001b[1;31m---------------------------------------------------------------------------\u001b[0m",
      "\u001b[1;31mLinAlgError\u001b[0m                               Traceback (most recent call last)",
      "\u001b[1;32m~\\AppData\\Local\\Temp\\ipykernel_26432\\2898578314.py\u001b[0m in \u001b[0;36m<module>\u001b[1;34m\u001b[0m\n\u001b[0;32m      1\u001b[0m \u001b[1;32mimport\u001b[0m \u001b[0mstatsmodels\u001b[0m\u001b[1;33m.\u001b[0m\u001b[0mapi\u001b[0m \u001b[1;32mas\u001b[0m \u001b[0msm\u001b[0m\u001b[1;33m\u001b[0m\u001b[1;33m\u001b[0m\u001b[0m\n\u001b[0;32m      2\u001b[0m \u001b[0mmodel\u001b[0m\u001b[1;33m=\u001b[0m\u001b[0msm\u001b[0m\u001b[1;33m.\u001b[0m\u001b[0mLogit\u001b[0m\u001b[1;33m(\u001b[0m\u001b[0my\u001b[0m\u001b[1;33m,\u001b[0m\u001b[0mX\u001b[0m\u001b[1;33m)\u001b[0m\u001b[1;33m\u001b[0m\u001b[1;33m\u001b[0m\u001b[0m\n\u001b[1;32m----> 3\u001b[1;33m \u001b[0mresult\u001b[0m\u001b[1;33m=\u001b[0m\u001b[0mmodel\u001b[0m\u001b[1;33m.\u001b[0m\u001b[0mfit\u001b[0m\u001b[1;33m(\u001b[0m\u001b[1;33m)\u001b[0m\u001b[1;33m\u001b[0m\u001b[1;33m\u001b[0m\u001b[0m\n\u001b[0m\u001b[0;32m      4\u001b[0m \u001b[0mprint\u001b[0m\u001b[1;33m(\u001b[0m\u001b[0mresult\u001b[0m\u001b[1;33m.\u001b[0m\u001b[0msummary2\u001b[0m\u001b[1;33m(\u001b[0m\u001b[1;33m)\u001b[0m\u001b[1;33m)\u001b[0m\u001b[1;33m\u001b[0m\u001b[1;33m\u001b[0m\u001b[0m\n",
      "\u001b[1;32mc:\\Anaconda3\\lib\\site-packages\\statsmodels\\discrete\\discrete_model.py\u001b[0m in \u001b[0;36mfit\u001b[1;34m(self, start_params, method, maxiter, full_output, disp, callback, **kwargs)\u001b[0m\n\u001b[0;32m   1981\u001b[0m     def fit(self, start_params=None, method='newton', maxiter=35,\n\u001b[0;32m   1982\u001b[0m             full_output=1, disp=1, callback=None, **kwargs):\n\u001b[1;32m-> 1983\u001b[1;33m         bnryfit = super().fit(start_params=start_params,\n\u001b[0m\u001b[0;32m   1984\u001b[0m                               \u001b[0mmethod\u001b[0m\u001b[1;33m=\u001b[0m\u001b[0mmethod\u001b[0m\u001b[1;33m,\u001b[0m\u001b[1;33m\u001b[0m\u001b[1;33m\u001b[0m\u001b[0m\n\u001b[0;32m   1985\u001b[0m                               \u001b[0mmaxiter\u001b[0m\u001b[1;33m=\u001b[0m\u001b[0mmaxiter\u001b[0m\u001b[1;33m,\u001b[0m\u001b[1;33m\u001b[0m\u001b[1;33m\u001b[0m\u001b[0m\n",
      "\u001b[1;32mc:\\Anaconda3\\lib\\site-packages\\statsmodels\\discrete\\discrete_model.py\u001b[0m in \u001b[0;36mfit\u001b[1;34m(self, start_params, method, maxiter, full_output, disp, callback, **kwargs)\u001b[0m\n\u001b[0;32m    228\u001b[0m             \u001b[1;32mpass\u001b[0m  \u001b[1;31m# TODO: make a function factory to have multiple call-backs\u001b[0m\u001b[1;33m\u001b[0m\u001b[1;33m\u001b[0m\u001b[0m\n\u001b[0;32m    229\u001b[0m \u001b[1;33m\u001b[0m\u001b[0m\n\u001b[1;32m--> 230\u001b[1;33m         mlefit = super().fit(start_params=start_params,\n\u001b[0m\u001b[0;32m    231\u001b[0m                              \u001b[0mmethod\u001b[0m\u001b[1;33m=\u001b[0m\u001b[0mmethod\u001b[0m\u001b[1;33m,\u001b[0m\u001b[1;33m\u001b[0m\u001b[1;33m\u001b[0m\u001b[0m\n\u001b[0;32m    232\u001b[0m                              \u001b[0mmaxiter\u001b[0m\u001b[1;33m=\u001b[0m\u001b[0mmaxiter\u001b[0m\u001b[1;33m,\u001b[0m\u001b[1;33m\u001b[0m\u001b[1;33m\u001b[0m\u001b[0m\n",
      "\u001b[1;32mc:\\Anaconda3\\lib\\site-packages\\statsmodels\\base\\model.py\u001b[0m in \u001b[0;36mfit\u001b[1;34m(self, start_params, method, maxiter, full_output, disp, fargs, callback, retall, skip_hessian, **kwargs)\u001b[0m\n\u001b[0;32m    577\u001b[0m             \u001b[0mHinv\u001b[0m \u001b[1;33m=\u001b[0m \u001b[0mcov_params_func\u001b[0m\u001b[1;33m(\u001b[0m\u001b[0mself\u001b[0m\u001b[1;33m,\u001b[0m \u001b[0mxopt\u001b[0m\u001b[1;33m,\u001b[0m \u001b[0mretvals\u001b[0m\u001b[1;33m)\u001b[0m\u001b[1;33m\u001b[0m\u001b[1;33m\u001b[0m\u001b[0m\n\u001b[0;32m    578\u001b[0m         \u001b[1;32melif\u001b[0m \u001b[0mmethod\u001b[0m \u001b[1;33m==\u001b[0m \u001b[1;34m'newton'\u001b[0m \u001b[1;32mand\u001b[0m \u001b[0mfull_output\u001b[0m\u001b[1;33m:\u001b[0m\u001b[1;33m\u001b[0m\u001b[1;33m\u001b[0m\u001b[0m\n\u001b[1;32m--> 579\u001b[1;33m             \u001b[0mHinv\u001b[0m \u001b[1;33m=\u001b[0m \u001b[0mnp\u001b[0m\u001b[1;33m.\u001b[0m\u001b[0mlinalg\u001b[0m\u001b[1;33m.\u001b[0m\u001b[0minv\u001b[0m\u001b[1;33m(\u001b[0m\u001b[1;33m-\u001b[0m\u001b[0mretvals\u001b[0m\u001b[1;33m[\u001b[0m\u001b[1;34m'Hessian'\u001b[0m\u001b[1;33m]\u001b[0m\u001b[1;33m)\u001b[0m \u001b[1;33m/\u001b[0m \u001b[0mnobs\u001b[0m\u001b[1;33m\u001b[0m\u001b[1;33m\u001b[0m\u001b[0m\n\u001b[0m\u001b[0;32m    580\u001b[0m         \u001b[1;32melif\u001b[0m \u001b[1;32mnot\u001b[0m \u001b[0mskip_hessian\u001b[0m\u001b[1;33m:\u001b[0m\u001b[1;33m\u001b[0m\u001b[1;33m\u001b[0m\u001b[0m\n\u001b[0;32m    581\u001b[0m             \u001b[0mH\u001b[0m \u001b[1;33m=\u001b[0m \u001b[1;33m-\u001b[0m\u001b[1;36m1\u001b[0m \u001b[1;33m*\u001b[0m \u001b[0mself\u001b[0m\u001b[1;33m.\u001b[0m\u001b[0mhessian\u001b[0m\u001b[1;33m(\u001b[0m\u001b[0mxopt\u001b[0m\u001b[1;33m)\u001b[0m\u001b[1;33m\u001b[0m\u001b[1;33m\u001b[0m\u001b[0m\n",
      "\u001b[1;32mc:\\Anaconda3\\lib\\site-packages\\numpy\\core\\overrides.py\u001b[0m in \u001b[0;36minv\u001b[1;34m(*args, **kwargs)\u001b[0m\n",
      "\u001b[1;32mc:\\Anaconda3\\lib\\site-packages\\numpy\\linalg\\linalg.py\u001b[0m in \u001b[0;36minv\u001b[1;34m(a)\u001b[0m\n\u001b[0;32m    550\u001b[0m     \u001b[0msignature\u001b[0m \u001b[1;33m=\u001b[0m \u001b[1;34m'D->D'\u001b[0m \u001b[1;32mif\u001b[0m \u001b[0misComplexType\u001b[0m\u001b[1;33m(\u001b[0m\u001b[0mt\u001b[0m\u001b[1;33m)\u001b[0m \u001b[1;32melse\u001b[0m \u001b[1;34m'd->d'\u001b[0m\u001b[1;33m\u001b[0m\u001b[1;33m\u001b[0m\u001b[0m\n\u001b[0;32m    551\u001b[0m     \u001b[0mextobj\u001b[0m \u001b[1;33m=\u001b[0m \u001b[0mget_linalg_error_extobj\u001b[0m\u001b[1;33m(\u001b[0m\u001b[0m_raise_linalgerror_singular\u001b[0m\u001b[1;33m)\u001b[0m\u001b[1;33m\u001b[0m\u001b[1;33m\u001b[0m\u001b[0m\n\u001b[1;32m--> 552\u001b[1;33m     \u001b[0mainv\u001b[0m \u001b[1;33m=\u001b[0m \u001b[0m_umath_linalg\u001b[0m\u001b[1;33m.\u001b[0m\u001b[0minv\u001b[0m\u001b[1;33m(\u001b[0m\u001b[0ma\u001b[0m\u001b[1;33m,\u001b[0m \u001b[0msignature\u001b[0m\u001b[1;33m=\u001b[0m\u001b[0msignature\u001b[0m\u001b[1;33m,\u001b[0m \u001b[0mextobj\u001b[0m\u001b[1;33m=\u001b[0m\u001b[0mextobj\u001b[0m\u001b[1;33m)\u001b[0m\u001b[1;33m\u001b[0m\u001b[1;33m\u001b[0m\u001b[0m\n\u001b[0m\u001b[0;32m    553\u001b[0m     \u001b[1;32mreturn\u001b[0m \u001b[0mwrap\u001b[0m\u001b[1;33m(\u001b[0m\u001b[0mainv\u001b[0m\u001b[1;33m.\u001b[0m\u001b[0mastype\u001b[0m\u001b[1;33m(\u001b[0m\u001b[0mresult_t\u001b[0m\u001b[1;33m,\u001b[0m \u001b[0mcopy\u001b[0m\u001b[1;33m=\u001b[0m\u001b[1;32mFalse\u001b[0m\u001b[1;33m)\u001b[0m\u001b[1;33m)\u001b[0m\u001b[1;33m\u001b[0m\u001b[1;33m\u001b[0m\u001b[0m\n\u001b[0;32m    554\u001b[0m \u001b[1;33m\u001b[0m\u001b[0m\n",
      "\u001b[1;32mc:\\Anaconda3\\lib\\site-packages\\numpy\\linalg\\linalg.py\u001b[0m in \u001b[0;36m_raise_linalgerror_singular\u001b[1;34m(err, flag)\u001b[0m\n\u001b[0;32m     87\u001b[0m \u001b[1;33m\u001b[0m\u001b[0m\n\u001b[0;32m     88\u001b[0m \u001b[1;32mdef\u001b[0m \u001b[0m_raise_linalgerror_singular\u001b[0m\u001b[1;33m(\u001b[0m\u001b[0merr\u001b[0m\u001b[1;33m,\u001b[0m \u001b[0mflag\u001b[0m\u001b[1;33m)\u001b[0m\u001b[1;33m:\u001b[0m\u001b[1;33m\u001b[0m\u001b[1;33m\u001b[0m\u001b[0m\n\u001b[1;32m---> 89\u001b[1;33m     \u001b[1;32mraise\u001b[0m \u001b[0mLinAlgError\u001b[0m\u001b[1;33m(\u001b[0m\u001b[1;34m\"Singular matrix\"\u001b[0m\u001b[1;33m)\u001b[0m\u001b[1;33m\u001b[0m\u001b[1;33m\u001b[0m\u001b[0m\n\u001b[0m\u001b[0;32m     90\u001b[0m \u001b[1;33m\u001b[0m\u001b[0m\n\u001b[0;32m     91\u001b[0m \u001b[1;32mdef\u001b[0m \u001b[0m_raise_linalgerror_nonposdef\u001b[0m\u001b[1;33m(\u001b[0m\u001b[0merr\u001b[0m\u001b[1;33m,\u001b[0m \u001b[0mflag\u001b[0m\u001b[1;33m)\u001b[0m\u001b[1;33m:\u001b[0m\u001b[1;33m\u001b[0m\u001b[1;33m\u001b[0m\u001b[0m\n",
      "\u001b[1;31mLinAlgError\u001b[0m: Singular matrix"
     ]
    }
   ],
   "source": [
    "import statsmodels.api as sm\n",
    "model=sm.Logit(y,X)\n",
    "result=model.fit()\n",
    "print(result.summary2())"
   ]
  },
  {
   "cell_type": "code",
   "execution_count": null,
   "metadata": {},
   "outputs": [],
   "source": [
    "#P-value 확인\n",
    "pd.options.display.float_format = '{:.5f}'.format\n",
    "print(result.pvalues)"
   ]
  },
  {
   "cell_type": "code",
   "execution_count": 25,
   "metadata": {},
   "outputs": [],
   "source": [
    "# 유효한 변수 적용 \n",
    "cols = ['cnt', 'kospi','usd', 'cny', 'c_pi', 'house_pi','coloan','bill_2','rsn_2' ] \n",
    "X = df1[cols]  \n",
    "y = df1[\"amt_class\"]"
   ]
  },
  {
   "cell_type": "code",
   "execution_count": 26,
   "metadata": {},
   "outputs": [
    {
     "name": "stdout",
     "output_type": "stream",
     "text": [
      "Optimization terminated successfully.\n",
      "         Current function value: 0.469046\n",
      "         Iterations 8\n"
     ]
    },
    {
     "data": {
      "text/html": [
       "<table class=\"simpletable\">\n",
       "<tr>\n",
       "        <td>Model:</td>              <td>Logit</td>      <td>Pseudo R-squared:</td>    <td>0.323</td>   \n",
       "</tr>\n",
       "<tr>\n",
       "  <td>Dependent Variable:</td>     <td>amt_class</td>          <td>AIC:</td>         <td>1614.6340</td> \n",
       "</tr>\n",
       "<tr>\n",
       "         <td>Date:</td>        <td>2023-05-03 20:56</td>       <td>BIC:</td>         <td>1663.5900</td> \n",
       "</tr>\n",
       "<tr>\n",
       "   <td>No. Observations:</td>        <td>1702</td>        <td>Log-Likelihood:</td>    <td>-798.32</td>  \n",
       "</tr>\n",
       "<tr>\n",
       "       <td>Df Model:</td>              <td>8</td>            <td>LL-Null:</td>        <td>-1179.7</td>  \n",
       "</tr>\n",
       "<tr>\n",
       "     <td>Df Residuals:</td>          <td>1693</td>         <td>LLR p-value:</td>    <td>2.0945e-159</td>\n",
       "</tr>\n",
       "<tr>\n",
       "      <td>Converged:</td>           <td>1.0000</td>           <td>Scale:</td>         <td>1.0000</td>   \n",
       "</tr>\n",
       "<tr>\n",
       "    <td>No. Iterations:</td>        <td>8.0000</td>              <td></td>               <td></td>      \n",
       "</tr>\n",
       "</table>\n",
       "<table class=\"simpletable\">\n",
       "<tr>\n",
       "      <td></td>      <th>Coef.</th>  <th>Std.Err.</th>    <th>z</th>     <th>P>|z|</th> <th>[0.025</th>  <th>0.975]</th> \n",
       "</tr>\n",
       "<tr>\n",
       "  <th>cnt</th>      <td>0.0709</td>   <td>0.0045</td>  <td>15.8923</td> <td>0.0000</td> <td>0.0622</td>  <td>0.0797</td> \n",
       "</tr>\n",
       "<tr>\n",
       "  <th>kospi</th>    <td>0.0003</td>   <td>0.0004</td>  <td>0.8950</td>  <td>0.3708</td> <td>-0.0004</td> <td>0.0010</td> \n",
       "</tr>\n",
       "<tr>\n",
       "  <th>usd</th>      <td>0.0074</td>   <td>0.0025</td>  <td>2.9826</td>  <td>0.0029</td> <td>0.0026</td>  <td>0.0123</td> \n",
       "</tr>\n",
       "<tr>\n",
       "  <th>cny</th>      <td>-0.0477</td>  <td>0.0233</td>  <td>-2.0479</td> <td>0.0406</td> <td>-0.0933</td> <td>-0.0020</td>\n",
       "</tr>\n",
       "<tr>\n",
       "  <th>c_pi</th>     <td>-0.1146</td>  <td>0.0298</td>  <td>-3.8455</td> <td>0.0001</td> <td>-0.1730</td> <td>-0.0562</td>\n",
       "</tr>\n",
       "<tr>\n",
       "  <th>house_pi</th> <td>0.0959</td>   <td>0.0205</td>  <td>4.6717</td>  <td>0.0000</td> <td>0.0557</td>  <td>0.1362</td> \n",
       "</tr>\n",
       "<tr>\n",
       "  <th>coloan</th>   <td>0.1601</td>   <td>0.1062</td>  <td>1.5067</td>  <td>0.1319</td> <td>-0.0482</td> <td>0.3683</td> \n",
       "</tr>\n",
       "<tr>\n",
       "  <th>bill_2</th>   <td>-0.1912</td>  <td>0.2043</td>  <td>-0.9359</td> <td>0.3493</td> <td>-0.5915</td> <td>0.2092</td> \n",
       "</tr>\n",
       "<tr>\n",
       "  <th>rsn_2</th>    <td>0.7042</td>   <td>0.1282</td>  <td>5.4934</td>  <td>0.0000</td> <td>0.4530</td>  <td>0.9554</td> \n",
       "</tr>\n",
       "</table>"
      ],
      "text/plain": [
       "<class 'statsmodels.iolib.summary2.Summary'>\n",
       "\"\"\"\n",
       "                          Results: Logit\n",
       "==================================================================\n",
       "Model:              Logit            Pseudo R-squared: 0.323      \n",
       "Dependent Variable: amt_class        AIC:              1614.6340  \n",
       "Date:               2023-05-03 20:56 BIC:              1663.5900  \n",
       "No. Observations:   1702             Log-Likelihood:   -798.32    \n",
       "Df Model:           8                LL-Null:          -1179.7    \n",
       "Df Residuals:       1693             LLR p-value:      2.0945e-159\n",
       "Converged:          1.0000           Scale:            1.0000     \n",
       "No. Iterations:     8.0000                                        \n",
       "--------------------------------------------------------------------\n",
       "            Coef.    Std.Err.      z      P>|z|     [0.025    0.975]\n",
       "--------------------------------------------------------------------\n",
       "cnt         0.0709     0.0045   15.8923   0.0000    0.0622    0.0797\n",
       "kospi       0.0003     0.0004    0.8950   0.3708   -0.0004    0.0010\n",
       "usd         0.0074     0.0025    2.9826   0.0029    0.0026    0.0123\n",
       "cny        -0.0477     0.0233   -2.0479   0.0406   -0.0933   -0.0020\n",
       "c_pi       -0.1146     0.0298   -3.8455   0.0001   -0.1730   -0.0562\n",
       "house_pi    0.0959     0.0205    4.6717   0.0000    0.0557    0.1362\n",
       "coloan      0.1601     0.1062    1.5067   0.1319   -0.0482    0.3683\n",
       "bill_2     -0.1912     0.2043   -0.9359   0.3493   -0.5915    0.2092\n",
       "rsn_2       0.7042     0.1282    5.4934   0.0000    0.4530    0.9554\n",
       "==================================================================\n",
       "\n",
       "\"\"\""
      ]
     },
     "execution_count": 26,
     "metadata": {},
     "output_type": "execute_result"
    }
   ],
   "source": [
    "model=sm.Logit(y,X)\n",
    "result=model.fit()\n",
    "result.summary2()"
   ]
  },
  {
   "cell_type": "code",
   "execution_count": 27,
   "metadata": {},
   "outputs": [],
   "source": [
    "#학습용 / 검증용 분리\n",
    "from sklearn.model_selection import train_test_split\n",
    "X_train, X_test, y_train, y_test = train_test_split(\n",
    "X, y, test_size=0.2, stratify=y,random_state=10)"
   ]
  },
  {
   "cell_type": "code",
   "execution_count": 28,
   "metadata": {},
   "outputs": [
    {
     "name": "stdout",
     "output_type": "stream",
     "text": [
      "학습용: 0.8067597354886114\n",
      "검증용: 0.7947214076246334\n"
     ]
    },
    {
     "name": "stderr",
     "output_type": "stream",
     "text": [
      "c:\\Anaconda3\\lib\\site-packages\\sklearn\\linear_model\\_logistic.py:814: ConvergenceWarning: lbfgs failed to converge (status=1):\n",
      "STOP: TOTAL NO. of ITERATIONS REACHED LIMIT.\n",
      "\n",
      "Increase the number of iterations (max_iter) or scale the data as shown in:\n",
      "    https://scikit-learn.org/stable/modules/preprocessing.html\n",
      "Please also refer to the documentation for alternative solver options:\n",
      "    https://scikit-learn.org/stable/modules/linear_model.html#logistic-regression\n",
      "  n_iter_i = _check_optimize_result(\n"
     ]
    }
   ],
   "source": [
    "from sklearn.linear_model import LogisticRegression\n",
    "from sklearn import metrics\n",
    "model = LogisticRegression()\n",
    "model.fit(X_train, y_train)\n",
    "print(\"학습용:\",model.score(X_train, y_train))\n",
    "print(\"검증용:\",model.score(X_test, y_test))"
   ]
  },
  {
   "attachments": {},
   "cell_type": "markdown",
   "metadata": {},
   "source": [
    "##### 3.1 스케일링 적용"
   ]
  },
  {
   "cell_type": "code",
   "execution_count": 29,
   "metadata": {},
   "outputs": [],
   "source": [
    "from sklearn.preprocessing import StandardScaler\n",
    "scaler= StandardScaler()\n",
    "scaler.fit(X_train)\n",
    "X_train_scaled = pd.DataFrame(scaler.transform(X_train))\n",
    "X_test_scaled = pd.DataFrame(scaler.transform(X_test))"
   ]
  },
  {
   "cell_type": "code",
   "execution_count": 30,
   "metadata": {},
   "outputs": [
    {
     "name": "stdout",
     "output_type": "stream",
     "text": [
      "학습용: 0.8016164584864071\n",
      "검증용: 0.7976539589442815\n"
     ]
    }
   ],
   "source": [
    "result_tr = []\n",
    "result_te = []\n",
    "\n",
    "logit = LogisticRegression(random_state=0)\n",
    "logit.fit(X_train_scaled, y_train)\n",
    "\n",
    "score_tr = logit.score(X_train_scaled, y_train)\n",
    "score_te = logit.score(X_test_scaled, y_test)\n",
    "\n",
    "print(\"학습용:\",score_tr)\n",
    "print(\"검증용:\",score_te)\n",
    "\n",
    "result_tr.append(score_tr)\n",
    "result_te.append(score_te)"
   ]
  },
  {
   "attachments": {},
   "cell_type": "markdown",
   "metadata": {},
   "source": [
    "##### 3.2 ROC 커브 / Confusion_matrix "
   ]
  },
  {
   "cell_type": "code",
   "execution_count": 31,
   "metadata": {},
   "outputs": [
    {
     "name": "stdout",
     "output_type": "stream",
     "text": [
      "f_value : [-1.77888467 -0.65822968  0.71537285 ...  5.72253479  0.57706222\n",
      "  0.36266753]\n",
      "출력값 : [0 0 1 ... 1 1 1]\n"
     ]
    },
    {
     "name": "stderr",
     "output_type": "stream",
     "text": [
      "c:\\Anaconda3\\lib\\site-packages\\sklearn\\linear_model\\_logistic.py:814: ConvergenceWarning: lbfgs failed to converge (status=1):\n",
      "STOP: TOTAL NO. of ITERATIONS REACHED LIMIT.\n",
      "\n",
      "Increase the number of iterations (max_iter) or scale the data as shown in:\n",
      "    https://scikit-learn.org/stable/modules/preprocessing.html\n",
      "Please also refer to the documentation for alternative solver options:\n",
      "    https://scikit-learn.org/stable/modules/linear_model.html#logistic-regression\n",
      "  n_iter_i = _check_optimize_result(\n"
     ]
    }
   ],
   "source": [
    "from sklearn.linear_model import LogisticRegression\n",
    "model = LogisticRegression().fit(X, y)\n",
    "y_hat = model.predict(X)  \n",
    "f_value = model.decision_function(X)  \n",
    "print(\"f_value :\",f_value)\n",
    "print(\"출력값 :\",model.predict(X))"
   ]
  },
  {
   "cell_type": "code",
   "execution_count": 32,
   "metadata": {},
   "outputs": [
    {
     "data": {
      "text/html": [
       "<div>\n",
       "<style scoped>\n",
       "    .dataframe tbody tr th:only-of-type {\n",
       "        vertical-align: middle;\n",
       "    }\n",
       "\n",
       "    .dataframe tbody tr th {\n",
       "        vertical-align: top;\n",
       "    }\n",
       "\n",
       "    .dataframe thead th {\n",
       "        text-align: right;\n",
       "    }\n",
       "</style>\n",
       "<table border=\"1\" class=\"dataframe\">\n",
       "  <thead>\n",
       "    <tr style=\"text-align: right;\">\n",
       "      <th></th>\n",
       "      <th>f</th>\n",
       "      <th>y_hat</th>\n",
       "      <th>y</th>\n",
       "    </tr>\n",
       "  </thead>\n",
       "  <tbody>\n",
       "    <tr>\n",
       "      <th>0</th>\n",
       "      <td>39.178667</td>\n",
       "      <td>1.0</td>\n",
       "      <td>1.0</td>\n",
       "    </tr>\n",
       "    <tr>\n",
       "      <th>1</th>\n",
       "      <td>32.965925</td>\n",
       "      <td>1.0</td>\n",
       "      <td>1.0</td>\n",
       "    </tr>\n",
       "    <tr>\n",
       "      <th>2</th>\n",
       "      <td>32.400541</td>\n",
       "      <td>1.0</td>\n",
       "      <td>1.0</td>\n",
       "    </tr>\n",
       "    <tr>\n",
       "      <th>3</th>\n",
       "      <td>30.695913</td>\n",
       "      <td>1.0</td>\n",
       "      <td>1.0</td>\n",
       "    </tr>\n",
       "    <tr>\n",
       "      <th>4</th>\n",
       "      <td>29.973697</td>\n",
       "      <td>1.0</td>\n",
       "      <td>1.0</td>\n",
       "    </tr>\n",
       "    <tr>\n",
       "      <th>...</th>\n",
       "      <td>...</td>\n",
       "      <td>...</td>\n",
       "      <td>...</td>\n",
       "    </tr>\n",
       "    <tr>\n",
       "      <th>1697</th>\n",
       "      <td>-1.963545</td>\n",
       "      <td>0.0</td>\n",
       "      <td>0.0</td>\n",
       "    </tr>\n",
       "    <tr>\n",
       "      <th>1698</th>\n",
       "      <td>-1.963545</td>\n",
       "      <td>0.0</td>\n",
       "      <td>1.0</td>\n",
       "    </tr>\n",
       "    <tr>\n",
       "      <th>1699</th>\n",
       "      <td>-1.963545</td>\n",
       "      <td>0.0</td>\n",
       "      <td>1.0</td>\n",
       "    </tr>\n",
       "    <tr>\n",
       "      <th>1700</th>\n",
       "      <td>-1.963545</td>\n",
       "      <td>0.0</td>\n",
       "      <td>0.0</td>\n",
       "    </tr>\n",
       "    <tr>\n",
       "      <th>1701</th>\n",
       "      <td>-1.963545</td>\n",
       "      <td>0.0</td>\n",
       "      <td>1.0</td>\n",
       "    </tr>\n",
       "  </tbody>\n",
       "</table>\n",
       "<p>1702 rows × 3 columns</p>\n",
       "</div>"
      ],
      "text/plain": [
       "              f  y_hat    y\n",
       "0     39.178667    1.0  1.0\n",
       "1     32.965925    1.0  1.0\n",
       "2     32.400541    1.0  1.0\n",
       "3     30.695913    1.0  1.0\n",
       "4     29.973697    1.0  1.0\n",
       "...         ...    ...  ...\n",
       "1697  -1.963545    0.0  0.0\n",
       "1698  -1.963545    0.0  1.0\n",
       "1699  -1.963545    0.0  1.0\n",
       "1700  -1.963545    0.0  0.0\n",
       "1701  -1.963545    0.0  1.0\n",
       "\n",
       "[1702 rows x 3 columns]"
      ]
     },
     "execution_count": 32,
     "metadata": {},
     "output_type": "execute_result"
    }
   ],
   "source": [
    "import numpy as np\n",
    "import pandas as pd\n",
    "df_r = pd.DataFrame(np.vstack([f_value, y_hat,y]).T,\n",
    "                  columns=[\"f\", \"y_hat\",\"y\"])\n",
    "df_r.sort_values(\"f\", ascending=False).reset_index(drop=True)"
   ]
  },
  {
   "cell_type": "code",
   "execution_count": 33,
   "metadata": {},
   "outputs": [
    {
     "data": {
      "text/plain": [
       "array([[763,  88],\n",
       "       [241, 610]], dtype=int64)"
      ]
     },
     "execution_count": 33,
     "metadata": {},
     "output_type": "execute_result"
    }
   ],
   "source": [
    "from sklearn.metrics import confusion_matrix\n",
    "confusion_matrix(y, y_hat,labels=[0,1])"
   ]
  },
  {
   "cell_type": "code",
   "execution_count": 34,
   "metadata": {},
   "outputs": [
    {
     "name": "stdout",
     "output_type": "stream",
     "text": [
      "fall-out : 0.1045828437132785\n",
      "recall : 0.7144535840188014\n"
     ]
    }
   ],
   "source": [
    "# 특이도, 민감도 산출\n",
    "fpr0 = 89/(762+89) \n",
    "tpr0 = 608/(243+608)  \n",
    "print(\"fall-out :\",fpr0)\n",
    "print(\"recall :\",tpr0)"
   ]
  },
  {
   "cell_type": "code",
   "execution_count": 35,
   "metadata": {},
   "outputs": [
    {
     "data": {
      "text/plain": [
       "(array([0.        , 0.        , 0.        , 0.00117509, 0.00117509,\n",
       "        0.00235018, 0.00235018, 0.00352526, 0.00352526, 0.00587544,\n",
       "        0.00587544, 0.00705053, 0.00705053, 0.00940071, 0.00940071,\n",
       "        0.01057579, 0.01057579, 0.01175088, 0.01175088, 0.01292597,\n",
       "        0.01292597, 0.01410106, 0.01410106, 0.01410106, 0.01410106,\n",
       "        0.01527615, 0.01527615, 0.01645123, 0.01645123, 0.01645123,\n",
       "        0.01645123, 0.01762632, 0.01762632, 0.01880141, 0.01880141,\n",
       "        0.01880141, 0.01880141, 0.01880141, 0.01880141, 0.0199765 ,\n",
       "        0.0199765 , 0.02115159, 0.02115159, 0.02350176, 0.02350176,\n",
       "        0.02350176, 0.02350176, 0.02585194, 0.02585194, 0.02585194,\n",
       "        0.02585194, 0.02702703, 0.02702703, 0.02820212, 0.02820212,\n",
       "        0.0293772 , 0.0293772 , 0.03055229, 0.03055229, 0.03172738,\n",
       "        0.03172738, 0.03290247, 0.03290247, 0.03290247, 0.03407756,\n",
       "        0.03407756, 0.03525264, 0.03525264, 0.03642773, 0.03642773,\n",
       "        0.03760282, 0.03760282, 0.03877791, 0.03877791, 0.039953  ,\n",
       "        0.039953  , 0.04112808, 0.04112808, 0.04230317, 0.04230317,\n",
       "        0.04347826, 0.04347826, 0.04347826, 0.04347826, 0.04582844,\n",
       "        0.04700353, 0.04817861, 0.04817861, 0.0493537 , 0.0493537 ,\n",
       "        0.05170388, 0.05170388, 0.05287897, 0.05522914, 0.05522914,\n",
       "        0.05640423, 0.05640423, 0.05757932, 0.05875441, 0.05875441,\n",
       "        0.05992949, 0.05992949, 0.06110458, 0.06110458, 0.06227967,\n",
       "        0.06227967, 0.06345476, 0.06345476, 0.06462985, 0.06462985,\n",
       "        0.06698002, 0.06698002, 0.06815511, 0.06815511, 0.07050529,\n",
       "        0.07050529, 0.07285546, 0.07285546, 0.07638073, 0.07638073,\n",
       "        0.07638073, 0.07638073, 0.07755582, 0.07755582, 0.0787309 ,\n",
       "        0.0787309 , 0.08108108, 0.08108108, 0.08460635, 0.08460635,\n",
       "        0.08578143, 0.08578143, 0.08695652, 0.08695652, 0.0893067 ,\n",
       "        0.0893067 , 0.09400705, 0.09400705, 0.09635723, 0.09635723,\n",
       "        0.09753231, 0.09753231, 0.0987074 , 0.0987074 , 0.10223267,\n",
       "        0.10223267, 0.10340776, 0.1092832 , 0.1092832 , 0.11163337,\n",
       "        0.11163337, 0.11280846, 0.11633373, 0.11633373, 0.11750881,\n",
       "        0.11750881, 0.1186839 , 0.1186839 , 0.11985899, 0.11985899,\n",
       "        0.11985899, 0.12220917, 0.12220917, 0.12455934, 0.12455934,\n",
       "        0.12573443, 0.12573443, 0.12573443, 0.12925969, 0.13160987,\n",
       "        0.13160987, 0.13278496, 0.13396005, 0.13513514, 0.13513514,\n",
       "        0.13748531, 0.13748531, 0.13983549, 0.13983549, 0.14101058,\n",
       "        0.14101058, 0.14218566, 0.14218566, 0.14688602, 0.14688602,\n",
       "        0.15041128, 0.15393655, 0.15511163, 0.15746181, 0.15981199,\n",
       "        0.16216216, 0.16451234, 0.16451234, 0.16686251, 0.16921269,\n",
       "        0.16921269, 0.17038778, 0.17038778, 0.17391304, 0.17626322,\n",
       "        0.17743831, 0.17743831, 0.17978848, 0.18096357, 0.18096357,\n",
       "        0.18096357, 0.18213866, 0.18331375, 0.18448884, 0.18448884,\n",
       "        0.18566392, 0.1880141 , 0.18918919, 0.18918919, 0.19153937,\n",
       "        0.19271445, 0.19741481, 0.19741481, 0.20094007, 0.20094007,\n",
       "        0.20564042, 0.21151586, 0.21504113, 0.21504113, 0.21856639,\n",
       "        0.21856639, 0.22679201, 0.22679201, 0.22914219, 0.23619271,\n",
       "        0.24324324, 0.24324324, 0.24559342, 0.24559342, 0.24676851,\n",
       "        0.24676851, 0.24911868, 0.25146886, 0.2573443 , 0.25969448,\n",
       "        0.26204465, 0.26321974, 0.26556992, 0.26556992, 0.27027027,\n",
       "        0.27144536, 0.27262045, 0.27262045, 0.27262045, 0.2773208 ,\n",
       "        0.2773208 , 0.27967098, 0.27967098, 0.28084606, 0.28319624,\n",
       "        0.28554642, 0.28554642, 0.2867215 , 0.28907168, 0.28907168,\n",
       "        0.29024677, 0.29024677, 0.29142186, 0.29377203, 0.29494712,\n",
       "        0.2972973 , 0.2972973 , 0.2972973 , 0.2972973 , 0.29964747,\n",
       "        0.306698  , 0.31257344, 0.31492362, 0.32079906, 0.32079906,\n",
       "        0.32432432, 0.3266745 , 0.32784959, 0.33019976, 0.33490012,\n",
       "        0.33960047, 0.34312573, 0.34782609, 0.34900118, 0.35135135,\n",
       "        0.35135135, 0.35252644, 0.35487662, 0.3560517 , 0.35840188,\n",
       "        0.36427732, 0.36780259, 0.37015276, 0.37132785, 0.37485311,\n",
       "        0.38190364, 0.38190364, 0.38542891, 0.386604  , 0.39247944,\n",
       "        0.39247944, 0.39717979, 0.40070505, 0.40893067, 0.41950646,\n",
       "        0.42185664, 0.4253819 , 0.4253819 , 0.42655699, 0.42655699,\n",
       "        0.42890717, 0.43008226, 0.43125734, 0.43243243, 0.43478261,\n",
       "        0.43713278, 0.43948296, 0.44065805, 0.44065805, 0.44183314,\n",
       "        0.44300823, 0.4453584 , 0.45240893, 0.45240893, 0.45475911,\n",
       "        0.4559342 , 0.4559342 , 0.45828437, 0.45945946, 0.46180964,\n",
       "        0.4653349 , 0.46650999, 0.46768508, 0.46886016, 0.47121034,\n",
       "        0.47473561, 0.47473561, 0.47708578, 0.48178613, 0.48413631,\n",
       "        0.48766157, 0.49236193, 0.4947121 , 0.49706228, 0.49706228,\n",
       "        0.49941246, 0.50176263, 0.5052879 , 0.51116334, 0.51233843,\n",
       "        0.5146886 , 0.51703878, 0.51821387, 0.51821387, 0.51938895,\n",
       "        0.52056404, 0.52173913, 0.52408931, 0.52643948, 0.52878966,\n",
       "        0.53113984, 0.5346651 , 0.53584019, 0.53819036, 0.54171563,\n",
       "        0.54171563, 0.54289072, 0.54641598, 0.54641598, 0.54876616,\n",
       "        0.54994125, 0.54994125, 0.55229142, 0.5546416 , 0.55699177,\n",
       "        0.55816686, 0.56051704, 0.56286722, 0.57226792, 0.58049354,\n",
       "        0.58049354, 0.58166863, 0.58166863, 0.58519389, 0.58989424,\n",
       "        0.59106933, 0.59224442, 0.59459459, 0.59576968, 0.59576968,\n",
       "        0.59694477, 0.60164512, 0.60282021, 0.60517039, 0.60752056,\n",
       "        0.61104583, 0.61457109, 0.61692127, 0.61692127, 0.61927145,\n",
       "        0.62044653, 0.62162162, 0.62162162, 0.62514689, 0.62749706,\n",
       "        0.63102233, 0.63572268, 0.64042303, 0.64277321, 0.64277321,\n",
       "        0.64629847, 0.64747356, 0.65099882, 0.65217391, 0.65452409,\n",
       "        0.65804935, 0.65922444, 0.66039953, 0.66274971, 0.67567568,\n",
       "        0.67685076, 0.67685076, 0.68390129, 0.68625147, 0.68977673,\n",
       "        0.69095182, 0.69447709, 0.69682726, 0.70035253, 0.70387779,\n",
       "        0.70505288, 0.70740306, 0.70857814, 0.71210341, 0.7132785 ,\n",
       "        0.71445358, 0.71797885, 0.72032902, 0.72150411, 0.72150411,\n",
       "        0.72385429, 0.72502938, 0.72737955, 0.73325499, 0.73795535,\n",
       "        0.74030552, 0.74383079, 0.75088132, 0.7520564 , 0.7520564 ,\n",
       "        0.75440658, 0.75440658, 0.75910693, 0.7626322 , 0.76498237,\n",
       "        0.76615746, 0.76850764, 0.76968273, 0.77555817, 0.77673325,\n",
       "        0.77908343, 0.78025852, 0.79083431, 0.79670975, 0.79788484,\n",
       "        0.80141011, 0.80611046, 0.80846063, 0.81081081, 0.81903643,\n",
       "        0.8213866 , 0.82491187, 0.8319624 , 0.83901293, 0.84253819,\n",
       "        0.84488837, 0.84958872, 0.8519389 , 0.8519389 , 0.85311398,\n",
       "        0.85428907, 0.85663925, 0.8613396 , 0.86486486, 0.86603995,\n",
       "        0.87074031, 0.87426557, 0.88014101, 0.8813161 , 0.88484136,\n",
       "        0.88484136, 0.88601645, 0.88719154, 0.88836663, 0.89306698,\n",
       "        0.89541716, 0.90364277, 0.90599295, 0.91421857, 0.91656874,\n",
       "        0.91891892, 0.92009401, 0.92361927, 0.92831962, 0.93772033,\n",
       "        0.94007051, 0.94712103, 0.94947121, 0.95182139, 0.95299647,\n",
       "        0.95769683, 0.96827262, 0.97179788, 0.97297297, 0.97649824,\n",
       "        0.98354877, 0.98472385, 0.99059929, 0.99177438, 1.        ]),\n",
       " array([0.        , 0.00117509, 0.04817861, 0.04817861, 0.06110458,\n",
       "        0.06110458, 0.09400705, 0.09400705, 0.09635723, 0.09635723,\n",
       "        0.1092832 , 0.1092832 , 0.11398355, 0.11398355, 0.29847239,\n",
       "        0.29847239, 0.30199765, 0.30199765, 0.3172738 , 0.3172738 ,\n",
       "        0.31844888, 0.31844888, 0.36310223, 0.36545241, 0.37837838,\n",
       "        0.37837838, 0.39365452, 0.39365452, 0.42185664, 0.42420682,\n",
       "        0.43948296, 0.43948296, 0.44183314, 0.44183314, 0.4453584 ,\n",
       "        0.44770858, 0.45828437, 0.46063455, 0.46886016, 0.46886016,\n",
       "        0.48296122, 0.48296122, 0.49941246, 0.49941246, 0.50293772,\n",
       "        0.5052879 , 0.51233843, 0.51233843, 0.52056404, 0.52291422,\n",
       "        0.52408931, 0.52408931, 0.52643948, 0.52643948, 0.53584019,\n",
       "        0.53584019, 0.53819036, 0.53936545, 0.54171563, 0.54171563,\n",
       "        0.55111633, 0.55111633, 0.57696827, 0.57931845, 0.57931845,\n",
       "        0.58284371, 0.58284371, 0.5840188 , 0.5840188 , 0.58636898,\n",
       "        0.58636898, 0.59106933, 0.59106933, 0.59576968, 0.59576968,\n",
       "        0.60047004, 0.60047004, 0.60634548, 0.60634548, 0.61809636,\n",
       "        0.61809636, 0.62162162, 0.6239718 , 0.62514689, 0.62514689,\n",
       "        0.62867215, 0.62867215, 0.63219741, 0.63219741, 0.64042303,\n",
       "        0.64277321, 0.64512338, 0.64629847, 0.64629847, 0.65099882,\n",
       "        0.65217391, 0.66157462, 0.66274971, 0.66274971, 0.66392479,\n",
       "        0.66392479, 0.66509988, 0.66509988, 0.66627497, 0.66627497,\n",
       "        0.66862515, 0.66862515, 0.66980024, 0.66980024, 0.67450059,\n",
       "        0.67450059, 0.6827262 , 0.6827262 , 0.68625147, 0.68625147,\n",
       "        0.68742656, 0.68742656, 0.68977673, 0.68977673, 0.69212691,\n",
       "        0.69447709, 0.69565217, 0.69565217, 0.69800235, 0.69800235,\n",
       "        0.70035253, 0.70035253, 0.70152761, 0.70152761, 0.7027027 ,\n",
       "        0.7027027 , 0.70387779, 0.70387779, 0.70622797, 0.70622797,\n",
       "        0.70740306, 0.70740306, 0.70857814, 0.70857814, 0.70975323,\n",
       "        0.70975323, 0.71092832, 0.71210341, 0.7132785 , 0.7132785 ,\n",
       "        0.71562867, 0.71680376, 0.71680376, 0.71797885, 0.71797885,\n",
       "        0.71915394, 0.72032902, 0.72032902, 0.72150411, 0.72150411,\n",
       "        0.7226792 , 0.7226792 , 0.72502938, 0.72502938, 0.72855464,\n",
       "        0.73090482, 0.73090482, 0.73207991, 0.73207991, 0.73443008,\n",
       "        0.73443008, 0.73560517, 0.73795535, 0.73795535, 0.73795535,\n",
       "        0.74030552, 0.74030552, 0.74148061, 0.74148061, 0.74500588,\n",
       "        0.74500588, 0.74853114, 0.74853114, 0.74970623, 0.74970623,\n",
       "        0.75088132, 0.75088132, 0.7520564 , 0.76380729, 0.76498237,\n",
       "        0.76498237, 0.76850764, 0.76850764, 0.76968273, 0.76968273,\n",
       "        0.77438308, 0.77438308, 0.77555817, 0.77555817, 0.77555817,\n",
       "        0.78025852, 0.78025852, 0.78378378, 0.78378378, 0.78848414,\n",
       "        0.78848414, 0.78965922, 0.78965922, 0.78965922, 0.7920094 ,\n",
       "        0.79435958, 0.79435958, 0.79553467, 0.79553467, 0.79670975,\n",
       "        0.79670975, 0.79670975, 0.79670975, 0.79788484, 0.79788484,\n",
       "        0.79788484, 0.80376028, 0.80493537, 0.80493537, 0.80728555,\n",
       "        0.80728555, 0.80728555, 0.80728555, 0.80846063, 0.80846063,\n",
       "        0.81081081, 0.81081081, 0.8119859 , 0.8119859 , 0.8119859 ,\n",
       "        0.8119859 , 0.81433608, 0.81433608, 0.81551116, 0.81551116,\n",
       "        0.81668625, 0.81668625, 0.81786134, 0.81786134, 0.81786134,\n",
       "        0.81786134, 0.81903643, 0.81903643, 0.82021152, 0.82021152,\n",
       "        0.8213866 , 0.8213866 , 0.82373678, 0.82491187, 0.82491187,\n",
       "        0.82608696, 0.82608696, 0.82726204, 0.83431257, 0.83431257,\n",
       "        0.83431257, 0.83666275, 0.83666275, 0.83666275, 0.83901293,\n",
       "        0.83901293, 0.84018801, 0.84018801, 0.84018801, 0.8413631 ,\n",
       "        0.8413631 , 0.84371328, 0.84606345, 0.84841363, 0.84841363,\n",
       "        0.85076381, 0.85076381, 0.85076381, 0.85311398, 0.85428907,\n",
       "        0.85428907, 0.85428907, 0.85546416, 0.85546416, 0.85781434,\n",
       "        0.85898942, 0.85898942, 0.85898942, 0.85898942, 0.85898942,\n",
       "        0.8613396 , 0.86251469, 0.86251469, 0.86251469, 0.86251469,\n",
       "        0.86251469, 0.86251469, 0.86251469, 0.86251469, 0.86251469,\n",
       "        0.86251469, 0.86368978, 0.86368978, 0.86721504, 0.86839013,\n",
       "        0.86956522, 0.87074031, 0.87074031, 0.87544066, 0.87544066,\n",
       "        0.87544066, 0.87544066, 0.87661575, 0.87661575, 0.87896592,\n",
       "        0.87896592, 0.88014101, 0.88014101, 0.8813161 , 0.88249119,\n",
       "        0.88249119, 0.88249119, 0.88249119, 0.88366627, 0.88366627,\n",
       "        0.88601645, 0.88601645, 0.88601645, 0.88719154, 0.88719154,\n",
       "        0.88719154, 0.88836663, 0.88836663, 0.88836663, 0.88836663,\n",
       "        0.88836663, 0.88954172, 0.88954172, 0.89189189, 0.89189189,\n",
       "        0.89306698, 0.89424207, 0.89424207, 0.89776733, 0.89776733,\n",
       "        0.89776733, 0.89776733, 0.90011751, 0.90011751, 0.9012926 ,\n",
       "        0.9012926 , 0.9012926 , 0.9012926 , 0.90246769, 0.90364277,\n",
       "        0.90599295, 0.90599295, 0.90599295, 0.90716804, 0.90716804,\n",
       "        0.90834313, 0.90834313, 0.90834313, 0.90834313, 0.90834313,\n",
       "        0.90834313, 0.90834313, 0.90951821, 0.9106933 , 0.9106933 ,\n",
       "        0.91186839, 0.91186839, 0.91186839, 0.91421857, 0.91656874,\n",
       "        0.91656874, 0.91774383, 0.92009401, 0.92009401, 0.92009401,\n",
       "        0.9212691 , 0.9212691 , 0.9212691 , 0.9212691 , 0.92244418,\n",
       "        0.92361927, 0.92361927, 0.92479436, 0.92479436, 0.92479436,\n",
       "        0.92479436, 0.92714454, 0.92714454, 0.92714454, 0.92831962,\n",
       "        0.92831962, 0.92831962, 0.92831962, 0.92831962, 0.92949471,\n",
       "        0.92949471, 0.9306698 , 0.9306698 , 0.93184489, 0.93184489,\n",
       "        0.93537015, 0.93537015, 0.93772033, 0.93772033, 0.93772033,\n",
       "        0.93772033, 0.93772033, 0.93772033, 0.93772033, 0.93889542,\n",
       "        0.93889542, 0.94007051, 0.94007051, 0.94007051, 0.94007051,\n",
       "        0.94007051, 0.94124559, 0.94124559, 0.94124559, 0.94242068,\n",
       "        0.94242068, 0.94359577, 0.94359577, 0.94359577, 0.94359577,\n",
       "        0.94477086, 0.94829612, 0.94947121, 0.94947121, 0.94947121,\n",
       "        0.94947121, 0.94947121, 0.94947121, 0.94947121, 0.9506463 ,\n",
       "        0.9506463 , 0.9506463 , 0.9506463 , 0.95182139, 0.95299647,\n",
       "        0.95299647, 0.95299647, 0.95417156, 0.95534665, 0.95534665,\n",
       "        0.95534665, 0.95534665, 0.95887192, 0.95887192, 0.960047  ,\n",
       "        0.960047  , 0.96122209, 0.96239718, 0.96239718, 0.96239718,\n",
       "        0.96239718, 0.96357227, 0.96357227, 0.96357227, 0.96357227,\n",
       "        0.96357227, 0.96357227, 0.96357227, 0.96357227, 0.96357227,\n",
       "        0.96357227, 0.96709753, 0.96709753, 0.96709753, 0.96709753,\n",
       "        0.96709753, 0.96944771, 0.96944771, 0.96944771, 0.9706228 ,\n",
       "        0.9706228 , 0.9706228 , 0.97414806, 0.97532315, 0.97532315,\n",
       "        0.97649824, 0.97767333, 0.97767333, 0.97767333, 0.97767333,\n",
       "        0.97884841, 0.97884841, 0.97884841, 0.9800235 , 0.98119859,\n",
       "        0.98237368, 0.98237368, 0.98354877, 0.98354877, 0.98472385,\n",
       "        0.98472385, 0.98472385, 0.98472385, 0.98472385, 0.98472385,\n",
       "        0.98472385, 0.98589894, 0.98707403, 0.98824912, 0.98824912,\n",
       "        0.98942421, 0.99177438, 0.99177438, 0.99294947, 0.99294947,\n",
       "        0.99294947, 0.99294947, 0.99412456, 0.99412456, 0.99412456,\n",
       "        0.99529965, 0.99529965, 0.99529965, 0.99529965, 1.        ]),\n",
       " array([ 4.01786670e+01,  3.91786670e+01,  1.51387330e+01,  1.49290866e+01,\n",
       "         1.23199219e+01,  1.22792403e+01,  8.82221354e+00,  8.82201270e+00,\n",
       "         8.52142258e+00,  8.09263320e+00,  7.42532177e+00,  7.42117090e+00,\n",
       "         7.20026493e+00,  6.97264257e+00,  2.96499110e+00,  2.93992402e+00,\n",
       "         2.89352620e+00,  2.88654023e+00,  2.74712649e+00,  2.68869434e+00,\n",
       "         2.66719069e+00,  2.65794405e+00,  2.34651652e+00,  2.32614455e+00,\n",
       "         2.19405925e+00,  2.16131581e+00,  2.00131419e+00,  1.99842908e+00,\n",
       "         1.88037343e+00,  1.86680369e+00,  1.76915590e+00,  1.76526987e+00,\n",
       "         1.75008785e+00,  1.74541464e+00,  1.72724451e+00,  1.72107598e+00,\n",
       "         1.62259312e+00,  1.62182172e+00,  1.58414944e+00,  1.57996548e+00,\n",
       "         1.48893776e+00,  1.47889193e+00,  1.41425233e+00,  1.39710089e+00,\n",
       "         1.39208801e+00,  1.36375150e+00,  1.30606893e+00,  1.29828985e+00,\n",
       "         1.22419567e+00,  1.22398620e+00,  1.21010417e+00,  1.20145164e+00,\n",
       "         1.18006235e+00,  1.12597183e+00,  1.06587855e+00,  1.05428381e+00,\n",
       "         1.03543889e+00,  1.02111645e+00,  9.57130100e-01,  9.46214105e-01,\n",
       "         9.21462131e-01,  9.09514006e-01,  7.53916818e-01,  7.48900275e-01,\n",
       "         7.48746476e-01,  7.25638586e-01,  7.23731919e-01,  7.22386716e-01,\n",
       "         7.15372853e-01,  7.12060939e-01,  7.07621475e-01,  7.01927027e-01,\n",
       "         7.00990518e-01,  6.71270513e-01,  6.69423409e-01,  6.20549875e-01,\n",
       "         6.19072057e-01,  5.88819040e-01,  5.82708792e-01,  5.35892740e-01,\n",
       "         5.28198637e-01,  5.18241852e-01,  5.11586188e-01,  5.05029202e-01,\n",
       "         5.00551360e-01,  4.93226784e-01,  4.78901725e-01,  4.66261216e-01,\n",
       "         4.65574688e-01,  4.23990303e-01,  4.21761888e-01,  4.06918478e-01,\n",
       "         4.02481975e-01,  3.89355720e-01,  3.69246195e-01,  3.68314102e-01,\n",
       "         3.46146117e-01,  3.42278880e-01,  3.38080017e-01,  3.37017444e-01,\n",
       "         3.34690288e-01,  3.21785274e-01,  3.15765320e-01,  3.00950759e-01,\n",
       "         3.00806303e-01,  2.97946570e-01,  2.97789111e-01,  2.97191497e-01,\n",
       "         2.84299493e-01,  2.66329935e-01,  2.62802013e-01,  2.22132439e-01,\n",
       "         2.19737740e-01,  2.03558616e-01,  2.00943081e-01,  1.96928174e-01,\n",
       "         1.89728643e-01,  1.60738200e-01,  1.56672661e-01,  1.50667542e-01,\n",
       "         1.45853312e-01,  1.44790739e-01,  1.41369700e-01,  1.34504677e-01,\n",
       "         1.32093719e-01,  1.29271344e-01,  1.23400141e-01,  1.18263746e-01,\n",
       "         1.08088903e-01,  1.06395229e-01,  1.01722014e-01,  1.01370630e-01,\n",
       "         9.84078066e-02,  8.85647627e-02,  8.65560684e-02,  8.52225990e-02,\n",
       "         6.37183671e-02,  6.30397798e-02,  5.78064472e-02,  5.46774579e-02,\n",
       "         5.46399614e-02,  4.25552993e-02,  4.22694190e-02,  2.79443599e-02,\n",
       "         9.86325168e-03,  3.52336977e-03,  2.92351841e-03, -1.11783666e-02,\n",
       "        -1.36584495e-02, -3.13093377e-02, -3.45510372e-02, -4.12077794e-02,\n",
       "        -6.16016451e-02, -6.23739970e-02, -6.27485217e-02, -6.66246732e-02,\n",
       "        -7.11678147e-02, -7.98330427e-02, -8.49165065e-02, -1.02382213e-01,\n",
       "        -1.07004107e-01, -1.14985434e-01, -1.19940287e-01, -1.25121387e-01,\n",
       "        -1.31000270e-01, -1.33483749e-01, -1.43449008e-01, -1.53765868e-01,\n",
       "        -1.72125271e-01, -1.73847110e-01, -1.76922855e-01, -1.77770684e-01,\n",
       "        -1.84137573e-01, -1.86450330e-01, -1.91405184e-01, -1.98491165e-01,\n",
       "        -2.04536302e-01, -2.13670805e-01, -2.14913904e-01, -2.22819807e-01,\n",
       "        -2.25573057e-01, -2.26219767e-01, -2.40595940e-01, -2.43590168e-01,\n",
       "        -2.49074280e-01, -2.60674689e-01, -2.62870081e-01, -2.66158801e-01,\n",
       "        -2.69956062e-01, -2.71336840e-01, -2.75996335e-01, -2.76776636e-01,\n",
       "        -2.77770455e-01, -2.79954602e-01, -2.81644700e-01, -2.90663342e-01,\n",
       "        -2.93441114e-01, -3.22473760e-01, -3.45402773e-01, -3.47461232e-01,\n",
       "        -3.49235351e-01, -3.51406026e-01, -3.54400965e-01, -3.57790695e-01,\n",
       "        -3.57843698e-01, -3.64401297e-01, -3.70982933e-01, -3.79195387e-01,\n",
       "        -3.91317545e-01, -3.95761557e-01, -3.96958985e-01, -3.97182113e-01,\n",
       "        -3.98893963e-01, -4.09249895e-01, -4.15046513e-01, -4.16867670e-01,\n",
       "        -4.18926129e-01, -4.19698481e-01, -4.30349475e-01, -4.35866194e-01,\n",
       "        -4.36370907e-01, -4.55800179e-01, -4.60098718e-01, -4.60919506e-01,\n",
       "        -4.72167835e-01, -4.88332566e-01, -5.12976218e-01, -5.13339311e-01,\n",
       "        -5.35793487e-01, -5.40111906e-01, -5.62636223e-01, -5.63991741e-01,\n",
       "        -5.69858229e-01, -5.70650695e-01, -5.74307203e-01, -5.76078753e-01,\n",
       "        -5.77983634e-01, -5.85170784e-01, -6.01468686e-01, -6.03916220e-01,\n",
       "        -6.08929103e-01, -6.13288653e-01, -6.30373174e-01, -6.31254547e-01,\n",
       "        -6.35456638e-01, -6.37265613e-01, -6.37841022e-01, -6.41323126e-01,\n",
       "        -6.43427311e-01, -6.47543649e-01, -6.48181609e-01, -6.55009147e-01,\n",
       "        -6.55493667e-01, -6.56635681e-01, -6.58229675e-01, -6.75381117e-01,\n",
       "        -6.82818572e-01, -6.84881708e-01, -7.00031646e-01, -7.00906100e-01,\n",
       "        -7.02561985e-01, -7.02727257e-01, -7.03317058e-01, -7.05202923e-01,\n",
       "        -7.05566016e-01, -7.09874043e-01, -7.15115179e-01, -7.16209062e-01,\n",
       "        -7.19008546e-01, -7.27734001e-01, -7.28100577e-01, -7.46846014e-01,\n",
       "        -7.49489858e-01, -7.54283469e-01, -7.58027422e-01, -7.74781954e-01,\n",
       "        -7.75124246e-01, -7.77030913e-01, -7.83190346e-01, -7.86357105e-01,\n",
       "        -7.87673959e-01, -7.88701893e-01, -7.90473443e-01, -7.97855336e-01,\n",
       "        -7.97938941e-01, -8.07231651e-01, -8.07466417e-01, -8.08801063e-01,\n",
       "        -8.09171438e-01, -8.16028379e-01, -8.17031181e-01, -8.23323794e-01,\n",
       "        -8.27811501e-01, -8.29619087e-01, -8.33112900e-01, -8.45657050e-01,\n",
       "        -8.46246851e-01, -8.48495810e-01, -8.49489629e-01, -8.52803836e-01,\n",
       "        -8.56774468e-01, -8.57822001e-01, -8.60166790e-01, -8.61938340e-01,\n",
       "        -8.71237211e-01, -8.77251311e-01, -8.78931313e-01, -8.80265960e-01,\n",
       "        -8.80636335e-01, -8.89775807e-01, -8.92419652e-01, -8.93117971e-01,\n",
       "        -8.94113326e-01, -8.94788691e-01, -8.94946149e-01, -8.99276398e-01,\n",
       "        -9.06071380e-01, -9.06757545e-01, -9.12030670e-01, -9.15300790e-01,\n",
       "        -9.17121947e-01, -9.18054040e-01, -9.29509869e-01, -9.33365832e-01,\n",
       "        -9.34206468e-01, -9.35308118e-01, -9.40868735e-01, -9.42128691e-01,\n",
       "        -9.42702108e-01, -9.44089262e-01, -9.51677854e-01, -9.51730857e-01,\n",
       "        -9.52392639e-01, -9.56015398e-01, -9.58793170e-01, -9.61240704e-01,\n",
       "        -9.65578223e-01, -9.68815378e-01, -9.70741295e-01, -9.72548881e-01,\n",
       "        -9.82520981e-01, -9.86765687e-01, -9.89518937e-01, -9.99704262e-01,\n",
       "        -1.00021147e+00, -1.01233363e+00, -1.01358564e+00, -1.02314275e+00,\n",
       "        -1.02319575e+00, -1.02356613e+00, -1.02748029e+00, -1.02751935e+00,\n",
       "        -1.03025807e+00, -1.03704312e+00, -1.04456482e+00, -1.04559058e+00,\n",
       "        -1.05313229e+00, -1.05823058e+00, -1.06267510e+00, -1.06268102e+00,\n",
       "        -1.06605499e+00, -1.06904993e+00, -1.07167637e+00, -1.07168907e+00,\n",
       "        -1.08563190e+00, -1.08876089e+00, -1.09384435e+00, -1.09503103e+00,\n",
       "        -1.10779989e+00, -1.11353262e+00, -1.11549399e+00, -1.11719901e+00,\n",
       "        -1.12969548e+00, -1.13210644e+00, -1.14051483e+00, -1.14236987e+00,\n",
       "        -1.14678000e+00, -1.14823743e+00, -1.19606208e+00, -1.19691567e+00,\n",
       "        -1.20044722e+00, -1.20357134e+00, -1.20716550e+00, -1.21068836e+00,\n",
       "        -1.21383477e+00, -1.21400019e+00, -1.22065586e+00, -1.22672832e+00,\n",
       "        -1.23091929e+00, -1.23521028e+00, -1.23753744e+00, -1.24191404e+00,\n",
       "        -1.25072968e+00, -1.26926828e+00, -1.27127697e+00, -1.27863039e+00,\n",
       "        -1.27864071e+00, -1.29116722e+00, -1.29479326e+00, -1.29720422e+00,\n",
       "        -1.29819322e+00, -1.29909008e+00, -1.30319308e+00, -1.30667518e+00,\n",
       "        -1.31463103e+00, -1.31611765e+00, -1.33554693e+00, -1.34574606e+00,\n",
       "        -1.35009529e+00, -1.35191458e+00, -1.36807931e+00, -1.36899910e+00,\n",
       "        -1.37055498e+00, -1.37707751e+00, -1.38258905e+00, -1.41219807e+00,\n",
       "        -1.41484191e+00, -1.41721095e+00, -1.41843810e+00, -1.42337948e+00,\n",
       "        -1.42508305e+00, -1.43192644e+00, -1.44237502e+00, -1.44238297e+00,\n",
       "        -1.44854240e+00, -1.45193213e+00, -1.45405395e+00, -1.45549919e+00,\n",
       "        -1.46329100e+00, -1.47113847e+00, -1.47281847e+00, -1.47452349e+00,\n",
       "        -1.48366297e+00, -1.48630681e+00, -1.48700513e+00, -1.48800048e+00,\n",
       "        -1.48867585e+00, -1.49497114e+00, -1.49995854e+00, -1.50556191e+00,\n",
       "        -1.50918795e+00, -1.51159891e+00, -1.51194120e+00, -1.51348477e+00,\n",
       "        -1.51384787e+00, -1.52263373e+00, -1.52339703e+00, -1.52551885e+00,\n",
       "        -1.52809363e+00, -1.52902572e+00, -1.53797642e+00, -1.54260337e+00,\n",
       "        -1.54428337e+00, -1.55777171e+00, -1.55946538e+00, -1.56014075e+00,\n",
       "        -1.56029821e+00, -1.56448998e+00, -1.57142344e+00, -1.57485623e+00,\n",
       "        -1.57722527e+00, -1.57738273e+00, -1.58247400e+00, -1.58340610e+00,\n",
       "        -1.59332724e+00, -1.59409863e+00, -1.59486192e+00, -1.60944132e+00,\n",
       "        -1.62652584e+00, -1.62659276e+00, -1.63093028e+00, -1.63160564e+00,\n",
       "        -1.63790094e+00, -1.65452870e+00, -1.65487099e+00, -1.65498546e+00,\n",
       "        -1.67768569e+00, -1.68891818e+00, -1.69287141e+00, -1.69477021e+00,\n",
       "        -1.70139982e+00, -1.70239518e+00, -1.70741977e+00, -1.71094264e+00,\n",
       "        -1.71848434e+00, -1.71995660e+00, -1.72802716e+00, -1.72823461e+00,\n",
       "        -1.73440199e+00, -1.73625703e+00, -1.73702843e+00, -1.74915058e+00,\n",
       "        -1.75098396e+00, -1.75411295e+00, -1.76038308e+00, -1.77286472e+00,\n",
       "        -1.77386007e+00, -1.77746760e+00, -1.77888467e+00, -1.79094459e+00,\n",
       "        -1.79369923e+00, -1.79504754e+00, -1.79745849e+00, -1.79969950e+00,\n",
       "        -1.80586689e+00, -1.80772193e+00, -1.82244885e+00, -1.82295141e+00,\n",
       "        -1.83580120e+00, -1.83953337e+00, -1.86516413e+00, -1.86892339e+00,\n",
       "        -1.87918682e+00, -1.88600791e+00, -1.89627134e+00, -1.90726610e+00,\n",
       "        -1.90916490e+00, -1.93662903e+00, -1.95371355e+00, -1.96354527e+00]))"
      ]
     },
     "execution_count": 35,
     "metadata": {},
     "output_type": "execute_result"
    }
   ],
   "source": [
    "from sklearn.metrics import roc_curve\n",
    "fpr, tpr, thresholds = roc_curve(y, model.decision_function(X))\n",
    "fpr, tpr, thresholds\n"
   ]
  },
  {
   "cell_type": "code",
   "execution_count": 36,
   "metadata": {},
   "outputs": [
    {
     "data": {
      "image/png": "[encoded data removed]",
      "text/plain": [
       "<Figure size 640x480 with 1 Axes>"
      ]
     },
     "metadata": {},
     "output_type": "display_data"
    }
   ],
   "source": [
    "#ROC 커브\n",
    "%matplotlib inline\n",
    "import matplotlib.pyplot as plt\n",
    "plt.plot(fpr, tpr, 'o-', label=\"LOGIT\")\n",
    "plt.plot([0, 1], [0, 1], 'k--', label=\"random guess\")\n",
    "plt.plot([fpr], [tpr], 'ro', ms=20)\n",
    "plt.xlabel('False Positive Rate')\n",
    "plt.ylabel('True Positive Rate')\n",
    "plt.legend()\n",
    "plt.show()"
   ]
  },
  {
   "attachments": {},
   "cell_type": "markdown",
   "metadata": {},
   "source": [
    "##### 3.3 classification report "
   ]
  },
  {
   "cell_type": "code",
   "execution_count": 37,
   "metadata": {},
   "outputs": [
    {
     "name": "stdout",
     "output_type": "stream",
     "text": [
      "Accuracy: 0.8064516129032258\n",
      "              precision    recall  f1-score   support\n",
      "\n",
      "           0       0.75      0.91      0.82       170\n",
      "           1       0.88      0.71      0.79       171\n",
      "\n",
      "    accuracy                           0.81       341\n",
      "   macro avg       0.82      0.81      0.80       341\n",
      "weighted avg       0.82      0.81      0.80       341\n",
      "\n"
     ]
    }
   ],
   "source": [
    "from sklearn.metrics import accuracy_score, classification_report\n",
    "pred = model.predict(X_test)\n",
    "score = accuracy_score(y_test, pred)\n",
    "report =classification_report(y_test, pred)\n",
    "print(\"Accuracy:\", score)\n",
    "print(report)"
   ]
  },
  {
   "attachments": {},
   "cell_type": "markdown",
   "metadata": {},
   "source": [
    "#### 5. Tree 모형"
   ]
  },
  {
   "cell_type": "code",
   "execution_count": 38,
   "metadata": {},
   "outputs": [
    {
     "name": "stdout",
     "output_type": "stream",
     "text": [
      "학습용: 0.9346069066862601\n",
      "검증용: 0.7214076246334311\n"
     ]
    }
   ],
   "source": [
    "from sklearn.tree import DecisionTreeClassifier\n",
    "model = DecisionTreeClassifier(random_state=0)\n",
    "model.fit(X_train_scaled, y_train)\n",
    "print(\"학습용:\",model.score(X_train_scaled, y_train))\n",
    "print(\"검증용:\",model.score(X_test_scaled, y_test))\n"
   ]
  },
  {
   "cell_type": "code",
   "execution_count": 39,
   "metadata": {},
   "outputs": [
    {
     "name": "stdout",
     "output_type": "stream",
     "text": [
      "학습용: 0.804555473916238\n",
      "검증용: 0.8152492668621701\n"
     ]
    }
   ],
   "source": [
    "#max_depth 가지치기\n",
    "tree = DecisionTreeClassifier(max_depth=2, random_state=10)\n",
    "tree.fit(X_train_scaled, y_train)\n",
    "score_tr=tree.score(X_train_scaled, y_train)\n",
    "score_te=tree.score(X_test_scaled, y_test)\n",
    "print(\"학습용:\",score_tr)\n",
    "print(\"검증용:\",score_te)\n",
    "\n",
    "result_tr.append(score_tr)\n",
    "result_te.append(score_te)"
   ]
  },
  {
   "cell_type": "code",
   "execution_count": 40,
   "metadata": {},
   "outputs": [
    {
     "ename": "ModuleNotFoundError",
     "evalue": "No module named 'pydotplus'",
     "output_type": "error",
     "traceback": [
      "\u001b[1;31m---------------------------------------------------------------------------\u001b[0m",
      "\u001b[1;31mModuleNotFoundError\u001b[0m                       Traceback (most recent call last)",
      "\u001b[1;32m~\\AppData\\Local\\Temp\\ipykernel_26432\\1446877931.py\u001b[0m in \u001b[0;36m<module>\u001b[1;34m\u001b[0m\n\u001b[0;32m      1\u001b[0m \u001b[1;31m#트리그래프\u001b[0m\u001b[1;33m\u001b[0m\u001b[1;33m\u001b[0m\u001b[0m\n\u001b[0;32m      2\u001b[0m \u001b[1;32mfrom\u001b[0m \u001b[0msklearn\u001b[0m\u001b[1;33m.\u001b[0m\u001b[0mtree\u001b[0m \u001b[1;32mimport\u001b[0m \u001b[0mexport_graphviz\u001b[0m\u001b[1;33m\u001b[0m\u001b[1;33m\u001b[0m\u001b[0m\n\u001b[1;32m----> 3\u001b[1;33m \u001b[1;32mimport\u001b[0m \u001b[0mpydotplus\u001b[0m\u001b[1;33m\u001b[0m\u001b[1;33m\u001b[0m\u001b[0m\n\u001b[0m\u001b[0;32m      4\u001b[0m \u001b[1;32mfrom\u001b[0m \u001b[0mIPython\u001b[0m\u001b[1;33m.\u001b[0m\u001b[0mdisplay\u001b[0m \u001b[1;32mimport\u001b[0m \u001b[0mImage\u001b[0m\u001b[1;33m\u001b[0m\u001b[1;33m\u001b[0m\u001b[0m\n\u001b[0;32m      5\u001b[0m dot_data = export_graphviz(tree, out_file=None,\n",
      "\u001b[1;31mModuleNotFoundError\u001b[0m: No module named 'pydotplus'"
     ]
    }
   ],
   "source": [
    "#트리그래프\n",
    "from sklearn.tree import export_graphviz\n",
    "import pydotplus\n",
    "from IPython.display import Image\n",
    "dot_data = export_graphviz(tree, out_file=None,\n",
    "feature_names=cols, class_names=[\"0\",\"1\"], filled=True,\n",
    "rounded=True, special_characters=True)\n",
    "graph = pydotplus.graph_from_dot_data(dot_data)\n",
    "Image(graph.create_png())"
   ]
  },
  {
   "attachments": {},
   "cell_type": "markdown",
   "metadata": {},
   "source": [
    "##### 5.1 ROC 커브 /Confusion_matrix "
   ]
  },
  {
   "cell_type": "code",
   "execution_count": 42,
   "metadata": {},
   "outputs": [
    {
     "data": {
      "text/plain": [
       "(array([0.        , 0.        , 0.00117509, 0.00470035, 0.00940071,\n",
       "        0.01762632, 0.0199765 , 0.02467685, 0.0787309 , 0.08813161,\n",
       "        0.09165687, 0.10810811, 0.14571093, 0.15158637, 0.18683901,\n",
       "        0.21504113, 0.23266745, 0.23971798, 0.2479436 , 0.26086957,\n",
       "        1.        ]),\n",
       " array([0.        , 0.82491187, 0.8319624 , 0.84253819, 0.85428907,\n",
       "        0.87074031, 0.87426557, 0.88014101, 0.93419506, 0.94124559,\n",
       "        0.94359577, 0.95299647, 0.97179788, 0.97414806, 0.98589894,\n",
       "        0.99294947, 0.99647474, 0.99764982, 0.99882491, 1.        ,\n",
       "        1.        ]),\n",
       " array([2.        , 1.        , 0.85714286, 0.75      , 0.71428571,\n",
       "        0.66666667, 0.6       , 0.55555556, 0.5       , 0.42857143,\n",
       "        0.4       , 0.36363636, 0.33333333, 0.28571429, 0.25      ,\n",
       "        0.2       , 0.16666667, 0.14285714, 0.125     , 0.08333333,\n",
       "        0.        ]))"
      ]
     },
     "execution_count": 42,
     "metadata": {},
     "output_type": "execute_result"
    }
   ],
   "source": [
    "from sklearn.tree import DecisionTreeClassifier \n",
    "model=DecisionTreeClassifier().fit(X,y)\n",
    "y_hat=model.predict(X)\n",
    "fpr,tpr,thresholds=roc_curve(y, model.predict_proba(X)[:,1])\n",
    "fpr,tpr,thresholds "
   ]
  },
  {
   "cell_type": "code",
   "execution_count": 43,
   "metadata": {},
   "outputs": [
    {
     "data": {
      "text/plain": [
       "array([[830,  21],\n",
       "       [102, 749]], dtype=int64)"
      ]
     },
     "execution_count": 43,
     "metadata": {},
     "output_type": "execute_result"
    }
   ],
   "source": [
    "from sklearn.metrics import confusion_matrix\n",
    "confusion_matrix(y, y_hat,labels=[0,1])"
   ]
  },
  {
   "cell_type": "code",
   "execution_count": 44,
   "metadata": {},
   "outputs": [
    {
     "name": "stdout",
     "output_type": "stream",
     "text": [
      "fall-out : 0.024676850763807285\n",
      "recall : 0.8801410105757932\n"
     ]
    }
   ],
   "source": [
    "# 특이도, 민감도 산출\n",
    "fpr1 = 21/(830+21) \n",
    "tpr1 = 749/(102+749)  \n",
    "print(\"fall-out :\",fpr1)\n",
    "print(\"recall :\",tpr1)"
   ]
  },
  {
   "cell_type": "code",
   "execution_count": 45,
   "metadata": {},
   "outputs": [
    {
     "data": {
      "image/png": "[encoded data removed]",
      "text/plain": [
       "<Figure size 640x480 with 1 Axes>"
      ]
     },
     "metadata": {},
     "output_type": "display_data"
    }
   ],
   "source": [
    "#ROC 커브\n",
    "import matplotlib.pyplot as plt \n",
    "plt.plot(fpr, tpr, 'o-', label='tree')\n",
    "plt.plot([0,1],[0,1],'k--',label='random guess')\n",
    "plt.plot([fpr], [tpr], 'ro', ms=20)\n",
    "plt.xlabel('FPR')\n",
    "plt.ylabel('TPR')\n",
    "plt.legend()\n",
    "plt.show()"
   ]
  },
  {
   "attachments": {},
   "cell_type": "markdown",
   "metadata": {},
   "source": [
    "##### 5.2 classification report "
   ]
  },
  {
   "cell_type": "code",
   "execution_count": 46,
   "metadata": {},
   "outputs": [
    {
     "name": "stdout",
     "output_type": "stream",
     "text": [
      "Accuracy: 0.9266862170087976\n",
      "              precision    recall  f1-score   support\n",
      "\n",
      "           0       0.88      0.99      0.93       170\n",
      "           1       0.99      0.86      0.92       171\n",
      "\n",
      "    accuracy                           0.93       341\n",
      "   macro avg       0.93      0.93      0.93       341\n",
      "weighted avg       0.93      0.93      0.93       341\n",
      "\n"
     ]
    }
   ],
   "source": [
    "from sklearn.metrics import accuracy_score, classification_report\n",
    "pred = model.predict(X_test)\n",
    "score = accuracy_score(y_test, pred)\n",
    "report =classification_report(y_test, pred)\n",
    "print(\"Accuracy:\", score)\n",
    "print(report)"
   ]
  },
  {
   "attachments": {},
   "cell_type": "markdown",
   "metadata": {},
   "source": [
    "#### 5.3 교차검증"
   ]
  },
  {
   "cell_type": "code",
   "execution_count": 47,
   "metadata": {},
   "outputs": [
    {
     "data": {
      "text/plain": [
       "GridSearchCV(cv=3,\n",
       "             estimator=DecisionTreeClassifier(max_depth=2, random_state=10),\n",
       "             param_grid={'criterion': ['gini', 'entropy'],\n",
       "                         'max_depth': [1, 2, 3, 4, 5, 6, 7, 8, 9, 10],\n",
       "                         'max_leaf_nodes': [2, 3, 4, 5, 6, 7, 8, 9, 10],\n",
       "                         'min_samples_split': [2, 3, 4]})"
      ]
     },
     "execution_count": 47,
     "metadata": {},
     "output_type": "execute_result"
    }
   ],
   "source": [
    "# 최적 요인 탐색\n",
    "from sklearn.model_selection import GridSearchCV\n",
    "params ={\n",
    "    'max_depth': list(range(1, 11)),\n",
    "    'criterion': ['gini','entropy'],\n",
    "    'max_leaf_nodes': list(range(2, 11)),\n",
    "    'min_samples_split': [2, 3, 4]\n",
    "}\n",
    "gcv = GridSearchCV(tree, params, cv=3)\n",
    "gcv.fit(X,y)\n"
   ]
  },
  {
   "cell_type": "code",
   "execution_count": 48,
   "metadata": {},
   "outputs": [
    {
     "data": {
      "text/plain": [
       "[{'criterion': 'gini',\n",
       "  'max_depth': 1,\n",
       "  'max_leaf_nodes': 2,\n",
       "  'min_samples_split': 2},\n",
       " {'criterion': 'gini',\n",
       "  'max_depth': 1,\n",
       "  'max_leaf_nodes': 2,\n",
       "  'min_samples_split': 3},\n",
       " {'criterion': 'gini',\n",
       "  'max_depth': 1,\n",
       "  'max_leaf_nodes': 2,\n",
       "  'min_samples_split': 4},\n",
       " {'criterion': 'gini',\n",
       "  'max_depth': 1,\n",
       "  'max_leaf_nodes': 3,\n",
       "  'min_samples_split': 2},\n",
       " {'criterion': 'gini',\n",
       "  'max_depth': 1,\n",
       "  'max_leaf_nodes': 3,\n",
       "  'min_samples_split': 3}]"
      ]
     },
     "execution_count": 48,
     "metadata": {},
     "output_type": "execute_result"
    }
   ],
   "source": [
    "gcv.cv_results_[\"params\"][:5]"
   ]
  },
  {
   "cell_type": "code",
   "execution_count": 49,
   "metadata": {},
   "outputs": [
    {
     "data": {
      "text/plain": [
       "array([0.79962077, 0.79962077, 0.79962077, 0.79962077, 0.79962077,\n",
       "       0.79962077, 0.79962077, 0.79962077, 0.79962077, 0.79962077])"
      ]
     },
     "execution_count": 49,
     "metadata": {},
     "output_type": "execute_result"
    }
   ],
   "source": [
    "scores=gcv.cv_results_[\"mean_test_score\"]\n",
    "scores[:10]"
   ]
  },
  {
   "cell_type": "code",
   "execution_count": 50,
   "metadata": {},
   "outputs": [
    {
     "name": "stdout",
     "output_type": "stream",
     "text": [
      "0.7996207698868106\n"
     ]
    },
    {
     "data": {
      "text/plain": [
       "[<matplotlib.lines.Line2D at 0x1eb58c7fc10>]"
      ]
     },
     "execution_count": 50,
     "metadata": {},
     "output_type": "execute_result"
    },
    {
     "data": {
      "image/png": "[encoded data removed]",
      "text/plain": [
       "<Figure size 640x480 with 1 Axes>"
      ]
     },
     "metadata": {},
     "output_type": "display_data"
    }
   ],
   "source": [
    "%matplotlib inline\n",
    "import matplotlib.pyplot as plt\n",
    "print(max(scores))\n",
    "plt.plot(scores)"
   ]
  },
  {
   "cell_type": "code",
   "execution_count": 51,
   "metadata": {},
   "outputs": [
    {
     "name": "stdout",
     "output_type": "stream",
     "text": [
      "0.7996207698868106\n",
      "{'criterion': 'gini', 'max_depth': 1, 'max_leaf_nodes': 2, 'min_samples_split': 2}\n",
      "DecisionTreeClassifier(max_depth=1, max_leaf_nodes=2, random_state=10)\n"
     ]
    }
   ],
   "source": [
    "# 최적 요인\n",
    "print(gcv.best_score_) \n",
    "print(gcv.best_params_) \n",
    "print(gcv.best_estimator_)"
   ]
  },
  {
   "cell_type": "code",
   "execution_count": 52,
   "metadata": {},
   "outputs": [
    {
     "name": "stdout",
     "output_type": "stream",
     "text": [
      "[0.86549708 0.86549708 0.81176471 0.81764706 0.81176471 0.84117647\n",
      " 0.8        0.81764706 0.71764706 0.7       ]\n",
      "0.8048641210870313\n",
      "0.8654970760233918\n"
     ]
    }
   ],
   "source": [
    "#최적 요인 적용 / 교차 검증 10회 \n",
    "from sklearn.model_selection import cross_val_score\n",
    "import numpy as np\n",
    "tree = DecisionTreeClassifier(criterion='gini', max_depth=1,\n",
    "max_leaf_nodes=2, min_samples_split=2, random_state=0)\n",
    "result=cross_val_score(tree, X, y, cv=10) \n",
    "print(result)\n",
    "print(np.mean(result))\n",
    "print(np.max(result))"
   ]
  },
  {
   "attachments": {},
   "cell_type": "markdown",
   "metadata": {},
   "source": [
    "#### 5.3 RF (랜덤포레스트)"
   ]
  },
  {
   "cell_type": "code",
   "execution_count": 53,
   "metadata": {},
   "outputs": [
    {
     "name": "stdout",
     "output_type": "stream",
     "text": [
      "학습용: 0.8251285819250551\n",
      "검증용: 0.8181818181818182\n"
     ]
    }
   ],
   "source": [
    "from sklearn.ensemble import RandomForestClassifier\n",
    "forest = RandomForestClassifier(n_estimators=100,random_state=10,max_depth=4)\n",
    "forest.fit(X_train_scaled, y_train)\n",
    "score_tr=forest.score(X_train_scaled, y_train)\n",
    "score_te=forest.score(X_test_scaled, y_test)\n",
    "print(\"학습용:\",score_tr)\n",
    "print(\"검증용:\",score_te)\n",
    "\n",
    "result_tr.append(score_tr)\n",
    "result_te.append(score_te)"
   ]
  },
  {
   "cell_type": "code",
   "execution_count": 54,
   "metadata": {},
   "outputs": [
    {
     "name": "stdout",
     "output_type": "stream",
     "text": [
      "Accuracy: 0.9266862170087976\n",
      "              precision    recall  f1-score   support\n",
      "\n",
      "           0       0.88      0.99      0.93       170\n",
      "           1       0.99      0.86      0.92       171\n",
      "\n",
      "    accuracy                           0.93       341\n",
      "   macro avg       0.93      0.93      0.93       341\n",
      "weighted avg       0.93      0.93      0.93       341\n",
      "\n"
     ]
    }
   ],
   "source": [
    "from sklearn.metrics import accuracy_score, classification_report\n",
    "pred = model.predict(X_test)\n",
    "score = accuracy_score(y_test, pred)\n",
    "report =classification_report(y_test, pred)\n",
    "print(\"Accuracy:\", score)\n",
    "print(report)"
   ]
  },
  {
   "cell_type": "code",
   "execution_count": null,
   "metadata": {},
   "outputs": [],
   "source": []
  },
  {
   "cell_type": "code",
   "execution_count": null,
   "metadata": {},
   "outputs": [],
   "source": []
  },
  {
   "cell_type": "code",
   "execution_count": null,
   "metadata": {},
   "outputs": [],
   "source": []
  },
  {
   "cell_type": "code",
   "execution_count": null,
   "metadata": {},
   "outputs": [],
   "source": []
  },
  {
   "cell_type": "code",
   "execution_count": null,
   "metadata": {},
   "outputs": [],
   "source": []
  },
  {
   "attachments": {},
   "cell_type": "markdown",
   "metadata": {},
   "source": [
    "#### 6. KNN (사례기반추론)"
   ]
  },
  {
   "cell_type": "code",
   "execution_count": 55,
   "metadata": {},
   "outputs": [
    {
     "name": "stdout",
     "output_type": "stream",
     "text": [
      "최적의 K : 1\n",
      "최고 Score : 0.7096774193548387\n",
      "최적의 K : 2\n",
      "최고 Score : 0.718475073313783\n"
     ]
    },
    {
     "name": "stderr",
     "output_type": "stream",
     "text": [
      "c:\\Anaconda3\\lib\\site-packages\\sklearn\\neighbors\\_classification.py:228: FutureWarning: Unlike other reduction functions (e.g. `skew`, `kurtosis`), the default behavior of `mode` typically preserves the axis it acts along. In SciPy 1.11.0, this behavior will change: the default value of `keepdims` will become False, the `axis` over which the statistic is taken will be eliminated, and the value None will no longer be accepted. Set `keepdims` to True or False to avoid this warning.\n",
      "  mode, _ = stats.mode(_y[neigh_ind, k], axis=1)\n",
      "c:\\Anaconda3\\lib\\site-packages\\sklearn\\neighbors\\_classification.py:228: FutureWarning: Unlike other reduction functions (e.g. `skew`, `kurtosis`), the default behavior of `mode` typically preserves the axis it acts along. In SciPy 1.11.0, this behavior will change: the default value of `keepdims` will become False, the `axis` over which the statistic is taken will be eliminated, and the value None will no longer be accepted. Set `keepdims` to True or False to avoid this warning.\n",
      "  mode, _ = stats.mode(_y[neigh_ind, k], axis=1)\n",
      "c:\\Anaconda3\\lib\\site-packages\\sklearn\\neighbors\\_classification.py:228: FutureWarning: Unlike other reduction functions (e.g. `skew`, `kurtosis`), the default behavior of `mode` typically preserves the axis it acts along. In SciPy 1.11.0, this behavior will change: the default value of `keepdims` will become False, the `axis` over which the statistic is taken will be eliminated, and the value None will no longer be accepted. Set `keepdims` to True or False to avoid this warning.\n",
      "  mode, _ = stats.mode(_y[neigh_ind, k], axis=1)\n",
      "c:\\Anaconda3\\lib\\site-packages\\sklearn\\neighbors\\_classification.py:228: FutureWarning: Unlike other reduction functions (e.g. `skew`, `kurtosis`), the default behavior of `mode` typically preserves the axis it acts along. In SciPy 1.11.0, this behavior will change: the default value of `keepdims` will become False, the `axis` over which the statistic is taken will be eliminated, and the value None will no longer be accepted. Set `keepdims` to True or False to avoid this warning.\n",
      "  mode, _ = stats.mode(_y[neigh_ind, k], axis=1)\n",
      "c:\\Anaconda3\\lib\\site-packages\\sklearn\\neighbors\\_classification.py:228: FutureWarning: Unlike other reduction functions (e.g. `skew`, `kurtosis`), the default behavior of `mode` typically preserves the axis it acts along. In SciPy 1.11.0, this behavior will change: the default value of `keepdims` will become False, the `axis` over which the statistic is taken will be eliminated, and the value None will no longer be accepted. Set `keepdims` to True or False to avoid this warning.\n",
      "  mode, _ = stats.mode(_y[neigh_ind, k], axis=1)\n",
      "c:\\Anaconda3\\lib\\site-packages\\sklearn\\neighbors\\_classification.py:228: FutureWarning: Unlike other reduction functions (e.g. `skew`, `kurtosis`), the default behavior of `mode` typically preserves the axis it acts along. In SciPy 1.11.0, this behavior will change: the default value of `keepdims` will become False, the `axis` over which the statistic is taken will be eliminated, and the value None will no longer be accepted. Set `keepdims` to True or False to avoid this warning.\n",
      "  mode, _ = stats.mode(_y[neigh_ind, k], axis=1)\n",
      "c:\\Anaconda3\\lib\\site-packages\\sklearn\\neighbors\\_classification.py:228: FutureWarning: Unlike other reduction functions (e.g. `skew`, `kurtosis`), the default behavior of `mode` typically preserves the axis it acts along. In SciPy 1.11.0, this behavior will change: the default value of `keepdims` will become False, the `axis` over which the statistic is taken will be eliminated, and the value None will no longer be accepted. Set `keepdims` to True or False to avoid this warning.\n",
      "  mode, _ = stats.mode(_y[neigh_ind, k], axis=1)\n",
      "c:\\Anaconda3\\lib\\site-packages\\sklearn\\neighbors\\_classification.py:228: FutureWarning: Unlike other reduction functions (e.g. `skew`, `kurtosis`), the default behavior of `mode` typically preserves the axis it acts along. In SciPy 1.11.0, this behavior will change: the default value of `keepdims` will become False, the `axis` over which the statistic is taken will be eliminated, and the value None will no longer be accepted. Set `keepdims` to True or False to avoid this warning.\n",
      "  mode, _ = stats.mode(_y[neigh_ind, k], axis=1)\n"
     ]
    },
    {
     "name": "stdout",
     "output_type": "stream",
     "text": [
      "최적의 K : 3\n",
      "최고 Score : 0.7565982404692082\n",
      "최적의 K : 3\n",
      "최고 Score : 0.7565982404692082\n",
      "최적의 K : 3\n",
      "최고 Score : 0.7565982404692082\n",
      "최적의 K : 3\n",
      "최고 Score : 0.7565982404692082\n"
     ]
    },
    {
     "name": "stderr",
     "output_type": "stream",
     "text": [
      "c:\\Anaconda3\\lib\\site-packages\\sklearn\\neighbors\\_classification.py:228: FutureWarning: Unlike other reduction functions (e.g. `skew`, `kurtosis`), the default behavior of `mode` typically preserves the axis it acts along. In SciPy 1.11.0, this behavior will change: the default value of `keepdims` will become False, the `axis` over which the statistic is taken will be eliminated, and the value None will no longer be accepted. Set `keepdims` to True or False to avoid this warning.\n",
      "  mode, _ = stats.mode(_y[neigh_ind, k], axis=1)\n",
      "c:\\Anaconda3\\lib\\site-packages\\sklearn\\neighbors\\_classification.py:228: FutureWarning: Unlike other reduction functions (e.g. `skew`, `kurtosis`), the default behavior of `mode` typically preserves the axis it acts along. In SciPy 1.11.0, this behavior will change: the default value of `keepdims` will become False, the `axis` over which the statistic is taken will be eliminated, and the value None will no longer be accepted. Set `keepdims` to True or False to avoid this warning.\n",
      "  mode, _ = stats.mode(_y[neigh_ind, k], axis=1)\n",
      "c:\\Anaconda3\\lib\\site-packages\\sklearn\\neighbors\\_classification.py:228: FutureWarning: Unlike other reduction functions (e.g. `skew`, `kurtosis`), the default behavior of `mode` typically preserves the axis it acts along. In SciPy 1.11.0, this behavior will change: the default value of `keepdims` will become False, the `axis` over which the statistic is taken will be eliminated, and the value None will no longer be accepted. Set `keepdims` to True or False to avoid this warning.\n",
      "  mode, _ = stats.mode(_y[neigh_ind, k], axis=1)\n",
      "c:\\Anaconda3\\lib\\site-packages\\sklearn\\neighbors\\_classification.py:228: FutureWarning: Unlike other reduction functions (e.g. `skew`, `kurtosis`), the default behavior of `mode` typically preserves the axis it acts along. In SciPy 1.11.0, this behavior will change: the default value of `keepdims` will become False, the `axis` over which the statistic is taken will be eliminated, and the value None will no longer be accepted. Set `keepdims` to True or False to avoid this warning.\n",
      "  mode, _ = stats.mode(_y[neigh_ind, k], axis=1)\n",
      "c:\\Anaconda3\\lib\\site-packages\\sklearn\\neighbors\\_classification.py:228: FutureWarning: Unlike other reduction functions (e.g. `skew`, `kurtosis`), the default behavior of `mode` typically preserves the axis it acts along. In SciPy 1.11.0, this behavior will change: the default value of `keepdims` will become False, the `axis` over which the statistic is taken will be eliminated, and the value None will no longer be accepted. Set `keepdims` to True or False to avoid this warning.\n",
      "  mode, _ = stats.mode(_y[neigh_ind, k], axis=1)\n",
      "c:\\Anaconda3\\lib\\site-packages\\sklearn\\neighbors\\_classification.py:228: FutureWarning: Unlike other reduction functions (e.g. `skew`, `kurtosis`), the default behavior of `mode` typically preserves the axis it acts along. In SciPy 1.11.0, this behavior will change: the default value of `keepdims` will become False, the `axis` over which the statistic is taken will be eliminated, and the value None will no longer be accepted. Set `keepdims` to True or False to avoid this warning.\n",
      "  mode, _ = stats.mode(_y[neigh_ind, k], axis=1)\n",
      "c:\\Anaconda3\\lib\\site-packages\\sklearn\\neighbors\\_classification.py:228: FutureWarning: Unlike other reduction functions (e.g. `skew`, `kurtosis`), the default behavior of `mode` typically preserves the axis it acts along. In SciPy 1.11.0, this behavior will change: the default value of `keepdims` will become False, the `axis` over which the statistic is taken will be eliminated, and the value None will no longer be accepted. Set `keepdims` to True or False to avoid this warning.\n",
      "  mode, _ = stats.mode(_y[neigh_ind, k], axis=1)\n"
     ]
    },
    {
     "name": "stdout",
     "output_type": "stream",
     "text": [
      "최적의 K : 3\n",
      "최고 Score : 0.7565982404692082\n",
      "최적의 K : 3\n",
      "최고 Score : 0.7565982404692082\n",
      "최적의 K : 3\n",
      "최고 Score : 0.7565982404692082\n",
      "최적의 K : 3\n",
      "최고 Score : 0.7565982404692082\n"
     ]
    },
    {
     "name": "stderr",
     "output_type": "stream",
     "text": [
      "c:\\Anaconda3\\lib\\site-packages\\sklearn\\neighbors\\_classification.py:228: FutureWarning: Unlike other reduction functions (e.g. `skew`, `kurtosis`), the default behavior of `mode` typically preserves the axis it acts along. In SciPy 1.11.0, this behavior will change: the default value of `keepdims` will become False, the `axis` over which the statistic is taken will be eliminated, and the value None will no longer be accepted. Set `keepdims` to True or False to avoid this warning.\n",
      "  mode, _ = stats.mode(_y[neigh_ind, k], axis=1)\n",
      "c:\\Anaconda3\\lib\\site-packages\\sklearn\\neighbors\\_classification.py:228: FutureWarning: Unlike other reduction functions (e.g. `skew`, `kurtosis`), the default behavior of `mode` typically preserves the axis it acts along. In SciPy 1.11.0, this behavior will change: the default value of `keepdims` will become False, the `axis` over which the statistic is taken will be eliminated, and the value None will no longer be accepted. Set `keepdims` to True or False to avoid this warning.\n",
      "  mode, _ = stats.mode(_y[neigh_ind, k], axis=1)\n",
      "c:\\Anaconda3\\lib\\site-packages\\sklearn\\neighbors\\_classification.py:228: FutureWarning: Unlike other reduction functions (e.g. `skew`, `kurtosis`), the default behavior of `mode` typically preserves the axis it acts along. In SciPy 1.11.0, this behavior will change: the default value of `keepdims` will become False, the `axis` over which the statistic is taken will be eliminated, and the value None will no longer be accepted. Set `keepdims` to True or False to avoid this warning.\n",
      "  mode, _ = stats.mode(_y[neigh_ind, k], axis=1)\n",
      "c:\\Anaconda3\\lib\\site-packages\\sklearn\\neighbors\\_classification.py:228: FutureWarning: Unlike other reduction functions (e.g. `skew`, `kurtosis`), the default behavior of `mode` typically preserves the axis it acts along. In SciPy 1.11.0, this behavior will change: the default value of `keepdims` will become False, the `axis` over which the statistic is taken will be eliminated, and the value None will no longer be accepted. Set `keepdims` to True or False to avoid this warning.\n",
      "  mode, _ = stats.mode(_y[neigh_ind, k], axis=1)\n",
      "c:\\Anaconda3\\lib\\site-packages\\sklearn\\neighbors\\_classification.py:228: FutureWarning: Unlike other reduction functions (e.g. `skew`, `kurtosis`), the default behavior of `mode` typically preserves the axis it acts along. In SciPy 1.11.0, this behavior will change: the default value of `keepdims` will become False, the `axis` over which the statistic is taken will be eliminated, and the value None will no longer be accepted. Set `keepdims` to True or False to avoid this warning.\n",
      "  mode, _ = stats.mode(_y[neigh_ind, k], axis=1)\n"
     ]
    }
   ],
   "source": [
    "from sklearn.neighbors import KNeighborsClassifier\n",
    "import numpy as np\n",
    "train_rate = []\n",
    "test_rate = []\n",
    "neighbors = range(1, 11) \n",
    "for n in neighbors:\n",
    "    knn = KNeighborsClassifier(n_neighbors=n)\n",
    "    knn.fit(X_train_scaled, y_train)\n",
    "    train_rate.append(knn.score(X_train_scaled, y_train))\n",
    "    test_rate.append(knn.score(X_test_scaled, y_test))\n",
    "    test_arr=np.array(test_rate) \n",
    "    max_rate=np.max(test_arr) \n",
    "    idx=np.where(test_arr == max_rate)[0][0] \n",
    "    print(\"최적의 K :\",neighbors[idx])\n",
    "    print(\"최고 Score :\",test_rate[idx])\n"
   ]
  },
  {
   "cell_type": "code",
   "execution_count": 56,
   "metadata": {},
   "outputs": [
    {
     "data": {
      "text/plain": [
       "<matplotlib.legend.Legend at 0x1eb58f6dd30>"
      ]
     },
     "execution_count": 56,
     "metadata": {},
     "output_type": "execute_result"
    },
    {
     "data": {
      "image/png": "[encoded data removed]",
      "text/plain": [
       "<Figure size 640x480 with 1 Axes>"
      ]
     },
     "metadata": {},
     "output_type": "display_data"
    }
   ],
   "source": [
    "plt.rcParams[\"font.size\"]=15\n",
    "plt.plot(neighbors, train_rate, label=\"Train\")\n",
    "plt.plot(neighbors, test_rate, label=\"Test\")\n",
    "plt.title(\"KNN / mean_test_score\")\n",
    "plt.ylabel(\"Score\")\n",
    "plt.xlabel(\"이웃의 수\")\n",
    "plt.legend()"
   ]
  },
  {
   "cell_type": "code",
   "execution_count": 57,
   "metadata": {},
   "outputs": [
    {
     "name": "stdout",
     "output_type": "stream",
     "text": [
      "학습용: 0.8434974283614989\n",
      "검증용: 0.7565982404692082\n"
     ]
    },
    {
     "name": "stderr",
     "output_type": "stream",
     "text": [
      "c:\\Anaconda3\\lib\\site-packages\\sklearn\\neighbors\\_classification.py:228: FutureWarning: Unlike other reduction functions (e.g. `skew`, `kurtosis`), the default behavior of `mode` typically preserves the axis it acts along. In SciPy 1.11.0, this behavior will change: the default value of `keepdims` will become False, the `axis` over which the statistic is taken will be eliminated, and the value None will no longer be accepted. Set `keepdims` to True or False to avoid this warning.\n",
      "  mode, _ = stats.mode(_y[neigh_ind, k], axis=1)\n",
      "c:\\Anaconda3\\lib\\site-packages\\sklearn\\neighbors\\_classification.py:228: FutureWarning: Unlike other reduction functions (e.g. `skew`, `kurtosis`), the default behavior of `mode` typically preserves the axis it acts along. In SciPy 1.11.0, this behavior will change: the default value of `keepdims` will become False, the `axis` over which the statistic is taken will be eliminated, and the value None will no longer be accepted. Set `keepdims` to True or False to avoid this warning.\n",
      "  mode, _ = stats.mode(_y[neigh_ind, k], axis=1)\n"
     ]
    }
   ],
   "source": [
    "knn = KNeighborsClassifier(n_neighbors=3)\n",
    "knn.fit(X_train_scaled, y_train)\n",
    "score_tr=knn.score(X_train_scaled, y_train)\n",
    "score_te=knn.score(X_test_scaled, y_test)\n",
    "print(\"학습용:\",score_tr)\n",
    "print(\"검증용:\",score_te)\n",
    "\n",
    "\n",
    "result_tr.append(score_tr)\n",
    "result_te.append(score_te)\n"
   ]
  },
  {
   "attachments": {},
   "cell_type": "markdown",
   "metadata": {},
   "source": [
    "#### 6.1 교차검증"
   ]
  },
  {
   "cell_type": "code",
   "execution_count": 58,
   "metadata": {},
   "outputs": [
    {
     "name": "stderr",
     "output_type": "stream",
     "text": [
      "c:\\Anaconda3\\lib\\site-packages\\sklearn\\neighbors\\_classification.py:228: FutureWarning: Unlike other reduction functions (e.g. `skew`, `kurtosis`), the default behavior of `mode` typically preserves the axis it acts along. In SciPy 1.11.0, this behavior will change: the default value of `keepdims` will become False, the `axis` over which the statistic is taken will be eliminated, and the value None will no longer be accepted. Set `keepdims` to True or False to avoid this warning.\n",
      "  mode, _ = stats.mode(_y[neigh_ind, k], axis=1)\n",
      "c:\\Anaconda3\\lib\\site-packages\\sklearn\\neighbors\\_classification.py:228: FutureWarning: Unlike other reduction functions (e.g. `skew`, `kurtosis`), the default behavior of `mode` typically preserves the axis it acts along. In SciPy 1.11.0, this behavior will change: the default value of `keepdims` will become False, the `axis` over which the statistic is taken will be eliminated, and the value None will no longer be accepted. Set `keepdims` to True or False to avoid this warning.\n",
      "  mode, _ = stats.mode(_y[neigh_ind, k], axis=1)\n",
      "c:\\Anaconda3\\lib\\site-packages\\sklearn\\neighbors\\_classification.py:228: FutureWarning: Unlike other reduction functions (e.g. `skew`, `kurtosis`), the default behavior of `mode` typically preserves the axis it acts along. In SciPy 1.11.0, this behavior will change: the default value of `keepdims` will become False, the `axis` over which the statistic is taken will be eliminated, and the value None will no longer be accepted. Set `keepdims` to True or False to avoid this warning.\n",
      "  mode, _ = stats.mode(_y[neigh_ind, k], axis=1)\n",
      "c:\\Anaconda3\\lib\\site-packages\\sklearn\\neighbors\\_classification.py:228: FutureWarning: Unlike other reduction functions (e.g. `skew`, `kurtosis`), the default behavior of `mode` typically preserves the axis it acts along. In SciPy 1.11.0, this behavior will change: the default value of `keepdims` will become False, the `axis` over which the statistic is taken will be eliminated, and the value None will no longer be accepted. Set `keepdims` to True or False to avoid this warning.\n",
      "  mode, _ = stats.mode(_y[neigh_ind, k], axis=1)\n",
      "c:\\Anaconda3\\lib\\site-packages\\sklearn\\neighbors\\_classification.py:228: FutureWarning: Unlike other reduction functions (e.g. `skew`, `kurtosis`), the default behavior of `mode` typically preserves the axis it acts along. In SciPy 1.11.0, this behavior will change: the default value of `keepdims` will become False, the `axis` over which the statistic is taken will be eliminated, and the value None will no longer be accepted. Set `keepdims` to True or False to avoid this warning.\n",
      "  mode, _ = stats.mode(_y[neigh_ind, k], axis=1)\n",
      "c:\\Anaconda3\\lib\\site-packages\\sklearn\\neighbors\\_classification.py:228: FutureWarning: Unlike other reduction functions (e.g. `skew`, `kurtosis`), the default behavior of `mode` typically preserves the axis it acts along. In SciPy 1.11.0, this behavior will change: the default value of `keepdims` will become False, the `axis` over which the statistic is taken will be eliminated, and the value None will no longer be accepted. Set `keepdims` to True or False to avoid this warning.\n",
      "  mode, _ = stats.mode(_y[neigh_ind, k], axis=1)\n",
      "c:\\Anaconda3\\lib\\site-packages\\sklearn\\neighbors\\_classification.py:228: FutureWarning: Unlike other reduction functions (e.g. `skew`, `kurtosis`), the default behavior of `mode` typically preserves the axis it acts along. In SciPy 1.11.0, this behavior will change: the default value of `keepdims` will become False, the `axis` over which the statistic is taken will be eliminated, and the value None will no longer be accepted. Set `keepdims` to True or False to avoid this warning.\n",
      "  mode, _ = stats.mode(_y[neigh_ind, k], axis=1)\n",
      "c:\\Anaconda3\\lib\\site-packages\\sklearn\\neighbors\\_classification.py:228: FutureWarning: Unlike other reduction functions (e.g. `skew`, `kurtosis`), the default behavior of `mode` typically preserves the axis it acts along. In SciPy 1.11.0, this behavior will change: the default value of `keepdims` will become False, the `axis` over which the statistic is taken will be eliminated, and the value None will no longer be accepted. Set `keepdims` to True or False to avoid this warning.\n",
      "  mode, _ = stats.mode(_y[neigh_ind, k], axis=1)\n",
      "c:\\Anaconda3\\lib\\site-packages\\sklearn\\neighbors\\_classification.py:228: FutureWarning: Unlike other reduction functions (e.g. `skew`, `kurtosis`), the default behavior of `mode` typically preserves the axis it acts along. In SciPy 1.11.0, this behavior will change: the default value of `keepdims` will become False, the `axis` over which the statistic is taken will be eliminated, and the value None will no longer be accepted. Set `keepdims` to True or False to avoid this warning.\n",
      "  mode, _ = stats.mode(_y[neigh_ind, k], axis=1)\n",
      "c:\\Anaconda3\\lib\\site-packages\\sklearn\\neighbors\\_classification.py:228: FutureWarning: Unlike other reduction functions (e.g. `skew`, `kurtosis`), the default behavior of `mode` typically preserves the axis it acts along. In SciPy 1.11.0, this behavior will change: the default value of `keepdims` will become False, the `axis` over which the statistic is taken will be eliminated, and the value None will no longer be accepted. Set `keepdims` to True or False to avoid this warning.\n",
      "  mode, _ = stats.mode(_y[neigh_ind, k], axis=1)\n",
      "c:\\Anaconda3\\lib\\site-packages\\sklearn\\neighbors\\_classification.py:228: FutureWarning: Unlike other reduction functions (e.g. `skew`, `kurtosis`), the default behavior of `mode` typically preserves the axis it acts along. In SciPy 1.11.0, this behavior will change: the default value of `keepdims` will become False, the `axis` over which the statistic is taken will be eliminated, and the value None will no longer be accepted. Set `keepdims` to True or False to avoid this warning.\n",
      "  mode, _ = stats.mode(_y[neigh_ind, k], axis=1)\n",
      "c:\\Anaconda3\\lib\\site-packages\\sklearn\\neighbors\\_classification.py:228: FutureWarning: Unlike other reduction functions (e.g. `skew`, `kurtosis`), the default behavior of `mode` typically preserves the axis it acts along. In SciPy 1.11.0, this behavior will change: the default value of `keepdims` will become False, the `axis` over which the statistic is taken will be eliminated, and the value None will no longer be accepted. Set `keepdims` to True or False to avoid this warning.\n",
      "  mode, _ = stats.mode(_y[neigh_ind, k], axis=1)\n",
      "c:\\Anaconda3\\lib\\site-packages\\sklearn\\neighbors\\_classification.py:228: FutureWarning: Unlike other reduction functions (e.g. `skew`, `kurtosis`), the default behavior of `mode` typically preserves the axis it acts along. In SciPy 1.11.0, this behavior will change: the default value of `keepdims` will become False, the `axis` over which the statistic is taken will be eliminated, and the value None will no longer be accepted. Set `keepdims` to True or False to avoid this warning.\n",
      "  mode, _ = stats.mode(_y[neigh_ind, k], axis=1)\n",
      "c:\\Anaconda3\\lib\\site-packages\\sklearn\\neighbors\\_classification.py:228: FutureWarning: Unlike other reduction functions (e.g. `skew`, `kurtosis`), the default behavior of `mode` typically preserves the axis it acts along. In SciPy 1.11.0, this behavior will change: the default value of `keepdims` will become False, the `axis` over which the statistic is taken will be eliminated, and the value None will no longer be accepted. Set `keepdims` to True or False to avoid this warning.\n",
      "  mode, _ = stats.mode(_y[neigh_ind, k], axis=1)\n",
      "c:\\Anaconda3\\lib\\site-packages\\sklearn\\neighbors\\_classification.py:228: FutureWarning: Unlike other reduction functions (e.g. `skew`, `kurtosis`), the default behavior of `mode` typically preserves the axis it acts along. In SciPy 1.11.0, this behavior will change: the default value of `keepdims` will become False, the `axis` over which the statistic is taken will be eliminated, and the value None will no longer be accepted. Set `keepdims` to True or False to avoid this warning.\n",
      "  mode, _ = stats.mode(_y[neigh_ind, k], axis=1)\n",
      "c:\\Anaconda3\\lib\\site-packages\\sklearn\\neighbors\\_classification.py:228: FutureWarning: Unlike other reduction functions (e.g. `skew`, `kurtosis`), the default behavior of `mode` typically preserves the axis it acts along. In SciPy 1.11.0, this behavior will change: the default value of `keepdims` will become False, the `axis` over which the statistic is taken will be eliminated, and the value None will no longer be accepted. Set `keepdims` to True or False to avoid this warning.\n",
      "  mode, _ = stats.mode(_y[neigh_ind, k], axis=1)\n",
      "c:\\Anaconda3\\lib\\site-packages\\sklearn\\neighbors\\_classification.py:228: FutureWarning: Unlike other reduction functions (e.g. `skew`, `kurtosis`), the default behavior of `mode` typically preserves the axis it acts along. In SciPy 1.11.0, this behavior will change: the default value of `keepdims` will become False, the `axis` over which the statistic is taken will be eliminated, and the value None will no longer be accepted. Set `keepdims` to True or False to avoid this warning.\n",
      "  mode, _ = stats.mode(_y[neigh_ind, k], axis=1)\n",
      "c:\\Anaconda3\\lib\\site-packages\\sklearn\\neighbors\\_classification.py:228: FutureWarning: Unlike other reduction functions (e.g. `skew`, `kurtosis`), the default behavior of `mode` typically preserves the axis it acts along. In SciPy 1.11.0, this behavior will change: the default value of `keepdims` will become False, the `axis` over which the statistic is taken will be eliminated, and the value None will no longer be accepted. Set `keepdims` to True or False to avoid this warning.\n",
      "  mode, _ = stats.mode(_y[neigh_ind, k], axis=1)\n",
      "c:\\Anaconda3\\lib\\site-packages\\sklearn\\neighbors\\_classification.py:228: FutureWarning: Unlike other reduction functions (e.g. `skew`, `kurtosis`), the default behavior of `mode` typically preserves the axis it acts along. In SciPy 1.11.0, this behavior will change: the default value of `keepdims` will become False, the `axis` over which the statistic is taken will be eliminated, and the value None will no longer be accepted. Set `keepdims` to True or False to avoid this warning.\n",
      "  mode, _ = stats.mode(_y[neigh_ind, k], axis=1)\n",
      "c:\\Anaconda3\\lib\\site-packages\\sklearn\\neighbors\\_classification.py:228: FutureWarning: Unlike other reduction functions (e.g. `skew`, `kurtosis`), the default behavior of `mode` typically preserves the axis it acts along. In SciPy 1.11.0, this behavior will change: the default value of `keepdims` will become False, the `axis` over which the statistic is taken will be eliminated, and the value None will no longer be accepted. Set `keepdims` to True or False to avoid this warning.\n",
      "  mode, _ = stats.mode(_y[neigh_ind, k], axis=1)\n",
      "c:\\Anaconda3\\lib\\site-packages\\sklearn\\neighbors\\_classification.py:228: FutureWarning: Unlike other reduction functions (e.g. `skew`, `kurtosis`), the default behavior of `mode` typically preserves the axis it acts along. In SciPy 1.11.0, this behavior will change: the default value of `keepdims` will become False, the `axis` over which the statistic is taken will be eliminated, and the value None will no longer be accepted. Set `keepdims` to True or False to avoid this warning.\n",
      "  mode, _ = stats.mode(_y[neigh_ind, k], axis=1)\n",
      "c:\\Anaconda3\\lib\\site-packages\\sklearn\\neighbors\\_classification.py:228: FutureWarning: Unlike other reduction functions (e.g. `skew`, `kurtosis`), the default behavior of `mode` typically preserves the axis it acts along. In SciPy 1.11.0, this behavior will change: the default value of `keepdims` will become False, the `axis` over which the statistic is taken will be eliminated, and the value None will no longer be accepted. Set `keepdims` to True or False to avoid this warning.\n",
      "  mode, _ = stats.mode(_y[neigh_ind, k], axis=1)\n",
      "c:\\Anaconda3\\lib\\site-packages\\sklearn\\neighbors\\_classification.py:228: FutureWarning: Unlike other reduction functions (e.g. `skew`, `kurtosis`), the default behavior of `mode` typically preserves the axis it acts along. In SciPy 1.11.0, this behavior will change: the default value of `keepdims` will become False, the `axis` over which the statistic is taken will be eliminated, and the value None will no longer be accepted. Set `keepdims` to True or False to avoid this warning.\n",
      "  mode, _ = stats.mode(_y[neigh_ind, k], axis=1)\n",
      "c:\\Anaconda3\\lib\\site-packages\\sklearn\\neighbors\\_classification.py:228: FutureWarning: Unlike other reduction functions (e.g. `skew`, `kurtosis`), the default behavior of `mode` typically preserves the axis it acts along. In SciPy 1.11.0, this behavior will change: the default value of `keepdims` will become False, the `axis` over which the statistic is taken will be eliminated, and the value None will no longer be accepted. Set `keepdims` to True or False to avoid this warning.\n",
      "  mode, _ = stats.mode(_y[neigh_ind, k], axis=1)\n",
      "c:\\Anaconda3\\lib\\site-packages\\sklearn\\neighbors\\_classification.py:228: FutureWarning: Unlike other reduction functions (e.g. `skew`, `kurtosis`), the default behavior of `mode` typically preserves the axis it acts along. In SciPy 1.11.0, this behavior will change: the default value of `keepdims` will become False, the `axis` over which the statistic is taken will be eliminated, and the value None will no longer be accepted. Set `keepdims` to True or False to avoid this warning.\n",
      "  mode, _ = stats.mode(_y[neigh_ind, k], axis=1)\n",
      "c:\\Anaconda3\\lib\\site-packages\\sklearn\\neighbors\\_classification.py:228: FutureWarning: Unlike other reduction functions (e.g. `skew`, `kurtosis`), the default behavior of `mode` typically preserves the axis it acts along. In SciPy 1.11.0, this behavior will change: the default value of `keepdims` will become False, the `axis` over which the statistic is taken will be eliminated, and the value None will no longer be accepted. Set `keepdims` to True or False to avoid this warning.\n",
      "  mode, _ = stats.mode(_y[neigh_ind, k], axis=1)\n",
      "c:\\Anaconda3\\lib\\site-packages\\sklearn\\neighbors\\_classification.py:228: FutureWarning: Unlike other reduction functions (e.g. `skew`, `kurtosis`), the default behavior of `mode` typically preserves the axis it acts along. In SciPy 1.11.0, this behavior will change: the default value of `keepdims` will become False, the `axis` over which the statistic is taken will be eliminated, and the value None will no longer be accepted. Set `keepdims` to True or False to avoid this warning.\n",
      "  mode, _ = stats.mode(_y[neigh_ind, k], axis=1)\n",
      "c:\\Anaconda3\\lib\\site-packages\\sklearn\\neighbors\\_classification.py:228: FutureWarning: Unlike other reduction functions (e.g. `skew`, `kurtosis`), the default behavior of `mode` typically preserves the axis it acts along. In SciPy 1.11.0, this behavior will change: the default value of `keepdims` will become False, the `axis` over which the statistic is taken will be eliminated, and the value None will no longer be accepted. Set `keepdims` to True or False to avoid this warning.\n",
      "  mode, _ = stats.mode(_y[neigh_ind, k], axis=1)\n",
      "c:\\Anaconda3\\lib\\site-packages\\sklearn\\neighbors\\_classification.py:228: FutureWarning: Unlike other reduction functions (e.g. `skew`, `kurtosis`), the default behavior of `mode` typically preserves the axis it acts along. In SciPy 1.11.0, this behavior will change: the default value of `keepdims` will become False, the `axis` over which the statistic is taken will be eliminated, and the value None will no longer be accepted. Set `keepdims` to True or False to avoid this warning.\n",
      "  mode, _ = stats.mode(_y[neigh_ind, k], axis=1)\n",
      "c:\\Anaconda3\\lib\\site-packages\\sklearn\\neighbors\\_classification.py:228: FutureWarning: Unlike other reduction functions (e.g. `skew`, `kurtosis`), the default behavior of `mode` typically preserves the axis it acts along. In SciPy 1.11.0, this behavior will change: the default value of `keepdims` will become False, the `axis` over which the statistic is taken will be eliminated, and the value None will no longer be accepted. Set `keepdims` to True or False to avoid this warning.\n",
      "  mode, _ = stats.mode(_y[neigh_ind, k], axis=1)\n",
      "c:\\Anaconda3\\lib\\site-packages\\sklearn\\neighbors\\_classification.py:228: FutureWarning: Unlike other reduction functions (e.g. `skew`, `kurtosis`), the default behavior of `mode` typically preserves the axis it acts along. In SciPy 1.11.0, this behavior will change: the default value of `keepdims` will become False, the `axis` over which the statistic is taken will be eliminated, and the value None will no longer be accepted. Set `keepdims` to True or False to avoid this warning.\n",
      "  mode, _ = stats.mode(_y[neigh_ind, k], axis=1)\n",
      "c:\\Anaconda3\\lib\\site-packages\\sklearn\\neighbors\\_classification.py:228: FutureWarning: Unlike other reduction functions (e.g. `skew`, `kurtosis`), the default behavior of `mode` typically preserves the axis it acts along. In SciPy 1.11.0, this behavior will change: the default value of `keepdims` will become False, the `axis` over which the statistic is taken will be eliminated, and the value None will no longer be accepted. Set `keepdims` to True or False to avoid this warning.\n",
      "  mode, _ = stats.mode(_y[neigh_ind, k], axis=1)\n",
      "c:\\Anaconda3\\lib\\site-packages\\sklearn\\neighbors\\_classification.py:228: FutureWarning: Unlike other reduction functions (e.g. `skew`, `kurtosis`), the default behavior of `mode` typically preserves the axis it acts along. In SciPy 1.11.0, this behavior will change: the default value of `keepdims` will become False, the `axis` over which the statistic is taken will be eliminated, and the value None will no longer be accepted. Set `keepdims` to True or False to avoid this warning.\n",
      "  mode, _ = stats.mode(_y[neigh_ind, k], axis=1)\n",
      "c:\\Anaconda3\\lib\\site-packages\\sklearn\\neighbors\\_classification.py:228: FutureWarning: Unlike other reduction functions (e.g. `skew`, `kurtosis`), the default behavior of `mode` typically preserves the axis it acts along. In SciPy 1.11.0, this behavior will change: the default value of `keepdims` will become False, the `axis` over which the statistic is taken will be eliminated, and the value None will no longer be accepted. Set `keepdims` to True or False to avoid this warning.\n",
      "  mode, _ = stats.mode(_y[neigh_ind, k], axis=1)\n",
      "c:\\Anaconda3\\lib\\site-packages\\sklearn\\neighbors\\_classification.py:228: FutureWarning: Unlike other reduction functions (e.g. `skew`, `kurtosis`), the default behavior of `mode` typically preserves the axis it acts along. In SciPy 1.11.0, this behavior will change: the default value of `keepdims` will become False, the `axis` over which the statistic is taken will be eliminated, and the value None will no longer be accepted. Set `keepdims` to True or False to avoid this warning.\n",
      "  mode, _ = stats.mode(_y[neigh_ind, k], axis=1)\n",
      "c:\\Anaconda3\\lib\\site-packages\\sklearn\\neighbors\\_classification.py:228: FutureWarning: Unlike other reduction functions (e.g. `skew`, `kurtosis`), the default behavior of `mode` typically preserves the axis it acts along. In SciPy 1.11.0, this behavior will change: the default value of `keepdims` will become False, the `axis` over which the statistic is taken will be eliminated, and the value None will no longer be accepted. Set `keepdims` to True or False to avoid this warning.\n",
      "  mode, _ = stats.mode(_y[neigh_ind, k], axis=1)\n",
      "c:\\Anaconda3\\lib\\site-packages\\sklearn\\neighbors\\_classification.py:228: FutureWarning: Unlike other reduction functions (e.g. `skew`, `kurtosis`), the default behavior of `mode` typically preserves the axis it acts along. In SciPy 1.11.0, this behavior will change: the default value of `keepdims` will become False, the `axis` over which the statistic is taken will be eliminated, and the value None will no longer be accepted. Set `keepdims` to True or False to avoid this warning.\n",
      "  mode, _ = stats.mode(_y[neigh_ind, k], axis=1)\n",
      "c:\\Anaconda3\\lib\\site-packages\\sklearn\\neighbors\\_classification.py:228: FutureWarning: Unlike other reduction functions (e.g. `skew`, `kurtosis`), the default behavior of `mode` typically preserves the axis it acts along. In SciPy 1.11.0, this behavior will change: the default value of `keepdims` will become False, the `axis` over which the statistic is taken will be eliminated, and the value None will no longer be accepted. Set `keepdims` to True or False to avoid this warning.\n",
      "  mode, _ = stats.mode(_y[neigh_ind, k], axis=1)\n",
      "c:\\Anaconda3\\lib\\site-packages\\sklearn\\neighbors\\_classification.py:228: FutureWarning: Unlike other reduction functions (e.g. `skew`, `kurtosis`), the default behavior of `mode` typically preserves the axis it acts along. In SciPy 1.11.0, this behavior will change: the default value of `keepdims` will become False, the `axis` over which the statistic is taken will be eliminated, and the value None will no longer be accepted. Set `keepdims` to True or False to avoid this warning.\n",
      "  mode, _ = stats.mode(_y[neigh_ind, k], axis=1)\n",
      "c:\\Anaconda3\\lib\\site-packages\\sklearn\\neighbors\\_classification.py:228: FutureWarning: Unlike other reduction functions (e.g. `skew`, `kurtosis`), the default behavior of `mode` typically preserves the axis it acts along. In SciPy 1.11.0, this behavior will change: the default value of `keepdims` will become False, the `axis` over which the statistic is taken will be eliminated, and the value None will no longer be accepted. Set `keepdims` to True or False to avoid this warning.\n",
      "  mode, _ = stats.mode(_y[neigh_ind, k], axis=1)\n",
      "c:\\Anaconda3\\lib\\site-packages\\sklearn\\neighbors\\_classification.py:228: FutureWarning: Unlike other reduction functions (e.g. `skew`, `kurtosis`), the default behavior of `mode` typically preserves the axis it acts along. In SciPy 1.11.0, this behavior will change: the default value of `keepdims` will become False, the `axis` over which the statistic is taken will be eliminated, and the value None will no longer be accepted. Set `keepdims` to True or False to avoid this warning.\n",
      "  mode, _ = stats.mode(_y[neigh_ind, k], axis=1)\n",
      "c:\\Anaconda3\\lib\\site-packages\\sklearn\\neighbors\\_classification.py:228: FutureWarning: Unlike other reduction functions (e.g. `skew`, `kurtosis`), the default behavior of `mode` typically preserves the axis it acts along. In SciPy 1.11.0, this behavior will change: the default value of `keepdims` will become False, the `axis` over which the statistic is taken will be eliminated, and the value None will no longer be accepted. Set `keepdims` to True or False to avoid this warning.\n",
      "  mode, _ = stats.mode(_y[neigh_ind, k], axis=1)\n",
      "c:\\Anaconda3\\lib\\site-packages\\sklearn\\neighbors\\_classification.py:228: FutureWarning: Unlike other reduction functions (e.g. `skew`, `kurtosis`), the default behavior of `mode` typically preserves the axis it acts along. In SciPy 1.11.0, this behavior will change: the default value of `keepdims` will become False, the `axis` over which the statistic is taken will be eliminated, and the value None will no longer be accepted. Set `keepdims` to True or False to avoid this warning.\n",
      "  mode, _ = stats.mode(_y[neigh_ind, k], axis=1)\n",
      "c:\\Anaconda3\\lib\\site-packages\\sklearn\\neighbors\\_classification.py:228: FutureWarning: Unlike other reduction functions (e.g. `skew`, `kurtosis`), the default behavior of `mode` typically preserves the axis it acts along. In SciPy 1.11.0, this behavior will change: the default value of `keepdims` will become False, the `axis` over which the statistic is taken will be eliminated, and the value None will no longer be accepted. Set `keepdims` to True or False to avoid this warning.\n",
      "  mode, _ = stats.mode(_y[neigh_ind, k], axis=1)\n",
      "c:\\Anaconda3\\lib\\site-packages\\sklearn\\neighbors\\_classification.py:228: FutureWarning: Unlike other reduction functions (e.g. `skew`, `kurtosis`), the default behavior of `mode` typically preserves the axis it acts along. In SciPy 1.11.0, this behavior will change: the default value of `keepdims` will become False, the `axis` over which the statistic is taken will be eliminated, and the value None will no longer be accepted. Set `keepdims` to True or False to avoid this warning.\n",
      "  mode, _ = stats.mode(_y[neigh_ind, k], axis=1)\n",
      "c:\\Anaconda3\\lib\\site-packages\\sklearn\\neighbors\\_classification.py:228: FutureWarning: Unlike other reduction functions (e.g. `skew`, `kurtosis`), the default behavior of `mode` typically preserves the axis it acts along. In SciPy 1.11.0, this behavior will change: the default value of `keepdims` will become False, the `axis` over which the statistic is taken will be eliminated, and the value None will no longer be accepted. Set `keepdims` to True or False to avoid this warning.\n",
      "  mode, _ = stats.mode(_y[neigh_ind, k], axis=1)\n",
      "c:\\Anaconda3\\lib\\site-packages\\sklearn\\neighbors\\_classification.py:228: FutureWarning: Unlike other reduction functions (e.g. `skew`, `kurtosis`), the default behavior of `mode` typically preserves the axis it acts along. In SciPy 1.11.0, this behavior will change: the default value of `keepdims` will become False, the `axis` over which the statistic is taken will be eliminated, and the value None will no longer be accepted. Set `keepdims` to True or False to avoid this warning.\n",
      "  mode, _ = stats.mode(_y[neigh_ind, k], axis=1)\n",
      "c:\\Anaconda3\\lib\\site-packages\\sklearn\\neighbors\\_classification.py:228: FutureWarning: Unlike other reduction functions (e.g. `skew`, `kurtosis`), the default behavior of `mode` typically preserves the axis it acts along. In SciPy 1.11.0, this behavior will change: the default value of `keepdims` will become False, the `axis` over which the statistic is taken will be eliminated, and the value None will no longer be accepted. Set `keepdims` to True or False to avoid this warning.\n",
      "  mode, _ = stats.mode(_y[neigh_ind, k], axis=1)\n",
      "c:\\Anaconda3\\lib\\site-packages\\sklearn\\neighbors\\_classification.py:228: FutureWarning: Unlike other reduction functions (e.g. `skew`, `kurtosis`), the default behavior of `mode` typically preserves the axis it acts along. In SciPy 1.11.0, this behavior will change: the default value of `keepdims` will become False, the `axis` over which the statistic is taken will be eliminated, and the value None will no longer be accepted. Set `keepdims` to True or False to avoid this warning.\n",
      "  mode, _ = stats.mode(_y[neigh_ind, k], axis=1)\n",
      "c:\\Anaconda3\\lib\\site-packages\\sklearn\\neighbors\\_classification.py:228: FutureWarning: Unlike other reduction functions (e.g. `skew`, `kurtosis`), the default behavior of `mode` typically preserves the axis it acts along. In SciPy 1.11.0, this behavior will change: the default value of `keepdims` will become False, the `axis` over which the statistic is taken will be eliminated, and the value None will no longer be accepted. Set `keepdims` to True or False to avoid this warning.\n",
      "  mode, _ = stats.mode(_y[neigh_ind, k], axis=1)\n",
      "c:\\Anaconda3\\lib\\site-packages\\sklearn\\neighbors\\_classification.py:228: FutureWarning: Unlike other reduction functions (e.g. `skew`, `kurtosis`), the default behavior of `mode` typically preserves the axis it acts along. In SciPy 1.11.0, this behavior will change: the default value of `keepdims` will become False, the `axis` over which the statistic is taken will be eliminated, and the value None will no longer be accepted. Set `keepdims` to True or False to avoid this warning.\n",
      "  mode, _ = stats.mode(_y[neigh_ind, k], axis=1)\n",
      "c:\\Anaconda3\\lib\\site-packages\\sklearn\\neighbors\\_classification.py:228: FutureWarning: Unlike other reduction functions (e.g. `skew`, `kurtosis`), the default behavior of `mode` typically preserves the axis it acts along. In SciPy 1.11.0, this behavior will change: the default value of `keepdims` will become False, the `axis` over which the statistic is taken will be eliminated, and the value None will no longer be accepted. Set `keepdims` to True or False to avoid this warning.\n",
      "  mode, _ = stats.mode(_y[neigh_ind, k], axis=1)\n",
      "c:\\Anaconda3\\lib\\site-packages\\sklearn\\neighbors\\_classification.py:228: FutureWarning: Unlike other reduction functions (e.g. `skew`, `kurtosis`), the default behavior of `mode` typically preserves the axis it acts along. In SciPy 1.11.0, this behavior will change: the default value of `keepdims` will become False, the `axis` over which the statistic is taken will be eliminated, and the value None will no longer be accepted. Set `keepdims` to True or False to avoid this warning.\n",
      "  mode, _ = stats.mode(_y[neigh_ind, k], axis=1)\n",
      "c:\\Anaconda3\\lib\\site-packages\\sklearn\\neighbors\\_classification.py:228: FutureWarning: Unlike other reduction functions (e.g. `skew`, `kurtosis`), the default behavior of `mode` typically preserves the axis it acts along. In SciPy 1.11.0, this behavior will change: the default value of `keepdims` will become False, the `axis` over which the statistic is taken will be eliminated, and the value None will no longer be accepted. Set `keepdims` to True or False to avoid this warning.\n",
      "  mode, _ = stats.mode(_y[neigh_ind, k], axis=1)\n",
      "c:\\Anaconda3\\lib\\site-packages\\sklearn\\neighbors\\_classification.py:228: FutureWarning: Unlike other reduction functions (e.g. `skew`, `kurtosis`), the default behavior of `mode` typically preserves the axis it acts along. In SciPy 1.11.0, this behavior will change: the default value of `keepdims` will become False, the `axis` over which the statistic is taken will be eliminated, and the value None will no longer be accepted. Set `keepdims` to True or False to avoid this warning.\n",
      "  mode, _ = stats.mode(_y[neigh_ind, k], axis=1)\n",
      "c:\\Anaconda3\\lib\\site-packages\\sklearn\\neighbors\\_classification.py:228: FutureWarning: Unlike other reduction functions (e.g. `skew`, `kurtosis`), the default behavior of `mode` typically preserves the axis it acts along. In SciPy 1.11.0, this behavior will change: the default value of `keepdims` will become False, the `axis` over which the statistic is taken will be eliminated, and the value None will no longer be accepted. Set `keepdims` to True or False to avoid this warning.\n",
      "  mode, _ = stats.mode(_y[neigh_ind, k], axis=1)\n",
      "c:\\Anaconda3\\lib\\site-packages\\sklearn\\neighbors\\_classification.py:228: FutureWarning: Unlike other reduction functions (e.g. `skew`, `kurtosis`), the default behavior of `mode` typically preserves the axis it acts along. In SciPy 1.11.0, this behavior will change: the default value of `keepdims` will become False, the `axis` over which the statistic is taken will be eliminated, and the value None will no longer be accepted. Set `keepdims` to True or False to avoid this warning.\n",
      "  mode, _ = stats.mode(_y[neigh_ind, k], axis=1)\n",
      "c:\\Anaconda3\\lib\\site-packages\\sklearn\\neighbors\\_classification.py:228: FutureWarning: Unlike other reduction functions (e.g. `skew`, `kurtosis`), the default behavior of `mode` typically preserves the axis it acts along. In SciPy 1.11.0, this behavior will change: the default value of `keepdims` will become False, the `axis` over which the statistic is taken will be eliminated, and the value None will no longer be accepted. Set `keepdims` to True or False to avoid this warning.\n",
      "  mode, _ = stats.mode(_y[neigh_ind, k], axis=1)\n",
      "c:\\Anaconda3\\lib\\site-packages\\sklearn\\neighbors\\_classification.py:228: FutureWarning: Unlike other reduction functions (e.g. `skew`, `kurtosis`), the default behavior of `mode` typically preserves the axis it acts along. In SciPy 1.11.0, this behavior will change: the default value of `keepdims` will become False, the `axis` over which the statistic is taken will be eliminated, and the value None will no longer be accepted. Set `keepdims` to True or False to avoid this warning.\n",
      "  mode, _ = stats.mode(_y[neigh_ind, k], axis=1)\n",
      "c:\\Anaconda3\\lib\\site-packages\\sklearn\\neighbors\\_classification.py:228: FutureWarning: Unlike other reduction functions (e.g. `skew`, `kurtosis`), the default behavior of `mode` typically preserves the axis it acts along. In SciPy 1.11.0, this behavior will change: the default value of `keepdims` will become False, the `axis` over which the statistic is taken will be eliminated, and the value None will no longer be accepted. Set `keepdims` to True or False to avoid this warning.\n",
      "  mode, _ = stats.mode(_y[neigh_ind, k], axis=1)\n",
      "c:\\Anaconda3\\lib\\site-packages\\sklearn\\neighbors\\_classification.py:228: FutureWarning: Unlike other reduction functions (e.g. `skew`, `kurtosis`), the default behavior of `mode` typically preserves the axis it acts along. In SciPy 1.11.0, this behavior will change: the default value of `keepdims` will become False, the `axis` over which the statistic is taken will be eliminated, and the value None will no longer be accepted. Set `keepdims` to True or False to avoid this warning.\n",
      "  mode, _ = stats.mode(_y[neigh_ind, k], axis=1)\n",
      "c:\\Anaconda3\\lib\\site-packages\\sklearn\\neighbors\\_classification.py:228: FutureWarning: Unlike other reduction functions (e.g. `skew`, `kurtosis`), the default behavior of `mode` typically preserves the axis it acts along. In SciPy 1.11.0, this behavior will change: the default value of `keepdims` will become False, the `axis` over which the statistic is taken will be eliminated, and the value None will no longer be accepted. Set `keepdims` to True or False to avoid this warning.\n",
      "  mode, _ = stats.mode(_y[neigh_ind, k], axis=1)\n",
      "c:\\Anaconda3\\lib\\site-packages\\sklearn\\neighbors\\_classification.py:228: FutureWarning: Unlike other reduction functions (e.g. `skew`, `kurtosis`), the default behavior of `mode` typically preserves the axis it acts along. In SciPy 1.11.0, this behavior will change: the default value of `keepdims` will become False, the `axis` over which the statistic is taken will be eliminated, and the value None will no longer be accepted. Set `keepdims` to True or False to avoid this warning.\n",
      "  mode, _ = stats.mode(_y[neigh_ind, k], axis=1)\n",
      "c:\\Anaconda3\\lib\\site-packages\\sklearn\\neighbors\\_classification.py:228: FutureWarning: Unlike other reduction functions (e.g. `skew`, `kurtosis`), the default behavior of `mode` typically preserves the axis it acts along. In SciPy 1.11.0, this behavior will change: the default value of `keepdims` will become False, the `axis` over which the statistic is taken will be eliminated, and the value None will no longer be accepted. Set `keepdims` to True or False to avoid this warning.\n",
      "  mode, _ = stats.mode(_y[neigh_ind, k], axis=1)\n",
      "c:\\Anaconda3\\lib\\site-packages\\sklearn\\neighbors\\_classification.py:228: FutureWarning: Unlike other reduction functions (e.g. `skew`, `kurtosis`), the default behavior of `mode` typically preserves the axis it acts along. In SciPy 1.11.0, this behavior will change: the default value of `keepdims` will become False, the `axis` over which the statistic is taken will be eliminated, and the value None will no longer be accepted. Set `keepdims` to True or False to avoid this warning.\n",
      "  mode, _ = stats.mode(_y[neigh_ind, k], axis=1)\n",
      "c:\\Anaconda3\\lib\\site-packages\\sklearn\\neighbors\\_classification.py:228: FutureWarning: Unlike other reduction functions (e.g. `skew`, `kurtosis`), the default behavior of `mode` typically preserves the axis it acts along. In SciPy 1.11.0, this behavior will change: the default value of `keepdims` will become False, the `axis` over which the statistic is taken will be eliminated, and the value None will no longer be accepted. Set `keepdims` to True or False to avoid this warning.\n",
      "  mode, _ = stats.mode(_y[neigh_ind, k], axis=1)\n",
      "c:\\Anaconda3\\lib\\site-packages\\sklearn\\neighbors\\_classification.py:228: FutureWarning: Unlike other reduction functions (e.g. `skew`, `kurtosis`), the default behavior of `mode` typically preserves the axis it acts along. In SciPy 1.11.0, this behavior will change: the default value of `keepdims` will become False, the `axis` over which the statistic is taken will be eliminated, and the value None will no longer be accepted. Set `keepdims` to True or False to avoid this warning.\n",
      "  mode, _ = stats.mode(_y[neigh_ind, k], axis=1)\n",
      "c:\\Anaconda3\\lib\\site-packages\\sklearn\\neighbors\\_classification.py:228: FutureWarning: Unlike other reduction functions (e.g. `skew`, `kurtosis`), the default behavior of `mode` typically preserves the axis it acts along. In SciPy 1.11.0, this behavior will change: the default value of `keepdims` will become False, the `axis` over which the statistic is taken will be eliminated, and the value None will no longer be accepted. Set `keepdims` to True or False to avoid this warning.\n",
      "  mode, _ = stats.mode(_y[neigh_ind, k], axis=1)\n",
      "c:\\Anaconda3\\lib\\site-packages\\sklearn\\neighbors\\_classification.py:228: FutureWarning: Unlike other reduction functions (e.g. `skew`, `kurtosis`), the default behavior of `mode` typically preserves the axis it acts along. In SciPy 1.11.0, this behavior will change: the default value of `keepdims` will become False, the `axis` over which the statistic is taken will be eliminated, and the value None will no longer be accepted. Set `keepdims` to True or False to avoid this warning.\n",
      "  mode, _ = stats.mode(_y[neigh_ind, k], axis=1)\n",
      "c:\\Anaconda3\\lib\\site-packages\\sklearn\\neighbors\\_classification.py:228: FutureWarning: Unlike other reduction functions (e.g. `skew`, `kurtosis`), the default behavior of `mode` typically preserves the axis it acts along. In SciPy 1.11.0, this behavior will change: the default value of `keepdims` will become False, the `axis` over which the statistic is taken will be eliminated, and the value None will no longer be accepted. Set `keepdims` to True or False to avoid this warning.\n",
      "  mode, _ = stats.mode(_y[neigh_ind, k], axis=1)\n",
      "c:\\Anaconda3\\lib\\site-packages\\sklearn\\neighbors\\_classification.py:228: FutureWarning: Unlike other reduction functions (e.g. `skew`, `kurtosis`), the default behavior of `mode` typically preserves the axis it acts along. In SciPy 1.11.0, this behavior will change: the default value of `keepdims` will become False, the `axis` over which the statistic is taken will be eliminated, and the value None will no longer be accepted. Set `keepdims` to True or False to avoid this warning.\n",
      "  mode, _ = stats.mode(_y[neigh_ind, k], axis=1)\n",
      "c:\\Anaconda3\\lib\\site-packages\\sklearn\\neighbors\\_classification.py:228: FutureWarning: Unlike other reduction functions (e.g. `skew`, `kurtosis`), the default behavior of `mode` typically preserves the axis it acts along. In SciPy 1.11.0, this behavior will change: the default value of `keepdims` will become False, the `axis` over which the statistic is taken will be eliminated, and the value None will no longer be accepted. Set `keepdims` to True or False to avoid this warning.\n",
      "  mode, _ = stats.mode(_y[neigh_ind, k], axis=1)\n",
      "c:\\Anaconda3\\lib\\site-packages\\sklearn\\neighbors\\_classification.py:228: FutureWarning: Unlike other reduction functions (e.g. `skew`, `kurtosis`), the default behavior of `mode` typically preserves the axis it acts along. In SciPy 1.11.0, this behavior will change: the default value of `keepdims` will become False, the `axis` over which the statistic is taken will be eliminated, and the value None will no longer be accepted. Set `keepdims` to True or False to avoid this warning.\n",
      "  mode, _ = stats.mode(_y[neigh_ind, k], axis=1)\n",
      "c:\\Anaconda3\\lib\\site-packages\\sklearn\\neighbors\\_classification.py:228: FutureWarning: Unlike other reduction functions (e.g. `skew`, `kurtosis`), the default behavior of `mode` typically preserves the axis it acts along. In SciPy 1.11.0, this behavior will change: the default value of `keepdims` will become False, the `axis` over which the statistic is taken will be eliminated, and the value None will no longer be accepted. Set `keepdims` to True or False to avoid this warning.\n",
      "  mode, _ = stats.mode(_y[neigh_ind, k], axis=1)\n",
      "c:\\Anaconda3\\lib\\site-packages\\sklearn\\neighbors\\_classification.py:228: FutureWarning: Unlike other reduction functions (e.g. `skew`, `kurtosis`), the default behavior of `mode` typically preserves the axis it acts along. In SciPy 1.11.0, this behavior will change: the default value of `keepdims` will become False, the `axis` over which the statistic is taken will be eliminated, and the value None will no longer be accepted. Set `keepdims` to True or False to avoid this warning.\n",
      "  mode, _ = stats.mode(_y[neigh_ind, k], axis=1)\n",
      "c:\\Anaconda3\\lib\\site-packages\\sklearn\\neighbors\\_classification.py:228: FutureWarning: Unlike other reduction functions (e.g. `skew`, `kurtosis`), the default behavior of `mode` typically preserves the axis it acts along. In SciPy 1.11.0, this behavior will change: the default value of `keepdims` will become False, the `axis` over which the statistic is taken will be eliminated, and the value None will no longer be accepted. Set `keepdims` to True or False to avoid this warning.\n",
      "  mode, _ = stats.mode(_y[neigh_ind, k], axis=1)\n",
      "c:\\Anaconda3\\lib\\site-packages\\sklearn\\neighbors\\_classification.py:228: FutureWarning: Unlike other reduction functions (e.g. `skew`, `kurtosis`), the default behavior of `mode` typically preserves the axis it acts along. In SciPy 1.11.0, this behavior will change: the default value of `keepdims` will become False, the `axis` over which the statistic is taken will be eliminated, and the value None will no longer be accepted. Set `keepdims` to True or False to avoid this warning.\n",
      "  mode, _ = stats.mode(_y[neigh_ind, k], axis=1)\n",
      "c:\\Anaconda3\\lib\\site-packages\\sklearn\\neighbors\\_classification.py:228: FutureWarning: Unlike other reduction functions (e.g. `skew`, `kurtosis`), the default behavior of `mode` typically preserves the axis it acts along. In SciPy 1.11.0, this behavior will change: the default value of `keepdims` will become False, the `axis` over which the statistic is taken will be eliminated, and the value None will no longer be accepted. Set `keepdims` to True or False to avoid this warning.\n",
      "  mode, _ = stats.mode(_y[neigh_ind, k], axis=1)\n",
      "c:\\Anaconda3\\lib\\site-packages\\sklearn\\neighbors\\_classification.py:228: FutureWarning: Unlike other reduction functions (e.g. `skew`, `kurtosis`), the default behavior of `mode` typically preserves the axis it acts along. In SciPy 1.11.0, this behavior will change: the default value of `keepdims` will become False, the `axis` over which the statistic is taken will be eliminated, and the value None will no longer be accepted. Set `keepdims` to True or False to avoid this warning.\n",
      "  mode, _ = stats.mode(_y[neigh_ind, k], axis=1)\n",
      "c:\\Anaconda3\\lib\\site-packages\\sklearn\\neighbors\\_classification.py:228: FutureWarning: Unlike other reduction functions (e.g. `skew`, `kurtosis`), the default behavior of `mode` typically preserves the axis it acts along. In SciPy 1.11.0, this behavior will change: the default value of `keepdims` will become False, the `axis` over which the statistic is taken will be eliminated, and the value None will no longer be accepted. Set `keepdims` to True or False to avoid this warning.\n",
      "  mode, _ = stats.mode(_y[neigh_ind, k], axis=1)\n",
      "c:\\Anaconda3\\lib\\site-packages\\sklearn\\neighbors\\_classification.py:228: FutureWarning: Unlike other reduction functions (e.g. `skew`, `kurtosis`), the default behavior of `mode` typically preserves the axis it acts along. In SciPy 1.11.0, this behavior will change: the default value of `keepdims` will become False, the `axis` over which the statistic is taken will be eliminated, and the value None will no longer be accepted. Set `keepdims` to True or False to avoid this warning.\n",
      "  mode, _ = stats.mode(_y[neigh_ind, k], axis=1)\n",
      "c:\\Anaconda3\\lib\\site-packages\\sklearn\\neighbors\\_classification.py:228: FutureWarning: Unlike other reduction functions (e.g. `skew`, `kurtosis`), the default behavior of `mode` typically preserves the axis it acts along. In SciPy 1.11.0, this behavior will change: the default value of `keepdims` will become False, the `axis` over which the statistic is taken will be eliminated, and the value None will no longer be accepted. Set `keepdims` to True or False to avoid this warning.\n",
      "  mode, _ = stats.mode(_y[neigh_ind, k], axis=1)\n",
      "c:\\Anaconda3\\lib\\site-packages\\sklearn\\neighbors\\_classification.py:228: FutureWarning: Unlike other reduction functions (e.g. `skew`, `kurtosis`), the default behavior of `mode` typically preserves the axis it acts along. In SciPy 1.11.0, this behavior will change: the default value of `keepdims` will become False, the `axis` over which the statistic is taken will be eliminated, and the value None will no longer be accepted. Set `keepdims` to True or False to avoid this warning.\n",
      "  mode, _ = stats.mode(_y[neigh_ind, k], axis=1)\n",
      "c:\\Anaconda3\\lib\\site-packages\\sklearn\\neighbors\\_classification.py:228: FutureWarning: Unlike other reduction functions (e.g. `skew`, `kurtosis`), the default behavior of `mode` typically preserves the axis it acts along. In SciPy 1.11.0, this behavior will change: the default value of `keepdims` will become False, the `axis` over which the statistic is taken will be eliminated, and the value None will no longer be accepted. Set `keepdims` to True or False to avoid this warning.\n",
      "  mode, _ = stats.mode(_y[neigh_ind, k], axis=1)\n",
      "c:\\Anaconda3\\lib\\site-packages\\sklearn\\neighbors\\_classification.py:228: FutureWarning: Unlike other reduction functions (e.g. `skew`, `kurtosis`), the default behavior of `mode` typically preserves the axis it acts along. In SciPy 1.11.0, this behavior will change: the default value of `keepdims` will become False, the `axis` over which the statistic is taken will be eliminated, and the value None will no longer be accepted. Set `keepdims` to True or False to avoid this warning.\n",
      "  mode, _ = stats.mode(_y[neigh_ind, k], axis=1)\n",
      "c:\\Anaconda3\\lib\\site-packages\\sklearn\\neighbors\\_classification.py:228: FutureWarning: Unlike other reduction functions (e.g. `skew`, `kurtosis`), the default behavior of `mode` typically preserves the axis it acts along. In SciPy 1.11.0, this behavior will change: the default value of `keepdims` will become False, the `axis` over which the statistic is taken will be eliminated, and the value None will no longer be accepted. Set `keepdims` to True or False to avoid this warning.\n",
      "  mode, _ = stats.mode(_y[neigh_ind, k], axis=1)\n",
      "c:\\Anaconda3\\lib\\site-packages\\sklearn\\neighbors\\_classification.py:228: FutureWarning: Unlike other reduction functions (e.g. `skew`, `kurtosis`), the default behavior of `mode` typically preserves the axis it acts along. In SciPy 1.11.0, this behavior will change: the default value of `keepdims` will become False, the `axis` over which the statistic is taken will be eliminated, and the value None will no longer be accepted. Set `keepdims` to True or False to avoid this warning.\n",
      "  mode, _ = stats.mode(_y[neigh_ind, k], axis=1)\n",
      "c:\\Anaconda3\\lib\\site-packages\\sklearn\\neighbors\\_classification.py:228: FutureWarning: Unlike other reduction functions (e.g. `skew`, `kurtosis`), the default behavior of `mode` typically preserves the axis it acts along. In SciPy 1.11.0, this behavior will change: the default value of `keepdims` will become False, the `axis` over which the statistic is taken will be eliminated, and the value None will no longer be accepted. Set `keepdims` to True or False to avoid this warning.\n",
      "  mode, _ = stats.mode(_y[neigh_ind, k], axis=1)\n",
      "c:\\Anaconda3\\lib\\site-packages\\sklearn\\neighbors\\_classification.py:228: FutureWarning: Unlike other reduction functions (e.g. `skew`, `kurtosis`), the default behavior of `mode` typically preserves the axis it acts along. In SciPy 1.11.0, this behavior will change: the default value of `keepdims` will become False, the `axis` over which the statistic is taken will be eliminated, and the value None will no longer be accepted. Set `keepdims` to True or False to avoid this warning.\n",
      "  mode, _ = stats.mode(_y[neigh_ind, k], axis=1)\n",
      "c:\\Anaconda3\\lib\\site-packages\\sklearn\\neighbors\\_classification.py:228: FutureWarning: Unlike other reduction functions (e.g. `skew`, `kurtosis`), the default behavior of `mode` typically preserves the axis it acts along. In SciPy 1.11.0, this behavior will change: the default value of `keepdims` will become False, the `axis` over which the statistic is taken will be eliminated, and the value None will no longer be accepted. Set `keepdims` to True or False to avoid this warning.\n",
      "  mode, _ = stats.mode(_y[neigh_ind, k], axis=1)\n",
      "c:\\Anaconda3\\lib\\site-packages\\sklearn\\neighbors\\_classification.py:228: FutureWarning: Unlike other reduction functions (e.g. `skew`, `kurtosis`), the default behavior of `mode` typically preserves the axis it acts along. In SciPy 1.11.0, this behavior will change: the default value of `keepdims` will become False, the `axis` over which the statistic is taken will be eliminated, and the value None will no longer be accepted. Set `keepdims` to True or False to avoid this warning.\n",
      "  mode, _ = stats.mode(_y[neigh_ind, k], axis=1)\n",
      "c:\\Anaconda3\\lib\\site-packages\\sklearn\\neighbors\\_classification.py:228: FutureWarning: Unlike other reduction functions (e.g. `skew`, `kurtosis`), the default behavior of `mode` typically preserves the axis it acts along. In SciPy 1.11.0, this behavior will change: the default value of `keepdims` will become False, the `axis` over which the statistic is taken will be eliminated, and the value None will no longer be accepted. Set `keepdims` to True or False to avoid this warning.\n",
      "  mode, _ = stats.mode(_y[neigh_ind, k], axis=1)\n",
      "c:\\Anaconda3\\lib\\site-packages\\sklearn\\neighbors\\_classification.py:228: FutureWarning: Unlike other reduction functions (e.g. `skew`, `kurtosis`), the default behavior of `mode` typically preserves the axis it acts along. In SciPy 1.11.0, this behavior will change: the default value of `keepdims` will become False, the `axis` over which the statistic is taken will be eliminated, and the value None will no longer be accepted. Set `keepdims` to True or False to avoid this warning.\n",
      "  mode, _ = stats.mode(_y[neigh_ind, k], axis=1)\n",
      "c:\\Anaconda3\\lib\\site-packages\\sklearn\\neighbors\\_classification.py:228: FutureWarning: Unlike other reduction functions (e.g. `skew`, `kurtosis`), the default behavior of `mode` typically preserves the axis it acts along. In SciPy 1.11.0, this behavior will change: the default value of `keepdims` will become False, the `axis` over which the statistic is taken will be eliminated, and the value None will no longer be accepted. Set `keepdims` to True or False to avoid this warning.\n",
      "  mode, _ = stats.mode(_y[neigh_ind, k], axis=1)\n",
      "c:\\Anaconda3\\lib\\site-packages\\sklearn\\neighbors\\_classification.py:228: FutureWarning: Unlike other reduction functions (e.g. `skew`, `kurtosis`), the default behavior of `mode` typically preserves the axis it acts along. In SciPy 1.11.0, this behavior will change: the default value of `keepdims` will become False, the `axis` over which the statistic is taken will be eliminated, and the value None will no longer be accepted. Set `keepdims` to True or False to avoid this warning.\n",
      "  mode, _ = stats.mode(_y[neigh_ind, k], axis=1)\n",
      "c:\\Anaconda3\\lib\\site-packages\\sklearn\\neighbors\\_classification.py:228: FutureWarning: Unlike other reduction functions (e.g. `skew`, `kurtosis`), the default behavior of `mode` typically preserves the axis it acts along. In SciPy 1.11.0, this behavior will change: the default value of `keepdims` will become False, the `axis` over which the statistic is taken will be eliminated, and the value None will no longer be accepted. Set `keepdims` to True or False to avoid this warning.\n",
      "  mode, _ = stats.mode(_y[neigh_ind, k], axis=1)\n",
      "c:\\Anaconda3\\lib\\site-packages\\sklearn\\neighbors\\_classification.py:228: FutureWarning: Unlike other reduction functions (e.g. `skew`, `kurtosis`), the default behavior of `mode` typically preserves the axis it acts along. In SciPy 1.11.0, this behavior will change: the default value of `keepdims` will become False, the `axis` over which the statistic is taken will be eliminated, and the value None will no longer be accepted. Set `keepdims` to True or False to avoid this warning.\n",
      "  mode, _ = stats.mode(_y[neigh_ind, k], axis=1)\n",
      "c:\\Anaconda3\\lib\\site-packages\\sklearn\\neighbors\\_classification.py:228: FutureWarning: Unlike other reduction functions (e.g. `skew`, `kurtosis`), the default behavior of `mode` typically preserves the axis it acts along. In SciPy 1.11.0, this behavior will change: the default value of `keepdims` will become False, the `axis` over which the statistic is taken will be eliminated, and the value None will no longer be accepted. Set `keepdims` to True or False to avoid this warning.\n",
      "  mode, _ = stats.mode(_y[neigh_ind, k], axis=1)\n",
      "c:\\Anaconda3\\lib\\site-packages\\sklearn\\neighbors\\_classification.py:228: FutureWarning: Unlike other reduction functions (e.g. `skew`, `kurtosis`), the default behavior of `mode` typically preserves the axis it acts along. In SciPy 1.11.0, this behavior will change: the default value of `keepdims` will become False, the `axis` over which the statistic is taken will be eliminated, and the value None will no longer be accepted. Set `keepdims` to True or False to avoid this warning.\n",
      "  mode, _ = stats.mode(_y[neigh_ind, k], axis=1)\n",
      "c:\\Anaconda3\\lib\\site-packages\\sklearn\\neighbors\\_classification.py:228: FutureWarning: Unlike other reduction functions (e.g. `skew`, `kurtosis`), the default behavior of `mode` typically preserves the axis it acts along. In SciPy 1.11.0, this behavior will change: the default value of `keepdims` will become False, the `axis` over which the statistic is taken will be eliminated, and the value None will no longer be accepted. Set `keepdims` to True or False to avoid this warning.\n",
      "  mode, _ = stats.mode(_y[neigh_ind, k], axis=1)\n",
      "c:\\Anaconda3\\lib\\site-packages\\sklearn\\neighbors\\_classification.py:228: FutureWarning: Unlike other reduction functions (e.g. `skew`, `kurtosis`), the default behavior of `mode` typically preserves the axis it acts along. In SciPy 1.11.0, this behavior will change: the default value of `keepdims` will become False, the `axis` over which the statistic is taken will be eliminated, and the value None will no longer be accepted. Set `keepdims` to True or False to avoid this warning.\n",
      "  mode, _ = stats.mode(_y[neigh_ind, k], axis=1)\n",
      "c:\\Anaconda3\\lib\\site-packages\\sklearn\\neighbors\\_classification.py:228: FutureWarning: Unlike other reduction functions (e.g. `skew`, `kurtosis`), the default behavior of `mode` typically preserves the axis it acts along. In SciPy 1.11.0, this behavior will change: the default value of `keepdims` will become False, the `axis` over which the statistic is taken will be eliminated, and the value None will no longer be accepted. Set `keepdims` to True or False to avoid this warning.\n",
      "  mode, _ = stats.mode(_y[neigh_ind, k], axis=1)\n",
      "c:\\Anaconda3\\lib\\site-packages\\sklearn\\neighbors\\_classification.py:228: FutureWarning: Unlike other reduction functions (e.g. `skew`, `kurtosis`), the default behavior of `mode` typically preserves the axis it acts along. In SciPy 1.11.0, this behavior will change: the default value of `keepdims` will become False, the `axis` over which the statistic is taken will be eliminated, and the value None will no longer be accepted. Set `keepdims` to True or False to avoid this warning.\n",
      "  mode, _ = stats.mode(_y[neigh_ind, k], axis=1)\n",
      "c:\\Anaconda3\\lib\\site-packages\\sklearn\\neighbors\\_classification.py:228: FutureWarning: Unlike other reduction functions (e.g. `skew`, `kurtosis`), the default behavior of `mode` typically preserves the axis it acts along. In SciPy 1.11.0, this behavior will change: the default value of `keepdims` will become False, the `axis` over which the statistic is taken will be eliminated, and the value None will no longer be accepted. Set `keepdims` to True or False to avoid this warning.\n",
      "  mode, _ = stats.mode(_y[neigh_ind, k], axis=1)\n",
      "c:\\Anaconda3\\lib\\site-packages\\sklearn\\neighbors\\_classification.py:228: FutureWarning: Unlike other reduction functions (e.g. `skew`, `kurtosis`), the default behavior of `mode` typically preserves the axis it acts along. In SciPy 1.11.0, this behavior will change: the default value of `keepdims` will become False, the `axis` over which the statistic is taken will be eliminated, and the value None will no longer be accepted. Set `keepdims` to True or False to avoid this warning.\n",
      "  mode, _ = stats.mode(_y[neigh_ind, k], axis=1)\n",
      "c:\\Anaconda3\\lib\\site-packages\\sklearn\\neighbors\\_classification.py:228: FutureWarning: Unlike other reduction functions (e.g. `skew`, `kurtosis`), the default behavior of `mode` typically preserves the axis it acts along. In SciPy 1.11.0, this behavior will change: the default value of `keepdims` will become False, the `axis` over which the statistic is taken will be eliminated, and the value None will no longer be accepted. Set `keepdims` to True or False to avoid this warning.\n",
      "  mode, _ = stats.mode(_y[neigh_ind, k], axis=1)\n",
      "c:\\Anaconda3\\lib\\site-packages\\sklearn\\neighbors\\_classification.py:228: FutureWarning: Unlike other reduction functions (e.g. `skew`, `kurtosis`), the default behavior of `mode` typically preserves the axis it acts along. In SciPy 1.11.0, this behavior will change: the default value of `keepdims` will become False, the `axis` over which the statistic is taken will be eliminated, and the value None will no longer be accepted. Set `keepdims` to True or False to avoid this warning.\n",
      "  mode, _ = stats.mode(_y[neigh_ind, k], axis=1)\n",
      "c:\\Anaconda3\\lib\\site-packages\\sklearn\\neighbors\\_classification.py:228: FutureWarning: Unlike other reduction functions (e.g. `skew`, `kurtosis`), the default behavior of `mode` typically preserves the axis it acts along. In SciPy 1.11.0, this behavior will change: the default value of `keepdims` will become False, the `axis` over which the statistic is taken will be eliminated, and the value None will no longer be accepted. Set `keepdims` to True or False to avoid this warning.\n",
      "  mode, _ = stats.mode(_y[neigh_ind, k], axis=1)\n",
      "c:\\Anaconda3\\lib\\site-packages\\sklearn\\neighbors\\_classification.py:228: FutureWarning: Unlike other reduction functions (e.g. `skew`, `kurtosis`), the default behavior of `mode` typically preserves the axis it acts along. In SciPy 1.11.0, this behavior will change: the default value of `keepdims` will become False, the `axis` over which the statistic is taken will be eliminated, and the value None will no longer be accepted. Set `keepdims` to True or False to avoid this warning.\n",
      "  mode, _ = stats.mode(_y[neigh_ind, k], axis=1)\n",
      "c:\\Anaconda3\\lib\\site-packages\\sklearn\\neighbors\\_classification.py:228: FutureWarning: Unlike other reduction functions (e.g. `skew`, `kurtosis`), the default behavior of `mode` typically preserves the axis it acts along. In SciPy 1.11.0, this behavior will change: the default value of `keepdims` will become False, the `axis` over which the statistic is taken will be eliminated, and the value None will no longer be accepted. Set `keepdims` to True or False to avoid this warning.\n",
      "  mode, _ = stats.mode(_y[neigh_ind, k], axis=1)\n",
      "c:\\Anaconda3\\lib\\site-packages\\sklearn\\neighbors\\_classification.py:228: FutureWarning: Unlike other reduction functions (e.g. `skew`, `kurtosis`), the default behavior of `mode` typically preserves the axis it acts along. In SciPy 1.11.0, this behavior will change: the default value of `keepdims` will become False, the `axis` over which the statistic is taken will be eliminated, and the value None will no longer be accepted. Set `keepdims` to True or False to avoid this warning.\n",
      "  mode, _ = stats.mode(_y[neigh_ind, k], axis=1)\n",
      "c:\\Anaconda3\\lib\\site-packages\\sklearn\\neighbors\\_classification.py:228: FutureWarning: Unlike other reduction functions (e.g. `skew`, `kurtosis`), the default behavior of `mode` typically preserves the axis it acts along. In SciPy 1.11.0, this behavior will change: the default value of `keepdims` will become False, the `axis` over which the statistic is taken will be eliminated, and the value None will no longer be accepted. Set `keepdims` to True or False to avoid this warning.\n",
      "  mode, _ = stats.mode(_y[neigh_ind, k], axis=1)\n",
      "c:\\Anaconda3\\lib\\site-packages\\sklearn\\neighbors\\_classification.py:228: FutureWarning: Unlike other reduction functions (e.g. `skew`, `kurtosis`), the default behavior of `mode` typically preserves the axis it acts along. In SciPy 1.11.0, this behavior will change: the default value of `keepdims` will become False, the `axis` over which the statistic is taken will be eliminated, and the value None will no longer be accepted. Set `keepdims` to True or False to avoid this warning.\n",
      "  mode, _ = stats.mode(_y[neigh_ind, k], axis=1)\n",
      "c:\\Anaconda3\\lib\\site-packages\\sklearn\\neighbors\\_classification.py:228: FutureWarning: Unlike other reduction functions (e.g. `skew`, `kurtosis`), the default behavior of `mode` typically preserves the axis it acts along. In SciPy 1.11.0, this behavior will change: the default value of `keepdims` will become False, the `axis` over which the statistic is taken will be eliminated, and the value None will no longer be accepted. Set `keepdims` to True or False to avoid this warning.\n",
      "  mode, _ = stats.mode(_y[neigh_ind, k], axis=1)\n",
      "c:\\Anaconda3\\lib\\site-packages\\sklearn\\neighbors\\_classification.py:228: FutureWarning: Unlike other reduction functions (e.g. `skew`, `kurtosis`), the default behavior of `mode` typically preserves the axis it acts along. In SciPy 1.11.0, this behavior will change: the default value of `keepdims` will become False, the `axis` over which the statistic is taken will be eliminated, and the value None will no longer be accepted. Set `keepdims` to True or False to avoid this warning.\n",
      "  mode, _ = stats.mode(_y[neigh_ind, k], axis=1)\n",
      "c:\\Anaconda3\\lib\\site-packages\\sklearn\\neighbors\\_classification.py:228: FutureWarning: Unlike other reduction functions (e.g. `skew`, `kurtosis`), the default behavior of `mode` typically preserves the axis it acts along. In SciPy 1.11.0, this behavior will change: the default value of `keepdims` will become False, the `axis` over which the statistic is taken will be eliminated, and the value None will no longer be accepted. Set `keepdims` to True or False to avoid this warning.\n",
      "  mode, _ = stats.mode(_y[neigh_ind, k], axis=1)\n",
      "c:\\Anaconda3\\lib\\site-packages\\sklearn\\neighbors\\_classification.py:228: FutureWarning: Unlike other reduction functions (e.g. `skew`, `kurtosis`), the default behavior of `mode` typically preserves the axis it acts along. In SciPy 1.11.0, this behavior will change: the default value of `keepdims` will become False, the `axis` over which the statistic is taken will be eliminated, and the value None will no longer be accepted. Set `keepdims` to True or False to avoid this warning.\n",
      "  mode, _ = stats.mode(_y[neigh_ind, k], axis=1)\n",
      "c:\\Anaconda3\\lib\\site-packages\\sklearn\\neighbors\\_classification.py:228: FutureWarning: Unlike other reduction functions (e.g. `skew`, `kurtosis`), the default behavior of `mode` typically preserves the axis it acts along. In SciPy 1.11.0, this behavior will change: the default value of `keepdims` will become False, the `axis` over which the statistic is taken will be eliminated, and the value None will no longer be accepted. Set `keepdims` to True or False to avoid this warning.\n",
      "  mode, _ = stats.mode(_y[neigh_ind, k], axis=1)\n",
      "c:\\Anaconda3\\lib\\site-packages\\sklearn\\neighbors\\_classification.py:228: FutureWarning: Unlike other reduction functions (e.g. `skew`, `kurtosis`), the default behavior of `mode` typically preserves the axis it acts along. In SciPy 1.11.0, this behavior will change: the default value of `keepdims` will become False, the `axis` over which the statistic is taken will be eliminated, and the value None will no longer be accepted. Set `keepdims` to True or False to avoid this warning.\n",
      "  mode, _ = stats.mode(_y[neigh_ind, k], axis=1)\n",
      "c:\\Anaconda3\\lib\\site-packages\\sklearn\\neighbors\\_classification.py:228: FutureWarning: Unlike other reduction functions (e.g. `skew`, `kurtosis`), the default behavior of `mode` typically preserves the axis it acts along. In SciPy 1.11.0, this behavior will change: the default value of `keepdims` will become False, the `axis` over which the statistic is taken will be eliminated, and the value None will no longer be accepted. Set `keepdims` to True or False to avoid this warning.\n",
      "  mode, _ = stats.mode(_y[neigh_ind, k], axis=1)\n",
      "c:\\Anaconda3\\lib\\site-packages\\sklearn\\neighbors\\_classification.py:228: FutureWarning: Unlike other reduction functions (e.g. `skew`, `kurtosis`), the default behavior of `mode` typically preserves the axis it acts along. In SciPy 1.11.0, this behavior will change: the default value of `keepdims` will become False, the `axis` over which the statistic is taken will be eliminated, and the value None will no longer be accepted. Set `keepdims` to True or False to avoid this warning.\n",
      "  mode, _ = stats.mode(_y[neigh_ind, k], axis=1)\n",
      "c:\\Anaconda3\\lib\\site-packages\\sklearn\\neighbors\\_classification.py:228: FutureWarning: Unlike other reduction functions (e.g. `skew`, `kurtosis`), the default behavior of `mode` typically preserves the axis it acts along. In SciPy 1.11.0, this behavior will change: the default value of `keepdims` will become False, the `axis` over which the statistic is taken will be eliminated, and the value None will no longer be accepted. Set `keepdims` to True or False to avoid this warning.\n",
      "  mode, _ = stats.mode(_y[neigh_ind, k], axis=1)\n",
      "c:\\Anaconda3\\lib\\site-packages\\sklearn\\neighbors\\_classification.py:228: FutureWarning: Unlike other reduction functions (e.g. `skew`, `kurtosis`), the default behavior of `mode` typically preserves the axis it acts along. In SciPy 1.11.0, this behavior will change: the default value of `keepdims` will become False, the `axis` over which the statistic is taken will be eliminated, and the value None will no longer be accepted. Set `keepdims` to True or False to avoid this warning.\n",
      "  mode, _ = stats.mode(_y[neigh_ind, k], axis=1)\n",
      "c:\\Anaconda3\\lib\\site-packages\\sklearn\\neighbors\\_classification.py:228: FutureWarning: Unlike other reduction functions (e.g. `skew`, `kurtosis`), the default behavior of `mode` typically preserves the axis it acts along. In SciPy 1.11.0, this behavior will change: the default value of `keepdims` will become False, the `axis` over which the statistic is taken will be eliminated, and the value None will no longer be accepted. Set `keepdims` to True or False to avoid this warning.\n",
      "  mode, _ = stats.mode(_y[neigh_ind, k], axis=1)\n",
      "c:\\Anaconda3\\lib\\site-packages\\sklearn\\neighbors\\_classification.py:228: FutureWarning: Unlike other reduction functions (e.g. `skew`, `kurtosis`), the default behavior of `mode` typically preserves the axis it acts along. In SciPy 1.11.0, this behavior will change: the default value of `keepdims` will become False, the `axis` over which the statistic is taken will be eliminated, and the value None will no longer be accepted. Set `keepdims` to True or False to avoid this warning.\n",
      "  mode, _ = stats.mode(_y[neigh_ind, k], axis=1)\n",
      "c:\\Anaconda3\\lib\\site-packages\\sklearn\\neighbors\\_classification.py:228: FutureWarning: Unlike other reduction functions (e.g. `skew`, `kurtosis`), the default behavior of `mode` typically preserves the axis it acts along. In SciPy 1.11.0, this behavior will change: the default value of `keepdims` will become False, the `axis` over which the statistic is taken will be eliminated, and the value None will no longer be accepted. Set `keepdims` to True or False to avoid this warning.\n",
      "  mode, _ = stats.mode(_y[neigh_ind, k], axis=1)\n",
      "c:\\Anaconda3\\lib\\site-packages\\sklearn\\neighbors\\_classification.py:228: FutureWarning: Unlike other reduction functions (e.g. `skew`, `kurtosis`), the default behavior of `mode` typically preserves the axis it acts along. In SciPy 1.11.0, this behavior will change: the default value of `keepdims` will become False, the `axis` over which the statistic is taken will be eliminated, and the value None will no longer be accepted. Set `keepdims` to True or False to avoid this warning.\n",
      "  mode, _ = stats.mode(_y[neigh_ind, k], axis=1)\n",
      "c:\\Anaconda3\\lib\\site-packages\\sklearn\\neighbors\\_classification.py:228: FutureWarning: Unlike other reduction functions (e.g. `skew`, `kurtosis`), the default behavior of `mode` typically preserves the axis it acts along. In SciPy 1.11.0, this behavior will change: the default value of `keepdims` will become False, the `axis` over which the statistic is taken will be eliminated, and the value None will no longer be accepted. Set `keepdims` to True or False to avoid this warning.\n",
      "  mode, _ = stats.mode(_y[neigh_ind, k], axis=1)\n",
      "c:\\Anaconda3\\lib\\site-packages\\sklearn\\neighbors\\_classification.py:228: FutureWarning: Unlike other reduction functions (e.g. `skew`, `kurtosis`), the default behavior of `mode` typically preserves the axis it acts along. In SciPy 1.11.0, this behavior will change: the default value of `keepdims` will become False, the `axis` over which the statistic is taken will be eliminated, and the value None will no longer be accepted. Set `keepdims` to True or False to avoid this warning.\n",
      "  mode, _ = stats.mode(_y[neigh_ind, k], axis=1)\n",
      "c:\\Anaconda3\\lib\\site-packages\\sklearn\\neighbors\\_classification.py:228: FutureWarning: Unlike other reduction functions (e.g. `skew`, `kurtosis`), the default behavior of `mode` typically preserves the axis it acts along. In SciPy 1.11.0, this behavior will change: the default value of `keepdims` will become False, the `axis` over which the statistic is taken will be eliminated, and the value None will no longer be accepted. Set `keepdims` to True or False to avoid this warning.\n",
      "  mode, _ = stats.mode(_y[neigh_ind, k], axis=1)\n",
      "c:\\Anaconda3\\lib\\site-packages\\sklearn\\neighbors\\_classification.py:228: FutureWarning: Unlike other reduction functions (e.g. `skew`, `kurtosis`), the default behavior of `mode` typically preserves the axis it acts along. In SciPy 1.11.0, this behavior will change: the default value of `keepdims` will become False, the `axis` over which the statistic is taken will be eliminated, and the value None will no longer be accepted. Set `keepdims` to True or False to avoid this warning.\n",
      "  mode, _ = stats.mode(_y[neigh_ind, k], axis=1)\n",
      "c:\\Anaconda3\\lib\\site-packages\\sklearn\\neighbors\\_classification.py:228: FutureWarning: Unlike other reduction functions (e.g. `skew`, `kurtosis`), the default behavior of `mode` typically preserves the axis it acts along. In SciPy 1.11.0, this behavior will change: the default value of `keepdims` will become False, the `axis` over which the statistic is taken will be eliminated, and the value None will no longer be accepted. Set `keepdims` to True or False to avoid this warning.\n",
      "  mode, _ = stats.mode(_y[neigh_ind, k], axis=1)\n",
      "c:\\Anaconda3\\lib\\site-packages\\sklearn\\neighbors\\_classification.py:228: FutureWarning: Unlike other reduction functions (e.g. `skew`, `kurtosis`), the default behavior of `mode` typically preserves the axis it acts along. In SciPy 1.11.0, this behavior will change: the default value of `keepdims` will become False, the `axis` over which the statistic is taken will be eliminated, and the value None will no longer be accepted. Set `keepdims` to True or False to avoid this warning.\n",
      "  mode, _ = stats.mode(_y[neigh_ind, k], axis=1)\n",
      "c:\\Anaconda3\\lib\\site-packages\\sklearn\\neighbors\\_classification.py:228: FutureWarning: Unlike other reduction functions (e.g. `skew`, `kurtosis`), the default behavior of `mode` typically preserves the axis it acts along. In SciPy 1.11.0, this behavior will change: the default value of `keepdims` will become False, the `axis` over which the statistic is taken will be eliminated, and the value None will no longer be accepted. Set `keepdims` to True or False to avoid this warning.\n",
      "  mode, _ = stats.mode(_y[neigh_ind, k], axis=1)\n",
      "c:\\Anaconda3\\lib\\site-packages\\sklearn\\neighbors\\_classification.py:228: FutureWarning: Unlike other reduction functions (e.g. `skew`, `kurtosis`), the default behavior of `mode` typically preserves the axis it acts along. In SciPy 1.11.0, this behavior will change: the default value of `keepdims` will become False, the `axis` over which the statistic is taken will be eliminated, and the value None will no longer be accepted. Set `keepdims` to True or False to avoid this warning.\n",
      "  mode, _ = stats.mode(_y[neigh_ind, k], axis=1)\n",
      "c:\\Anaconda3\\lib\\site-packages\\sklearn\\neighbors\\_classification.py:228: FutureWarning: Unlike other reduction functions (e.g. `skew`, `kurtosis`), the default behavior of `mode` typically preserves the axis it acts along. In SciPy 1.11.0, this behavior will change: the default value of `keepdims` will become False, the `axis` over which the statistic is taken will be eliminated, and the value None will no longer be accepted. Set `keepdims` to True or False to avoid this warning.\n",
      "  mode, _ = stats.mode(_y[neigh_ind, k], axis=1)\n",
      "c:\\Anaconda3\\lib\\site-packages\\sklearn\\neighbors\\_classification.py:228: FutureWarning: Unlike other reduction functions (e.g. `skew`, `kurtosis`), the default behavior of `mode` typically preserves the axis it acts along. In SciPy 1.11.0, this behavior will change: the default value of `keepdims` will become False, the `axis` over which the statistic is taken will be eliminated, and the value None will no longer be accepted. Set `keepdims` to True or False to avoid this warning.\n",
      "  mode, _ = stats.mode(_y[neigh_ind, k], axis=1)\n",
      "c:\\Anaconda3\\lib\\site-packages\\sklearn\\neighbors\\_classification.py:228: FutureWarning: Unlike other reduction functions (e.g. `skew`, `kurtosis`), the default behavior of `mode` typically preserves the axis it acts along. In SciPy 1.11.0, this behavior will change: the default value of `keepdims` will become False, the `axis` over which the statistic is taken will be eliminated, and the value None will no longer be accepted. Set `keepdims` to True or False to avoid this warning.\n",
      "  mode, _ = stats.mode(_y[neigh_ind, k], axis=1)\n",
      "c:\\Anaconda3\\lib\\site-packages\\sklearn\\neighbors\\_classification.py:228: FutureWarning: Unlike other reduction functions (e.g. `skew`, `kurtosis`), the default behavior of `mode` typically preserves the axis it acts along. In SciPy 1.11.0, this behavior will change: the default value of `keepdims` will become False, the `axis` over which the statistic is taken will be eliminated, and the value None will no longer be accepted. Set `keepdims` to True or False to avoid this warning.\n",
      "  mode, _ = stats.mode(_y[neigh_ind, k], axis=1)\n",
      "c:\\Anaconda3\\lib\\site-packages\\sklearn\\neighbors\\_classification.py:228: FutureWarning: Unlike other reduction functions (e.g. `skew`, `kurtosis`), the default behavior of `mode` typically preserves the axis it acts along. In SciPy 1.11.0, this behavior will change: the default value of `keepdims` will become False, the `axis` over which the statistic is taken will be eliminated, and the value None will no longer be accepted. Set `keepdims` to True or False to avoid this warning.\n",
      "  mode, _ = stats.mode(_y[neigh_ind, k], axis=1)\n",
      "c:\\Anaconda3\\lib\\site-packages\\sklearn\\neighbors\\_classification.py:228: FutureWarning: Unlike other reduction functions (e.g. `skew`, `kurtosis`), the default behavior of `mode` typically preserves the axis it acts along. In SciPy 1.11.0, this behavior will change: the default value of `keepdims` will become False, the `axis` over which the statistic is taken will be eliminated, and the value None will no longer be accepted. Set `keepdims` to True or False to avoid this warning.\n",
      "  mode, _ = stats.mode(_y[neigh_ind, k], axis=1)\n",
      "c:\\Anaconda3\\lib\\site-packages\\sklearn\\neighbors\\_classification.py:228: FutureWarning: Unlike other reduction functions (e.g. `skew`, `kurtosis`), the default behavior of `mode` typically preserves the axis it acts along. In SciPy 1.11.0, this behavior will change: the default value of `keepdims` will become False, the `axis` over which the statistic is taken will be eliminated, and the value None will no longer be accepted. Set `keepdims` to True or False to avoid this warning.\n",
      "  mode, _ = stats.mode(_y[neigh_ind, k], axis=1)\n",
      "c:\\Anaconda3\\lib\\site-packages\\sklearn\\neighbors\\_classification.py:228: FutureWarning: Unlike other reduction functions (e.g. `skew`, `kurtosis`), the default behavior of `mode` typically preserves the axis it acts along. In SciPy 1.11.0, this behavior will change: the default value of `keepdims` will become False, the `axis` over which the statistic is taken will be eliminated, and the value None will no longer be accepted. Set `keepdims` to True or False to avoid this warning.\n",
      "  mode, _ = stats.mode(_y[neigh_ind, k], axis=1)\n",
      "c:\\Anaconda3\\lib\\site-packages\\sklearn\\neighbors\\_classification.py:228: FutureWarning: Unlike other reduction functions (e.g. `skew`, `kurtosis`), the default behavior of `mode` typically preserves the axis it acts along. In SciPy 1.11.0, this behavior will change: the default value of `keepdims` will become False, the `axis` over which the statistic is taken will be eliminated, and the value None will no longer be accepted. Set `keepdims` to True or False to avoid this warning.\n",
      "  mode, _ = stats.mode(_y[neigh_ind, k], axis=1)\n",
      "c:\\Anaconda3\\lib\\site-packages\\sklearn\\neighbors\\_classification.py:228: FutureWarning: Unlike other reduction functions (e.g. `skew`, `kurtosis`), the default behavior of `mode` typically preserves the axis it acts along. In SciPy 1.11.0, this behavior will change: the default value of `keepdims` will become False, the `axis` over which the statistic is taken will be eliminated, and the value None will no longer be accepted. Set `keepdims` to True or False to avoid this warning.\n",
      "  mode, _ = stats.mode(_y[neigh_ind, k], axis=1)\n",
      "c:\\Anaconda3\\lib\\site-packages\\sklearn\\neighbors\\_classification.py:228: FutureWarning: Unlike other reduction functions (e.g. `skew`, `kurtosis`), the default behavior of `mode` typically preserves the axis it acts along. In SciPy 1.11.0, this behavior will change: the default value of `keepdims` will become False, the `axis` over which the statistic is taken will be eliminated, and the value None will no longer be accepted. Set `keepdims` to True or False to avoid this warning.\n",
      "  mode, _ = stats.mode(_y[neigh_ind, k], axis=1)\n",
      "c:\\Anaconda3\\lib\\site-packages\\sklearn\\neighbors\\_classification.py:228: FutureWarning: Unlike other reduction functions (e.g. `skew`, `kurtosis`), the default behavior of `mode` typically preserves the axis it acts along. In SciPy 1.11.0, this behavior will change: the default value of `keepdims` will become False, the `axis` over which the statistic is taken will be eliminated, and the value None will no longer be accepted. Set `keepdims` to True or False to avoid this warning.\n",
      "  mode, _ = stats.mode(_y[neigh_ind, k], axis=1)\n",
      "c:\\Anaconda3\\lib\\site-packages\\sklearn\\neighbors\\_classification.py:228: FutureWarning: Unlike other reduction functions (e.g. `skew`, `kurtosis`), the default behavior of `mode` typically preserves the axis it acts along. In SciPy 1.11.0, this behavior will change: the default value of `keepdims` will become False, the `axis` over which the statistic is taken will be eliminated, and the value None will no longer be accepted. Set `keepdims` to True or False to avoid this warning.\n",
      "  mode, _ = stats.mode(_y[neigh_ind, k], axis=1)\n",
      "c:\\Anaconda3\\lib\\site-packages\\sklearn\\neighbors\\_classification.py:228: FutureWarning: Unlike other reduction functions (e.g. `skew`, `kurtosis`), the default behavior of `mode` typically preserves the axis it acts along. In SciPy 1.11.0, this behavior will change: the default value of `keepdims` will become False, the `axis` over which the statistic is taken will be eliminated, and the value None will no longer be accepted. Set `keepdims` to True or False to avoid this warning.\n",
      "  mode, _ = stats.mode(_y[neigh_ind, k], axis=1)\n",
      "c:\\Anaconda3\\lib\\site-packages\\sklearn\\neighbors\\_classification.py:228: FutureWarning: Unlike other reduction functions (e.g. `skew`, `kurtosis`), the default behavior of `mode` typically preserves the axis it acts along. In SciPy 1.11.0, this behavior will change: the default value of `keepdims` will become False, the `axis` over which the statistic is taken will be eliminated, and the value None will no longer be accepted. Set `keepdims` to True or False to avoid this warning.\n",
      "  mode, _ = stats.mode(_y[neigh_ind, k], axis=1)\n",
      "c:\\Anaconda3\\lib\\site-packages\\sklearn\\neighbors\\_classification.py:228: FutureWarning: Unlike other reduction functions (e.g. `skew`, `kurtosis`), the default behavior of `mode` typically preserves the axis it acts along. In SciPy 1.11.0, this behavior will change: the default value of `keepdims` will become False, the `axis` over which the statistic is taken will be eliminated, and the value None will no longer be accepted. Set `keepdims` to True or False to avoid this warning.\n",
      "  mode, _ = stats.mode(_y[neigh_ind, k], axis=1)\n",
      "c:\\Anaconda3\\lib\\site-packages\\sklearn\\neighbors\\_classification.py:228: FutureWarning: Unlike other reduction functions (e.g. `skew`, `kurtosis`), the default behavior of `mode` typically preserves the axis it acts along. In SciPy 1.11.0, this behavior will change: the default value of `keepdims` will become False, the `axis` over which the statistic is taken will be eliminated, and the value None will no longer be accepted. Set `keepdims` to True or False to avoid this warning.\n",
      "  mode, _ = stats.mode(_y[neigh_ind, k], axis=1)\n",
      "c:\\Anaconda3\\lib\\site-packages\\sklearn\\neighbors\\_classification.py:228: FutureWarning: Unlike other reduction functions (e.g. `skew`, `kurtosis`), the default behavior of `mode` typically preserves the axis it acts along. In SciPy 1.11.0, this behavior will change: the default value of `keepdims` will become False, the `axis` over which the statistic is taken will be eliminated, and the value None will no longer be accepted. Set `keepdims` to True or False to avoid this warning.\n",
      "  mode, _ = stats.mode(_y[neigh_ind, k], axis=1)\n",
      "c:\\Anaconda3\\lib\\site-packages\\sklearn\\neighbors\\_classification.py:228: FutureWarning: Unlike other reduction functions (e.g. `skew`, `kurtosis`), the default behavior of `mode` typically preserves the axis it acts along. In SciPy 1.11.0, this behavior will change: the default value of `keepdims` will become False, the `axis` over which the statistic is taken will be eliminated, and the value None will no longer be accepted. Set `keepdims` to True or False to avoid this warning.\n",
      "  mode, _ = stats.mode(_y[neigh_ind, k], axis=1)\n",
      "c:\\Anaconda3\\lib\\site-packages\\sklearn\\neighbors\\_classification.py:228: FutureWarning: Unlike other reduction functions (e.g. `skew`, `kurtosis`), the default behavior of `mode` typically preserves the axis it acts along. In SciPy 1.11.0, this behavior will change: the default value of `keepdims` will become False, the `axis` over which the statistic is taken will be eliminated, and the value None will no longer be accepted. Set `keepdims` to True or False to avoid this warning.\n",
      "  mode, _ = stats.mode(_y[neigh_ind, k], axis=1)\n",
      "c:\\Anaconda3\\lib\\site-packages\\sklearn\\neighbors\\_classification.py:228: FutureWarning: Unlike other reduction functions (e.g. `skew`, `kurtosis`), the default behavior of `mode` typically preserves the axis it acts along. In SciPy 1.11.0, this behavior will change: the default value of `keepdims` will become False, the `axis` over which the statistic is taken will be eliminated, and the value None will no longer be accepted. Set `keepdims` to True or False to avoid this warning.\n",
      "  mode, _ = stats.mode(_y[neigh_ind, k], axis=1)\n",
      "c:\\Anaconda3\\lib\\site-packages\\sklearn\\neighbors\\_classification.py:228: FutureWarning: Unlike other reduction functions (e.g. `skew`, `kurtosis`), the default behavior of `mode` typically preserves the axis it acts along. In SciPy 1.11.0, this behavior will change: the default value of `keepdims` will become False, the `axis` over which the statistic is taken will be eliminated, and the value None will no longer be accepted. Set `keepdims` to True or False to avoid this warning.\n",
      "  mode, _ = stats.mode(_y[neigh_ind, k], axis=1)\n",
      "c:\\Anaconda3\\lib\\site-packages\\sklearn\\neighbors\\_classification.py:228: FutureWarning: Unlike other reduction functions (e.g. `skew`, `kurtosis`), the default behavior of `mode` typically preserves the axis it acts along. In SciPy 1.11.0, this behavior will change: the default value of `keepdims` will become False, the `axis` over which the statistic is taken will be eliminated, and the value None will no longer be accepted. Set `keepdims` to True or False to avoid this warning.\n",
      "  mode, _ = stats.mode(_y[neigh_ind, k], axis=1)\n",
      "c:\\Anaconda3\\lib\\site-packages\\sklearn\\neighbors\\_classification.py:228: FutureWarning: Unlike other reduction functions (e.g. `skew`, `kurtosis`), the default behavior of `mode` typically preserves the axis it acts along. In SciPy 1.11.0, this behavior will change: the default value of `keepdims` will become False, the `axis` over which the statistic is taken will be eliminated, and the value None will no longer be accepted. Set `keepdims` to True or False to avoid this warning.\n",
      "  mode, _ = stats.mode(_y[neigh_ind, k], axis=1)\n",
      "c:\\Anaconda3\\lib\\site-packages\\sklearn\\neighbors\\_classification.py:228: FutureWarning: Unlike other reduction functions (e.g. `skew`, `kurtosis`), the default behavior of `mode` typically preserves the axis it acts along. In SciPy 1.11.0, this behavior will change: the default value of `keepdims` will become False, the `axis` over which the statistic is taken will be eliminated, and the value None will no longer be accepted. Set `keepdims` to True or False to avoid this warning.\n",
      "  mode, _ = stats.mode(_y[neigh_ind, k], axis=1)\n",
      "c:\\Anaconda3\\lib\\site-packages\\sklearn\\neighbors\\_classification.py:228: FutureWarning: Unlike other reduction functions (e.g. `skew`, `kurtosis`), the default behavior of `mode` typically preserves the axis it acts along. In SciPy 1.11.0, this behavior will change: the default value of `keepdims` will become False, the `axis` over which the statistic is taken will be eliminated, and the value None will no longer be accepted. Set `keepdims` to True or False to avoid this warning.\n",
      "  mode, _ = stats.mode(_y[neigh_ind, k], axis=1)\n",
      "c:\\Anaconda3\\lib\\site-packages\\sklearn\\neighbors\\_classification.py:228: FutureWarning: Unlike other reduction functions (e.g. `skew`, `kurtosis`), the default behavior of `mode` typically preserves the axis it acts along. In SciPy 1.11.0, this behavior will change: the default value of `keepdims` will become False, the `axis` over which the statistic is taken will be eliminated, and the value None will no longer be accepted. Set `keepdims` to True or False to avoid this warning.\n",
      "  mode, _ = stats.mode(_y[neigh_ind, k], axis=1)\n",
      "c:\\Anaconda3\\lib\\site-packages\\sklearn\\neighbors\\_classification.py:228: FutureWarning: Unlike other reduction functions (e.g. `skew`, `kurtosis`), the default behavior of `mode` typically preserves the axis it acts along. In SciPy 1.11.0, this behavior will change: the default value of `keepdims` will become False, the `axis` over which the statistic is taken will be eliminated, and the value None will no longer be accepted. Set `keepdims` to True or False to avoid this warning.\n",
      "  mode, _ = stats.mode(_y[neigh_ind, k], axis=1)\n",
      "c:\\Anaconda3\\lib\\site-packages\\sklearn\\neighbors\\_classification.py:228: FutureWarning: Unlike other reduction functions (e.g. `skew`, `kurtosis`), the default behavior of `mode` typically preserves the axis it acts along. In SciPy 1.11.0, this behavior will change: the default value of `keepdims` will become False, the `axis` over which the statistic is taken will be eliminated, and the value None will no longer be accepted. Set `keepdims` to True or False to avoid this warning.\n",
      "  mode, _ = stats.mode(_y[neigh_ind, k], axis=1)\n",
      "c:\\Anaconda3\\lib\\site-packages\\sklearn\\neighbors\\_classification.py:228: FutureWarning: Unlike other reduction functions (e.g. `skew`, `kurtosis`), the default behavior of `mode` typically preserves the axis it acts along. In SciPy 1.11.0, this behavior will change: the default value of `keepdims` will become False, the `axis` over which the statistic is taken will be eliminated, and the value None will no longer be accepted. Set `keepdims` to True or False to avoid this warning.\n",
      "  mode, _ = stats.mode(_y[neigh_ind, k], axis=1)\n",
      "c:\\Anaconda3\\lib\\site-packages\\sklearn\\neighbors\\_classification.py:228: FutureWarning: Unlike other reduction functions (e.g. `skew`, `kurtosis`), the default behavior of `mode` typically preserves the axis it acts along. In SciPy 1.11.0, this behavior will change: the default value of `keepdims` will become False, the `axis` over which the statistic is taken will be eliminated, and the value None will no longer be accepted. Set `keepdims` to True or False to avoid this warning.\n",
      "  mode, _ = stats.mode(_y[neigh_ind, k], axis=1)\n",
      "c:\\Anaconda3\\lib\\site-packages\\sklearn\\neighbors\\_classification.py:228: FutureWarning: Unlike other reduction functions (e.g. `skew`, `kurtosis`), the default behavior of `mode` typically preserves the axis it acts along. In SciPy 1.11.0, this behavior will change: the default value of `keepdims` will become False, the `axis` over which the statistic is taken will be eliminated, and the value None will no longer be accepted. Set `keepdims` to True or False to avoid this warning.\n",
      "  mode, _ = stats.mode(_y[neigh_ind, k], axis=1)\n",
      "c:\\Anaconda3\\lib\\site-packages\\sklearn\\neighbors\\_classification.py:228: FutureWarning: Unlike other reduction functions (e.g. `skew`, `kurtosis`), the default behavior of `mode` typically preserves the axis it acts along. In SciPy 1.11.0, this behavior will change: the default value of `keepdims` will become False, the `axis` over which the statistic is taken will be eliminated, and the value None will no longer be accepted. Set `keepdims` to True or False to avoid this warning.\n",
      "  mode, _ = stats.mode(_y[neigh_ind, k], axis=1)\n",
      "c:\\Anaconda3\\lib\\site-packages\\sklearn\\neighbors\\_classification.py:228: FutureWarning: Unlike other reduction functions (e.g. `skew`, `kurtosis`), the default behavior of `mode` typically preserves the axis it acts along. In SciPy 1.11.0, this behavior will change: the default value of `keepdims` will become False, the `axis` over which the statistic is taken will be eliminated, and the value None will no longer be accepted. Set `keepdims` to True or False to avoid this warning.\n",
      "  mode, _ = stats.mode(_y[neigh_ind, k], axis=1)\n",
      "c:\\Anaconda3\\lib\\site-packages\\sklearn\\neighbors\\_classification.py:228: FutureWarning: Unlike other reduction functions (e.g. `skew`, `kurtosis`), the default behavior of `mode` typically preserves the axis it acts along. In SciPy 1.11.0, this behavior will change: the default value of `keepdims` will become False, the `axis` over which the statistic is taken will be eliminated, and the value None will no longer be accepted. Set `keepdims` to True or False to avoid this warning.\n",
      "  mode, _ = stats.mode(_y[neigh_ind, k], axis=1)\n",
      "c:\\Anaconda3\\lib\\site-packages\\sklearn\\neighbors\\_classification.py:228: FutureWarning: Unlike other reduction functions (e.g. `skew`, `kurtosis`), the default behavior of `mode` typically preserves the axis it acts along. In SciPy 1.11.0, this behavior will change: the default value of `keepdims` will become False, the `axis` over which the statistic is taken will be eliminated, and the value None will no longer be accepted. Set `keepdims` to True or False to avoid this warning.\n",
      "  mode, _ = stats.mode(_y[neigh_ind, k], axis=1)\n",
      "c:\\Anaconda3\\lib\\site-packages\\sklearn\\neighbors\\_classification.py:228: FutureWarning: Unlike other reduction functions (e.g. `skew`, `kurtosis`), the default behavior of `mode` typically preserves the axis it acts along. In SciPy 1.11.0, this behavior will change: the default value of `keepdims` will become False, the `axis` over which the statistic is taken will be eliminated, and the value None will no longer be accepted. Set `keepdims` to True or False to avoid this warning.\n",
      "  mode, _ = stats.mode(_y[neigh_ind, k], axis=1)\n",
      "c:\\Anaconda3\\lib\\site-packages\\sklearn\\neighbors\\_classification.py:228: FutureWarning: Unlike other reduction functions (e.g. `skew`, `kurtosis`), the default behavior of `mode` typically preserves the axis it acts along. In SciPy 1.11.0, this behavior will change: the default value of `keepdims` will become False, the `axis` over which the statistic is taken will be eliminated, and the value None will no longer be accepted. Set `keepdims` to True or False to avoid this warning.\n",
      "  mode, _ = stats.mode(_y[neigh_ind, k], axis=1)\n",
      "c:\\Anaconda3\\lib\\site-packages\\sklearn\\neighbors\\_classification.py:228: FutureWarning: Unlike other reduction functions (e.g. `skew`, `kurtosis`), the default behavior of `mode` typically preserves the axis it acts along. In SciPy 1.11.0, this behavior will change: the default value of `keepdims` will become False, the `axis` over which the statistic is taken will be eliminated, and the value None will no longer be accepted. Set `keepdims` to True or False to avoid this warning.\n",
      "  mode, _ = stats.mode(_y[neigh_ind, k], axis=1)\n",
      "c:\\Anaconda3\\lib\\site-packages\\sklearn\\neighbors\\_classification.py:228: FutureWarning: Unlike other reduction functions (e.g. `skew`, `kurtosis`), the default behavior of `mode` typically preserves the axis it acts along. In SciPy 1.11.0, this behavior will change: the default value of `keepdims` will become False, the `axis` over which the statistic is taken will be eliminated, and the value None will no longer be accepted. Set `keepdims` to True or False to avoid this warning.\n",
      "  mode, _ = stats.mode(_y[neigh_ind, k], axis=1)\n",
      "c:\\Anaconda3\\lib\\site-packages\\sklearn\\neighbors\\_classification.py:228: FutureWarning: Unlike other reduction functions (e.g. `skew`, `kurtosis`), the default behavior of `mode` typically preserves the axis it acts along. In SciPy 1.11.0, this behavior will change: the default value of `keepdims` will become False, the `axis` over which the statistic is taken will be eliminated, and the value None will no longer be accepted. Set `keepdims` to True or False to avoid this warning.\n",
      "  mode, _ = stats.mode(_y[neigh_ind, k], axis=1)\n",
      "c:\\Anaconda3\\lib\\site-packages\\sklearn\\neighbors\\_classification.py:228: FutureWarning: Unlike other reduction functions (e.g. `skew`, `kurtosis`), the default behavior of `mode` typically preserves the axis it acts along. In SciPy 1.11.0, this behavior will change: the default value of `keepdims` will become False, the `axis` over which the statistic is taken will be eliminated, and the value None will no longer be accepted. Set `keepdims` to True or False to avoid this warning.\n",
      "  mode, _ = stats.mode(_y[neigh_ind, k], axis=1)\n",
      "c:\\Anaconda3\\lib\\site-packages\\sklearn\\neighbors\\_classification.py:228: FutureWarning: Unlike other reduction functions (e.g. `skew`, `kurtosis`), the default behavior of `mode` typically preserves the axis it acts along. In SciPy 1.11.0, this behavior will change: the default value of `keepdims` will become False, the `axis` over which the statistic is taken will be eliminated, and the value None will no longer be accepted. Set `keepdims` to True or False to avoid this warning.\n",
      "  mode, _ = stats.mode(_y[neigh_ind, k], axis=1)\n",
      "c:\\Anaconda3\\lib\\site-packages\\sklearn\\neighbors\\_classification.py:228: FutureWarning: Unlike other reduction functions (e.g. `skew`, `kurtosis`), the default behavior of `mode` typically preserves the axis it acts along. In SciPy 1.11.0, this behavior will change: the default value of `keepdims` will become False, the `axis` over which the statistic is taken will be eliminated, and the value None will no longer be accepted. Set `keepdims` to True or False to avoid this warning.\n",
      "  mode, _ = stats.mode(_y[neigh_ind, k], axis=1)\n",
      "c:\\Anaconda3\\lib\\site-packages\\sklearn\\neighbors\\_classification.py:228: FutureWarning: Unlike other reduction functions (e.g. `skew`, `kurtosis`), the default behavior of `mode` typically preserves the axis it acts along. In SciPy 1.11.0, this behavior will change: the default value of `keepdims` will become False, the `axis` over which the statistic is taken will be eliminated, and the value None will no longer be accepted. Set `keepdims` to True or False to avoid this warning.\n",
      "  mode, _ = stats.mode(_y[neigh_ind, k], axis=1)\n"
     ]
    },
    {
     "data": {
      "text/plain": [
       "GridSearchCV(cv=3, estimator=KNeighborsClassifier(n_neighbors=3),\n",
       "             param_grid={'algorithm': ['ball_tree', 'kd_tree', 'brute'],\n",
       "                         'n_neighbors': [1, 2, 3, 4, 5, 6, 7, 8, 9, 10],\n",
       "                         'p': [1, 2], 'weights': ['uniform', 'distance']})"
      ]
     },
     "execution_count": 58,
     "metadata": {},
     "output_type": "execute_result"
    }
   ],
   "source": [
    "# 최적 요인 탐색\n",
    "from sklearn.model_selection import GridSearchCV\n",
    "params = {\n",
    "'n_neighbors': list(range(1,11)),\n",
    "'algorithm': ['ball_tree','kd_tree','brute'],\n",
    "'weights': ['uniform','distance'],\n",
    "'p': [1,2]\n",
    "}\n",
    "gcv = GridSearchCV(knn, params, cv=3)\n",
    "gcv.fit(X, y)"
   ]
  },
  {
   "cell_type": "code",
   "execution_count": 59,
   "metadata": {},
   "outputs": [
    {
     "data": {
      "text/plain": [
       "[{'algorithm': 'ball_tree', 'n_neighbors': 1, 'p': 1, 'weights': 'uniform'},\n",
       " {'algorithm': 'ball_tree', 'n_neighbors': 1, 'p': 1, 'weights': 'distance'},\n",
       " {'algorithm': 'ball_tree', 'n_neighbors': 1, 'p': 2, 'weights': 'uniform'},\n",
       " {'algorithm': 'ball_tree', 'n_neighbors': 1, 'p': 2, 'weights': 'distance'},\n",
       " {'algorithm': 'ball_tree', 'n_neighbors': 2, 'p': 1, 'weights': 'uniform'}]"
      ]
     },
     "execution_count": 59,
     "metadata": {},
     "output_type": "execute_result"
    }
   ],
   "source": [
    "gcv.cv_results_[\"params\"][:5]"
   ]
  },
  {
   "cell_type": "code",
   "execution_count": 60,
   "metadata": {},
   "outputs": [
    {
     "data": {
      "text/plain": [
       "array([0.48058516, 0.48058516, 0.50466586, 0.50466586, 0.50116232,\n",
       "       0.48998828, 0.53053196, 0.51230635, 0.49468001, 0.48410525])"
      ]
     },
     "execution_count": 60,
     "metadata": {},
     "output_type": "execute_result"
    }
   ],
   "source": [
    "scores=gcv.cv_results_[\"mean_test_score\"]\n",
    "scores[:10]"
   ]
  },
  {
   "cell_type": "code",
   "execution_count": 61,
   "metadata": {},
   "outputs": [
    {
     "name": "stdout",
     "output_type": "stream",
     "text": [
      "0.5516597527552144\n"
     ]
    },
    {
     "data": {
      "text/plain": [
       "Text(0, 0.5, 'mean_test_score')"
      ]
     },
     "execution_count": 61,
     "metadata": {},
     "output_type": "execute_result"
    },
    {
     "data": {
      "image/png": "[encoded data removed]",
      "text/plain": [
       "<Figure size 640x480 with 1 Axes>"
      ]
     },
     "metadata": {},
     "output_type": "display_data"
    }
   ],
   "source": [
    "%matplotlib inline\n",
    "import matplotlib.pyplot as plt\n",
    "print(max(scores))\n",
    "plt.plot(scores)\n",
    "plt.title(\"KNN / 교차검증\") \n",
    "plt.ylabel(\"mean_test_score\")"
   ]
  },
  {
   "cell_type": "code",
   "execution_count": 62,
   "metadata": {},
   "outputs": [
    {
     "name": "stdout",
     "output_type": "stream",
     "text": [
      "0.5516597527552144\n",
      "{'algorithm': 'ball_tree', 'n_neighbors': 6, 'p': 2, 'weights': 'uniform'}\n",
      "KNeighborsClassifier(algorithm='ball_tree', n_neighbors=6)\n"
     ]
    }
   ],
   "source": [
    "# 최적 요인\n",
    "print(gcv.best_score_)\n",
    "print(gcv.best_params_) \n",
    "print(gcv.best_estimator_)"
   ]
  },
  {
   "cell_type": "code",
   "execution_count": 63,
   "metadata": {},
   "outputs": [
    {
     "name": "stdout",
     "output_type": "stream",
     "text": [
      "[0.70760234 0.71345029 0.65294118 0.66470588 0.56470588 0.57058824\n",
      " 0.51176471 0.59411765 0.53529412 0.52941176]\n",
      "0.6044582043343654\n",
      "0.7134502923976608\n"
     ]
    },
    {
     "name": "stderr",
     "output_type": "stream",
     "text": [
      "c:\\Anaconda3\\lib\\site-packages\\sklearn\\neighbors\\_classification.py:228: FutureWarning: Unlike other reduction functions (e.g. `skew`, `kurtosis`), the default behavior of `mode` typically preserves the axis it acts along. In SciPy 1.11.0, this behavior will change: the default value of `keepdims` will become False, the `axis` over which the statistic is taken will be eliminated, and the value None will no longer be accepted. Set `keepdims` to True or False to avoid this warning.\n",
      "  mode, _ = stats.mode(_y[neigh_ind, k], axis=1)\n",
      "c:\\Anaconda3\\lib\\site-packages\\sklearn\\neighbors\\_classification.py:228: FutureWarning: Unlike other reduction functions (e.g. `skew`, `kurtosis`), the default behavior of `mode` typically preserves the axis it acts along. In SciPy 1.11.0, this behavior will change: the default value of `keepdims` will become False, the `axis` over which the statistic is taken will be eliminated, and the value None will no longer be accepted. Set `keepdims` to True or False to avoid this warning.\n",
      "  mode, _ = stats.mode(_y[neigh_ind, k], axis=1)\n",
      "c:\\Anaconda3\\lib\\site-packages\\sklearn\\neighbors\\_classification.py:228: FutureWarning: Unlike other reduction functions (e.g. `skew`, `kurtosis`), the default behavior of `mode` typically preserves the axis it acts along. In SciPy 1.11.0, this behavior will change: the default value of `keepdims` will become False, the `axis` over which the statistic is taken will be eliminated, and the value None will no longer be accepted. Set `keepdims` to True or False to avoid this warning.\n",
      "  mode, _ = stats.mode(_y[neigh_ind, k], axis=1)\n",
      "c:\\Anaconda3\\lib\\site-packages\\sklearn\\neighbors\\_classification.py:228: FutureWarning: Unlike other reduction functions (e.g. `skew`, `kurtosis`), the default behavior of `mode` typically preserves the axis it acts along. In SciPy 1.11.0, this behavior will change: the default value of `keepdims` will become False, the `axis` over which the statistic is taken will be eliminated, and the value None will no longer be accepted. Set `keepdims` to True or False to avoid this warning.\n",
      "  mode, _ = stats.mode(_y[neigh_ind, k], axis=1)\n",
      "c:\\Anaconda3\\lib\\site-packages\\sklearn\\neighbors\\_classification.py:228: FutureWarning: Unlike other reduction functions (e.g. `skew`, `kurtosis`), the default behavior of `mode` typically preserves the axis it acts along. In SciPy 1.11.0, this behavior will change: the default value of `keepdims` will become False, the `axis` over which the statistic is taken will be eliminated, and the value None will no longer be accepted. Set `keepdims` to True or False to avoid this warning.\n",
      "  mode, _ = stats.mode(_y[neigh_ind, k], axis=1)\n",
      "c:\\Anaconda3\\lib\\site-packages\\sklearn\\neighbors\\_classification.py:228: FutureWarning: Unlike other reduction functions (e.g. `skew`, `kurtosis`), the default behavior of `mode` typically preserves the axis it acts along. In SciPy 1.11.0, this behavior will change: the default value of `keepdims` will become False, the `axis` over which the statistic is taken will be eliminated, and the value None will no longer be accepted. Set `keepdims` to True or False to avoid this warning.\n",
      "  mode, _ = stats.mode(_y[neigh_ind, k], axis=1)\n",
      "c:\\Anaconda3\\lib\\site-packages\\sklearn\\neighbors\\_classification.py:228: FutureWarning: Unlike other reduction functions (e.g. `skew`, `kurtosis`), the default behavior of `mode` typically preserves the axis it acts along. In SciPy 1.11.0, this behavior will change: the default value of `keepdims` will become False, the `axis` over which the statistic is taken will be eliminated, and the value None will no longer be accepted. Set `keepdims` to True or False to avoid this warning.\n",
      "  mode, _ = stats.mode(_y[neigh_ind, k], axis=1)\n",
      "c:\\Anaconda3\\lib\\site-packages\\sklearn\\neighbors\\_classification.py:228: FutureWarning: Unlike other reduction functions (e.g. `skew`, `kurtosis`), the default behavior of `mode` typically preserves the axis it acts along. In SciPy 1.11.0, this behavior will change: the default value of `keepdims` will become False, the `axis` over which the statistic is taken will be eliminated, and the value None will no longer be accepted. Set `keepdims` to True or False to avoid this warning.\n",
      "  mode, _ = stats.mode(_y[neigh_ind, k], axis=1)\n",
      "c:\\Anaconda3\\lib\\site-packages\\sklearn\\neighbors\\_classification.py:228: FutureWarning: Unlike other reduction functions (e.g. `skew`, `kurtosis`), the default behavior of `mode` typically preserves the axis it acts along. In SciPy 1.11.0, this behavior will change: the default value of `keepdims` will become False, the `axis` over which the statistic is taken will be eliminated, and the value None will no longer be accepted. Set `keepdims` to True or False to avoid this warning.\n",
      "  mode, _ = stats.mode(_y[neigh_ind, k], axis=1)\n",
      "c:\\Anaconda3\\lib\\site-packages\\sklearn\\neighbors\\_classification.py:228: FutureWarning: Unlike other reduction functions (e.g. `skew`, `kurtosis`), the default behavior of `mode` typically preserves the axis it acts along. In SciPy 1.11.0, this behavior will change: the default value of `keepdims` will become False, the `axis` over which the statistic is taken will be eliminated, and the value None will no longer be accepted. Set `keepdims` to True or False to avoid this warning.\n",
      "  mode, _ = stats.mode(_y[neigh_ind, k], axis=1)\n"
     ]
    }
   ],
   "source": [
    "# 최적 요인 적용 / 교차 검증 10회 \n",
    "from sklearn.model_selection import cross_val_score\n",
    "import numpy as np\n",
    "model = KNeighborsClassifier(algorithm='ball_tree',\n",
    "n_neighbors=6, p=2, weights='uniform')\n",
    "result=cross_val_score(model, X, y, cv=10)\n",
    "\n",
    "print(result)\n",
    "print(np.mean(result))\n",
    "print(np.max(result))"
   ]
  },
  {
   "attachments": {},
   "cell_type": "markdown",
   "metadata": {},
   "source": [
    "#### 7. SVM (서포트벡터머신)"
   ]
  },
  {
   "cell_type": "code",
   "execution_count": 64,
   "metadata": {},
   "outputs": [
    {
     "name": "stdout",
     "output_type": "stream",
     "text": [
      "학습용: 0.804555473916238\n",
      "검증용: 0.7888563049853372\n"
     ]
    }
   ],
   "source": [
    "from sklearn.svm import SVC\n",
    "svm = SVC(random_state=10)\n",
    "svm.fit(X_train_scaled, y_train)\n",
    "print(\"학습용:\",svm.score(X_train_scaled, y_train))\n",
    "print(\"검증용:\",svm.score(X_test_scaled, y_test))"
   ]
  },
  {
   "cell_type": "code",
   "execution_count": 65,
   "metadata": {},
   "outputs": [
    {
     "name": "stdout",
     "output_type": "stream",
     "text": [
      "최적의 c: 0.001\n",
      "최적의 gamma: 0.0001\n",
      "최고 정확도: 0.49853372434017595\n",
      "최적의 c: 0.001\n",
      "최적의 gamma: 0.0001\n",
      "최고 정확도: 0.49853372434017595\n",
      "최적의 c: 0.001\n",
      "최적의 gamma: 0.0001\n",
      "최고 정확도: 0.49853372434017595\n",
      "최적의 c: 0.001\n",
      "최적의 gamma: 0.0001\n",
      "최고 정확도: 0.49853372434017595\n",
      "최적의 c: 0.001\n",
      "최적의 gamma: 0.0001\n",
      "최고 정확도: 0.49853372434017595\n",
      "최적의 c: 0.001\n",
      "최적의 gamma: 0.0001\n",
      "최고 정확도: 0.49853372434017595\n",
      "최적의 c: 0.001\n",
      "최적의 gamma: 0.0001\n",
      "최고 정확도: 0.49853372434017595\n",
      "최적의 c: 0.01\n",
      "최적의 gamma: 0.1\n",
      "최고 정확도: 0.6363636363636364\n",
      "최적의 c: 0.01\n",
      "최적의 gamma: 0.1\n",
      "최고 정확도: 0.6363636363636364\n",
      "최적의 c: 0.01\n",
      "최적의 gamma: 0.1\n",
      "최고 정확도: 0.6363636363636364\n",
      "최적의 c: 0.1\n",
      "최적의 gamma: 0.01\n",
      "최고 정확도: 0.6656891495601173\n",
      "최적의 c: 0.1\n",
      "최적의 gamma: 0.1\n",
      "최고 정확도: 0.6920821114369502\n",
      "최적의 c: 0.1\n",
      "최적의 gamma: 0.1\n",
      "최고 정확도: 0.6920821114369502\n",
      "최적의 c: 0.1\n",
      "최적의 gamma: 0.1\n",
      "최고 정확도: 0.6920821114369502\n",
      "최적의 c: 1\n",
      "최적의 gamma: 0.01\n",
      "최고 정확도: 0.7536656891495601\n",
      "최적의 c: 1\n",
      "최적의 gamma: 0.1\n",
      "최고 정확도: 0.7888563049853372\n",
      "최적의 c: 1\n",
      "최적의 gamma: 0.1\n",
      "최고 정확도: 0.7888563049853372\n",
      "최적의 c: 1\n",
      "최적의 gamma: 0.1\n",
      "최고 정확도: 0.7888563049853372\n",
      "최적의 c: 10\n",
      "최적의 gamma: 0.01\n",
      "최고 정확도: 0.8005865102639296\n",
      "최적의 c: 10\n",
      "최적의 gamma: 0.1\n",
      "최고 정확도: 0.8152492668621701\n",
      "최적의 c: 10\n",
      "최적의 gamma: 0.1\n",
      "최고 정확도: 0.8152492668621701\n",
      "최적의 c: 10\n",
      "최적의 gamma: 0.1\n",
      "최고 정확도: 0.8152492668621701\n",
      "최적의 c: 100\n",
      "최적의 gamma: 0.01\n",
      "최고 정확도: 0.8181818181818182\n",
      "최적의 c: 100\n",
      "최적의 gamma: 0.01\n",
      "최고 정확도: 0.8181818181818182\n",
      "최적의 c: 100\n",
      "최적의 gamma: 0.01\n",
      "최고 정확도: 0.8181818181818182\n",
      "최적의 c: 100\n",
      "최적의 gamma: 0.01\n",
      "최고 정확도: 0.8181818181818182\n",
      "최적의 c: 100\n",
      "최적의 gamma: 0.01\n",
      "최고 정확도: 0.8181818181818182\n",
      "최적의 c: 100\n",
      "최적의 gamma: 0.01\n",
      "최고 정확도: 0.8181818181818182\n"
     ]
    }
   ],
   "source": [
    "# 최적 C value  , Gamma value 탐색\n",
    "import numpy as np\n",
    "train_rate = []\n",
    "test_rate = []\n",
    "c_values = [0.001, 0.01, 0.1, 1, 10, 100, 1000]\n",
    "g_values = [0.0001, 0.001, 0.01, 0.1]\n",
    "for n in c_values:\n",
    "    for g in g_values:\n",
    "        svm = SVC(C=n,gamma=g,random_state=10)\n",
    "        svm.fit(X_train_scaled, y_train)\n",
    "        train_rate.append([n,g,svm.score(X_train_scaled,\n",
    "        y_train)])\n",
    "        test_rate.append([n,g,svm.score(X_test_scaled,\n",
    "        y_test)])\n",
    "        train_arr=np.array(train_rate) \n",
    "        test_arr=np.array(test_rate) \n",
    "        max_rate=np.max(test_arr[:,2])\n",
    "        idx=np.argmax(test_arr[:,2]) \n",
    "        print(\"최적의 c:\",test_rate[idx][0])\n",
    "        print(\"최적의 gamma:\",test_rate[idx][1])\n",
    "        print(\"최고 정확도:\",test_rate[idx][2])"
   ]
  },
  {
   "cell_type": "code",
   "execution_count": 66,
   "metadata": {},
   "outputs": [
    {
     "data": {
      "text/plain": [
       "Text(0, 0.5, 'Score')"
      ]
     },
     "execution_count": 66,
     "metadata": {},
     "output_type": "execute_result"
    },
    {
     "data": {
      "image/png": "[encoded data removed]",
      "text/plain": [
       "<Figure size 640x480 with 1 Axes>"
      ]
     },
     "metadata": {},
     "output_type": "display_data"
    }
   ],
   "source": [
    "plt.rcParams[\"font.size\"]=15\n",
    "plt.plot(range(len(train_rate)), train_arr[:,2], label=\"Train\")\n",
    "plt.plot(range(len(test_rate)), test_arr[:,2], label=\"Test\")\n",
    "plt.legend()\n",
    "plt.title(\"SVM / 정확도 그래프\")\n",
    "plt.ylabel(\"Score\")"
   ]
  },
  {
   "cell_type": "code",
   "execution_count": 67,
   "metadata": {},
   "outputs": [
    {
     "name": "stdout",
     "output_type": "stream",
     "text": [
      "학습용: 0.8185157972079353\n",
      "검증용: 0.8181818181818182\n"
     ]
    }
   ],
   "source": [
    "# 최적 요인 적용\n",
    "from sklearn.svm import SVC\n",
    "svm = SVC(C=100,gamma=0.01,random_state=10)\n",
    "svm.fit(X_train_scaled, y_train)\n",
    "score_tr=svm.score(X_train_scaled, y_train)\n",
    "score_te=svm.score(X_test_scaled, y_test)\n",
    "print(\"학습용:\",score_tr)\n",
    "print(\"검증용:\",score_te)\n",
    "\n",
    "result_tr.append(score_tr)\n",
    "result_te.append(score_te)"
   ]
  },
  {
   "attachments": {},
   "cell_type": "markdown",
   "metadata": {},
   "source": [
    "#### 8. Sklearn (인공신경망 / ANN)"
   ]
  },
  {
   "cell_type": "code",
   "execution_count": 68,
   "metadata": {},
   "outputs": [
    {
     "name": "stdout",
     "output_type": "stream",
     "text": [
      "학습용: 0.8302718589272594\n",
      "검증용: 0.8064516129032258\n"
     ]
    }
   ],
   "source": [
    "from sklearn.neural_network import MLPClassifier\n",
    "mlp = MLPClassifier(max_iter=1000, hidden_layer_sizes=[100,100], random_state=10)\n",
    "mlp.fit(X_train_scaled, y_train)\n",
    "score_tr=mlp.score(X_train_scaled, y_train)\n",
    "score_te=mlp.score(X_test_scaled, y_test)\n",
    "print(\"학습용:\",score_tr)\n",
    "print(\"검증용:\",score_te)\n",
    "\n",
    "result_tr.append(score_tr)\n",
    "result_te.append(score_te)"
   ]
  },
  {
   "cell_type": "code",
   "execution_count": 69,
   "metadata": {},
   "outputs": [
    {
     "data": {
      "text/plain": [
       "<matplotlib.legend.Legend at 0x1eb58efc130>"
      ]
     },
     "execution_count": 69,
     "metadata": {},
     "output_type": "execute_result"
    },
    {
     "data": {
      "image/png": "[encoded data removed]",
      "text/plain": [
       "<Figure size 640x480 with 1 Axes>"
      ]
     },
     "metadata": {},
     "output_type": "display_data"
    }
   ],
   "source": [
    "import numpy as np\n",
    "import matplotlib.pyplot as plt\n",
    "train_rate=[]\n",
    "test_rate=[]\n",
    "for i in range(100,301,100): \n",
    "    for j in range(100,301,100):\n",
    "        model=MLPClassifier(random_state=0, hidden_layer_sizes=[i,j],max_iter=1000)\n",
    "        model.fit(X_train_scaled,y_train)\n",
    "        train_rate.append(model.score(X_train_scaled,y_train))\n",
    "        test_rate.append(model.score(X_test_scaled,y_test))\n",
    "plt.rcParams['font.size']=15\n",
    "plt.plot(range(1,10),train_rate,label='Train')\n",
    "plt.plot(range(1,10),test_rate,label='Test')\n",
    "plt.title(\"ANN / 정확도 그래프\") \n",
    "plt.ylabel('Accuracy')\n",
    "plt.xlabel('count')\n",
    "plt.legend()"
   ]
  },
  {
   "cell_type": "code",
   "execution_count": 70,
   "metadata": {},
   "outputs": [
    {
     "name": "stdout",
     "output_type": "stream",
     "text": [
      "idx: 1\n",
      "최고정확도: 0.8064516129032258\n",
      "100 200\n",
      "학습용: 83.91%\n",
      "검증용: 80.65%\n"
     ]
    }
   ],
   "source": [
    "max_rate=max(test_rate) \n",
    "idx=np.where(test_rate == max_rate)[0][0]  \n",
    "print('idx:',idx)\n",
    "print('최고정확도:',max_rate)\n",
    "cnt=0\n",
    "for i in range(100,301,100):\n",
    "    for j in range(100,301,100):\n",
    "        if cnt == idx:\n",
    "            print(i,j)\n",
    "        cnt+=1\n",
    "model=MLPClassifier(hidden_layer_sizes=[300,100],random_state=0)\n",
    "model.fit(X_train_scaled,y_train)\n",
    "print('학습용:{:6.2f}%'.format(model.score(X_train_scaled,y_train)*100))\n",
    "print('검증용:{:6.2f}%'.format(model.score(X_test_scaled,y_test)*100))"
   ]
  },
  {
   "attachments": {},
   "cell_type": "markdown",
   "metadata": {},
   "source": [
    "#### 9. Tensorflow (딥러닝 / DNN)"
   ]
  },
  {
   "cell_type": "code",
   "execution_count": 71,
   "metadata": {},
   "outputs": [],
   "source": [
    "from keras.models import Sequential\n",
    "from keras.layers import Dense\n",
    "from keras.optimizers import SGD\n",
    "model = Sequential()\n",
    "model.add(Dense(64,input_shape=(X.shape[1],),activation='relu'))\n",
    "model.add(Dense(64,activation='relu'))\n",
    "model.add(Dense(1,activation='sigmoid')) \n",
    "sgd = SGD(learning_rate=0.01)  \n",
    "model.compile(loss='binary_crossentropy',            \n",
    "optimizer='adam',\n",
    "metrics=['accuracy'])"
   ]
  },
  {
   "cell_type": "code",
   "execution_count": 72,
   "metadata": {},
   "outputs": [
    {
     "name": "stdout",
     "output_type": "stream",
     "text": [
      "Epoch 1/100\n",
      "43/43 [==============================] - 1s 1ms/step - loss: 0.6219 - accuracy: 0.6532\n",
      "Epoch 2/100\n",
      "43/43 [==============================] - 0s 1ms/step - loss: 0.5448 - accuracy: 0.7348\n",
      "Epoch 3/100\n",
      "43/43 [==============================] - 0s 1ms/step - loss: 0.5059 - accuracy: 0.7678\n",
      "Epoch 4/100\n",
      "43/43 [==============================] - 0s 1ms/step - loss: 0.4789 - accuracy: 0.7906\n",
      "Epoch 5/100\n",
      "43/43 [==============================] - 0s 1ms/step - loss: 0.4619 - accuracy: 0.7979\n",
      "Epoch 6/100\n",
      "43/43 [==============================] - 0s 1ms/step - loss: 0.4544 - accuracy: 0.8082\n",
      "Epoch 7/100\n",
      "43/43 [==============================] - 0s 1ms/step - loss: 0.4494 - accuracy: 0.8134\n",
      "Epoch 8/100\n",
      "43/43 [==============================] - 0s 1ms/step - loss: 0.4432 - accuracy: 0.8075\n",
      "Epoch 9/100\n",
      "43/43 [==============================] - 0s 1ms/step - loss: 0.4418 - accuracy: 0.8082\n",
      "Epoch 10/100\n",
      "43/43 [==============================] - 0s 2ms/step - loss: 0.4386 - accuracy: 0.8134\n",
      "Epoch 11/100\n",
      "43/43 [==============================] - 0s 1ms/step - loss: 0.4325 - accuracy: 0.8104\n",
      "Epoch 12/100\n",
      "43/43 [==============================] - 0s 1ms/step - loss: 0.4376 - accuracy: 0.8038\n",
      "Epoch 13/100\n",
      "43/43 [==============================] - 0s 1ms/step - loss: 0.4305 - accuracy: 0.8134\n",
      "Epoch 14/100\n",
      "43/43 [==============================] - 0s 1ms/step - loss: 0.4276 - accuracy: 0.8156\n",
      "Epoch 15/100\n",
      "43/43 [==============================] - 0s 2ms/step - loss: 0.4267 - accuracy: 0.8163\n",
      "Epoch 16/100\n",
      "43/43 [==============================] - 0s 1ms/step - loss: 0.4262 - accuracy: 0.8104\n",
      "Epoch 17/100\n",
      "43/43 [==============================] - 0s 1ms/step - loss: 0.4243 - accuracy: 0.8200\n",
      "Epoch 18/100\n",
      "43/43 [==============================] - 0s 1ms/step - loss: 0.4238 - accuracy: 0.8170\n",
      "Epoch 19/100\n",
      "43/43 [==============================] - 0s 1ms/step - loss: 0.4194 - accuracy: 0.8082\n",
      "Epoch 20/100\n",
      "43/43 [==============================] - 0s 1ms/step - loss: 0.4241 - accuracy: 0.8134\n",
      "Epoch 21/100\n",
      "43/43 [==============================] - 0s 2ms/step - loss: 0.4211 - accuracy: 0.8170\n",
      "Epoch 22/100\n",
      "43/43 [==============================] - 0s 1ms/step - loss: 0.4158 - accuracy: 0.8178\n",
      "Epoch 23/100\n",
      "43/43 [==============================] - 0s 1ms/step - loss: 0.4196 - accuracy: 0.8170\n",
      "Epoch 24/100\n",
      "43/43 [==============================] - 0s 1ms/step - loss: 0.4180 - accuracy: 0.8112\n",
      "Epoch 25/100\n",
      "43/43 [==============================] - 0s 1ms/step - loss: 0.4147 - accuracy: 0.8148\n",
      "Epoch 26/100\n",
      "43/43 [==============================] - 0s 1ms/step - loss: 0.4118 - accuracy: 0.8178\n",
      "Epoch 27/100\n",
      "43/43 [==============================] - 0s 2ms/step - loss: 0.4125 - accuracy: 0.8163\n",
      "Epoch 28/100\n",
      "43/43 [==============================] - 0s 1ms/step - loss: 0.4119 - accuracy: 0.8148\n",
      "Epoch 29/100\n",
      "43/43 [==============================] - 0s 1ms/step - loss: 0.4096 - accuracy: 0.8170\n",
      "Epoch 30/100\n",
      "43/43 [==============================] - 0s 1ms/step - loss: 0.4090 - accuracy: 0.8193\n",
      "Epoch 31/100\n",
      "43/43 [==============================] - 0s 1ms/step - loss: 0.4071 - accuracy: 0.8163\n",
      "Epoch 32/100\n",
      "43/43 [==============================] - 0s 1ms/step - loss: 0.4089 - accuracy: 0.8156\n",
      "Epoch 33/100\n",
      "43/43 [==============================] - 0s 1ms/step - loss: 0.4055 - accuracy: 0.8222\n",
      "Epoch 34/100\n",
      "43/43 [==============================] - 0s 1ms/step - loss: 0.4049 - accuracy: 0.8193\n",
      "Epoch 35/100\n",
      "43/43 [==============================] - 0s 1ms/step - loss: 0.4099 - accuracy: 0.8185\n",
      "Epoch 36/100\n",
      "43/43 [==============================] - 0s 1ms/step - loss: 0.4083 - accuracy: 0.8156\n",
      "Epoch 37/100\n",
      "43/43 [==============================] - 0s 1ms/step - loss: 0.4066 - accuracy: 0.8178\n",
      "Epoch 38/100\n",
      "43/43 [==============================] - 0s 5ms/step - loss: 0.4017 - accuracy: 0.8185\n",
      "Epoch 39/100\n",
      "43/43 [==============================] - 0s 1ms/step - loss: 0.4053 - accuracy: 0.8126\n",
      "Epoch 40/100\n",
      "43/43 [==============================] - 0s 1ms/step - loss: 0.4081 - accuracy: 0.8229\n",
      "Epoch 41/100\n",
      "43/43 [==============================] - 0s 2ms/step - loss: 0.4059 - accuracy: 0.8200\n",
      "Epoch 42/100\n",
      "43/43 [==============================] - 0s 3ms/step - loss: 0.4077 - accuracy: 0.8170\n",
      "Epoch 43/100\n",
      "43/43 [==============================] - 0s 2ms/step - loss: 0.4029 - accuracy: 0.8229\n",
      "Epoch 44/100\n",
      "43/43 [==============================] - 0s 1ms/step - loss: 0.4034 - accuracy: 0.8148\n",
      "Epoch 45/100\n",
      "43/43 [==============================] - 0s 1ms/step - loss: 0.4029 - accuracy: 0.8193\n",
      "Epoch 46/100\n",
      "43/43 [==============================] - 0s 1ms/step - loss: 0.3978 - accuracy: 0.8288\n",
      "Epoch 47/100\n",
      "43/43 [==============================] - 0s 1ms/step - loss: 0.4032 - accuracy: 0.8193\n",
      "Epoch 48/100\n",
      "43/43 [==============================] - 0s 1ms/step - loss: 0.3998 - accuracy: 0.8200\n",
      "Epoch 49/100\n",
      "43/43 [==============================] - 0s 1ms/step - loss: 0.3979 - accuracy: 0.8215\n",
      "Epoch 50/100\n",
      "43/43 [==============================] - 0s 2ms/step - loss: 0.3961 - accuracy: 0.8222\n",
      "Epoch 51/100\n",
      "43/43 [==============================] - 0s 1ms/step - loss: 0.3970 - accuracy: 0.8222\n",
      "Epoch 52/100\n",
      "43/43 [==============================] - 0s 2ms/step - loss: 0.4050 - accuracy: 0.8193\n",
      "Epoch 53/100\n",
      "43/43 [==============================] - 0s 1ms/step - loss: 0.4005 - accuracy: 0.8259\n",
      "Epoch 54/100\n",
      "43/43 [==============================] - 0s 1ms/step - loss: 0.3948 - accuracy: 0.8237\n",
      "Epoch 55/100\n",
      "43/43 [==============================] - 0s 2ms/step - loss: 0.3975 - accuracy: 0.8244\n",
      "Epoch 56/100\n",
      "43/43 [==============================] - 0s 2ms/step - loss: 0.3978 - accuracy: 0.8193\n",
      "Epoch 57/100\n",
      "43/43 [==============================] - 0s 2ms/step - loss: 0.3934 - accuracy: 0.8259\n",
      "Epoch 58/100\n",
      "43/43 [==============================] - 0s 2ms/step - loss: 0.3951 - accuracy: 0.8200\n",
      "Epoch 59/100\n",
      "43/43 [==============================] - 0s 2ms/step - loss: 0.3949 - accuracy: 0.8193\n",
      "Epoch 60/100\n",
      "43/43 [==============================] - 0s 1ms/step - loss: 0.3984 - accuracy: 0.8200\n",
      "Epoch 61/100\n",
      "43/43 [==============================] - 0s 1ms/step - loss: 0.3972 - accuracy: 0.8126\n",
      "Epoch 62/100\n",
      "43/43 [==============================] - 0s 2ms/step - loss: 0.3932 - accuracy: 0.8200\n",
      "Epoch 63/100\n",
      "43/43 [==============================] - 0s 1ms/step - loss: 0.3920 - accuracy: 0.8273\n",
      "Epoch 64/100\n",
      "43/43 [==============================] - 0s 1ms/step - loss: 0.3917 - accuracy: 0.8229\n",
      "Epoch 65/100\n",
      "43/43 [==============================] - 0s 1ms/step - loss: 0.3971 - accuracy: 0.8193\n",
      "Epoch 66/100\n",
      "43/43 [==============================] - 0s 1ms/step - loss: 0.3902 - accuracy: 0.8222\n",
      "Epoch 67/100\n",
      "43/43 [==============================] - 0s 1ms/step - loss: 0.3913 - accuracy: 0.8266\n",
      "Epoch 68/100\n",
      "43/43 [==============================] - 0s 2ms/step - loss: 0.3880 - accuracy: 0.8207\n",
      "Epoch 69/100\n",
      "43/43 [==============================] - 0s 1ms/step - loss: 0.3933 - accuracy: 0.8288\n",
      "Epoch 70/100\n",
      "43/43 [==============================] - 0s 1ms/step - loss: 0.3908 - accuracy: 0.8215\n",
      "Epoch 71/100\n",
      "43/43 [==============================] - 0s 1ms/step - loss: 0.3923 - accuracy: 0.8229\n",
      "Epoch 72/100\n",
      "43/43 [==============================] - 0s 1ms/step - loss: 0.3903 - accuracy: 0.8222\n",
      "Epoch 73/100\n",
      "43/43 [==============================] - 0s 1ms/step - loss: 0.3922 - accuracy: 0.8222\n",
      "Epoch 74/100\n",
      "43/43 [==============================] - 0s 1ms/step - loss: 0.3912 - accuracy: 0.8185\n",
      "Epoch 75/100\n",
      "43/43 [==============================] - 0s 1ms/step - loss: 0.3867 - accuracy: 0.8295\n",
      "Epoch 76/100\n",
      "43/43 [==============================] - 0s 1ms/step - loss: 0.3856 - accuracy: 0.8222\n",
      "Epoch 77/100\n",
      "43/43 [==============================] - 0s 1ms/step - loss: 0.3894 - accuracy: 0.8200\n",
      "Epoch 78/100\n",
      "43/43 [==============================] - 0s 1ms/step - loss: 0.3873 - accuracy: 0.8317\n",
      "Epoch 79/100\n",
      "43/43 [==============================] - 0s 2ms/step - loss: 0.3899 - accuracy: 0.8200\n",
      "Epoch 80/100\n",
      "43/43 [==============================] - 0s 2ms/step - loss: 0.3860 - accuracy: 0.8266\n",
      "Epoch 81/100\n",
      "43/43 [==============================] - 0s 2ms/step - loss: 0.3866 - accuracy: 0.8215\n",
      "Epoch 82/100\n",
      "43/43 [==============================] - 0s 2ms/step - loss: 0.3906 - accuracy: 0.8229\n",
      "Epoch 83/100\n",
      "43/43 [==============================] - 0s 3ms/step - loss: 0.3880 - accuracy: 0.8266\n",
      "Epoch 84/100\n",
      "43/43 [==============================] - 0s 3ms/step - loss: 0.3885 - accuracy: 0.8215\n",
      "Epoch 85/100\n",
      "43/43 [==============================] - 0s 1ms/step - loss: 0.3843 - accuracy: 0.8288\n",
      "Epoch 86/100\n",
      "43/43 [==============================] - 0s 1ms/step - loss: 0.3855 - accuracy: 0.8229\n",
      "Epoch 87/100\n",
      "43/43 [==============================] - 0s 1ms/step - loss: 0.3853 - accuracy: 0.8303\n",
      "Epoch 88/100\n",
      "43/43 [==============================] - 0s 1ms/step - loss: 0.3828 - accuracy: 0.8229\n",
      "Epoch 89/100\n",
      "43/43 [==============================] - 0s 1ms/step - loss: 0.3827 - accuracy: 0.8295\n",
      "Epoch 90/100\n",
      "43/43 [==============================] - 0s 1ms/step - loss: 0.3834 - accuracy: 0.8281\n",
      "Epoch 91/100\n",
      "43/43 [==============================] - 0s 1ms/step - loss: 0.3826 - accuracy: 0.8222\n",
      "Epoch 92/100\n",
      "43/43 [==============================] - 0s 1ms/step - loss: 0.3827 - accuracy: 0.8244\n",
      "Epoch 93/100\n",
      "43/43 [==============================] - 0s 2ms/step - loss: 0.3851 - accuracy: 0.8244\n",
      "Epoch 94/100\n",
      "43/43 [==============================] - 0s 1ms/step - loss: 0.3855 - accuracy: 0.8259\n",
      "Epoch 95/100\n",
      "43/43 [==============================] - 0s 1ms/step - loss: 0.3798 - accuracy: 0.8229\n",
      "Epoch 96/100\n",
      "43/43 [==============================] - 0s 1ms/step - loss: 0.3789 - accuracy: 0.8259\n",
      "Epoch 97/100\n",
      "43/43 [==============================] - 0s 1ms/step - loss: 0.3810 - accuracy: 0.8200\n",
      "Epoch 98/100\n",
      "43/43 [==============================] - 0s 1ms/step - loss: 0.3842 - accuracy: 0.8288\n",
      "Epoch 99/100\n",
      "43/43 [==============================] - 0s 1ms/step - loss: 0.3812 - accuracy: 0.8310\n",
      "Epoch 100/100\n",
      "43/43 [==============================] - 0s 1ms/step - loss: 0.3848 - accuracy: 0.8251\n"
     ]
    }
   ],
   "source": [
    "hist = model.fit(X_train_scaled, y_train, epochs=100)"
   ]
  },
  {
   "cell_type": "code",
   "execution_count": 73,
   "metadata": {},
   "outputs": [
    {
     "name": "stdout",
     "output_type": "stream",
     "text": [
      "0.8295370936393738\n",
      "0.8123167157173157\n"
     ]
    }
   ],
   "source": [
    "loss, acc_tr = model.evaluate(X_train_scaled,\n",
    "y_train, verbose=0)\n",
    "loss, acc_te = model.evaluate(X_test_scaled,\n",
    "y_test, verbose=0)\n",
    "print(acc_tr)\n",
    "print(acc_te)\n",
    "\n",
    "\n",
    "result_tr.append(acc_tr)\n",
    "result_te.append(acc_te)"
   ]
  },
  {
   "cell_type": "code",
   "execution_count": 74,
   "metadata": {},
   "outputs": [
    {
     "data": {
      "text/plain": [
       "[0.8016164584864071,\n",
       " 0.804555473916238,\n",
       " 0.8251285819250551,\n",
       " 0.8434974283614989,\n",
       " 0.8185157972079353,\n",
       " 0.8302718589272594,\n",
       " 0.8295370936393738]"
      ]
     },
     "execution_count": 74,
     "metadata": {},
     "output_type": "execute_result"
    }
   ],
   "source": [
    "result_tr"
   ]
  },
  {
   "cell_type": "code",
   "execution_count": 75,
   "metadata": {},
   "outputs": [
    {
     "data": {
      "text/plain": [
       "[0.7976539589442815,\n",
       " 0.8152492668621701,\n",
       " 0.8181818181818182,\n",
       " 0.7565982404692082,\n",
       " 0.8181818181818182,\n",
       " 0.8064516129032258,\n",
       " 0.8123167157173157]"
      ]
     },
     "execution_count": 75,
     "metadata": {},
     "output_type": "execute_result"
    }
   ],
   "source": [
    "result_te"
   ]
  },
  {
   "attachments": {},
   "cell_type": "markdown",
   "metadata": {},
   "source": [
    "#### 10. 정형 데이터 분류 비교"
   ]
  },
  {
   "cell_type": "code",
   "execution_count": 76,
   "metadata": {},
   "outputs": [
    {
     "name": "stdout",
     "output_type": "stream",
     "text": [
      "['LOGIT', 'Tree', 'RF', 'KNN', 'SVM', 'ANN', 'DNN']\n",
      "[0.8016164584864071, 0.804555473916238, 0.8251285819250551, 0.8434974283614989, 0.8185157972079353, 0.8302718589272594, 0.8295370936393738]\n",
      "[0.7976539589442815, 0.8152492668621701, 0.8181818181818182, 0.7565982404692082, 0.8181818181818182, 0.8064516129032258, 0.8123167157173157]\n",
      "최적의 모형(학습용): KNN\n",
      "최고 정확도(학습용): 0.8434974283614989\n",
      "최적의 모형(검증용): RF\n",
      "최고 정확도(검증용): 0.8181818181818182\n"
     ]
    },
    {
     "data": {
      "text/plain": [
       "<matplotlib.legend.Legend at 0x1eb5a1b2610>"
      ]
     },
     "execution_count": 76,
     "metadata": {},
     "output_type": "execute_result"
    },
    {
     "data": {
      "image/png": "[encoded data removed]",
      "text/plain": [
       "<Figure size 640x480 with 1 Axes>"
      ]
     },
     "metadata": {},
     "output_type": "display_data"
    }
   ],
   "source": [
    "methods=[\"LOGIT\",\"Tree\",\"RF\",\"KNN\",\"SVM\", \"ANN\",\"DNN\"]\n",
    "result_tr_arr=np.array(result_tr) \n",
    "max_rate_tr=np.max(result_tr_arr) \n",
    "idx_tr=np.argmax(result_tr_arr) \n",
    "result_te_arr=np.array(result_te) \n",
    "max_rate_te=np.max(result_te_arr) \n",
    "idx_te=np.argmax(result_te_arr) \n",
    "print(methods)\n",
    "print(result_tr)\n",
    "print(result_te)\n",
    "print(\"최적의 모형(학습용):\",methods[idx_tr])\n",
    "print(\"최고 정확도(학습용):\",max_rate_tr)\n",
    "print(\"최적의 모형(검증용):\",methods[idx_te])\n",
    "print(\"최고 정확도(검증용):\",max_rate_te)\n",
    "plt.rcParams[\"font.size\"]=15\n",
    "plt.plot(methods, result_tr_arr, label=\"Train\")\n",
    "plt.plot(methods, result_te_arr, label=\"Test\")\n",
    "plt.title(\"분류 모형별 Score\")\n",
    "plt.xlabel(\"분석방법\")\n",
    "plt.ylabel(\"Score\")\n",
    "plt.legend()"
   ]
  },
  {
   "cell_type": "code",
   "execution_count": 77,
   "metadata": {},
   "outputs": [
    {
     "name": "stdout",
     "output_type": "stream",
     "text": [
      "['LOGIT', 'Tree', 'RF', 'KNN', 'SVM', 'ANN', 'DNN']\n",
      "[0.8016164584864071, 0.804555473916238, 0.8251285819250551, 0.8434974283614989, 0.8185157972079353, 0.8302718589272594, 0.8295370936393738]\n",
      "최적의 모형: KNN\n",
      "최고 정확도: 0.8434974283614989\n"
     ]
    },
    {
     "data": {
      "text/plain": [
       "Text(0, 0.5, 'Accuracy')"
      ]
     },
     "execution_count": 77,
     "metadata": {},
     "output_type": "execute_result"
    },
    {
     "data": {
      "image/png": "[encoded data removed]",
      "text/plain": [
       "<Figure size 640x480 with 1 Axes>"
      ]
     },
     "metadata": {},
     "output_type": "display_data"
    }
   ],
   "source": [
    "methods=[\"LOGIT\",\"Tree\",\"RF\",\"KNN\",\"SVM\",\"ANN\" ,\"DNN\"]\n",
    "scores_arr=np.array(result_tr) \n",
    "max_rate=np.max(result_tr_arr)\n",
    "idx_tr=np.argmax(result_tr_arr) \n",
    "print(methods)\n",
    "print(result_tr)\n",
    "print(\"최적의 모형:\",methods[idx_tr])\n",
    "print(\"최고 정확도:\",max_rate_tr)\n",
    "plt.rcParams[\"font.size\"]=15\n",
    "plt.bar(methods, result_tr_arr)\n",
    "plt.title(\"분류 모형별 정확도\")\n",
    "plt.xlabel(\"Classifier\")\n",
    "plt.ylabel(\"Accuracy\")"
   ]
  },
  {
   "attachments": {},
   "cell_type": "markdown",
   "metadata": {},
   "source": [
    "#### 11.GridSearchCV"
   ]
  },
  {
   "cell_type": "code",
   "execution_count": 78,
   "metadata": {},
   "outputs": [
    {
     "name": "stdout",
     "output_type": "stream",
     "text": [
      "{'clf__C': 10}\n",
      "0.5770042063078057\n"
     ]
    }
   ],
   "source": [
    "#로짓\n",
    "from sklearn.pipeline import Pipeline\n",
    "from sklearn.preprocessing import StandardScaler\n",
    "from sklearn.linear_model import LogisticRegression\n",
    "from sklearn.model_selection import GridSearchCV\n",
    "pipe = Pipeline([\n",
    "('scaler', StandardScaler()),\n",
    "('clf', LogisticRegression(random_state=0)),\n",
    "])\n",
    "params = {\n",
    "'clf__C': [0.0001, 0.001, 0.01, 0.1, 1.0, 10, 100],\n",
    "}\n",
    "grid = GridSearchCV(pipe, params, scoring='accuracy', cv=3)\n",
    "grid.fit(X, y)\n",
    "print(grid.best_params_)\n",
    "print(grid.best_score_)"
   ]
  },
  {
   "cell_type": "code",
   "execution_count": 79,
   "metadata": {},
   "outputs": [
    {
     "data": {
      "text/plain": [
       "[0.5770042063078057]"
      ]
     },
     "execution_count": 79,
     "metadata": {},
     "output_type": "execute_result"
    }
   ],
   "source": [
    "scores = []\n",
    "\n",
    "scores.append(grid.best_score_)\n",
    "scores"
   ]
  },
  {
   "cell_type": "code",
   "execution_count": 80,
   "metadata": {},
   "outputs": [
    {
     "name": "stdout",
     "output_type": "stream",
     "text": [
      "{'clf__max_depth': 3}\n",
      "0.4859010027241639\n"
     ]
    }
   ],
   "source": [
    "#Tree\n",
    "from sklearn.tree import DecisionTreeClassifier\n",
    "pipe = Pipeline([\n",
    "('scaler', StandardScaler()),('clf', DecisionTreeClassifier(random_state=0)),\n",
    "])\n",
    "params = {\n",
    "'clf__max_depth': list(range(3,6))\n",
    "}\n",
    "grid = GridSearchCV(pipe, params, scoring='accuracy', cv=3)\n",
    "grid.fit(X, y)\n",
    "print(grid.best_params_)\n",
    "print(grid.best_score_)"
   ]
  },
  {
   "cell_type": "code",
   "execution_count": 81,
   "metadata": {},
   "outputs": [
    {
     "data": {
      "text/plain": [
       "[0.5770042063078057, 0.4859010027241639]"
      ]
     },
     "execution_count": 81,
     "metadata": {},
     "output_type": "execute_result"
    }
   ],
   "source": [
    "scores.append(grid.best_score_)\n",
    "scores"
   ]
  },
  {
   "cell_type": "code",
   "execution_count": 82,
   "metadata": {},
   "outputs": [],
   "source": [
    "tree=grid.best_estimator_['clf']"
   ]
  },
  {
   "cell_type": "code",
   "execution_count": 83,
   "metadata": {},
   "outputs": [
    {
     "ename": "ModuleNotFoundError",
     "evalue": "No module named 'pydotplus'",
     "output_type": "error",
     "traceback": [
      "\u001b[1;31m---------------------------------------------------------------------------\u001b[0m",
      "\u001b[1;31mModuleNotFoundError\u001b[0m                       Traceback (most recent call last)",
      "\u001b[1;32m~\\AppData\\Local\\Temp\\ipykernel_26432\\3175170590.py\u001b[0m in \u001b[0;36m<module>\u001b[1;34m\u001b[0m\n\u001b[0;32m      1\u001b[0m \u001b[1;32mfrom\u001b[0m \u001b[0msklearn\u001b[0m\u001b[1;33m.\u001b[0m\u001b[0mtree\u001b[0m \u001b[1;32mimport\u001b[0m \u001b[0mexport_graphviz\u001b[0m\u001b[1;33m\u001b[0m\u001b[1;33m\u001b[0m\u001b[0m\n\u001b[1;32m----> 2\u001b[1;33m \u001b[1;32mimport\u001b[0m \u001b[0mpydotplus\u001b[0m\u001b[1;33m\u001b[0m\u001b[1;33m\u001b[0m\u001b[0m\n\u001b[0m\u001b[0;32m      3\u001b[0m \u001b[1;32mimport\u001b[0m \u001b[0mgraphviz\u001b[0m\u001b[1;33m\u001b[0m\u001b[1;33m\u001b[0m\u001b[0m\n\u001b[0;32m      4\u001b[0m \u001b[1;32mfrom\u001b[0m \u001b[0mIPython\u001b[0m\u001b[1;33m.\u001b[0m\u001b[0mdisplay\u001b[0m \u001b[1;32mimport\u001b[0m \u001b[0mImage\u001b[0m\u001b[1;33m\u001b[0m\u001b[1;33m\u001b[0m\u001b[0m\n\u001b[0;32m      5\u001b[0m dot_data = export_graphviz(tree, out_file=None,\n",
      "\u001b[1;31mModuleNotFoundError\u001b[0m: No module named 'pydotplus'"
     ]
    }
   ],
   "source": [
    "from sklearn.tree import export_graphviz\n",
    "import pydotplus\n",
    "import graphviz\n",
    "from IPython.display import Image\n",
    "dot_data = export_graphviz(tree, out_file=None,\n",
    "feature_names=cols, class_names=[\"0\",\"1\"], filled=True,\n",
    "rounded=True, special_characters=True)\n",
    "graph = pydotplus.graph_from_dot_data(dot_data)\n",
    "Image(graph.create_png())"
   ]
  },
  {
   "cell_type": "code",
   "execution_count": null,
   "metadata": {},
   "outputs": [],
   "source": [
    "import numpy as np\n",
    "\n",
    "def plot_tree(model):\n",
    "    n_features = X.shape[1]\n",
    "    plt.rcParams [\"figure.figsize\"]=(16,9)\n",
    "    plt.barh(range(n_features), model.feature_importances_,align='center')\n",
    "    plt.yticks(np.arange(n_features), cols)\n",
    "    plt.title ('Tree-Grid 특성 요인분석')\n",
    "    plt.xlabel(\"importances\")\n",
    "    plt.ylabel(\"features\")\n",
    "    plt.ylim(-1, n_features)\n",
    "plot_tree(tree)"
   ]
  },
  {
   "cell_type": "code",
   "execution_count": null,
   "metadata": {},
   "outputs": [],
   "source": [
    "#RF\n",
    "from sklearn.ensemble import RandomForestClassifier\n",
    "pipe = Pipeline([\n",
    "('scaler', StandardScaler()),\n",
    "('clf', RandomForestClassifier(random_state=0)),\n",
    "])\n",
    "params = {\n",
    "'clf__max_depth': list(range(3,6)),\n",
    "'clf__n_estimators': list(range(10,110,10)),\n",
    "}\n",
    "grid = GridSearchCV(pipe, params, scoring='accuracy', cv=3)\n",
    "grid.fit(X, y)\n",
    "print(grid.best_params_)\n",
    "print(grid.best_score_)"
   ]
  },
  {
   "cell_type": "code",
   "execution_count": null,
   "metadata": {},
   "outputs": [],
   "source": [
    "scores.append(grid.best_score_)\n",
    "scores"
   ]
  },
  {
   "cell_type": "code",
   "execution_count": null,
   "metadata": {},
   "outputs": [],
   "source": [
    "rf=grid.best_estimator_['clf']\n",
    "plot_tree(rf)"
   ]
  },
  {
   "cell_type": "code",
   "execution_count": null,
   "metadata": {},
   "outputs": [],
   "source": [
    "#KNN\n",
    "from sklearn.neighbors import KNeighborsClassifier\n",
    "pipe = Pipeline([\n",
    "('scaler', StandardScaler()),\n",
    "('clf', KNeighborsClassifier()),\n",
    "])\n",
    "params = {\n",
    "'clf__n_neighbors': list(range(1,11)),\n",
    "}\n",
    "grid = GridSearchCV(pipe, params, scoring='accuracy', cv=3)\n",
    "grid.fit(X, y)\n",
    "print(grid.best_params_)\n",
    "print(grid.best_score_)"
   ]
  },
  {
   "cell_type": "code",
   "execution_count": null,
   "metadata": {},
   "outputs": [],
   "source": [
    "scores.append(grid.best_score_)\n",
    "scores"
   ]
  },
  {
   "cell_type": "code",
   "execution_count": null,
   "metadata": {},
   "outputs": [],
   "source": [
    "#svm\n",
    "from sklearn.svm import SVC\n",
    "pipe = Pipeline([\n",
    "('scaler', StandardScaler()),\n",
    "('clf', SVC(random_state=0)),\n",
    "])\n",
    "params = {\n",
    "'clf__C': [0.001, 0.01, 0.1, 1, 10, 100, 1000],\n",
    "'clf__gamma': [0.0001, 0.001, 0.01, 0.1],\n",
    "}\n",
    "grid = GridSearchCV(pipe, params, scoring='accuracy', cv=3)\n",
    "grid.fit(X, y)\n",
    "print(grid.best_params_)\n",
    "print(grid.best_score_)"
   ]
  },
  {
   "cell_type": "code",
   "execution_count": null,
   "metadata": {},
   "outputs": [],
   "source": [
    "scores.append(grid.best_score_)\n",
    "scores"
   ]
  },
  {
   "cell_type": "code",
   "execution_count": null,
   "metadata": {},
   "outputs": [],
   "source": [
    "#ANN\n",
    "from sklearn.neural_network import MLPClassifier\n",
    "pipe = Pipeline([\n",
    "('scaler', StandardScaler()),\n",
    "('clf', MLPClassifier(random_state=0, max_iter=5000)),\n",
    "])\n",
    "params = {\n",
    "'clf__hidden_layer_sizes': [(50,), (100,), (50,50),\n",
    "(100,100)],\n",
    "'clf__activation': ['tanh', 'relu'],\n",
    "'clf__alpha': [0.001, 0.01, 0.1]\n",
    "}\n",
    "grid = GridSearchCV(pipe, params, scoring='accuracy', cv=3)\n",
    "grid.fit(X, y)\n",
    "print(grid.best_params_)\n",
    "print(grid.best_score_)"
   ]
  },
  {
   "cell_type": "code",
   "execution_count": null,
   "metadata": {},
   "outputs": [],
   "source": [
    "scores.append(grid.best_score_)\n",
    "scores"
   ]
  },
  {
   "cell_type": "code",
   "execution_count": null,
   "metadata": {},
   "outputs": [],
   "source": [
    "#DNN\n",
    "from scikeras.wrappers import KerasClassifier\n",
    "from keras import models\n",
    "from keras import layers\n",
    "def create_network(optimizer=\"rmsprop\"):\n",
    "    network = models.Sequential()\n",
    "    network.add(layers.Dense(units=16,\n",
    "    activation=\"relu\",\n",
    "    input_shape=(X.shape[1],)))\n",
    "    network.add(layers.Dense(units=16, activation=\"relu\"))\n",
    "    network.add(layers.Dense(units=1,\n",
    "    activation=\"sigmoid\"))\n",
    "    network.compile(loss='binary_crossentropy',\n",
    "    optimizer=optimizer, \n",
    "    metrics=[\"accuracy\"])\n",
    "    return network"
   ]
  },
  {
   "cell_type": "code",
   "execution_count": null,
   "metadata": {},
   "outputs": [],
   "source": [
    "\n",
    "neural_network = KerasClassifier(model=create_network,\n",
    "verbose=0)\n",
    "pipe=Pipeline([\n",
    "('scaler',StandardScaler()),\n",
    "('clf',neural_network)\n",
    "])\n",
    "params={\n",
    "'clf__epochs': [50, 100],\n",
    "'clf__batch_size': [32,64,128],\n",
    "'clf__optimizer': [\"rmsprop\", \"adam\"],\n",
    "}\n",
    "grid=GridSearchCV(pipe,params,scoring='accuracy',cv=3)\n",
    "grid_result = grid.fit(X, y)"
   ]
  },
  {
   "cell_type": "code",
   "execution_count": null,
   "metadata": {},
   "outputs": [],
   "source": [
    "grid.best_score_"
   ]
  },
  {
   "cell_type": "code",
   "execution_count": null,
   "metadata": {},
   "outputs": [],
   "source": [
    "grid_result.best_params_"
   ]
  },
  {
   "cell_type": "code",
   "execution_count": null,
   "metadata": {},
   "outputs": [],
   "source": [
    "scores.append(grid.best_score_)\n",
    "scores"
   ]
  },
  {
   "cell_type": "code",
   "execution_count": null,
   "metadata": {},
   "outputs": [],
   "source": [
    "methods=[\"LOGIT\",\"Tree\",\"RF\",\"KNN\",\"SVM\",\"ANN\",\"DNN\"]\n",
    "scores_arr=np.array(scores) \n",
    "max_rate=np.max(scores_arr)\n",
    "idx=np.argmax(scores_arr) \n",
    "print(methods)\n",
    "print(scores_arr)\n",
    "print(\"최적의 모형:\",methods[idx])\n",
    "print(\"최고 정확도:\",max_rate)\n",
    "plt.rcParams[\"font.size\"]=15\n",
    "plt.bar(methods, scores_arr)\n",
    "plt.title('GridSearchCV 적용 모형별 정확도' )\n",
    "plt.xlabel(\"Classifier\")\n",
    "plt.ylabel(\"Accuracy\")"
   ]
  }
 ],
 "metadata": {
  "kernelspec": {
   "display_name": "base",
   "language": "python",
   "name": "python3"
  },
  "language_info": {
   "codemirror_mode": {
    "name": "ipython",
    "version": 3
   },
   "file_extension": ".py",
   "mimetype": "text/x-python",
   "name": "python",
   "nbconvert_exporter": "python",
   "pygments_lexer": "ipython3",
   "version": "3.9.13"
  },
  "orig_nbformat": 4
 },
 "nbformat": 4,
 "nbformat_minor": 2
}
