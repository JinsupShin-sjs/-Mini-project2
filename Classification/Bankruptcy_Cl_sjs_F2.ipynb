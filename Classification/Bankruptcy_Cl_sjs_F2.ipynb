{
 "cells": [
  {
   "attachments": {},
   "cell_type": "markdown",
   "metadata": {},
   "source": [
    "#### 1. 파일 불러오기"
   ]
  },
  {
   "cell_type": "code",
   "execution_count": 1,
   "metadata": {},
   "outputs": [],
   "source": [
    "import pandas as pd\n",
    "import numpy as np\n",
    "import matplotlib.pyplot as plt\n",
    "import seaborn as sns  \n",
    "import matplotlib.pyplot as plt\n",
    "from matplotlib import font_manager, rc \n",
    "font_name = font_manager.FontProperties(fname=\"c:/Windows/Fonts/malgun.ttf\").get_name() \n",
    "rc('font', family=font_name)"
   ]
  },
  {
   "cell_type": "code",
   "execution_count": 2,
   "metadata": {},
   "outputs": [
    {
     "data": {
      "text/html": [
       "<div>\n",
       "<style scoped>\n",
       "    .dataframe tbody tr th:only-of-type {\n",
       "        vertical-align: middle;\n",
       "    }\n",
       "\n",
       "    .dataframe tbody tr th {\n",
       "        vertical-align: top;\n",
       "    }\n",
       "\n",
       "    .dataframe thead th {\n",
       "        text-align: right;\n",
       "    }\n",
       "</style>\n",
       "<table border=\"1\" class=\"dataframe\">\n",
       "  <thead>\n",
       "    <tr style=\"text-align: right;\">\n",
       "      <th></th>\n",
       "      <th>cnt</th>\n",
       "      <th>kospi</th>\n",
       "      <th>usd</th>\n",
       "      <th>cny</th>\n",
       "      <th>jpy</th>\n",
       "      <th>call</th>\n",
       "      <th>cd</th>\n",
       "      <th>bond</th>\n",
       "      <th>unemp</th>\n",
       "      <th>p_pi</th>\n",
       "      <th>...</th>\n",
       "      <th>bill_4</th>\n",
       "      <th>bill_6</th>\n",
       "      <th>bill_7</th>\n",
       "      <th>rsn_1</th>\n",
       "      <th>rsn_2</th>\n",
       "      <th>rsn_3</th>\n",
       "      <th>rsn_4</th>\n",
       "      <th>rsn_5</th>\n",
       "      <th>rsn_6</th>\n",
       "      <th>amt_class</th>\n",
       "    </tr>\n",
       "    <tr>\n",
       "      <th>ym</th>\n",
       "      <th></th>\n",
       "      <th></th>\n",
       "      <th></th>\n",
       "      <th></th>\n",
       "      <th></th>\n",
       "      <th></th>\n",
       "      <th></th>\n",
       "      <th></th>\n",
       "      <th></th>\n",
       "      <th></th>\n",
       "      <th></th>\n",
       "      <th></th>\n",
       "      <th></th>\n",
       "      <th></th>\n",
       "      <th></th>\n",
       "      <th></th>\n",
       "      <th></th>\n",
       "      <th></th>\n",
       "      <th></th>\n",
       "      <th></th>\n",
       "      <th></th>\n",
       "    </tr>\n",
       "  </thead>\n",
       "  <tbody>\n",
       "    <tr>\n",
       "      <th>201808</th>\n",
       "      <td>2</td>\n",
       "      <td>2322.88</td>\n",
       "      <td>1108.8</td>\n",
       "      <td>162.29</td>\n",
       "      <td>998.65</td>\n",
       "      <td>3.425</td>\n",
       "      <td>3.61</td>\n",
       "      <td>3.452</td>\n",
       "      <td>4.0</td>\n",
       "      <td>104.32</td>\n",
       "      <td>...</td>\n",
       "      <td>0</td>\n",
       "      <td>0</td>\n",
       "      <td>0</td>\n",
       "      <td>1</td>\n",
       "      <td>0</td>\n",
       "      <td>0</td>\n",
       "      <td>0</td>\n",
       "      <td>0</td>\n",
       "      <td>0</td>\n",
       "      <td>0</td>\n",
       "    </tr>\n",
       "    <tr>\n",
       "      <th>201808</th>\n",
       "      <td>3</td>\n",
       "      <td>2322.88</td>\n",
       "      <td>1108.8</td>\n",
       "      <td>162.29</td>\n",
       "      <td>998.65</td>\n",
       "      <td>3.425</td>\n",
       "      <td>3.61</td>\n",
       "      <td>3.452</td>\n",
       "      <td>4.0</td>\n",
       "      <td>104.32</td>\n",
       "      <td>...</td>\n",
       "      <td>0</td>\n",
       "      <td>0</td>\n",
       "      <td>0</td>\n",
       "      <td>0</td>\n",
       "      <td>1</td>\n",
       "      <td>0</td>\n",
       "      <td>0</td>\n",
       "      <td>0</td>\n",
       "      <td>0</td>\n",
       "      <td>0</td>\n",
       "    </tr>\n",
       "    <tr>\n",
       "      <th>201808</th>\n",
       "      <td>2</td>\n",
       "      <td>2322.88</td>\n",
       "      <td>1108.8</td>\n",
       "      <td>162.29</td>\n",
       "      <td>998.65</td>\n",
       "      <td>3.425</td>\n",
       "      <td>3.61</td>\n",
       "      <td>3.452</td>\n",
       "      <td>4.0</td>\n",
       "      <td>104.32</td>\n",
       "      <td>...</td>\n",
       "      <td>0</td>\n",
       "      <td>0</td>\n",
       "      <td>0</td>\n",
       "      <td>0</td>\n",
       "      <td>0</td>\n",
       "      <td>1</td>\n",
       "      <td>0</td>\n",
       "      <td>0</td>\n",
       "      <td>0</td>\n",
       "      <td>0</td>\n",
       "    </tr>\n",
       "    <tr>\n",
       "      <th>201808</th>\n",
       "      <td>1</td>\n",
       "      <td>2322.88</td>\n",
       "      <td>1108.8</td>\n",
       "      <td>162.29</td>\n",
       "      <td>998.65</td>\n",
       "      <td>3.425</td>\n",
       "      <td>3.61</td>\n",
       "      <td>3.452</td>\n",
       "      <td>4.0</td>\n",
       "      <td>104.32</td>\n",
       "      <td>...</td>\n",
       "      <td>0</td>\n",
       "      <td>0</td>\n",
       "      <td>0</td>\n",
       "      <td>0</td>\n",
       "      <td>0</td>\n",
       "      <td>0</td>\n",
       "      <td>1</td>\n",
       "      <td>0</td>\n",
       "      <td>0</td>\n",
       "      <td>0</td>\n",
       "    </tr>\n",
       "    <tr>\n",
       "      <th>201808</th>\n",
       "      <td>3</td>\n",
       "      <td>2322.88</td>\n",
       "      <td>1108.8</td>\n",
       "      <td>162.29</td>\n",
       "      <td>998.65</td>\n",
       "      <td>3.425</td>\n",
       "      <td>3.61</td>\n",
       "      <td>3.452</td>\n",
       "      <td>4.0</td>\n",
       "      <td>104.32</td>\n",
       "      <td>...</td>\n",
       "      <td>0</td>\n",
       "      <td>0</td>\n",
       "      <td>0</td>\n",
       "      <td>0</td>\n",
       "      <td>0</td>\n",
       "      <td>0</td>\n",
       "      <td>0</td>\n",
       "      <td>0</td>\n",
       "      <td>1</td>\n",
       "      <td>0</td>\n",
       "    </tr>\n",
       "  </tbody>\n",
       "</table>\n",
       "<p>5 rows × 35 columns</p>\n",
       "</div>"
      ],
      "text/plain": [
       "        cnt    kospi     usd     cny     jpy   call    cd   bond  unemp  \\\n",
       "ym                                                                        \n",
       "201808    2  2322.88  1108.8  162.29  998.65  3.425  3.61  3.452    4.0   \n",
       "201808    3  2322.88  1108.8  162.29  998.65  3.425  3.61  3.452    4.0   \n",
       "201808    2  2322.88  1108.8  162.29  998.65  3.425  3.61  3.452    4.0   \n",
       "201808    1  2322.88  1108.8  162.29  998.65  3.425  3.61  3.452    4.0   \n",
       "201808    3  2322.88  1108.8  162.29  998.65  3.425  3.61  3.452    4.0   \n",
       "\n",
       "          p_pi  ...  bill_4  bill_6  bill_7  rsn_1  rsn_2  rsn_3  rsn_4  \\\n",
       "ym              ...                                                       \n",
       "201808  104.32  ...       0       0       0      1      0      0      0   \n",
       "201808  104.32  ...       0       0       0      0      1      0      0   \n",
       "201808  104.32  ...       0       0       0      0      0      1      0   \n",
       "201808  104.32  ...       0       0       0      0      0      0      1   \n",
       "201808  104.32  ...       0       0       0      0      0      0      0   \n",
       "\n",
       "        rsn_5  rsn_6  amt_class  \n",
       "ym                               \n",
       "201808      0      0          0  \n",
       "201808      0      0          0  \n",
       "201808      0      0          0  \n",
       "201808      0      0          0  \n",
       "201808      0      1          0  \n",
       "\n",
       "[5 rows x 35 columns]"
      ]
     },
     "execution_count": 2,
     "metadata": {},
     "output_type": "execute_result"
    }
   ],
   "source": [
    "df = pd.read_csv('c:/Bankruptcy/data/bankruptcy_cl.csv', index_col=0)\n",
    "df.head() "
   ]
  },
  {
   "cell_type": "code",
   "execution_count": 3,
   "metadata": {},
   "outputs": [
    {
     "data": {
      "text/html": [
       "<div>\n",
       "<style scoped>\n",
       "    .dataframe tbody tr th:only-of-type {\n",
       "        vertical-align: middle;\n",
       "    }\n",
       "\n",
       "    .dataframe tbody tr th {\n",
       "        vertical-align: top;\n",
       "    }\n",
       "\n",
       "    .dataframe thead th {\n",
       "        text-align: right;\n",
       "    }\n",
       "</style>\n",
       "<table border=\"1\" class=\"dataframe\">\n",
       "  <thead>\n",
       "    <tr style=\"text-align: right;\">\n",
       "      <th></th>\n",
       "      <th>cnt</th>\n",
       "      <th>kospi</th>\n",
       "      <th>usd</th>\n",
       "      <th>cny</th>\n",
       "      <th>jpy</th>\n",
       "      <th>call</th>\n",
       "      <th>cd</th>\n",
       "      <th>bond</th>\n",
       "      <th>unemp</th>\n",
       "      <th>p_pi</th>\n",
       "      <th>...</th>\n",
       "      <th>bill_3</th>\n",
       "      <th>bill_4</th>\n",
       "      <th>bill_6</th>\n",
       "      <th>bill_7</th>\n",
       "      <th>rsn_1</th>\n",
       "      <th>rsn_2</th>\n",
       "      <th>rsn_3</th>\n",
       "      <th>rsn_4</th>\n",
       "      <th>rsn_5</th>\n",
       "      <th>rsn_6</th>\n",
       "    </tr>\n",
       "    <tr>\n",
       "      <th>amt_class</th>\n",
       "      <th></th>\n",
       "      <th></th>\n",
       "      <th></th>\n",
       "      <th></th>\n",
       "      <th></th>\n",
       "      <th></th>\n",
       "      <th></th>\n",
       "      <th></th>\n",
       "      <th></th>\n",
       "      <th></th>\n",
       "      <th></th>\n",
       "      <th></th>\n",
       "      <th></th>\n",
       "      <th></th>\n",
       "      <th></th>\n",
       "      <th></th>\n",
       "      <th></th>\n",
       "      <th></th>\n",
       "      <th></th>\n",
       "      <th></th>\n",
       "      <th></th>\n",
       "    </tr>\n",
       "  </thead>\n",
       "  <tbody>\n",
       "    <tr>\n",
       "      <th>0</th>\n",
       "      <td>6.243086</td>\n",
       "      <td>2362.449101</td>\n",
       "      <td>1181.915558</td>\n",
       "      <td>173.433855</td>\n",
       "      <td>1047.497623</td>\n",
       "      <td>1.487823</td>\n",
       "      <td>1.774323</td>\n",
       "      <td>1.794844</td>\n",
       "      <td>3.625330</td>\n",
       "      <td>107.046748</td>\n",
       "      <td>...</td>\n",
       "      <td>0.159835</td>\n",
       "      <td>0.121827</td>\n",
       "      <td>0.111757</td>\n",
       "      <td>0.285066</td>\n",
       "      <td>0.248334</td>\n",
       "      <td>0.314991</td>\n",
       "      <td>0.003546</td>\n",
       "      <td>0.192171</td>\n",
       "      <td>0.013899</td>\n",
       "      <td>0.227060</td>\n",
       "    </tr>\n",
       "    <tr>\n",
       "      <th>1</th>\n",
       "      <td>55.404230</td>\n",
       "      <td>2396.425993</td>\n",
       "      <td>1190.173325</td>\n",
       "      <td>174.850435</td>\n",
       "      <td>1037.693608</td>\n",
       "      <td>1.527751</td>\n",
       "      <td>1.803690</td>\n",
       "      <td>1.800824</td>\n",
       "      <td>3.577086</td>\n",
       "      <td>108.190517</td>\n",
       "      <td>...</td>\n",
       "      <td>0.000000</td>\n",
       "      <td>0.004700</td>\n",
       "      <td>0.287897</td>\n",
       "      <td>0.586369</td>\n",
       "      <td>0.229142</td>\n",
       "      <td>0.561692</td>\n",
       "      <td>0.000000</td>\n",
       "      <td>0.012926</td>\n",
       "      <td>0.001175</td>\n",
       "      <td>0.195065</td>\n",
       "    </tr>\n",
       "  </tbody>\n",
       "</table>\n",
       "<p>2 rows × 34 columns</p>\n",
       "</div>"
      ],
      "text/plain": [
       "                 cnt        kospi          usd         cny          jpy  \\\n",
       "amt_class                                                                 \n",
       "0           6.243086  2362.449101  1181.915558  173.433855  1047.497623   \n",
       "1          55.404230  2396.425993  1190.173325  174.850435  1037.693608   \n",
       "\n",
       "               call        cd      bond     unemp        p_pi  ...    bill_3  \\\n",
       "amt_class                                                      ...             \n",
       "0          1.487823  1.774323  1.794844  3.625330  107.046748  ...  0.159835   \n",
       "1          1.527751  1.803690  1.800824  3.577086  108.190517  ...  0.000000   \n",
       "\n",
       "             bill_4    bill_6    bill_7     rsn_1     rsn_2     rsn_3  \\\n",
       "amt_class                                                               \n",
       "0          0.121827  0.111757  0.285066  0.248334  0.314991  0.003546   \n",
       "1          0.004700  0.287897  0.586369  0.229142  0.561692  0.000000   \n",
       "\n",
       "              rsn_4     rsn_5     rsn_6  \n",
       "amt_class                                \n",
       "0          0.192171  0.013899  0.227060  \n",
       "1          0.012926  0.001175  0.195065  \n",
       "\n",
       "[2 rows x 34 columns]"
      ]
     },
     "execution_count": 3,
     "metadata": {},
     "output_type": "execute_result"
    }
   ],
   "source": [
    "df.groupby(\"amt_class\").mean() "
   ]
  },
  {
   "cell_type": "code",
   "execution_count": 4,
   "metadata": {},
   "outputs": [
    {
     "name": "stdout",
     "output_type": "stream",
     "text": [
      "0    7051\n",
      "1     851\n",
      "Name: amt_class, dtype: int64\n"
     ]
    }
   ],
   "source": [
    "print(df['amt_class'].value_counts())"
   ]
  },
  {
   "attachments": {},
   "cell_type": "markdown",
   "metadata": {},
   "source": [
    "#### 2. 언더샘플링/ 종속,독립변수/ 학습용,검증용 분리 "
   ]
  },
  {
   "cell_type": "code",
   "execution_count": 5,
   "metadata": {},
   "outputs": [
    {
     "data": {
      "text/plain": [
       "0    851\n",
       "1    851\n",
       "Name: amt_class, dtype: int64"
      ]
     },
     "execution_count": 5,
     "metadata": {},
     "output_type": "execute_result"
    }
   ],
   "source": [
    "#언더샘플링\n",
    "from imblearn.under_sampling import RandomUnderSampler \n",
    "train_cols = df.columns[0:34] \n",
    "X = df[train_cols]  \n",
    "y = df[\"amt_class\"]\n",
    "X_sample, y_sample = RandomUnderSampler(random_state=0).fit_resample(X, y)\n",
    "X_samp = pd.DataFrame(data=X_sample,columns=train_cols )\n",
    "y_samp = pd.DataFrame(data=y_sample,columns=['amt_class'])\n",
    "df1=pd.concat([X_samp,y_samp],axis=1)\n",
    "df1[\"amt_class\"].value_counts()"
   ]
  },
  {
   "cell_type": "code",
   "execution_count": 6,
   "metadata": {},
   "outputs": [],
   "source": [
    "#독립변수 / 종속 변수\n",
    "X=df1[train_cols]\n",
    "y=df1[\"amt_class\"]"
   ]
  },
  {
   "attachments": {},
   "cell_type": "markdown",
   "metadata": {},
   "source": [
    "#### 3. Logit (로지스틱회귀분석)"
   ]
  },
  {
   "cell_type": "code",
   "execution_count": 7,
   "metadata": {},
   "outputs": [
    {
     "name": "stdout",
     "output_type": "stream",
     "text": [
      "Warning: Maximum number of iterations has been exceeded.\n",
      "         Current function value: 0.294822\n",
      "         Iterations: 35\n"
     ]
    },
    {
     "ename": "LinAlgError",
     "evalue": "Singular matrix",
     "output_type": "error",
     "traceback": [
      "\u001b[1;31m---------------------------------------------------------------------------\u001b[0m",
      "\u001b[1;31mLinAlgError\u001b[0m                               Traceback (most recent call last)",
      "\u001b[1;32m~\\AppData\\Local\\Temp\\ipykernel_29008\\2898578314.py\u001b[0m in \u001b[0;36m<module>\u001b[1;34m\u001b[0m\n\u001b[0;32m      1\u001b[0m \u001b[1;32mimport\u001b[0m \u001b[0mstatsmodels\u001b[0m\u001b[1;33m.\u001b[0m\u001b[0mapi\u001b[0m \u001b[1;32mas\u001b[0m \u001b[0msm\u001b[0m\u001b[1;33m\u001b[0m\u001b[1;33m\u001b[0m\u001b[0m\n\u001b[0;32m      2\u001b[0m \u001b[0mmodel\u001b[0m\u001b[1;33m=\u001b[0m\u001b[0msm\u001b[0m\u001b[1;33m.\u001b[0m\u001b[0mLogit\u001b[0m\u001b[1;33m(\u001b[0m\u001b[0my\u001b[0m\u001b[1;33m,\u001b[0m\u001b[0mX\u001b[0m\u001b[1;33m)\u001b[0m\u001b[1;33m\u001b[0m\u001b[1;33m\u001b[0m\u001b[0m\n\u001b[1;32m----> 3\u001b[1;33m \u001b[0mresult\u001b[0m\u001b[1;33m=\u001b[0m\u001b[0mmodel\u001b[0m\u001b[1;33m.\u001b[0m\u001b[0mfit\u001b[0m\u001b[1;33m(\u001b[0m\u001b[1;33m)\u001b[0m\u001b[1;33m\u001b[0m\u001b[1;33m\u001b[0m\u001b[0m\n\u001b[0m\u001b[0;32m      4\u001b[0m \u001b[0mprint\u001b[0m\u001b[1;33m(\u001b[0m\u001b[0mresult\u001b[0m\u001b[1;33m.\u001b[0m\u001b[0msummary2\u001b[0m\u001b[1;33m(\u001b[0m\u001b[1;33m)\u001b[0m\u001b[1;33m)\u001b[0m\u001b[1;33m\u001b[0m\u001b[1;33m\u001b[0m\u001b[0m\n",
      "\u001b[1;32mc:\\Anaconda3\\lib\\site-packages\\statsmodels\\discrete\\discrete_model.py\u001b[0m in \u001b[0;36mfit\u001b[1;34m(self, start_params, method, maxiter, full_output, disp, callback, **kwargs)\u001b[0m\n\u001b[0;32m   1981\u001b[0m     def fit(self, start_params=None, method='newton', maxiter=35,\n\u001b[0;32m   1982\u001b[0m             full_output=1, disp=1, callback=None, **kwargs):\n\u001b[1;32m-> 1983\u001b[1;33m         bnryfit = super().fit(start_params=start_params,\n\u001b[0m\u001b[0;32m   1984\u001b[0m                               \u001b[0mmethod\u001b[0m\u001b[1;33m=\u001b[0m\u001b[0mmethod\u001b[0m\u001b[1;33m,\u001b[0m\u001b[1;33m\u001b[0m\u001b[1;33m\u001b[0m\u001b[0m\n\u001b[0;32m   1985\u001b[0m                               \u001b[0mmaxiter\u001b[0m\u001b[1;33m=\u001b[0m\u001b[0mmaxiter\u001b[0m\u001b[1;33m,\u001b[0m\u001b[1;33m\u001b[0m\u001b[1;33m\u001b[0m\u001b[0m\n",
      "\u001b[1;32mc:\\Anaconda3\\lib\\site-packages\\statsmodels\\discrete\\discrete_model.py\u001b[0m in \u001b[0;36mfit\u001b[1;34m(self, start_params, method, maxiter, full_output, disp, callback, **kwargs)\u001b[0m\n\u001b[0;32m    228\u001b[0m             \u001b[1;32mpass\u001b[0m  \u001b[1;31m# TODO: make a function factory to have multiple call-backs\u001b[0m\u001b[1;33m\u001b[0m\u001b[1;33m\u001b[0m\u001b[0m\n\u001b[0;32m    229\u001b[0m \u001b[1;33m\u001b[0m\u001b[0m\n\u001b[1;32m--> 230\u001b[1;33m         mlefit = super().fit(start_params=start_params,\n\u001b[0m\u001b[0;32m    231\u001b[0m                              \u001b[0mmethod\u001b[0m\u001b[1;33m=\u001b[0m\u001b[0mmethod\u001b[0m\u001b[1;33m,\u001b[0m\u001b[1;33m\u001b[0m\u001b[1;33m\u001b[0m\u001b[0m\n\u001b[0;32m    232\u001b[0m                              \u001b[0mmaxiter\u001b[0m\u001b[1;33m=\u001b[0m\u001b[0mmaxiter\u001b[0m\u001b[1;33m,\u001b[0m\u001b[1;33m\u001b[0m\u001b[1;33m\u001b[0m\u001b[0m\n",
      "\u001b[1;32mc:\\Anaconda3\\lib\\site-packages\\statsmodels\\base\\model.py\u001b[0m in \u001b[0;36mfit\u001b[1;34m(self, start_params, method, maxiter, full_output, disp, fargs, callback, retall, skip_hessian, **kwargs)\u001b[0m\n\u001b[0;32m    577\u001b[0m             \u001b[0mHinv\u001b[0m \u001b[1;33m=\u001b[0m \u001b[0mcov_params_func\u001b[0m\u001b[1;33m(\u001b[0m\u001b[0mself\u001b[0m\u001b[1;33m,\u001b[0m \u001b[0mxopt\u001b[0m\u001b[1;33m,\u001b[0m \u001b[0mretvals\u001b[0m\u001b[1;33m)\u001b[0m\u001b[1;33m\u001b[0m\u001b[1;33m\u001b[0m\u001b[0m\n\u001b[0;32m    578\u001b[0m         \u001b[1;32melif\u001b[0m \u001b[0mmethod\u001b[0m \u001b[1;33m==\u001b[0m \u001b[1;34m'newton'\u001b[0m \u001b[1;32mand\u001b[0m \u001b[0mfull_output\u001b[0m\u001b[1;33m:\u001b[0m\u001b[1;33m\u001b[0m\u001b[1;33m\u001b[0m\u001b[0m\n\u001b[1;32m--> 579\u001b[1;33m             \u001b[0mHinv\u001b[0m \u001b[1;33m=\u001b[0m \u001b[0mnp\u001b[0m\u001b[1;33m.\u001b[0m\u001b[0mlinalg\u001b[0m\u001b[1;33m.\u001b[0m\u001b[0minv\u001b[0m\u001b[1;33m(\u001b[0m\u001b[1;33m-\u001b[0m\u001b[0mretvals\u001b[0m\u001b[1;33m[\u001b[0m\u001b[1;34m'Hessian'\u001b[0m\u001b[1;33m]\u001b[0m\u001b[1;33m)\u001b[0m \u001b[1;33m/\u001b[0m \u001b[0mnobs\u001b[0m\u001b[1;33m\u001b[0m\u001b[1;33m\u001b[0m\u001b[0m\n\u001b[0m\u001b[0;32m    580\u001b[0m         \u001b[1;32melif\u001b[0m \u001b[1;32mnot\u001b[0m \u001b[0mskip_hessian\u001b[0m\u001b[1;33m:\u001b[0m\u001b[1;33m\u001b[0m\u001b[1;33m\u001b[0m\u001b[0m\n\u001b[0;32m    581\u001b[0m             \u001b[0mH\u001b[0m \u001b[1;33m=\u001b[0m \u001b[1;33m-\u001b[0m\u001b[1;36m1\u001b[0m \u001b[1;33m*\u001b[0m \u001b[0mself\u001b[0m\u001b[1;33m.\u001b[0m\u001b[0mhessian\u001b[0m\u001b[1;33m(\u001b[0m\u001b[0mxopt\u001b[0m\u001b[1;33m)\u001b[0m\u001b[1;33m\u001b[0m\u001b[1;33m\u001b[0m\u001b[0m\n",
      "\u001b[1;32mc:\\Anaconda3\\lib\\site-packages\\numpy\\core\\overrides.py\u001b[0m in \u001b[0;36minv\u001b[1;34m(*args, **kwargs)\u001b[0m\n",
      "\u001b[1;32mc:\\Anaconda3\\lib\\site-packages\\numpy\\linalg\\linalg.py\u001b[0m in \u001b[0;36minv\u001b[1;34m(a)\u001b[0m\n\u001b[0;32m    550\u001b[0m     \u001b[0msignature\u001b[0m \u001b[1;33m=\u001b[0m \u001b[1;34m'D->D'\u001b[0m \u001b[1;32mif\u001b[0m \u001b[0misComplexType\u001b[0m\u001b[1;33m(\u001b[0m\u001b[0mt\u001b[0m\u001b[1;33m)\u001b[0m \u001b[1;32melse\u001b[0m \u001b[1;34m'd->d'\u001b[0m\u001b[1;33m\u001b[0m\u001b[1;33m\u001b[0m\u001b[0m\n\u001b[0;32m    551\u001b[0m     \u001b[0mextobj\u001b[0m \u001b[1;33m=\u001b[0m \u001b[0mget_linalg_error_extobj\u001b[0m\u001b[1;33m(\u001b[0m\u001b[0m_raise_linalgerror_singular\u001b[0m\u001b[1;33m)\u001b[0m\u001b[1;33m\u001b[0m\u001b[1;33m\u001b[0m\u001b[0m\n\u001b[1;32m--> 552\u001b[1;33m     \u001b[0mainv\u001b[0m \u001b[1;33m=\u001b[0m \u001b[0m_umath_linalg\u001b[0m\u001b[1;33m.\u001b[0m\u001b[0minv\u001b[0m\u001b[1;33m(\u001b[0m\u001b[0ma\u001b[0m\u001b[1;33m,\u001b[0m \u001b[0msignature\u001b[0m\u001b[1;33m=\u001b[0m\u001b[0msignature\u001b[0m\u001b[1;33m,\u001b[0m \u001b[0mextobj\u001b[0m\u001b[1;33m=\u001b[0m\u001b[0mextobj\u001b[0m\u001b[1;33m)\u001b[0m\u001b[1;33m\u001b[0m\u001b[1;33m\u001b[0m\u001b[0m\n\u001b[0m\u001b[0;32m    553\u001b[0m     \u001b[1;32mreturn\u001b[0m \u001b[0mwrap\u001b[0m\u001b[1;33m(\u001b[0m\u001b[0mainv\u001b[0m\u001b[1;33m.\u001b[0m\u001b[0mastype\u001b[0m\u001b[1;33m(\u001b[0m\u001b[0mresult_t\u001b[0m\u001b[1;33m,\u001b[0m \u001b[0mcopy\u001b[0m\u001b[1;33m=\u001b[0m\u001b[1;32mFalse\u001b[0m\u001b[1;33m)\u001b[0m\u001b[1;33m)\u001b[0m\u001b[1;33m\u001b[0m\u001b[1;33m\u001b[0m\u001b[0m\n\u001b[0;32m    554\u001b[0m \u001b[1;33m\u001b[0m\u001b[0m\n",
      "\u001b[1;32mc:\\Anaconda3\\lib\\site-packages\\numpy\\linalg\\linalg.py\u001b[0m in \u001b[0;36m_raise_linalgerror_singular\u001b[1;34m(err, flag)\u001b[0m\n\u001b[0;32m     87\u001b[0m \u001b[1;33m\u001b[0m\u001b[0m\n\u001b[0;32m     88\u001b[0m \u001b[1;32mdef\u001b[0m \u001b[0m_raise_linalgerror_singular\u001b[0m\u001b[1;33m(\u001b[0m\u001b[0merr\u001b[0m\u001b[1;33m,\u001b[0m \u001b[0mflag\u001b[0m\u001b[1;33m)\u001b[0m\u001b[1;33m:\u001b[0m\u001b[1;33m\u001b[0m\u001b[1;33m\u001b[0m\u001b[0m\n\u001b[1;32m---> 89\u001b[1;33m     \u001b[1;32mraise\u001b[0m \u001b[0mLinAlgError\u001b[0m\u001b[1;33m(\u001b[0m\u001b[1;34m\"Singular matrix\"\u001b[0m\u001b[1;33m)\u001b[0m\u001b[1;33m\u001b[0m\u001b[1;33m\u001b[0m\u001b[0m\n\u001b[0m\u001b[0;32m     90\u001b[0m \u001b[1;33m\u001b[0m\u001b[0m\n\u001b[0;32m     91\u001b[0m \u001b[1;32mdef\u001b[0m \u001b[0m_raise_linalgerror_nonposdef\u001b[0m\u001b[1;33m(\u001b[0m\u001b[0merr\u001b[0m\u001b[1;33m,\u001b[0m \u001b[0mflag\u001b[0m\u001b[1;33m)\u001b[0m\u001b[1;33m:\u001b[0m\u001b[1;33m\u001b[0m\u001b[1;33m\u001b[0m\u001b[0m\n",
      "\u001b[1;31mLinAlgError\u001b[0m: Singular matrix"
     ]
    }
   ],
   "source": [
    "import statsmodels.api as sm\n",
    "model=sm.Logit(y,X)\n",
    "result=model.fit()\n",
    "print(result.summary2())"
   ]
  },
  {
   "cell_type": "code",
   "execution_count": 8,
   "metadata": {},
   "outputs": [
    {
     "ename": "NameError",
     "evalue": "name 'result' is not defined",
     "output_type": "error",
     "traceback": [
      "\u001b[1;31m---------------------------------------------------------------------------\u001b[0m",
      "\u001b[1;31mNameError\u001b[0m                                 Traceback (most recent call last)",
      "\u001b[1;32m~\\AppData\\Local\\Temp\\ipykernel_29008\\344449681.py\u001b[0m in \u001b[0;36m<module>\u001b[1;34m\u001b[0m\n\u001b[0;32m      1\u001b[0m \u001b[1;31m#P-value 확인\u001b[0m\u001b[1;33m\u001b[0m\u001b[1;33m\u001b[0m\u001b[0m\n\u001b[0;32m      2\u001b[0m \u001b[0mpd\u001b[0m\u001b[1;33m.\u001b[0m\u001b[0moptions\u001b[0m\u001b[1;33m.\u001b[0m\u001b[0mdisplay\u001b[0m\u001b[1;33m.\u001b[0m\u001b[0mfloat_format\u001b[0m \u001b[1;33m=\u001b[0m \u001b[1;34m'{:.5f}'\u001b[0m\u001b[1;33m.\u001b[0m\u001b[0mformat\u001b[0m\u001b[1;33m\u001b[0m\u001b[1;33m\u001b[0m\u001b[0m\n\u001b[1;32m----> 3\u001b[1;33m \u001b[0mprint\u001b[0m\u001b[1;33m(\u001b[0m\u001b[0mresult\u001b[0m\u001b[1;33m.\u001b[0m\u001b[0mpvalues\u001b[0m\u001b[1;33m)\u001b[0m\u001b[1;33m\u001b[0m\u001b[1;33m\u001b[0m\u001b[0m\n\u001b[0m",
      "\u001b[1;31mNameError\u001b[0m: name 'result' is not defined"
     ]
    }
   ],
   "source": [
    "#P-value 확인\n",
    "pd.options.display.float_format = '{:.5f}'.format\n",
    "print(result.pvalues)"
   ]
  },
  {
   "cell_type": "code",
   "execution_count": 9,
   "metadata": {},
   "outputs": [],
   "source": [
    "# 유효한 변수 적용 \n",
    "cols = ['cnt', 'kospi','usd', 'cny', 'c_pi', 'house_pi','coloan','bill_2','rsn_2' ] \n",
    "X = df1[cols]  \n",
    "y = df1[\"amt_class\"]"
   ]
  },
  {
   "cell_type": "code",
   "execution_count": 10,
   "metadata": {},
   "outputs": [
    {
     "name": "stdout",
     "output_type": "stream",
     "text": [
      "Optimization terminated successfully.\n",
      "         Current function value: 0.469046\n",
      "         Iterations 8\n"
     ]
    },
    {
     "data": {
      "text/html": [
       "<table class=\"simpletable\">\n",
       "<tr>\n",
       "        <td>Model:</td>              <td>Logit</td>      <td>Pseudo R-squared:</td>    <td>0.323</td>   \n",
       "</tr>\n",
       "<tr>\n",
       "  <td>Dependent Variable:</td>     <td>amt_class</td>          <td>AIC:</td>         <td>1614.6340</td> \n",
       "</tr>\n",
       "<tr>\n",
       "         <td>Date:</td>        <td>2023-05-03 21:12</td>       <td>BIC:</td>         <td>1663.5900</td> \n",
       "</tr>\n",
       "<tr>\n",
       "   <td>No. Observations:</td>        <td>1702</td>        <td>Log-Likelihood:</td>    <td>-798.32</td>  \n",
       "</tr>\n",
       "<tr>\n",
       "       <td>Df Model:</td>              <td>8</td>            <td>LL-Null:</td>        <td>-1179.7</td>  \n",
       "</tr>\n",
       "<tr>\n",
       "     <td>Df Residuals:</td>          <td>1693</td>         <td>LLR p-value:</td>    <td>2.0945e-159</td>\n",
       "</tr>\n",
       "<tr>\n",
       "      <td>Converged:</td>           <td>1.0000</td>           <td>Scale:</td>         <td>1.0000</td>   \n",
       "</tr>\n",
       "<tr>\n",
       "    <td>No. Iterations:</td>        <td>8.0000</td>              <td></td>               <td></td>      \n",
       "</tr>\n",
       "</table>\n",
       "<table class=\"simpletable\">\n",
       "<tr>\n",
       "      <td></td>      <th>Coef.</th>  <th>Std.Err.</th>    <th>z</th>     <th>P>|z|</th> <th>[0.025</th>  <th>0.975]</th> \n",
       "</tr>\n",
       "<tr>\n",
       "  <th>cnt</th>      <td>0.0709</td>   <td>0.0045</td>  <td>15.8923</td> <td>0.0000</td> <td>0.0622</td>  <td>0.0797</td> \n",
       "</tr>\n",
       "<tr>\n",
       "  <th>kospi</th>    <td>0.0003</td>   <td>0.0004</td>  <td>0.8950</td>  <td>0.3708</td> <td>-0.0004</td> <td>0.0010</td> \n",
       "</tr>\n",
       "<tr>\n",
       "  <th>usd</th>      <td>0.0074</td>   <td>0.0025</td>  <td>2.9826</td>  <td>0.0029</td> <td>0.0026</td>  <td>0.0123</td> \n",
       "</tr>\n",
       "<tr>\n",
       "  <th>cny</th>      <td>-0.0477</td>  <td>0.0233</td>  <td>-2.0479</td> <td>0.0406</td> <td>-0.0933</td> <td>-0.0020</td>\n",
       "</tr>\n",
       "<tr>\n",
       "  <th>c_pi</th>     <td>-0.1146</td>  <td>0.0298</td>  <td>-3.8455</td> <td>0.0001</td> <td>-0.1730</td> <td>-0.0562</td>\n",
       "</tr>\n",
       "<tr>\n",
       "  <th>house_pi</th> <td>0.0959</td>   <td>0.0205</td>  <td>4.6717</td>  <td>0.0000</td> <td>0.0557</td>  <td>0.1362</td> \n",
       "</tr>\n",
       "<tr>\n",
       "  <th>coloan</th>   <td>0.1601</td>   <td>0.1062</td>  <td>1.5067</td>  <td>0.1319</td> <td>-0.0482</td> <td>0.3683</td> \n",
       "</tr>\n",
       "<tr>\n",
       "  <th>bill_2</th>   <td>-0.1912</td>  <td>0.2043</td>  <td>-0.9359</td> <td>0.3493</td> <td>-0.5915</td> <td>0.2092</td> \n",
       "</tr>\n",
       "<tr>\n",
       "  <th>rsn_2</th>    <td>0.7042</td>   <td>0.1282</td>  <td>5.4934</td>  <td>0.0000</td> <td>0.4530</td>  <td>0.9554</td> \n",
       "</tr>\n",
       "</table>"
      ],
      "text/plain": [
       "<class 'statsmodels.iolib.summary2.Summary'>\n",
       "\"\"\"\n",
       "                          Results: Logit\n",
       "==================================================================\n",
       "Model:              Logit            Pseudo R-squared: 0.323      \n",
       "Dependent Variable: amt_class        AIC:              1614.6340  \n",
       "Date:               2023-05-03 21:12 BIC:              1663.5900  \n",
       "No. Observations:   1702             Log-Likelihood:   -798.32    \n",
       "Df Model:           8                LL-Null:          -1179.7    \n",
       "Df Residuals:       1693             LLR p-value:      2.0945e-159\n",
       "Converged:          1.0000           Scale:            1.0000     \n",
       "No. Iterations:     8.0000                                        \n",
       "--------------------------------------------------------------------\n",
       "            Coef.    Std.Err.      z      P>|z|     [0.025    0.975]\n",
       "--------------------------------------------------------------------\n",
       "cnt         0.0709     0.0045   15.8923   0.0000    0.0622    0.0797\n",
       "kospi       0.0003     0.0004    0.8950   0.3708   -0.0004    0.0010\n",
       "usd         0.0074     0.0025    2.9826   0.0029    0.0026    0.0123\n",
       "cny        -0.0477     0.0233   -2.0479   0.0406   -0.0933   -0.0020\n",
       "c_pi       -0.1146     0.0298   -3.8455   0.0001   -0.1730   -0.0562\n",
       "house_pi    0.0959     0.0205    4.6717   0.0000    0.0557    0.1362\n",
       "coloan      0.1601     0.1062    1.5067   0.1319   -0.0482    0.3683\n",
       "bill_2     -0.1912     0.2043   -0.9359   0.3493   -0.5915    0.2092\n",
       "rsn_2       0.7042     0.1282    5.4934   0.0000    0.4530    0.9554\n",
       "==================================================================\n",
       "\n",
       "\"\"\""
      ]
     },
     "execution_count": 10,
     "metadata": {},
     "output_type": "execute_result"
    }
   ],
   "source": [
    "model=sm.Logit(y,X)\n",
    "result=model.fit()\n",
    "result.summary2()"
   ]
  },
  {
   "cell_type": "code",
   "execution_count": 11,
   "metadata": {},
   "outputs": [],
   "source": [
    "#학습용 / 검증용 분리\n",
    "from sklearn.model_selection import train_test_split\n",
    "X_train, X_test, y_train, y_test = train_test_split(\n",
    "X, y, test_size=0.2, stratify=y,random_state=10)"
   ]
  },
  {
   "cell_type": "code",
   "execution_count": 12,
   "metadata": {},
   "outputs": [
    {
     "name": "stdout",
     "output_type": "stream",
     "text": [
      "학습용: 0.8067597354886114\n",
      "검증용: 0.7947214076246334\n"
     ]
    },
    {
     "name": "stderr",
     "output_type": "stream",
     "text": [
      "c:\\Anaconda3\\lib\\site-packages\\sklearn\\linear_model\\_logistic.py:814: ConvergenceWarning: lbfgs failed to converge (status=1):\n",
      "STOP: TOTAL NO. of ITERATIONS REACHED LIMIT.\n",
      "\n",
      "Increase the number of iterations (max_iter) or scale the data as shown in:\n",
      "    https://scikit-learn.org/stable/modules/preprocessing.html\n",
      "Please also refer to the documentation for alternative solver options:\n",
      "    https://scikit-learn.org/stable/modules/linear_model.html#logistic-regression\n",
      "  n_iter_i = _check_optimize_result(\n"
     ]
    }
   ],
   "source": [
    "from sklearn.linear_model import LogisticRegression\n",
    "from sklearn import metrics\n",
    "model = LogisticRegression()\n",
    "model.fit(X_train, y_train)\n",
    "print(\"학습용:\",model.score(X_train, y_train))\n",
    "print(\"검증용:\",model.score(X_test, y_test))"
   ]
  },
  {
   "attachments": {},
   "cell_type": "markdown",
   "metadata": {},
   "source": [
    "##### 3.1 스케일링 적용"
   ]
  },
  {
   "cell_type": "code",
   "execution_count": 13,
   "metadata": {},
   "outputs": [],
   "source": [
    "from sklearn.preprocessing import StandardScaler\n",
    "scaler= StandardScaler()\n",
    "scaler.fit(X_train)\n",
    "X_train_scaled = pd.DataFrame(scaler.transform(X_train))\n",
    "X_test_scaled = pd.DataFrame(scaler.transform(X_test))"
   ]
  },
  {
   "cell_type": "code",
   "execution_count": 14,
   "metadata": {},
   "outputs": [
    {
     "name": "stdout",
     "output_type": "stream",
     "text": [
      "학습용: 0.8016164584864071\n",
      "검증용: 0.7976539589442815\n"
     ]
    }
   ],
   "source": [
    "result_tr = []\n",
    "result_te = []\n",
    "\n",
    "logit = LogisticRegression(random_state=0)\n",
    "logit.fit(X_train_scaled, y_train)\n",
    "\n",
    "score_tr = logit.score(X_train_scaled, y_train)\n",
    "score_te = logit.score(X_test_scaled, y_test)\n",
    "\n",
    "print(\"학습용:\",score_tr)\n",
    "print(\"검증용:\",score_te)\n",
    "\n",
    "result_tr.append(score_tr)\n",
    "result_te.append(score_te)"
   ]
  },
  {
   "attachments": {},
   "cell_type": "markdown",
   "metadata": {},
   "source": [
    "##### 3.2 ROC 커브 / Confusion_matrix "
   ]
  },
  {
   "cell_type": "code",
   "execution_count": 15,
   "metadata": {},
   "outputs": [
    {
     "name": "stderr",
     "output_type": "stream",
     "text": [
      "c:\\Anaconda3\\lib\\site-packages\\sklearn\\linear_model\\_logistic.py:814: ConvergenceWarning: lbfgs failed to converge (status=1):\n",
      "STOP: TOTAL NO. of ITERATIONS REACHED LIMIT.\n",
      "\n",
      "Increase the number of iterations (max_iter) or scale the data as shown in:\n",
      "    https://scikit-learn.org/stable/modules/preprocessing.html\n",
      "Please also refer to the documentation for alternative solver options:\n",
      "    https://scikit-learn.org/stable/modules/linear_model.html#logistic-regression\n",
      "  n_iter_i = _check_optimize_result(\n"
     ]
    },
    {
     "name": "stdout",
     "output_type": "stream",
     "text": [
      "f_value : [-1.77888467 -0.65822968  0.71537285 ...  5.72253479  0.57706222\n",
      "  0.36266753]\n",
      "출력값 : [0 0 1 ... 1 1 1]\n"
     ]
    }
   ],
   "source": [
    "from sklearn.linear_model import LogisticRegression\n",
    "model = LogisticRegression().fit(X, y)\n",
    "y_hat = model.predict(X)  \n",
    "f_value = model.decision_function(X)  \n",
    "print(\"f_value :\",f_value)\n",
    "print(\"출력값 :\",model.predict(X))"
   ]
  },
  {
   "cell_type": "code",
   "execution_count": 16,
   "metadata": {},
   "outputs": [
    {
     "data": {
      "text/html": [
       "<div>\n",
       "<style scoped>\n",
       "    .dataframe tbody tr th:only-of-type {\n",
       "        vertical-align: middle;\n",
       "    }\n",
       "\n",
       "    .dataframe tbody tr th {\n",
       "        vertical-align: top;\n",
       "    }\n",
       "\n",
       "    .dataframe thead th {\n",
       "        text-align: right;\n",
       "    }\n",
       "</style>\n",
       "<table border=\"1\" class=\"dataframe\">\n",
       "  <thead>\n",
       "    <tr style=\"text-align: right;\">\n",
       "      <th></th>\n",
       "      <th>f</th>\n",
       "      <th>y_hat</th>\n",
       "      <th>y</th>\n",
       "    </tr>\n",
       "  </thead>\n",
       "  <tbody>\n",
       "    <tr>\n",
       "      <th>0</th>\n",
       "      <td>39.17867</td>\n",
       "      <td>1.00000</td>\n",
       "      <td>1.00000</td>\n",
       "    </tr>\n",
       "    <tr>\n",
       "      <th>1</th>\n",
       "      <td>32.96593</td>\n",
       "      <td>1.00000</td>\n",
       "      <td>1.00000</td>\n",
       "    </tr>\n",
       "    <tr>\n",
       "      <th>2</th>\n",
       "      <td>32.40054</td>\n",
       "      <td>1.00000</td>\n",
       "      <td>1.00000</td>\n",
       "    </tr>\n",
       "    <tr>\n",
       "      <th>3</th>\n",
       "      <td>30.69591</td>\n",
       "      <td>1.00000</td>\n",
       "      <td>1.00000</td>\n",
       "    </tr>\n",
       "    <tr>\n",
       "      <th>4</th>\n",
       "      <td>29.97370</td>\n",
       "      <td>1.00000</td>\n",
       "      <td>1.00000</td>\n",
       "    </tr>\n",
       "    <tr>\n",
       "      <th>...</th>\n",
       "      <td>...</td>\n",
       "      <td>...</td>\n",
       "      <td>...</td>\n",
       "    </tr>\n",
       "    <tr>\n",
       "      <th>1697</th>\n",
       "      <td>-1.96355</td>\n",
       "      <td>0.00000</td>\n",
       "      <td>0.00000</td>\n",
       "    </tr>\n",
       "    <tr>\n",
       "      <th>1698</th>\n",
       "      <td>-1.96355</td>\n",
       "      <td>0.00000</td>\n",
       "      <td>1.00000</td>\n",
       "    </tr>\n",
       "    <tr>\n",
       "      <th>1699</th>\n",
       "      <td>-1.96355</td>\n",
       "      <td>0.00000</td>\n",
       "      <td>1.00000</td>\n",
       "    </tr>\n",
       "    <tr>\n",
       "      <th>1700</th>\n",
       "      <td>-1.96355</td>\n",
       "      <td>0.00000</td>\n",
       "      <td>0.00000</td>\n",
       "    </tr>\n",
       "    <tr>\n",
       "      <th>1701</th>\n",
       "      <td>-1.96355</td>\n",
       "      <td>0.00000</td>\n",
       "      <td>1.00000</td>\n",
       "    </tr>\n",
       "  </tbody>\n",
       "</table>\n",
       "<p>1702 rows × 3 columns</p>\n",
       "</div>"
      ],
      "text/plain": [
       "            f   y_hat       y\n",
       "0    39.17867 1.00000 1.00000\n",
       "1    32.96593 1.00000 1.00000\n",
       "2    32.40054 1.00000 1.00000\n",
       "3    30.69591 1.00000 1.00000\n",
       "4    29.97370 1.00000 1.00000\n",
       "...       ...     ...     ...\n",
       "1697 -1.96355 0.00000 0.00000\n",
       "1698 -1.96355 0.00000 1.00000\n",
       "1699 -1.96355 0.00000 1.00000\n",
       "1700 -1.96355 0.00000 0.00000\n",
       "1701 -1.96355 0.00000 1.00000\n",
       "\n",
       "[1702 rows x 3 columns]"
      ]
     },
     "execution_count": 16,
     "metadata": {},
     "output_type": "execute_result"
    }
   ],
   "source": [
    "import numpy as np\n",
    "import pandas as pd\n",
    "df_r = pd.DataFrame(np.vstack([f_value, y_hat,y]).T,\n",
    "                  columns=[\"f\", \"y_hat\",\"y\"])\n",
    "df_r.sort_values(\"f\", ascending=False).reset_index(drop=True)"
   ]
  },
  {
   "cell_type": "code",
   "execution_count": 17,
   "metadata": {},
   "outputs": [
    {
     "data": {
      "text/plain": [
       "array([[763,  88],\n",
       "       [241, 610]], dtype=int64)"
      ]
     },
     "execution_count": 17,
     "metadata": {},
     "output_type": "execute_result"
    }
   ],
   "source": [
    "from sklearn.metrics import confusion_matrix\n",
    "confusion_matrix(y, y_hat,labels=[0,1])"
   ]
  },
  {
   "cell_type": "code",
   "execution_count": 18,
   "metadata": {},
   "outputs": [
    {
     "name": "stdout",
     "output_type": "stream",
     "text": [
      "fall-out : 0.1045828437132785\n",
      "recall : 0.7144535840188014\n"
     ]
    }
   ],
   "source": [
    "# 특이도, 민감도 산출\n",
    "fpr0 = 89/(762+89) \n",
    "tpr0 = 608/(243+608)  \n",
    "print(\"fall-out :\",fpr0)\n",
    "print(\"recall :\",tpr0)"
   ]
  },
  {
   "cell_type": "code",
   "execution_count": 19,
   "metadata": {},
   "outputs": [
    {
     "data": {
      "text/plain": [
       "(array([0.        , 0.        , 0.        , 0.00117509, 0.00117509,\n",
       "        0.00235018, 0.00235018, 0.00352526, 0.00352526, 0.00587544,\n",
       "        0.00587544, 0.00705053, 0.00705053, 0.00940071, 0.00940071,\n",
       "        0.01057579, 0.01057579, 0.01175088, 0.01175088, 0.01292597,\n",
       "        0.01292597, 0.01410106, 0.01410106, 0.01410106, 0.01410106,\n",
       "        0.01527615, 0.01527615, 0.01645123, 0.01645123, 0.01645123,\n",
       "        0.01645123, 0.01762632, 0.01762632, 0.01880141, 0.01880141,\n",
       "        0.01880141, 0.01880141, 0.01880141, 0.01880141, 0.0199765 ,\n",
       "        0.0199765 , 0.02115159, 0.02115159, 0.02350176, 0.02350176,\n",
       "        0.02350176, 0.02350176, 0.02585194, 0.02585194, 0.02585194,\n",
       "        0.02585194, 0.02702703, 0.02702703, 0.02820212, 0.02820212,\n",
       "        0.0293772 , 0.0293772 , 0.03055229, 0.03055229, 0.03172738,\n",
       "        0.03172738, 0.03290247, 0.03290247, 0.03290247, 0.03407756,\n",
       "        0.03407756, 0.03525264, 0.03525264, 0.03642773, 0.03642773,\n",
       "        0.03760282, 0.03760282, 0.03877791, 0.03877791, 0.039953  ,\n",
       "        0.039953  , 0.04112808, 0.04112808, 0.04230317, 0.04230317,\n",
       "        0.04347826, 0.04347826, 0.04347826, 0.04347826, 0.04582844,\n",
       "        0.04700353, 0.04817861, 0.04817861, 0.0493537 , 0.0493537 ,\n",
       "        0.05170388, 0.05170388, 0.05287897, 0.05522914, 0.05522914,\n",
       "        0.05640423, 0.05640423, 0.05757932, 0.05875441, 0.05875441,\n",
       "        0.05992949, 0.05992949, 0.06110458, 0.06110458, 0.06227967,\n",
       "        0.06227967, 0.06345476, 0.06345476, 0.06462985, 0.06462985,\n",
       "        0.06698002, 0.06698002, 0.06815511, 0.06815511, 0.07050529,\n",
       "        0.07050529, 0.07285546, 0.07285546, 0.07638073, 0.07638073,\n",
       "        0.07638073, 0.07638073, 0.07755582, 0.07755582, 0.0787309 ,\n",
       "        0.0787309 , 0.08108108, 0.08108108, 0.08460635, 0.08460635,\n",
       "        0.08578143, 0.08578143, 0.08695652, 0.08695652, 0.0893067 ,\n",
       "        0.0893067 , 0.09400705, 0.09400705, 0.09635723, 0.09635723,\n",
       "        0.09753231, 0.09753231, 0.0987074 , 0.0987074 , 0.10223267,\n",
       "        0.10223267, 0.10340776, 0.1092832 , 0.1092832 , 0.11163337,\n",
       "        0.11163337, 0.11280846, 0.11633373, 0.11633373, 0.11750881,\n",
       "        0.11750881, 0.1186839 , 0.1186839 , 0.11985899, 0.11985899,\n",
       "        0.11985899, 0.12220917, 0.12220917, 0.12455934, 0.12455934,\n",
       "        0.12573443, 0.12573443, 0.12573443, 0.12925969, 0.13160987,\n",
       "        0.13160987, 0.13278496, 0.13396005, 0.13513514, 0.13513514,\n",
       "        0.13748531, 0.13748531, 0.13983549, 0.13983549, 0.14101058,\n",
       "        0.14101058, 0.14218566, 0.14218566, 0.14688602, 0.14688602,\n",
       "        0.15041128, 0.15393655, 0.15511163, 0.15746181, 0.15981199,\n",
       "        0.16216216, 0.16451234, 0.16451234, 0.16686251, 0.16921269,\n",
       "        0.16921269, 0.17038778, 0.17038778, 0.17391304, 0.17626322,\n",
       "        0.17743831, 0.17743831, 0.17978848, 0.18096357, 0.18096357,\n",
       "        0.18096357, 0.18213866, 0.18331375, 0.18448884, 0.18448884,\n",
       "        0.18566392, 0.1880141 , 0.18918919, 0.18918919, 0.19153937,\n",
       "        0.19271445, 0.19741481, 0.19741481, 0.20094007, 0.20094007,\n",
       "        0.20564042, 0.21151586, 0.21504113, 0.21504113, 0.21856639,\n",
       "        0.21856639, 0.22679201, 0.22679201, 0.22914219, 0.23619271,\n",
       "        0.24324324, 0.24324324, 0.24559342, 0.24559342, 0.24676851,\n",
       "        0.24676851, 0.24911868, 0.25146886, 0.2573443 , 0.25969448,\n",
       "        0.26204465, 0.26321974, 0.26556992, 0.26556992, 0.27027027,\n",
       "        0.27144536, 0.27262045, 0.27262045, 0.27262045, 0.2773208 ,\n",
       "        0.2773208 , 0.27967098, 0.27967098, 0.28084606, 0.28319624,\n",
       "        0.28554642, 0.28554642, 0.2867215 , 0.28907168, 0.28907168,\n",
       "        0.29024677, 0.29024677, 0.29142186, 0.29377203, 0.29494712,\n",
       "        0.2972973 , 0.2972973 , 0.2972973 , 0.2972973 , 0.29964747,\n",
       "        0.306698  , 0.31257344, 0.31492362, 0.32079906, 0.32079906,\n",
       "        0.32432432, 0.3266745 , 0.32784959, 0.33019976, 0.33490012,\n",
       "        0.33960047, 0.34312573, 0.34782609, 0.34900118, 0.35135135,\n",
       "        0.35135135, 0.35252644, 0.35487662, 0.3560517 , 0.35840188,\n",
       "        0.36427732, 0.36780259, 0.37015276, 0.37132785, 0.37485311,\n",
       "        0.38190364, 0.38190364, 0.38542891, 0.386604  , 0.39247944,\n",
       "        0.39247944, 0.39717979, 0.40070505, 0.40893067, 0.41950646,\n",
       "        0.42185664, 0.4253819 , 0.4253819 , 0.42655699, 0.42655699,\n",
       "        0.42890717, 0.43008226, 0.43125734, 0.43243243, 0.43478261,\n",
       "        0.43713278, 0.43948296, 0.44065805, 0.44065805, 0.44183314,\n",
       "        0.44300823, 0.4453584 , 0.45240893, 0.45240893, 0.45475911,\n",
       "        0.4559342 , 0.4559342 , 0.45828437, 0.45945946, 0.46180964,\n",
       "        0.4653349 , 0.46650999, 0.46768508, 0.46886016, 0.47121034,\n",
       "        0.47473561, 0.47473561, 0.47708578, 0.48178613, 0.48413631,\n",
       "        0.48766157, 0.49236193, 0.4947121 , 0.49706228, 0.49706228,\n",
       "        0.49941246, 0.50176263, 0.5052879 , 0.51116334, 0.51233843,\n",
       "        0.5146886 , 0.51703878, 0.51821387, 0.51821387, 0.51938895,\n",
       "        0.52056404, 0.52173913, 0.52408931, 0.52643948, 0.52878966,\n",
       "        0.53113984, 0.5346651 , 0.53584019, 0.53819036, 0.54171563,\n",
       "        0.54171563, 0.54289072, 0.54641598, 0.54641598, 0.54876616,\n",
       "        0.54994125, 0.54994125, 0.55229142, 0.5546416 , 0.55699177,\n",
       "        0.55816686, 0.56051704, 0.56286722, 0.57226792, 0.58049354,\n",
       "        0.58049354, 0.58166863, 0.58166863, 0.58519389, 0.58989424,\n",
       "        0.59106933, 0.59224442, 0.59459459, 0.59576968, 0.59576968,\n",
       "        0.59694477, 0.60164512, 0.60282021, 0.60517039, 0.60752056,\n",
       "        0.61104583, 0.61457109, 0.61692127, 0.61692127, 0.61927145,\n",
       "        0.62044653, 0.62162162, 0.62162162, 0.62514689, 0.62749706,\n",
       "        0.63102233, 0.63572268, 0.64042303, 0.64277321, 0.64277321,\n",
       "        0.64629847, 0.64747356, 0.65099882, 0.65217391, 0.65452409,\n",
       "        0.65804935, 0.65922444, 0.66039953, 0.66274971, 0.67567568,\n",
       "        0.67685076, 0.67685076, 0.68390129, 0.68625147, 0.68977673,\n",
       "        0.69095182, 0.69447709, 0.69682726, 0.70035253, 0.70387779,\n",
       "        0.70505288, 0.70740306, 0.70857814, 0.71210341, 0.7132785 ,\n",
       "        0.71445358, 0.71797885, 0.72032902, 0.72150411, 0.72150411,\n",
       "        0.72385429, 0.72502938, 0.72737955, 0.73325499, 0.73795535,\n",
       "        0.74030552, 0.74383079, 0.75088132, 0.7520564 , 0.7520564 ,\n",
       "        0.75440658, 0.75440658, 0.75910693, 0.7626322 , 0.76498237,\n",
       "        0.76615746, 0.76850764, 0.76968273, 0.77555817, 0.77673325,\n",
       "        0.77908343, 0.78025852, 0.79083431, 0.79670975, 0.79788484,\n",
       "        0.80141011, 0.80611046, 0.80846063, 0.81081081, 0.81903643,\n",
       "        0.8213866 , 0.82491187, 0.8319624 , 0.83901293, 0.84253819,\n",
       "        0.84488837, 0.84958872, 0.8519389 , 0.8519389 , 0.85311398,\n",
       "        0.85428907, 0.85663925, 0.8613396 , 0.86486486, 0.86603995,\n",
       "        0.87074031, 0.87426557, 0.88014101, 0.8813161 , 0.88484136,\n",
       "        0.88484136, 0.88601645, 0.88719154, 0.88836663, 0.89306698,\n",
       "        0.89541716, 0.90364277, 0.90599295, 0.91421857, 0.91656874,\n",
       "        0.91891892, 0.92009401, 0.92361927, 0.92831962, 0.93772033,\n",
       "        0.94007051, 0.94712103, 0.94947121, 0.95182139, 0.95299647,\n",
       "        0.95769683, 0.96827262, 0.97179788, 0.97297297, 0.97649824,\n",
       "        0.98354877, 0.98472385, 0.99059929, 0.99177438, 1.        ]),\n",
       " array([0.        , 0.00117509, 0.04817861, 0.04817861, 0.06110458,\n",
       "        0.06110458, 0.09400705, 0.09400705, 0.09635723, 0.09635723,\n",
       "        0.1092832 , 0.1092832 , 0.11398355, 0.11398355, 0.29847239,\n",
       "        0.29847239, 0.30199765, 0.30199765, 0.3172738 , 0.3172738 ,\n",
       "        0.31844888, 0.31844888, 0.36310223, 0.36545241, 0.37837838,\n",
       "        0.37837838, 0.39365452, 0.39365452, 0.42185664, 0.42420682,\n",
       "        0.43948296, 0.43948296, 0.44183314, 0.44183314, 0.4453584 ,\n",
       "        0.44770858, 0.45828437, 0.46063455, 0.46886016, 0.46886016,\n",
       "        0.48296122, 0.48296122, 0.49941246, 0.49941246, 0.50293772,\n",
       "        0.5052879 , 0.51233843, 0.51233843, 0.52056404, 0.52291422,\n",
       "        0.52408931, 0.52408931, 0.52643948, 0.52643948, 0.53584019,\n",
       "        0.53584019, 0.53819036, 0.53936545, 0.54171563, 0.54171563,\n",
       "        0.55111633, 0.55111633, 0.57696827, 0.57931845, 0.57931845,\n",
       "        0.58284371, 0.58284371, 0.5840188 , 0.5840188 , 0.58636898,\n",
       "        0.58636898, 0.59106933, 0.59106933, 0.59576968, 0.59576968,\n",
       "        0.60047004, 0.60047004, 0.60634548, 0.60634548, 0.61809636,\n",
       "        0.61809636, 0.62162162, 0.6239718 , 0.62514689, 0.62514689,\n",
       "        0.62867215, 0.62867215, 0.63219741, 0.63219741, 0.64042303,\n",
       "        0.64277321, 0.64512338, 0.64629847, 0.64629847, 0.65099882,\n",
       "        0.65217391, 0.66157462, 0.66274971, 0.66274971, 0.66392479,\n",
       "        0.66392479, 0.66509988, 0.66509988, 0.66627497, 0.66627497,\n",
       "        0.66862515, 0.66862515, 0.66980024, 0.66980024, 0.67450059,\n",
       "        0.67450059, 0.6827262 , 0.6827262 , 0.68625147, 0.68625147,\n",
       "        0.68742656, 0.68742656, 0.68977673, 0.68977673, 0.69212691,\n",
       "        0.69447709, 0.69565217, 0.69565217, 0.69800235, 0.69800235,\n",
       "        0.70035253, 0.70035253, 0.70152761, 0.70152761, 0.7027027 ,\n",
       "        0.7027027 , 0.70387779, 0.70387779, 0.70622797, 0.70622797,\n",
       "        0.70740306, 0.70740306, 0.70857814, 0.70857814, 0.70975323,\n",
       "        0.70975323, 0.71092832, 0.71210341, 0.7132785 , 0.7132785 ,\n",
       "        0.71562867, 0.71680376, 0.71680376, 0.71797885, 0.71797885,\n",
       "        0.71915394, 0.72032902, 0.72032902, 0.72150411, 0.72150411,\n",
       "        0.7226792 , 0.7226792 , 0.72502938, 0.72502938, 0.72855464,\n",
       "        0.73090482, 0.73090482, 0.73207991, 0.73207991, 0.73443008,\n",
       "        0.73443008, 0.73560517, 0.73795535, 0.73795535, 0.73795535,\n",
       "        0.74030552, 0.74030552, 0.74148061, 0.74148061, 0.74500588,\n",
       "        0.74500588, 0.74853114, 0.74853114, 0.74970623, 0.74970623,\n",
       "        0.75088132, 0.75088132, 0.7520564 , 0.76380729, 0.76498237,\n",
       "        0.76498237, 0.76850764, 0.76850764, 0.76968273, 0.76968273,\n",
       "        0.77438308, 0.77438308, 0.77555817, 0.77555817, 0.77555817,\n",
       "        0.78025852, 0.78025852, 0.78378378, 0.78378378, 0.78848414,\n",
       "        0.78848414, 0.78965922, 0.78965922, 0.78965922, 0.7920094 ,\n",
       "        0.79435958, 0.79435958, 0.79553467, 0.79553467, 0.79670975,\n",
       "        0.79670975, 0.79670975, 0.79670975, 0.79788484, 0.79788484,\n",
       "        0.79788484, 0.80376028, 0.80493537, 0.80493537, 0.80728555,\n",
       "        0.80728555, 0.80728555, 0.80728555, 0.80846063, 0.80846063,\n",
       "        0.81081081, 0.81081081, 0.8119859 , 0.8119859 , 0.8119859 ,\n",
       "        0.8119859 , 0.81433608, 0.81433608, 0.81551116, 0.81551116,\n",
       "        0.81668625, 0.81668625, 0.81786134, 0.81786134, 0.81786134,\n",
       "        0.81786134, 0.81903643, 0.81903643, 0.82021152, 0.82021152,\n",
       "        0.8213866 , 0.8213866 , 0.82373678, 0.82491187, 0.82491187,\n",
       "        0.82608696, 0.82608696, 0.82726204, 0.83431257, 0.83431257,\n",
       "        0.83431257, 0.83666275, 0.83666275, 0.83666275, 0.83901293,\n",
       "        0.83901293, 0.84018801, 0.84018801, 0.84018801, 0.8413631 ,\n",
       "        0.8413631 , 0.84371328, 0.84606345, 0.84841363, 0.84841363,\n",
       "        0.85076381, 0.85076381, 0.85076381, 0.85311398, 0.85428907,\n",
       "        0.85428907, 0.85428907, 0.85546416, 0.85546416, 0.85781434,\n",
       "        0.85898942, 0.85898942, 0.85898942, 0.85898942, 0.85898942,\n",
       "        0.8613396 , 0.86251469, 0.86251469, 0.86251469, 0.86251469,\n",
       "        0.86251469, 0.86251469, 0.86251469, 0.86251469, 0.86251469,\n",
       "        0.86251469, 0.86368978, 0.86368978, 0.86721504, 0.86839013,\n",
       "        0.86956522, 0.87074031, 0.87074031, 0.87544066, 0.87544066,\n",
       "        0.87544066, 0.87544066, 0.87661575, 0.87661575, 0.87896592,\n",
       "        0.87896592, 0.88014101, 0.88014101, 0.8813161 , 0.88249119,\n",
       "        0.88249119, 0.88249119, 0.88249119, 0.88366627, 0.88366627,\n",
       "        0.88601645, 0.88601645, 0.88601645, 0.88719154, 0.88719154,\n",
       "        0.88719154, 0.88836663, 0.88836663, 0.88836663, 0.88836663,\n",
       "        0.88836663, 0.88954172, 0.88954172, 0.89189189, 0.89189189,\n",
       "        0.89306698, 0.89424207, 0.89424207, 0.89776733, 0.89776733,\n",
       "        0.89776733, 0.89776733, 0.90011751, 0.90011751, 0.9012926 ,\n",
       "        0.9012926 , 0.9012926 , 0.9012926 , 0.90246769, 0.90364277,\n",
       "        0.90599295, 0.90599295, 0.90599295, 0.90716804, 0.90716804,\n",
       "        0.90834313, 0.90834313, 0.90834313, 0.90834313, 0.90834313,\n",
       "        0.90834313, 0.90834313, 0.90951821, 0.9106933 , 0.9106933 ,\n",
       "        0.91186839, 0.91186839, 0.91186839, 0.91421857, 0.91656874,\n",
       "        0.91656874, 0.91774383, 0.92009401, 0.92009401, 0.92009401,\n",
       "        0.9212691 , 0.9212691 , 0.9212691 , 0.9212691 , 0.92244418,\n",
       "        0.92361927, 0.92361927, 0.92479436, 0.92479436, 0.92479436,\n",
       "        0.92479436, 0.92714454, 0.92714454, 0.92714454, 0.92831962,\n",
       "        0.92831962, 0.92831962, 0.92831962, 0.92831962, 0.92949471,\n",
       "        0.92949471, 0.9306698 , 0.9306698 , 0.93184489, 0.93184489,\n",
       "        0.93537015, 0.93537015, 0.93772033, 0.93772033, 0.93772033,\n",
       "        0.93772033, 0.93772033, 0.93772033, 0.93772033, 0.93889542,\n",
       "        0.93889542, 0.94007051, 0.94007051, 0.94007051, 0.94007051,\n",
       "        0.94007051, 0.94124559, 0.94124559, 0.94124559, 0.94242068,\n",
       "        0.94242068, 0.94359577, 0.94359577, 0.94359577, 0.94359577,\n",
       "        0.94477086, 0.94829612, 0.94947121, 0.94947121, 0.94947121,\n",
       "        0.94947121, 0.94947121, 0.94947121, 0.94947121, 0.9506463 ,\n",
       "        0.9506463 , 0.9506463 , 0.9506463 , 0.95182139, 0.95299647,\n",
       "        0.95299647, 0.95299647, 0.95417156, 0.95534665, 0.95534665,\n",
       "        0.95534665, 0.95534665, 0.95887192, 0.95887192, 0.960047  ,\n",
       "        0.960047  , 0.96122209, 0.96239718, 0.96239718, 0.96239718,\n",
       "        0.96239718, 0.96357227, 0.96357227, 0.96357227, 0.96357227,\n",
       "        0.96357227, 0.96357227, 0.96357227, 0.96357227, 0.96357227,\n",
       "        0.96357227, 0.96709753, 0.96709753, 0.96709753, 0.96709753,\n",
       "        0.96709753, 0.96944771, 0.96944771, 0.96944771, 0.9706228 ,\n",
       "        0.9706228 , 0.9706228 , 0.97414806, 0.97532315, 0.97532315,\n",
       "        0.97649824, 0.97767333, 0.97767333, 0.97767333, 0.97767333,\n",
       "        0.97884841, 0.97884841, 0.97884841, 0.9800235 , 0.98119859,\n",
       "        0.98237368, 0.98237368, 0.98354877, 0.98354877, 0.98472385,\n",
       "        0.98472385, 0.98472385, 0.98472385, 0.98472385, 0.98472385,\n",
       "        0.98472385, 0.98589894, 0.98707403, 0.98824912, 0.98824912,\n",
       "        0.98942421, 0.99177438, 0.99177438, 0.99294947, 0.99294947,\n",
       "        0.99294947, 0.99294947, 0.99412456, 0.99412456, 0.99412456,\n",
       "        0.99529965, 0.99529965, 0.99529965, 0.99529965, 1.        ]),\n",
       " array([ 4.01786670e+01,  3.91786670e+01,  1.51387330e+01,  1.49290866e+01,\n",
       "         1.23199219e+01,  1.22792403e+01,  8.82221354e+00,  8.82201270e+00,\n",
       "         8.52142258e+00,  8.09263320e+00,  7.42532177e+00,  7.42117090e+00,\n",
       "         7.20026493e+00,  6.97264257e+00,  2.96499110e+00,  2.93992402e+00,\n",
       "         2.89352620e+00,  2.88654023e+00,  2.74712649e+00,  2.68869434e+00,\n",
       "         2.66719069e+00,  2.65794405e+00,  2.34651652e+00,  2.32614455e+00,\n",
       "         2.19405925e+00,  2.16131581e+00,  2.00131419e+00,  1.99842908e+00,\n",
       "         1.88037343e+00,  1.86680369e+00,  1.76915590e+00,  1.76526987e+00,\n",
       "         1.75008785e+00,  1.74541464e+00,  1.72724451e+00,  1.72107598e+00,\n",
       "         1.62259312e+00,  1.62182172e+00,  1.58414944e+00,  1.57996548e+00,\n",
       "         1.48893776e+00,  1.47889193e+00,  1.41425233e+00,  1.39710089e+00,\n",
       "         1.39208801e+00,  1.36375150e+00,  1.30606893e+00,  1.29828985e+00,\n",
       "         1.22419567e+00,  1.22398620e+00,  1.21010417e+00,  1.20145164e+00,\n",
       "         1.18006235e+00,  1.12597183e+00,  1.06587855e+00,  1.05428381e+00,\n",
       "         1.03543889e+00,  1.02111645e+00,  9.57130100e-01,  9.46214105e-01,\n",
       "         9.21462131e-01,  9.09514006e-01,  7.53916818e-01,  7.48900275e-01,\n",
       "         7.48746476e-01,  7.25638586e-01,  7.23731919e-01,  7.22386716e-01,\n",
       "         7.15372853e-01,  7.12060939e-01,  7.07621475e-01,  7.01927027e-01,\n",
       "         7.00990518e-01,  6.71270513e-01,  6.69423409e-01,  6.20549875e-01,\n",
       "         6.19072057e-01,  5.88819040e-01,  5.82708792e-01,  5.35892740e-01,\n",
       "         5.28198637e-01,  5.18241852e-01,  5.11586188e-01,  5.05029202e-01,\n",
       "         5.00551360e-01,  4.93226784e-01,  4.78901725e-01,  4.66261216e-01,\n",
       "         4.65574688e-01,  4.23990303e-01,  4.21761888e-01,  4.06918478e-01,\n",
       "         4.02481975e-01,  3.89355720e-01,  3.69246195e-01,  3.68314102e-01,\n",
       "         3.46146117e-01,  3.42278880e-01,  3.38080017e-01,  3.37017444e-01,\n",
       "         3.34690288e-01,  3.21785274e-01,  3.15765320e-01,  3.00950759e-01,\n",
       "         3.00806303e-01,  2.97946570e-01,  2.97789111e-01,  2.97191497e-01,\n",
       "         2.84299493e-01,  2.66329935e-01,  2.62802013e-01,  2.22132439e-01,\n",
       "         2.19737740e-01,  2.03558616e-01,  2.00943081e-01,  1.96928174e-01,\n",
       "         1.89728643e-01,  1.60738200e-01,  1.56672661e-01,  1.50667542e-01,\n",
       "         1.45853312e-01,  1.44790739e-01,  1.41369700e-01,  1.34504677e-01,\n",
       "         1.32093719e-01,  1.29271344e-01,  1.23400141e-01,  1.18263746e-01,\n",
       "         1.08088903e-01,  1.06395229e-01,  1.01722014e-01,  1.01370630e-01,\n",
       "         9.84078066e-02,  8.85647627e-02,  8.65560684e-02,  8.52225990e-02,\n",
       "         6.37183671e-02,  6.30397798e-02,  5.78064472e-02,  5.46774579e-02,\n",
       "         5.46399614e-02,  4.25552993e-02,  4.22694190e-02,  2.79443599e-02,\n",
       "         9.86325168e-03,  3.52336977e-03,  2.92351841e-03, -1.11783666e-02,\n",
       "        -1.36584495e-02, -3.13093377e-02, -3.45510372e-02, -4.12077794e-02,\n",
       "        -6.16016451e-02, -6.23739970e-02, -6.27485217e-02, -6.66246732e-02,\n",
       "        -7.11678147e-02, -7.98330427e-02, -8.49165065e-02, -1.02382213e-01,\n",
       "        -1.07004107e-01, -1.14985434e-01, -1.19940287e-01, -1.25121387e-01,\n",
       "        -1.31000270e-01, -1.33483749e-01, -1.43449008e-01, -1.53765868e-01,\n",
       "        -1.72125271e-01, -1.73847110e-01, -1.76922855e-01, -1.77770684e-01,\n",
       "        -1.84137573e-01, -1.86450330e-01, -1.91405184e-01, -1.98491165e-01,\n",
       "        -2.04536302e-01, -2.13670805e-01, -2.14913904e-01, -2.22819807e-01,\n",
       "        -2.25573057e-01, -2.26219767e-01, -2.40595940e-01, -2.43590168e-01,\n",
       "        -2.49074280e-01, -2.60674689e-01, -2.62870081e-01, -2.66158801e-01,\n",
       "        -2.69956062e-01, -2.71336840e-01, -2.75996335e-01, -2.76776636e-01,\n",
       "        -2.77770455e-01, -2.79954602e-01, -2.81644700e-01, -2.90663342e-01,\n",
       "        -2.93441114e-01, -3.22473760e-01, -3.45402773e-01, -3.47461232e-01,\n",
       "        -3.49235351e-01, -3.51406026e-01, -3.54400965e-01, -3.57790695e-01,\n",
       "        -3.57843698e-01, -3.64401297e-01, -3.70982933e-01, -3.79195387e-01,\n",
       "        -3.91317545e-01, -3.95761557e-01, -3.96958985e-01, -3.97182113e-01,\n",
       "        -3.98893963e-01, -4.09249895e-01, -4.15046513e-01, -4.16867670e-01,\n",
       "        -4.18926129e-01, -4.19698481e-01, -4.30349475e-01, -4.35866194e-01,\n",
       "        -4.36370907e-01, -4.55800179e-01, -4.60098718e-01, -4.60919506e-01,\n",
       "        -4.72167835e-01, -4.88332566e-01, -5.12976218e-01, -5.13339311e-01,\n",
       "        -5.35793487e-01, -5.40111906e-01, -5.62636223e-01, -5.63991741e-01,\n",
       "        -5.69858229e-01, -5.70650695e-01, -5.74307203e-01, -5.76078753e-01,\n",
       "        -5.77983634e-01, -5.85170784e-01, -6.01468686e-01, -6.03916220e-01,\n",
       "        -6.08929103e-01, -6.13288653e-01, -6.30373174e-01, -6.31254547e-01,\n",
       "        -6.35456638e-01, -6.37265613e-01, -6.37841022e-01, -6.41323126e-01,\n",
       "        -6.43427311e-01, -6.47543649e-01, -6.48181609e-01, -6.55009147e-01,\n",
       "        -6.55493667e-01, -6.56635681e-01, -6.58229675e-01, -6.75381117e-01,\n",
       "        -6.82818572e-01, -6.84881708e-01, -7.00031646e-01, -7.00906100e-01,\n",
       "        -7.02561985e-01, -7.02727257e-01, -7.03317058e-01, -7.05202923e-01,\n",
       "        -7.05566016e-01, -7.09874043e-01, -7.15115179e-01, -7.16209062e-01,\n",
       "        -7.19008546e-01, -7.27734001e-01, -7.28100577e-01, -7.46846014e-01,\n",
       "        -7.49489858e-01, -7.54283469e-01, -7.58027422e-01, -7.74781954e-01,\n",
       "        -7.75124246e-01, -7.77030913e-01, -7.83190346e-01, -7.86357105e-01,\n",
       "        -7.87673959e-01, -7.88701893e-01, -7.90473443e-01, -7.97855336e-01,\n",
       "        -7.97938941e-01, -8.07231651e-01, -8.07466417e-01, -8.08801063e-01,\n",
       "        -8.09171438e-01, -8.16028379e-01, -8.17031181e-01, -8.23323794e-01,\n",
       "        -8.27811501e-01, -8.29619087e-01, -8.33112900e-01, -8.45657050e-01,\n",
       "        -8.46246851e-01, -8.48495810e-01, -8.49489629e-01, -8.52803836e-01,\n",
       "        -8.56774468e-01, -8.57822001e-01, -8.60166790e-01, -8.61938340e-01,\n",
       "        -8.71237211e-01, -8.77251311e-01, -8.78931313e-01, -8.80265960e-01,\n",
       "        -8.80636335e-01, -8.89775807e-01, -8.92419652e-01, -8.93117971e-01,\n",
       "        -8.94113326e-01, -8.94788691e-01, -8.94946149e-01, -8.99276398e-01,\n",
       "        -9.06071380e-01, -9.06757545e-01, -9.12030670e-01, -9.15300790e-01,\n",
       "        -9.17121947e-01, -9.18054040e-01, -9.29509869e-01, -9.33365832e-01,\n",
       "        -9.34206468e-01, -9.35308118e-01, -9.40868735e-01, -9.42128691e-01,\n",
       "        -9.42702108e-01, -9.44089262e-01, -9.51677854e-01, -9.51730857e-01,\n",
       "        -9.52392639e-01, -9.56015398e-01, -9.58793170e-01, -9.61240704e-01,\n",
       "        -9.65578223e-01, -9.68815378e-01, -9.70741295e-01, -9.72548881e-01,\n",
       "        -9.82520981e-01, -9.86765687e-01, -9.89518937e-01, -9.99704262e-01,\n",
       "        -1.00021147e+00, -1.01233363e+00, -1.01358564e+00, -1.02314275e+00,\n",
       "        -1.02319575e+00, -1.02356613e+00, -1.02748029e+00, -1.02751935e+00,\n",
       "        -1.03025807e+00, -1.03704312e+00, -1.04456482e+00, -1.04559058e+00,\n",
       "        -1.05313229e+00, -1.05823058e+00, -1.06267510e+00, -1.06268102e+00,\n",
       "        -1.06605499e+00, -1.06904993e+00, -1.07167637e+00, -1.07168907e+00,\n",
       "        -1.08563190e+00, -1.08876089e+00, -1.09384435e+00, -1.09503103e+00,\n",
       "        -1.10779989e+00, -1.11353262e+00, -1.11549399e+00, -1.11719901e+00,\n",
       "        -1.12969548e+00, -1.13210644e+00, -1.14051483e+00, -1.14236987e+00,\n",
       "        -1.14678000e+00, -1.14823743e+00, -1.19606208e+00, -1.19691567e+00,\n",
       "        -1.20044722e+00, -1.20357134e+00, -1.20716550e+00, -1.21068836e+00,\n",
       "        -1.21383477e+00, -1.21400019e+00, -1.22065586e+00, -1.22672832e+00,\n",
       "        -1.23091929e+00, -1.23521028e+00, -1.23753744e+00, -1.24191404e+00,\n",
       "        -1.25072968e+00, -1.26926828e+00, -1.27127697e+00, -1.27863039e+00,\n",
       "        -1.27864071e+00, -1.29116722e+00, -1.29479326e+00, -1.29720422e+00,\n",
       "        -1.29819322e+00, -1.29909008e+00, -1.30319308e+00, -1.30667518e+00,\n",
       "        -1.31463103e+00, -1.31611765e+00, -1.33554693e+00, -1.34574606e+00,\n",
       "        -1.35009529e+00, -1.35191458e+00, -1.36807931e+00, -1.36899910e+00,\n",
       "        -1.37055498e+00, -1.37707751e+00, -1.38258905e+00, -1.41219807e+00,\n",
       "        -1.41484191e+00, -1.41721095e+00, -1.41843810e+00, -1.42337948e+00,\n",
       "        -1.42508305e+00, -1.43192644e+00, -1.44237502e+00, -1.44238297e+00,\n",
       "        -1.44854240e+00, -1.45193213e+00, -1.45405395e+00, -1.45549919e+00,\n",
       "        -1.46329100e+00, -1.47113847e+00, -1.47281847e+00, -1.47452349e+00,\n",
       "        -1.48366297e+00, -1.48630681e+00, -1.48700513e+00, -1.48800048e+00,\n",
       "        -1.48867585e+00, -1.49497114e+00, -1.49995854e+00, -1.50556191e+00,\n",
       "        -1.50918795e+00, -1.51159891e+00, -1.51194120e+00, -1.51348477e+00,\n",
       "        -1.51384787e+00, -1.52263373e+00, -1.52339703e+00, -1.52551885e+00,\n",
       "        -1.52809363e+00, -1.52902572e+00, -1.53797642e+00, -1.54260337e+00,\n",
       "        -1.54428337e+00, -1.55777171e+00, -1.55946538e+00, -1.56014075e+00,\n",
       "        -1.56029821e+00, -1.56448998e+00, -1.57142344e+00, -1.57485623e+00,\n",
       "        -1.57722527e+00, -1.57738273e+00, -1.58247400e+00, -1.58340610e+00,\n",
       "        -1.59332724e+00, -1.59409863e+00, -1.59486192e+00, -1.60944132e+00,\n",
       "        -1.62652584e+00, -1.62659276e+00, -1.63093028e+00, -1.63160564e+00,\n",
       "        -1.63790094e+00, -1.65452870e+00, -1.65487099e+00, -1.65498546e+00,\n",
       "        -1.67768569e+00, -1.68891818e+00, -1.69287141e+00, -1.69477021e+00,\n",
       "        -1.70139982e+00, -1.70239518e+00, -1.70741977e+00, -1.71094264e+00,\n",
       "        -1.71848434e+00, -1.71995660e+00, -1.72802716e+00, -1.72823461e+00,\n",
       "        -1.73440199e+00, -1.73625703e+00, -1.73702843e+00, -1.74915058e+00,\n",
       "        -1.75098396e+00, -1.75411295e+00, -1.76038308e+00, -1.77286472e+00,\n",
       "        -1.77386007e+00, -1.77746760e+00, -1.77888467e+00, -1.79094459e+00,\n",
       "        -1.79369923e+00, -1.79504754e+00, -1.79745849e+00, -1.79969950e+00,\n",
       "        -1.80586689e+00, -1.80772193e+00, -1.82244885e+00, -1.82295141e+00,\n",
       "        -1.83580120e+00, -1.83953337e+00, -1.86516413e+00, -1.86892339e+00,\n",
       "        -1.87918682e+00, -1.88600791e+00, -1.89627134e+00, -1.90726610e+00,\n",
       "        -1.90916490e+00, -1.93662903e+00, -1.95371355e+00, -1.96354527e+00]))"
      ]
     },
     "execution_count": 19,
     "metadata": {},
     "output_type": "execute_result"
    }
   ],
   "source": [
    "from sklearn.metrics import roc_curve\n",
    "fpr, tpr, thresholds = roc_curve(y, model.decision_function(X))\n",
    "fpr, tpr, thresholds\n"
   ]
  },
  {
   "cell_type": "code",
   "execution_count": 20,
   "metadata": {},
   "outputs": [
    {
     "data": {
      "image/png": "[encoded data removed]",
      "text/plain": [
       "<Figure size 640x480 with 1 Axes>"
      ]
     },
     "metadata": {},
     "output_type": "display_data"
    }
   ],
   "source": [
    "#ROC 커브\n",
    "%matplotlib inline\n",
    "import matplotlib.pyplot as plt\n",
    "plt.plot(fpr, tpr, 'o-', label=\"LOGIT\")\n",
    "plt.plot([0, 1], [0, 1], 'k--', label=\"random guess\")\n",
    "plt.plot([fpr], [tpr], 'ro', ms=20)\n",
    "plt.xlabel('False Positive Rate')\n",
    "plt.ylabel('True Positive Rate')\n",
    "plt.legend()\n",
    "plt.show()"
   ]
  },
  {
   "attachments": {},
   "cell_type": "markdown",
   "metadata": {},
   "source": [
    "##### 3.3 classification report "
   ]
  },
  {
   "cell_type": "code",
   "execution_count": 21,
   "metadata": {},
   "outputs": [
    {
     "name": "stdout",
     "output_type": "stream",
     "text": [
      "Accuracy: 0.8064516129032258\n",
      "              precision    recall  f1-score   support\n",
      "\n",
      "           0       0.75      0.91      0.82       170\n",
      "           1       0.88      0.71      0.79       171\n",
      "\n",
      "    accuracy                           0.81       341\n",
      "   macro avg       0.82      0.81      0.80       341\n",
      "weighted avg       0.82      0.81      0.80       341\n",
      "\n"
     ]
    }
   ],
   "source": [
    "from sklearn.metrics import accuracy_score, classification_report\n",
    "pred = model.predict(X_test)\n",
    "score = accuracy_score(y_test, pred)\n",
    "report =classification_report(y_test, pred)\n",
    "print(\"Accuracy:\", score)\n",
    "print(report)"
   ]
  },
  {
   "attachments": {},
   "cell_type": "markdown",
   "metadata": {},
   "source": [
    "#### 5. Tree 모형"
   ]
  },
  {
   "cell_type": "code",
   "execution_count": 22,
   "metadata": {},
   "outputs": [
    {
     "name": "stdout",
     "output_type": "stream",
     "text": [
      "학습용: 0.9346069066862601\n",
      "검증용: 0.7214076246334311\n"
     ]
    }
   ],
   "source": [
    "from sklearn.tree import DecisionTreeClassifier\n",
    "model = DecisionTreeClassifier(random_state=0)\n",
    "model.fit(X_train_scaled, y_train)\n",
    "print(\"학습용:\",model.score(X_train_scaled, y_train))\n",
    "print(\"검증용:\",model.score(X_test_scaled, y_test))\n"
   ]
  },
  {
   "cell_type": "code",
   "execution_count": 23,
   "metadata": {},
   "outputs": [
    {
     "name": "stdout",
     "output_type": "stream",
     "text": [
      "학습용: 0.804555473916238\n",
      "검증용: 0.8152492668621701\n"
     ]
    }
   ],
   "source": [
    "#max_depth 가지치기\n",
    "tree = DecisionTreeClassifier(max_depth=2, random_state=10)\n",
    "tree.fit(X_train_scaled, y_train)\n",
    "score_tr=tree.score(X_train_scaled, y_train)\n",
    "score_te=tree.score(X_test_scaled, y_test)\n",
    "print(\"학습용:\",score_tr)\n",
    "print(\"검증용:\",score_te)\n",
    "\n",
    "result_tr.append(score_tr)\n",
    "result_te.append(score_te)"
   ]
  },
  {
   "cell_type": "code",
   "execution_count": 24,
   "metadata": {},
   "outputs": [
    {
     "ename": "ModuleNotFoundError",
     "evalue": "No module named 'pydotplus'",
     "output_type": "error",
     "traceback": [
      "\u001b[1;31m---------------------------------------------------------------------------\u001b[0m",
      "\u001b[1;31mModuleNotFoundError\u001b[0m                       Traceback (most recent call last)",
      "\u001b[1;32m~\\AppData\\Local\\Temp\\ipykernel_29008\\1446877931.py\u001b[0m in \u001b[0;36m<module>\u001b[1;34m\u001b[0m\n\u001b[0;32m      1\u001b[0m \u001b[1;31m#트리그래프\u001b[0m\u001b[1;33m\u001b[0m\u001b[1;33m\u001b[0m\u001b[0m\n\u001b[0;32m      2\u001b[0m \u001b[1;32mfrom\u001b[0m \u001b[0msklearn\u001b[0m\u001b[1;33m.\u001b[0m\u001b[0mtree\u001b[0m \u001b[1;32mimport\u001b[0m \u001b[0mexport_graphviz\u001b[0m\u001b[1;33m\u001b[0m\u001b[1;33m\u001b[0m\u001b[0m\n\u001b[1;32m----> 3\u001b[1;33m \u001b[1;32mimport\u001b[0m \u001b[0mpydotplus\u001b[0m\u001b[1;33m\u001b[0m\u001b[1;33m\u001b[0m\u001b[0m\n\u001b[0m\u001b[0;32m      4\u001b[0m \u001b[1;32mfrom\u001b[0m \u001b[0mIPython\u001b[0m\u001b[1;33m.\u001b[0m\u001b[0mdisplay\u001b[0m \u001b[1;32mimport\u001b[0m \u001b[0mImage\u001b[0m\u001b[1;33m\u001b[0m\u001b[1;33m\u001b[0m\u001b[0m\n\u001b[0;32m      5\u001b[0m dot_data = export_graphviz(tree, out_file=None,\n",
      "\u001b[1;31mModuleNotFoundError\u001b[0m: No module named 'pydotplus'"
     ]
    }
   ],
   "source": [
    "#트리그래프\n",
    "from sklearn.tree import export_graphviz\n",
    "import pydotplus\n",
    "from IPython.display import Image\n",
    "dot_data = export_graphviz(tree, out_file=None,\n",
    "feature_names=cols, class_names=[\"0\",\"1\"], filled=True,\n",
    "rounded=True, special_characters=True)\n",
    "graph = pydotplus.graph_from_dot_data(dot_data)\n",
    "Image(graph.create_png())"
   ]
  },
  {
   "attachments": {},
   "cell_type": "markdown",
   "metadata": {},
   "source": [
    "##### 5.1 ROC 커브 /Confusion_matrix "
   ]
  },
  {
   "cell_type": "code",
   "execution_count": 25,
   "metadata": {},
   "outputs": [
    {
     "data": {
      "text/plain": [
       "(array([0.        , 0.        , 0.00117509, 0.00470035, 0.00940071,\n",
       "        0.01762632, 0.0199765 , 0.02467685, 0.0787309 , 0.08813161,\n",
       "        0.09165687, 0.10810811, 0.14571093, 0.15158637, 0.18683901,\n",
       "        0.21504113, 0.23266745, 0.23971798, 0.2479436 , 0.26086957,\n",
       "        1.        ]),\n",
       " array([0.        , 0.82491187, 0.8319624 , 0.84253819, 0.85428907,\n",
       "        0.87074031, 0.87426557, 0.88014101, 0.93419506, 0.94124559,\n",
       "        0.94359577, 0.95299647, 0.97179788, 0.97414806, 0.98589894,\n",
       "        0.99294947, 0.99647474, 0.99764982, 0.99882491, 1.        ,\n",
       "        1.        ]),\n",
       " array([2.        , 1.        , 0.85714286, 0.75      , 0.71428571,\n",
       "        0.66666667, 0.6       , 0.55555556, 0.5       , 0.42857143,\n",
       "        0.4       , 0.36363636, 0.33333333, 0.28571429, 0.25      ,\n",
       "        0.2       , 0.16666667, 0.14285714, 0.125     , 0.08333333,\n",
       "        0.        ]))"
      ]
     },
     "execution_count": 25,
     "metadata": {},
     "output_type": "execute_result"
    }
   ],
   "source": [
    "from sklearn.tree import DecisionTreeClassifier \n",
    "model=DecisionTreeClassifier().fit(X,y)\n",
    "y_hat=model.predict(X)\n",
    "fpr,tpr,thresholds=roc_curve(y, model.predict_proba(X)[:,1])\n",
    "fpr,tpr,thresholds "
   ]
  },
  {
   "cell_type": "code",
   "execution_count": 26,
   "metadata": {},
   "outputs": [
    {
     "data": {
      "text/plain": [
       "array([[830,  21],\n",
       "       [102, 749]], dtype=int64)"
      ]
     },
     "execution_count": 26,
     "metadata": {},
     "output_type": "execute_result"
    }
   ],
   "source": [
    "from sklearn.metrics import confusion_matrix\n",
    "confusion_matrix(y, y_hat,labels=[0,1])"
   ]
  },
  {
   "cell_type": "code",
   "execution_count": 27,
   "metadata": {},
   "outputs": [
    {
     "name": "stdout",
     "output_type": "stream",
     "text": [
      "fall-out : 0.024676850763807285\n",
      "recall : 0.8801410105757932\n"
     ]
    }
   ],
   "source": [
    "# 특이도, 민감도 산출\n",
    "fpr1 = 21/(830+21) \n",
    "tpr1 = 749/(102+749)  \n",
    "print(\"fall-out :\",fpr1)\n",
    "print(\"recall :\",tpr1)"
   ]
  },
  {
   "cell_type": "code",
   "execution_count": 28,
   "metadata": {},
   "outputs": [
    {
     "data": {
      "image/png": "[encoded data removed]",
      "text/plain": [
       "<Figure size 640x480 with 1 Axes>"
      ]
     },
     "metadata": {},
     "output_type": "display_data"
    }
   ],
   "source": [
    "#ROC 커브\n",
    "import matplotlib.pyplot as plt \n",
    "plt.plot(fpr, tpr, 'o-', label='tree')\n",
    "plt.plot([0,1],[0,1],'k--',label='random guess')\n",
    "plt.plot([fpr], [tpr], 'ro', ms=20)\n",
    "plt.xlabel('FPR')\n",
    "plt.ylabel('TPR')\n",
    "plt.legend()\n",
    "plt.show()"
   ]
  },
  {
   "attachments": {},
   "cell_type": "markdown",
   "metadata": {},
   "source": [
    "##### 5.2 classification report "
   ]
  },
  {
   "cell_type": "code",
   "execution_count": 29,
   "metadata": {},
   "outputs": [
    {
     "name": "stdout",
     "output_type": "stream",
     "text": [
      "Accuracy: 0.9266862170087976\n",
      "              precision    recall  f1-score   support\n",
      "\n",
      "           0       0.88      0.99      0.93       170\n",
      "           1       0.99      0.86      0.92       171\n",
      "\n",
      "    accuracy                           0.93       341\n",
      "   macro avg       0.93      0.93      0.93       341\n",
      "weighted avg       0.93      0.93      0.93       341\n",
      "\n"
     ]
    }
   ],
   "source": [
    "from sklearn.metrics import accuracy_score, classification_report\n",
    "pred = model.predict(X_test)\n",
    "score = accuracy_score(y_test, pred)\n",
    "report =classification_report(y_test, pred)\n",
    "print(\"Accuracy:\", score)\n",
    "print(report)"
   ]
  },
  {
   "attachments": {},
   "cell_type": "markdown",
   "metadata": {},
   "source": [
    "#### 5.3 교차검증"
   ]
  },
  {
   "cell_type": "code",
   "execution_count": 30,
   "metadata": {},
   "outputs": [
    {
     "data": {
      "text/plain": [
       "GridSearchCV(cv=3,\n",
       "             estimator=DecisionTreeClassifier(max_depth=2, random_state=10),\n",
       "             param_grid={'criterion': ['gini', 'entropy'],\n",
       "                         'max_depth': [1, 2, 3, 4, 5, 6, 7, 8, 9, 10],\n",
       "                         'max_leaf_nodes': [2, 3, 4, 5, 6, 7, 8, 9, 10],\n",
       "                         'min_samples_split': [2, 3, 4]})"
      ]
     },
     "execution_count": 30,
     "metadata": {},
     "output_type": "execute_result"
    }
   ],
   "source": [
    "# 최적 요인 탐색\n",
    "from sklearn.model_selection import GridSearchCV\n",
    "params ={\n",
    "    'max_depth': list(range(1, 11)),\n",
    "    'criterion': ['gini','entropy'],\n",
    "    'max_leaf_nodes': list(range(2, 11)),\n",
    "    'min_samples_split': [2, 3, 4]\n",
    "}\n",
    "gcv = GridSearchCV(tree, params, cv=3)\n",
    "gcv.fit(X,y)\n"
   ]
  },
  {
   "cell_type": "code",
   "execution_count": 31,
   "metadata": {},
   "outputs": [
    {
     "data": {
      "text/plain": [
       "[{'criterion': 'gini',\n",
       "  'max_depth': 1,\n",
       "  'max_leaf_nodes': 2,\n",
       "  'min_samples_split': 2},\n",
       " {'criterion': 'gini',\n",
       "  'max_depth': 1,\n",
       "  'max_leaf_nodes': 2,\n",
       "  'min_samples_split': 3},\n",
       " {'criterion': 'gini',\n",
       "  'max_depth': 1,\n",
       "  'max_leaf_nodes': 2,\n",
       "  'min_samples_split': 4},\n",
       " {'criterion': 'gini',\n",
       "  'max_depth': 1,\n",
       "  'max_leaf_nodes': 3,\n",
       "  'min_samples_split': 2},\n",
       " {'criterion': 'gini',\n",
       "  'max_depth': 1,\n",
       "  'max_leaf_nodes': 3,\n",
       "  'min_samples_split': 3}]"
      ]
     },
     "execution_count": 31,
     "metadata": {},
     "output_type": "execute_result"
    }
   ],
   "source": [
    "gcv.cv_results_[\"params\"][:5]"
   ]
  },
  {
   "cell_type": "code",
   "execution_count": 32,
   "metadata": {},
   "outputs": [
    {
     "data": {
      "text/plain": [
       "array([0.79962077, 0.79962077, 0.79962077, 0.79962077, 0.79962077,\n",
       "       0.79962077, 0.79962077, 0.79962077, 0.79962077, 0.79962077])"
      ]
     },
     "execution_count": 32,
     "metadata": {},
     "output_type": "execute_result"
    }
   ],
   "source": [
    "scores=gcv.cv_results_[\"mean_test_score\"]\n",
    "scores[:10]"
   ]
  },
  {
   "cell_type": "code",
   "execution_count": 33,
   "metadata": {},
   "outputs": [
    {
     "name": "stdout",
     "output_type": "stream",
     "text": [
      "0.7996207698868106\n"
     ]
    },
    {
     "data": {
      "text/plain": [
       "[<matplotlib.lines.Line2D at 0x2673f7c9be0>]"
      ]
     },
     "execution_count": 33,
     "metadata": {},
     "output_type": "execute_result"
    },
    {
     "data": {
      "image/png": "[encoded data removed]",
      "text/plain": [
       "<Figure size 640x480 with 1 Axes>"
      ]
     },
     "metadata": {},
     "output_type": "display_data"
    }
   ],
   "source": [
    "%matplotlib inline\n",
    "import matplotlib.pyplot as plt\n",
    "print(max(scores))\n",
    "plt.plot(scores)"
   ]
  },
  {
   "cell_type": "code",
   "execution_count": 34,
   "metadata": {},
   "outputs": [
    {
     "name": "stdout",
     "output_type": "stream",
     "text": [
      "0.7996207698868106\n",
      "{'criterion': 'gini', 'max_depth': 1, 'max_leaf_nodes': 2, 'min_samples_split': 2}\n",
      "DecisionTreeClassifier(max_depth=1, max_leaf_nodes=2, random_state=10)\n"
     ]
    }
   ],
   "source": [
    "# 최적 요인\n",
    "print(gcv.best_score_) \n",
    "print(gcv.best_params_) \n",
    "print(gcv.best_estimator_)"
   ]
  },
  {
   "cell_type": "code",
   "execution_count": 35,
   "metadata": {},
   "outputs": [
    {
     "name": "stdout",
     "output_type": "stream",
     "text": [
      "[0.86549708 0.86549708 0.81176471 0.81764706 0.81176471 0.84117647\n",
      " 0.8        0.81764706 0.71764706 0.7       ]\n",
      "0.8048641210870313\n",
      "0.8654970760233918\n"
     ]
    }
   ],
   "source": [
    "#최적 요인 적용 / 교차 검증 10회 \n",
    "from sklearn.model_selection import cross_val_score\n",
    "import numpy as np\n",
    "tree = DecisionTreeClassifier(criterion='gini', max_depth=1,\n",
    "max_leaf_nodes=2, min_samples_split=2, random_state=0)\n",
    "result=cross_val_score(tree, X, y, cv=10) \n",
    "print(result)\n",
    "print(np.mean(result))\n",
    "print(np.max(result))"
   ]
  },
  {
   "attachments": {},
   "cell_type": "markdown",
   "metadata": {},
   "source": [
    "#### 5.3 RF (랜덤포레스트)"
   ]
  },
  {
   "cell_type": "code",
   "execution_count": 36,
   "metadata": {},
   "outputs": [
    {
     "name": "stdout",
     "output_type": "stream",
     "text": [
      "학습용: 0.8251285819250551\n",
      "검증용: 0.8181818181818182\n"
     ]
    }
   ],
   "source": [
    "from sklearn.ensemble import RandomForestClassifier\n",
    "forest = RandomForestClassifier(n_estimators=100,random_state=10,max_depth=4)\n",
    "forest.fit(X_train_scaled, y_train)\n",
    "score_tr=forest.score(X_train_scaled, y_train)\n",
    "score_te=forest.score(X_test_scaled, y_test)\n",
    "print(\"학습용:\",score_tr)\n",
    "print(\"검증용:\",score_te)\n",
    "\n",
    "result_tr.append(score_tr)\n",
    "result_te.append(score_te)"
   ]
  },
  {
   "cell_type": "code",
   "execution_count": 37,
   "metadata": {},
   "outputs": [
    {
     "name": "stdout",
     "output_type": "stream",
     "text": [
      "Accuracy: 0.9266862170087976\n",
      "              precision    recall  f1-score   support\n",
      "\n",
      "           0       0.88      0.99      0.93       170\n",
      "           1       0.99      0.86      0.92       171\n",
      "\n",
      "    accuracy                           0.93       341\n",
      "   macro avg       0.93      0.93      0.93       341\n",
      "weighted avg       0.93      0.93      0.93       341\n",
      "\n"
     ]
    }
   ],
   "source": [
    "from sklearn.metrics import accuracy_score, classification_report\n",
    "pred = model.predict(X_test)\n",
    "score = accuracy_score(y_test, pred)\n",
    "report =classification_report(y_test, pred)\n",
    "print(\"Accuracy:\", score)\n",
    "print(report)"
   ]
  },
  {
   "cell_type": "code",
   "execution_count": 39,
   "metadata": {},
   "outputs": [
    {
     "data": {
      "text/plain": [
       "(array([0.        , 0.        , 0.        , 0.        , 0.        ,\n",
       "        0.        , 0.        , 0.        , 0.        , 0.        ,\n",
       "        0.        , 0.        , 0.        , 0.        , 0.        ,\n",
       "        0.        , 0.        , 0.        , 0.        , 0.        ,\n",
       "        0.        , 0.        , 0.        , 0.        , 0.        ,\n",
       "        0.        , 0.        , 0.        , 0.        , 0.        ,\n",
       "        0.        , 0.        , 0.        , 0.        , 0.        ,\n",
       "        0.        , 0.        , 0.        , 0.        , 0.        ,\n",
       "        0.        , 0.        , 0.        , 0.        , 0.        ,\n",
       "        0.        , 0.        , 0.        , 0.        , 0.        ,\n",
       "        0.        , 0.        , 0.        , 0.        , 0.00117509,\n",
       "        0.00117509, 0.00117509, 0.00117509, 0.00117509, 0.00117509,\n",
       "        0.00117509, 0.00117509, 0.00117509, 0.00117509, 0.00117509,\n",
       "        0.00117509, 0.00117509, 0.00117509, 0.00117509, 0.00117509,\n",
       "        0.00117509, 0.00117509, 0.00117509, 0.00117509, 0.00235018,\n",
       "        0.00235018, 0.00235018, 0.00235018, 0.00235018, 0.00235018,\n",
       "        0.00235018, 0.00235018, 0.00235018, 0.00235018, 0.00235018,\n",
       "        0.00352526, 0.00352526, 0.00470035, 0.00470035, 0.00470035,\n",
       "        0.00470035, 0.00470035, 0.00470035, 0.00470035, 0.00470035,\n",
       "        0.00470035, 0.00470035, 0.00470035, 0.00470035, 0.00587544,\n",
       "        0.00587544, 0.00587544, 0.00587544, 0.00705053, 0.00705053,\n",
       "        0.00705053, 0.00705053, 0.00705053, 0.00705053, 0.00705053,\n",
       "        0.00705053, 0.00705053, 0.00705053, 0.00705053, 0.00822562,\n",
       "        0.00822562, 0.00822562, 0.00822562, 0.00822562, 0.00822562,\n",
       "        0.00822562, 0.00822562, 0.00822562, 0.00822562, 0.00822562,\n",
       "        0.00822562, 0.00822562, 0.00822562, 0.00822562, 0.00822562,\n",
       "        0.00940071, 0.00940071, 0.00940071, 0.00940071, 0.00940071,\n",
       "        0.01057579, 0.01057579, 0.01175088, 0.01175088, 0.01175088,\n",
       "        0.01292597, 0.01292597, 0.01292597, 0.01292597, 0.01292597,\n",
       "        0.01292597, 0.01410106, 0.01410106, 0.01527615, 0.01527615,\n",
       "        0.01527615, 0.01527615, 0.01527615, 0.01645123, 0.01645123,\n",
       "        0.01645123, 0.01645123, 0.01645123, 0.01645123, 0.01880141,\n",
       "        0.01880141, 0.01880141, 0.01880141, 0.0199765 , 0.0199765 ,\n",
       "        0.02115159, 0.02115159, 0.02115159, 0.02232667, 0.02232667,\n",
       "        0.02350176, 0.02350176, 0.02350176, 0.02585194, 0.02585194,\n",
       "        0.02702703, 0.02702703, 0.02702703, 0.02702703, 0.02820212,\n",
       "        0.02820212, 0.02820212, 0.02820212, 0.0293772 , 0.0293772 ,\n",
       "        0.03055229, 0.03055229, 0.03172738, 0.03172738, 0.03290247,\n",
       "        0.03290247, 0.03407756, 0.03407756, 0.03525264, 0.03525264,\n",
       "        0.03642773, 0.03642773, 0.03760282, 0.03760282, 0.03877791,\n",
       "        0.03877791, 0.039953  , 0.039953  , 0.04112808, 0.04112808,\n",
       "        0.04347826, 0.04347826, 0.04465335, 0.04465335, 0.04582844,\n",
       "        0.04582844, 0.04700353, 0.04700353, 0.04817861, 0.04817861,\n",
       "        0.0493537 , 0.0493537 , 0.05052879, 0.05170388, 0.05170388,\n",
       "        0.05287897, 0.05287897, 0.05405405, 0.05405405, 0.05522914,\n",
       "        0.05522914, 0.05522914, 0.05640423, 0.05640423, 0.05757932,\n",
       "        0.05757932, 0.06110458, 0.06110458, 0.06345476, 0.06345476,\n",
       "        0.06462985, 0.06580494, 0.06580494, 0.0693302 , 0.0693302 ,\n",
       "        0.07168038, 0.07168038, 0.07285546, 0.07285546, 0.07285546,\n",
       "        0.07403055, 0.07520564, 0.07520564, 0.07638073, 0.07755582,\n",
       "        0.07755582, 0.0787309 , 0.08108108, 0.08108108, 0.08225617,\n",
       "        0.08225617, 0.08578143, 0.08695652, 0.09165687, 0.09165687,\n",
       "        0.09283196, 0.09518214, 0.09753231, 0.09988249, 0.09988249,\n",
       "        0.10223267, 0.10223267, 0.10458284, 0.10458284, 0.10575793,\n",
       "        0.10575793, 0.10693302, 0.10693302, 0.10810811, 0.10810811,\n",
       "        0.10810811, 0.10810811, 0.10810811, 0.11515864, 0.11515864,\n",
       "        0.1186839 , 0.12103408, 0.12455934, 0.12455934, 0.12690952,\n",
       "        0.12690952, 0.12808461, 0.12925969, 0.13396005, 0.13631022,\n",
       "        0.13631022, 0.1386604 , 0.1386604 , 0.13983549, 0.14453584,\n",
       "        0.14688602, 0.14923619, 0.14923619, 0.15158637, 0.15158637,\n",
       "        0.15276146, 0.15628672, 0.15628672, 0.15746181, 0.15981199,\n",
       "        0.16216216, 0.16216216, 0.16568743, 0.16568743, 0.16686251,\n",
       "        0.16686251, 0.16921269, 0.17508813, 0.17743831, 0.18448884,\n",
       "        0.18683901, 0.1880141 , 0.19036428, 0.19036428, 0.19153937,\n",
       "        0.19506463, 0.19623972, 0.19858989, 0.19976498, 0.20211516,\n",
       "        0.20329025, 0.20329025, 0.20564042, 0.21034078, 0.21151586,\n",
       "        0.21386604, 0.21856639, 0.21974148, 0.21974148, 0.22209166,\n",
       "        0.22209166, 0.22679201, 0.2279671 , 0.2279671 , 0.23149236,\n",
       "        0.23149236, 0.23266745, 0.23619271, 0.2373678 , 0.23854289,\n",
       "        0.23854289, 0.23971798, 0.23971798, 0.24441833, 0.25264395,\n",
       "        0.25499412, 0.25499412, 0.25969448, 0.26086957, 0.26204465,\n",
       "        0.26321974, 0.26321974, 0.26556992, 0.26674501, 0.27144536,\n",
       "        0.27379553, 0.2773208 , 0.2773208 , 0.28084606, 0.28202115,\n",
       "        0.28554642, 0.28789659, 0.29377203, 0.29494712, 0.29494712,\n",
       "        0.29612221, 0.29847239, 0.29964747, 0.30317274, 0.30317274,\n",
       "        0.30552291, 0.30552291, 0.31139835, 0.3172738 , 0.32079906,\n",
       "        0.32197415, 0.32549941, 0.33254994, 0.34077556, 0.34312573,\n",
       "        0.34900118, 0.35135135, 0.35487662, 0.35487662, 0.3560517 ,\n",
       "        0.35840188, 0.36192714, 0.36427732, 0.36545241, 0.36780259,\n",
       "        0.37132785, 0.37132785, 0.37367803, 0.3760282 , 0.37720329,\n",
       "        0.38072855, 0.38777908, 0.39012926, 0.39012926, 0.39365452,\n",
       "        0.39365452, 0.39482961, 0.39482961, 0.39717979, 0.39717979,\n",
       "        0.40188014, 0.40305523, 0.40540541, 0.40775558, 0.41010576,\n",
       "        0.41128085, 0.41363102, 0.41480611, 0.41480611, 0.41715629,\n",
       "        0.41833137, 0.42068155, 0.42185664, 0.42185664, 0.4253819 ,\n",
       "        0.42773208, 0.43125734, 0.43360752, 0.43713278, 0.43830787,\n",
       "        0.44065805, 0.44653349, 0.45123384, 0.45358402, 0.45475911,\n",
       "        0.45945946, 0.46298472, 0.46650999, 0.46768508, 0.47003525,\n",
       "        0.47591069, 0.47943596, 0.48061105, 0.48296122, 0.48413631,\n",
       "        0.48648649, 0.48883666, 0.49001175, 0.49001175, 0.49118684,\n",
       "        0.49588719, 0.49588719, 0.49706228, 0.49823737, 0.50058754,\n",
       "        0.50176263, 0.50646298, 0.50763807, 0.51116334, 0.51233843,\n",
       "        0.51703878, 0.52291422, 0.52291422, 0.52526439, 0.53349001,\n",
       "        0.53819036, 0.53936545, 0.54641598, 0.54876616, 0.55111633,\n",
       "        0.55346651, 0.55699177, 0.56051704, 0.56169213, 0.56639248,\n",
       "        0.56874266, 0.57344301, 0.57344301, 0.5746181 , 0.57931845,\n",
       "        0.58636898, 0.58871915, 0.58871915, 0.59224442, 0.59459459,\n",
       "        0.60164512, 0.61222092, 0.61457109, 0.61692127, 0.62279671,\n",
       "        0.62279671, 0.63102233, 0.6333725 , 0.64277321, 0.64512338,\n",
       "        0.64747356, 0.65687427, 0.65687427, 0.66392479, 0.66745006,\n",
       "        0.67215041, 0.67450059, 0.67567568, 0.67920094, 0.68037603,\n",
       "        0.68860165, 0.693302  , 0.70622797, 0.70857814, 0.71680376,\n",
       "        0.71915394, 0.72032902, 0.7226792 , 0.72502938, 0.72737955,\n",
       "        0.73325499, 0.73560517, 0.74148061, 0.74618096, 0.74735605,\n",
       "        0.7520564 , 0.75323149, 0.76028202, 0.7626322 , 0.76968273,\n",
       "        0.7720329 , 0.77555817, 0.77673325, 0.79083431, 0.80141011,\n",
       "        0.80258519, 0.80376028, 0.80963572, 0.81316099, 0.81433608,\n",
       "        0.82021152, 0.82256169, 0.82961222, 0.83783784, 0.83901293,\n",
       "        0.84371328, 0.84488837, 0.85546416, 0.85663925, 0.86016451,\n",
       "        0.87074031, 0.88249119, 0.88484136, 0.88719154, 0.89306698,\n",
       "        0.89424207, 0.89894242, 0.90011751, 0.91304348, 0.9212691 ,\n",
       "        0.92244418, 0.92596945, 0.93184489, 0.93419506, 0.93654524,\n",
       "        0.94007051, 0.94712103, 0.95182139, 0.95299647, 0.960047  ,\n",
       "        0.96357227, 0.96592244, 0.9706228 , 0.9706228 , 0.97179788,\n",
       "        0.97414806, 0.97649824, 0.9800235 , 0.98589894, 0.98942421,\n",
       "        0.99059929, 0.99529965, 0.99647474, 0.99882491, 1.        ]),\n",
       " array([0.        , 0.00470035, 0.00940071, 0.01175088, 0.01527615,\n",
       "        0.01762632, 0.02350176, 0.02820212, 0.03055229, 0.03290247,\n",
       "        0.03525264, 0.03877791, 0.04582844, 0.04700353, 0.05170388,\n",
       "        0.05757932, 0.05992949, 0.06110458, 0.06462985, 0.06580494,\n",
       "        0.07050529, 0.07168038, 0.07520564, 0.07755582, 0.08343126,\n",
       "        0.08813161, 0.09048179, 0.09400705, 0.0987074 , 0.09988249,\n",
       "        0.10223267, 0.10458284, 0.10693302, 0.11163337, 0.11398355,\n",
       "        0.11750881, 0.12338425, 0.12573443, 0.12808461, 0.13043478,\n",
       "        0.13396005, 0.14101058, 0.14218566, 0.14688602, 0.15393655,\n",
       "        0.15746181, 0.15981199, 0.17391304, 0.17626322, 0.1786134 ,\n",
       "        0.18096357, 0.1880141 , 0.19271445, 0.19388954, 0.19388954,\n",
       "        0.19976498, 0.20681551, 0.21034078, 0.21151586, 0.21974148,\n",
       "        0.22091657, 0.22444183, 0.23031727, 0.23619271, 0.23854289,\n",
       "        0.23971798, 0.24206816, 0.24324324, 0.24911868, 0.25146886,\n",
       "        0.25499412, 0.25969448, 0.26321974, 0.26439483, 0.26439483,\n",
       "        0.26909518, 0.27144536, 0.27379553, 0.27614571, 0.28437133,\n",
       "        0.2867215 , 0.28789659, 0.29024677, 0.29142186, 0.29612221,\n",
       "        0.29612221, 0.30199765, 0.30199765, 0.30434783, 0.306698  ,\n",
       "        0.31022327, 0.31374853, 0.31844888, 0.32197415, 0.32314924,\n",
       "        0.32784959, 0.32902468, 0.33137485, 0.34077556, 0.34077556,\n",
       "        0.34312573, 0.34900118, 0.35135135, 0.35370153, 0.35840188,\n",
       "        0.36192714, 0.36427732, 0.36545241, 0.36897767, 0.37132785,\n",
       "        0.37367803, 0.37720329, 0.38190364, 0.38425382, 0.386604  ,\n",
       "        0.38895417, 0.39130435, 0.39482961, 0.39952996, 0.40423032,\n",
       "        0.40775558, 0.41245593, 0.41480611, 0.41715629, 0.41833137,\n",
       "        0.42303173, 0.4253819 , 0.43008226, 0.43478261, 0.43830787,\n",
       "        0.43830787, 0.44183314, 0.4453584 , 0.44888367, 0.45123384,\n",
       "        0.45240893, 0.46180964, 0.46180964, 0.46298472, 0.46650999,\n",
       "        0.47121034, 0.47238543, 0.47473561, 0.48061105, 0.48296122,\n",
       "        0.4947121 , 0.4947121 , 0.49823737, 0.50058754, 0.51116334,\n",
       "        0.51586369, 0.51821387, 0.51938895, 0.51938895, 0.52291422,\n",
       "        0.52643948, 0.52761457, 0.52996475, 0.53584019, 0.53584019,\n",
       "        0.53701528, 0.53936545, 0.5440658 , 0.5440658 , 0.54994125,\n",
       "        0.54994125, 0.5546416 , 0.55699177, 0.55699177, 0.55934195,\n",
       "        0.55934195, 0.5640423 , 0.57344301, 0.57344301, 0.57931845,\n",
       "        0.57931845, 0.58519389, 0.58754407, 0.59694477, 0.60164512,\n",
       "        0.60869565, 0.61104583, 0.61222092, 0.61222092, 0.613396  ,\n",
       "        0.613396  , 0.61574618, 0.61692127, 0.62044653, 0.62044653,\n",
       "        0.62279671, 0.62279671, 0.6239718 , 0.6239718 , 0.62632197,\n",
       "        0.62632197, 0.62749706, 0.62749706, 0.62984724, 0.63102233,\n",
       "        0.63572268, 0.63572268, 0.64159812, 0.64159812, 0.6439483 ,\n",
       "        0.6439483 , 0.64512338, 0.64512338, 0.64864865, 0.64864865,\n",
       "        0.64982374, 0.64982374, 0.65217391, 0.65217391, 0.65569918,\n",
       "        0.65569918, 0.65687427, 0.65804935, 0.65804935, 0.66392479,\n",
       "        0.66392479, 0.66509988, 0.66509988, 0.66745006, 0.66745006,\n",
       "        0.67450059, 0.67685076, 0.67685076, 0.67802585, 0.67802585,\n",
       "        0.68037603, 0.68037603, 0.6827262 , 0.6827262 , 0.68390129,\n",
       "        0.68390129, 0.68507638, 0.68742656, 0.68742656, 0.68860165,\n",
       "        0.68860165, 0.693302  , 0.693302  , 0.69447709, 0.69917744,\n",
       "        0.70035253, 0.70035253, 0.7027027 , 0.70622797, 0.70622797,\n",
       "        0.70740306, 0.70740306, 0.70975323, 0.71092832, 0.71092832,\n",
       "        0.7132785 , 0.71680376, 0.71680376, 0.72855464, 0.73090482,\n",
       "        0.73090482, 0.73325499, 0.73560517, 0.73560517, 0.73678026,\n",
       "        0.73678026, 0.73795535, 0.73795535, 0.74030552, 0.74030552,\n",
       "        0.75088132, 0.75088132, 0.7520564 , 0.7520564 , 0.75323149,\n",
       "        0.75558167, 0.75793184, 0.7626322 , 0.7626322 , 0.76380729,\n",
       "        0.76380729, 0.76380729, 0.76380729, 0.76498237, 0.76498237,\n",
       "        0.76733255, 0.76850764, 0.76850764, 0.77790834, 0.77790834,\n",
       "        0.77908343, 0.77908343, 0.78143361, 0.78143361, 0.78730905,\n",
       "        0.78965922, 0.78965922, 0.79083431, 0.79083431, 0.79318449,\n",
       "        0.79553467, 0.80376028, 0.80611046, 0.80611046, 0.80846063,\n",
       "        0.80846063, 0.80963572, 0.80963572, 0.81081081, 0.81081081,\n",
       "        0.8119859 , 0.8119859 , 0.81433608, 0.81433608, 0.81668625,\n",
       "        0.81903643, 0.81903643, 0.81903643, 0.82021152, 0.82021152,\n",
       "        0.82021152, 0.82021152, 0.8213866 , 0.8213866 , 0.8213866 ,\n",
       "        0.82256169, 0.82491187, 0.82491187, 0.82491187, 0.82491187,\n",
       "        0.82491187, 0.82843713, 0.82843713, 0.82961222, 0.82961222,\n",
       "        0.83078731, 0.83431257, 0.83431257, 0.83666275, 0.83666275,\n",
       "        0.83901293, 0.83901293, 0.84018801, 0.84371328, 0.84371328,\n",
       "        0.84488837, 0.84488837, 0.84606345, 0.84606345, 0.85076381,\n",
       "        0.85076381, 0.8519389 , 0.85311398, 0.85311398, 0.85546416,\n",
       "        0.85546416, 0.85781434, 0.85781434, 0.85781434, 0.85898942,\n",
       "        0.85898942, 0.85898942, 0.86016451, 0.8613396 , 0.86251469,\n",
       "        0.86251469, 0.86251469, 0.86368978, 0.86368978, 0.86603995,\n",
       "        0.86839013, 0.86956522, 0.87191539, 0.87191539, 0.87309048,\n",
       "        0.87309048, 0.87426557, 0.87426557, 0.87426557, 0.87544066,\n",
       "        0.87544066, 0.87544066, 0.87544066, 0.87661575, 0.87661575,\n",
       "        0.87779083, 0.87896592, 0.87896592, 0.88014101, 0.88014101,\n",
       "        0.88014101, 0.88014101, 0.88014101, 0.88249119, 0.88366627,\n",
       "        0.88366627, 0.88484136, 0.88484136, 0.88484136, 0.88601645,\n",
       "        0.88954172, 0.88954172, 0.88954172, 0.8907168 , 0.8907168 ,\n",
       "        0.89189189, 0.89189189, 0.89424207, 0.89424207, 0.89541716,\n",
       "        0.89541716, 0.89541716, 0.89541716, 0.89659224, 0.89659224,\n",
       "        0.89659224, 0.89776733, 0.89776733, 0.89894242, 0.89894242,\n",
       "        0.89894242, 0.89894242, 0.89894242, 0.90011751, 0.9012926 ,\n",
       "        0.9012926 , 0.9012926 , 0.9012926 , 0.9012926 , 0.90246769,\n",
       "        0.90246769, 0.90246769, 0.90481786, 0.90599295, 0.90599295,\n",
       "        0.90716804, 0.90716804, 0.90834313, 0.90834313, 0.90834313,\n",
       "        0.90951821, 0.90951821, 0.90951821, 0.90951821, 0.90951821,\n",
       "        0.90951821, 0.9106933 , 0.9106933 , 0.91186839, 0.91304348,\n",
       "        0.91304348, 0.91421857, 0.91421857, 0.91539365, 0.91891892,\n",
       "        0.91891892, 0.9212691 , 0.9212691 , 0.9212691 , 0.92244418,\n",
       "        0.92244418, 0.92244418, 0.92361927, 0.92596945, 0.92714454,\n",
       "        0.92831962, 0.92831962, 0.92831962, 0.92831962, 0.92949471,\n",
       "        0.92949471, 0.93184489, 0.93184489, 0.93301998, 0.93301998,\n",
       "        0.93301998, 0.93419506, 0.93654524, 0.93654524, 0.93654524,\n",
       "        0.93654524, 0.93772033, 0.94007051, 0.94007051, 0.94007051,\n",
       "        0.94007051, 0.94712103, 0.94712103, 0.94712103, 0.94712103,\n",
       "        0.94829612, 0.95182139, 0.95182139, 0.95417156, 0.95534665,\n",
       "        0.95534665, 0.95652174, 0.95769683, 0.96239718, 0.96357227,\n",
       "        0.96357227, 0.96474736, 0.96474736, 0.96474736, 0.96474736,\n",
       "        0.96944771, 0.96944771, 0.97179788, 0.97179788, 0.97532315,\n",
       "        0.97532315, 0.97532315, 0.97532315, 0.97649824, 0.97649824,\n",
       "        0.97767333, 0.97767333, 0.9800235 , 0.9800235 , 0.9800235 ,\n",
       "        0.98237368, 0.98237368, 0.98237368, 0.98237368, 0.98237368,\n",
       "        0.98237368, 0.98237368, 0.98237368, 0.98354877, 0.98472385,\n",
       "        0.98472385, 0.98589894, 0.98589894, 0.98589894, 0.98589894,\n",
       "        0.98707403, 0.98942421, 0.99059929, 0.99059929, 0.99059929,\n",
       "        0.99059929, 0.99059929, 0.99177438, 0.99177438, 0.99177438,\n",
       "        0.99294947, 0.99294947, 0.99294947, 0.99294947, 0.99412456,\n",
       "        0.99529965, 0.99529965, 0.99529965, 0.99529965, 0.99529965,\n",
       "        0.99529965, 0.99529965, 0.99529965, 0.99647474, 0.99647474,\n",
       "        0.99647474, 0.99764982, 0.99764982, 0.99764982, 0.99764982,\n",
       "        0.99882491, 0.99882491, 0.99882491, 1.        , 1.        ,\n",
       "        1.        , 1.        , 1.        , 1.        , 1.        ,\n",
       "        1.        , 1.        , 1.        , 1.        , 1.        ]),\n",
       " array([1.93873734, 0.93873734, 0.936547  , 0.93642486, 0.93581567,\n",
       "        0.93578658, 0.93170838, 0.9278361 , 0.92674807, 0.92642835,\n",
       "        0.92323148, 0.92272999, 0.92257556, 0.92214778, 0.92211184,\n",
       "        0.91953312, 0.9194392 , 0.91801359, 0.91730719, 0.91511686,\n",
       "        0.91443595, 0.91395264, 0.91273764, 0.91262146, 0.91082128,\n",
       "        0.90974062, 0.90953643, 0.90762903, 0.90703845, 0.90644472,\n",
       "        0.90632464, 0.90319766, 0.90307649, 0.9021877 , 0.90199299,\n",
       "        0.90127597, 0.90007368, 0.89990083, 0.8991358 , 0.8982662 ,\n",
       "        0.89516192, 0.8940607 , 0.89398371, 0.89369326, 0.89057888,\n",
       "        0.89053792, 0.89013309, 0.8859571 , 0.88595558, 0.88537337,\n",
       "        0.88247246, 0.88242986, 0.882257  , 0.88188353, 0.88182029,\n",
       "        0.87788143, 0.87717381, 0.8765916 , 0.87656225, 0.87576833,\n",
       "        0.87553515, 0.87478184, 0.87472108, 0.87281546, 0.87252239,\n",
       "        0.87226205, 0.87222892, 0.87198936, 0.87169589, 0.87070941,\n",
       "        0.86871627, 0.86864735, 0.86847449, 0.86766086, 0.86743631,\n",
       "        0.86515394, 0.86397312, 0.86380026, 0.86350032, 0.86183139,\n",
       "        0.86156183, 0.8611398 , 0.86052266, 0.86051245, 0.85994045,\n",
       "        0.85989157, 0.85856699, 0.85849406, 0.85832837, 0.85829245,\n",
       "        0.85715549, 0.85687364, 0.85660781, 0.85609157, 0.8556109 ,\n",
       "        0.85550935, 0.85532399, 0.85468706, 0.85340737, 0.85331707,\n",
       "        0.85330556, 0.85291985, 0.85272334, 0.85223874, 0.8516669 ,\n",
       "        0.85123417, 0.8505643 , 0.85037626, 0.85013347, 0.84982858,\n",
       "        0.84973956, 0.84967109, 0.84891582, 0.8483938 , 0.84831099,\n",
       "        0.84803824, 0.8480282 , 0.84617088, 0.84600726, 0.84502078,\n",
       "        0.84458883, 0.84369952, 0.84346863, 0.84336495, 0.84316371,\n",
       "        0.84267683, 0.84248357, 0.84229033, 0.84212275, 0.84101104,\n",
       "        0.84059638, 0.83909502, 0.8386542 , 0.83726272, 0.83719755,\n",
       "        0.83711444, 0.83436118, 0.83373827, 0.83332321, 0.83307678,\n",
       "        0.83295462, 0.83278176, 0.83207506, 0.83143812, 0.83126698,\n",
       "        0.8248685 , 0.824321  , 0.82225372, 0.8221735 , 0.81443568,\n",
       "        0.81182807, 0.81072059, 0.80990262, 0.8097341 , 0.80702825,\n",
       "        0.80689369, 0.80635176, 0.80563972, 0.80324619, 0.80251842,\n",
       "        0.80164322, 0.80149401, 0.80001064, 0.79936214, 0.79635422,\n",
       "        0.79594638, 0.79401961, 0.79396731, 0.79391286, 0.79296494,\n",
       "        0.79262989, 0.7915418 , 0.78328241, 0.7824262 , 0.77863458,\n",
       "        0.77697867, 0.77332703, 0.77322414, 0.76643085, 0.76638267,\n",
       "        0.76264505, 0.76226945, 0.7621226 , 0.76195842, 0.75826331,\n",
       "        0.75669971, 0.75537134, 0.75530747, 0.75204267, 0.75096906,\n",
       "        0.74396777, 0.7415236 , 0.74147171, 0.74115802, 0.7395253 ,\n",
       "        0.7385048 , 0.73512164, 0.73243495, 0.72615772, 0.72584841,\n",
       "        0.71993816, 0.71879906, 0.71318416, 0.70824691, 0.70778231,\n",
       "        0.70636265, 0.70579289, 0.70511907, 0.70415901, 0.70271913,\n",
       "        0.70266756, 0.69881811, 0.69666854, 0.69403585, 0.68829934,\n",
       "        0.68789886, 0.68645089, 0.68588334, 0.68579606, 0.67928418,\n",
       "        0.67824543, 0.67653055, 0.6743762 , 0.66647257, 0.66480939,\n",
       "        0.65212303, 0.65206311, 0.65187144, 0.65063573, 0.64782879,\n",
       "        0.6471642 , 0.63824129, 0.63812881, 0.6354055 , 0.63405956,\n",
       "        0.63220112, 0.62053648, 0.61860122, 0.61419769, 0.61342678,\n",
       "        0.60101039, 0.58863389, 0.58777391, 0.58441556, 0.58359828,\n",
       "        0.58177419, 0.58145903, 0.57249706, 0.57093108, 0.56989414,\n",
       "        0.56487318, 0.56469442, 0.56326255, 0.56264859, 0.55912653,\n",
       "        0.55491526, 0.55463319, 0.5542371 , 0.55308318, 0.55253358,\n",
       "        0.55083172, 0.5505642 , 0.54673294, 0.53414421, 0.52296849,\n",
       "        0.51839549, 0.50535038, 0.49997445, 0.49877   , 0.49730466,\n",
       "        0.48006911, 0.47503193, 0.4710975 , 0.47043775, 0.46616628,\n",
       "        0.46436502, 0.4625163 , 0.45870763, 0.44774882, 0.44642593,\n",
       "        0.43762009, 0.43748513, 0.42865417, 0.42857988, 0.42350768,\n",
       "        0.41862444, 0.41843437, 0.41840851, 0.41645587, 0.41618122,\n",
       "        0.41416519, 0.41271881, 0.41263978, 0.41141391, 0.4113643 ,\n",
       "        0.41005615, 0.40841164, 0.40678398, 0.40501072, 0.40269942,\n",
       "        0.40185088, 0.40125406, 0.39775   , 0.397517  , 0.39674003,\n",
       "        0.39503024, 0.39447315, 0.39161957, 0.3909135 , 0.39071584,\n",
       "        0.39036104, 0.38937993, 0.38728903, 0.38726762, 0.38690474,\n",
       "        0.38528628, 0.38501564, 0.38428187, 0.38384344, 0.38353687,\n",
       "        0.38305907, 0.38135825, 0.38062448, 0.37989938, 0.3797936 ,\n",
       "        0.37940168, 0.37697303, 0.37291568, 0.37189352, 0.37090499,\n",
       "        0.36939249, 0.36903205, 0.36817018, 0.36760991, 0.36698085,\n",
       "        0.36693286, 0.36624994, 0.36570154, 0.36376341, 0.36331291,\n",
       "        0.36291935, 0.36262691, 0.3625366 , 0.36122946, 0.3591457 ,\n",
       "        0.357731  , 0.35741687, 0.3569561 , 0.35442183, 0.35213549,\n",
       "        0.3498248 , 0.34966788, 0.34844022, 0.34655169, 0.34604707,\n",
       "        0.34586418, 0.34517484, 0.34402072, 0.34201601, 0.34197301,\n",
       "        0.34187732, 0.34162642, 0.34050831, 0.33827449, 0.33627449,\n",
       "        0.33397304, 0.33368087, 0.33261711, 0.33179023, 0.33152736,\n",
       "        0.32983885, 0.32959575, 0.32951639, 0.32555577, 0.32422303,\n",
       "        0.31978603, 0.31678326, 0.31193554, 0.30871358, 0.30827815,\n",
       "        0.30768382, 0.30763431, 0.30549184, 0.30541014, 0.30483407,\n",
       "        0.30397692, 0.30258576, 0.30117668, 0.29991222, 0.29975278,\n",
       "        0.2994002 , 0.29917236, 0.29551497, 0.29274667, 0.29171786,\n",
       "        0.29111554, 0.29027572, 0.28829596, 0.28704234, 0.28674828,\n",
       "        0.2865868 , 0.28427295, 0.28364931, 0.2826205 , 0.28124265,\n",
       "        0.28111067, 0.28008186, 0.27653828, 0.27574638, 0.27500179,\n",
       "        0.27482913, 0.27453127, 0.27450138, 0.27436979, 0.27399661,\n",
       "        0.27387244, 0.27380032, 0.27334098, 0.27203457, 0.2718731 ,\n",
       "        0.27166644, 0.2713199 , 0.2712004 , 0.27099447, 0.27084429,\n",
       "        0.27054015, 0.27029109, 0.27025955, 0.26974078, 0.26965271,\n",
       "        0.26910486, 0.26877438, 0.26846667, 0.26803162, 0.26801562,\n",
       "        0.26745867, 0.26743786, 0.26700281, 0.26668936, 0.26642986,\n",
       "        0.26605809, 0.26596112, 0.26550839, 0.26511383, 0.26506331,\n",
       "        0.26487711, 0.26481501, 0.26477942, 0.26406533, 0.26375061,\n",
       "        0.26212581, 0.26143308, 0.26065632, 0.26057812, 0.25938784,\n",
       "        0.25916721, 0.25855429, 0.25848827, 0.25752548, 0.25711445,\n",
       "        0.25503853, 0.25490282, 0.25473069, 0.25418522, 0.25354041,\n",
       "        0.25335002, 0.25232121, 0.25210356, 0.25002359, 0.24958446,\n",
       "        0.2488333 , 0.24820203, 0.24795859, 0.2473507 , 0.24608691,\n",
       "        0.24591809, 0.24525521, 0.24380163, 0.24303569, 0.24277282,\n",
       "        0.23714349, 0.23697017, 0.2329957 , 0.23139481, 0.23098495,\n",
       "        0.22870725, 0.2280813 , 0.22748942, 0.2273455 , 0.22705249,\n",
       "        0.22702871, 0.22699809, 0.22600844, 0.22578026, 0.22475145,\n",
       "        0.22417157, 0.22318809, 0.22306152, 0.22246241, 0.22215928,\n",
       "        0.2214336 , 0.22135236, 0.22041087, 0.22032355, 0.22019339,\n",
       "        0.2199862 , 0.2199173 , 0.21989199, 0.21895739, 0.21892985,\n",
       "        0.21886318, 0.21850194, 0.21816392, 0.21790104, 0.21785281,\n",
       "        0.21776985, 0.21727753, 0.21713857, 0.21632994, 0.21592421,\n",
       "        0.21576274, 0.21515617, 0.21507955, 0.21478226, 0.21473393,\n",
       "        0.21344144, 0.21322161, 0.21306881, 0.2129607 , 0.21266566,\n",
       "        0.21189375, 0.21167392, 0.21163685, 0.21116021, 0.21070347,\n",
       "        0.21058891, 0.2101314 , 0.21007219, 0.20979735, 0.20963848,\n",
       "        0.20876854, 0.20276603, 0.20111724, 0.2003253 , 0.20008843,\n",
       "        0.19980643, 0.19912556, 0.19869295, 0.19735698, 0.19718964,\n",
       "        0.19641768, 0.19616669, 0.19616083, 0.1958988 , 0.19553542,\n",
       "        0.19510591, 0.19486999, 0.19355822, 0.18948671, 0.1889497 ,\n",
       "        0.18586186, 0.18534299, 0.18431418, 0.18328079, 0.18041827,\n",
       "        0.18036   , 0.17938946, 0.17480675, 0.17457794, 0.17356118,\n",
       "        0.16846719, 0.16724225, 0.16430842, 0.15404569, 0.15173153,\n",
       "        0.15046277, 0.13828545, 0.13514432, 0.13205606, 0.13182725]))"
      ]
     },
     "execution_count": 39,
     "metadata": {},
     "output_type": "execute_result"
    }
   ],
   "source": [
    "from sklearn.metrics import roc_curve\n",
    "from sklearn.ensemble import RandomForestClassifier\n",
    "forest = RandomForestClassifier(n_estimators=100,random_state=10,max_depth=4)\n",
    "forest.fit(X, y)\n",
    "y_hat=forest.predict(X)\n",
    "fpr,tpr,thresholds=roc_curve(y, forest.predict_proba(X)[:,1])\n",
    "fpr,tpr,thresholds "
   ]
  },
  {
   "cell_type": "code",
   "execution_count": 40,
   "metadata": {},
   "outputs": [
    {
     "data": {
      "image/png": "[encoded data removed]",
      "text/plain": [
       "<Figure size 640x480 with 1 Axes>"
      ]
     },
     "metadata": {},
     "output_type": "display_data"
    }
   ],
   "source": [
    "#ROC 커브\n",
    "import matplotlib.pyplot as plt \n",
    "plt.plot(fpr, tpr, 'o-', label='RandomForest')\n",
    "plt.plot([0,1],[0,1],'k--',label='random guess')\n",
    "plt.plot([fpr], [tpr], 'ro', ms=20)\n",
    "plt.xlabel('FPR')\n",
    "plt.ylabel('TPR')\n",
    "plt.legend()\n",
    "plt.show()"
   ]
  },
  {
   "attachments": {},
   "cell_type": "markdown",
   "metadata": {},
   "source": [
    "#### 6. KNN (사례기반추론)"
   ]
  },
  {
   "cell_type": "code",
   "execution_count": null,
   "metadata": {},
   "outputs": [],
   "source": [
    "from sklearn.neighbors import KNeighborsClassifier\n",
    "import numpy as np\n",
    "train_rate = []\n",
    "test_rate = []\n",
    "neighbors = range(1, 11) \n",
    "for n in neighbors:\n",
    "    knn = KNeighborsClassifier(n_neighbors=n)\n",
    "    knn.fit(X_train_scaled, y_train)\n",
    "    train_rate.append(knn.score(X_train_scaled, y_train))\n",
    "    test_rate.append(knn.score(X_test_scaled, y_test))\n",
    "    test_arr=np.array(test_rate) \n",
    "    max_rate=np.max(test_arr) \n",
    "    idx=np.where(test_arr == max_rate)[0][0] \n",
    "    print(\"최적의 K :\",neighbors[idx])\n",
    "    print(\"최고 Score :\",test_rate[idx])\n"
   ]
  },
  {
   "cell_type": "code",
   "execution_count": null,
   "metadata": {},
   "outputs": [],
   "source": [
    "plt.rcParams[\"font.size\"]=15\n",
    "plt.plot(neighbors, train_rate, label=\"Train\")\n",
    "plt.plot(neighbors, test_rate, label=\"Test\")\n",
    "plt.title(\"KNN / mean_test_score\")\n",
    "plt.ylabel(\"Score\")\n",
    "plt.xlabel(\"이웃의 수\")\n",
    "plt.legend()"
   ]
  },
  {
   "cell_type": "code",
   "execution_count": null,
   "metadata": {},
   "outputs": [],
   "source": [
    "knn = KNeighborsClassifier(n_neighbors=3)\n",
    "knn.fit(X_train_scaled, y_train)\n",
    "score_tr=knn.score(X_train_scaled, y_train)\n",
    "score_te=knn.score(X_test_scaled, y_test)\n",
    "print(\"학습용:\",score_tr)\n",
    "print(\"검증용:\",score_te)\n",
    "\n",
    "\n",
    "result_tr.append(score_tr)\n",
    "result_te.append(score_te)\n"
   ]
  },
  {
   "attachments": {},
   "cell_type": "markdown",
   "metadata": {},
   "source": [
    "#### 6.1 교차검증"
   ]
  },
  {
   "cell_type": "code",
   "execution_count": null,
   "metadata": {},
   "outputs": [],
   "source": [
    "# 최적 요인 탐색\n",
    "from sklearn.model_selection import GridSearchCV\n",
    "params = {\n",
    "'n_neighbors': list(range(1,11)),\n",
    "'algorithm': ['ball_tree','kd_tree','brute'],\n",
    "'weights': ['uniform','distance'],\n",
    "'p': [1,2]\n",
    "}\n",
    "gcv = GridSearchCV(knn, params, cv=3)\n",
    "gcv.fit(X, y)"
   ]
  },
  {
   "cell_type": "code",
   "execution_count": null,
   "metadata": {},
   "outputs": [],
   "source": [
    "gcv.cv_results_[\"params\"][:5]"
   ]
  },
  {
   "cell_type": "code",
   "execution_count": null,
   "metadata": {},
   "outputs": [],
   "source": [
    "scores=gcv.cv_results_[\"mean_test_score\"]\n",
    "scores[:10]"
   ]
  },
  {
   "cell_type": "code",
   "execution_count": null,
   "metadata": {},
   "outputs": [],
   "source": [
    "%matplotlib inline\n",
    "import matplotlib.pyplot as plt\n",
    "print(max(scores))\n",
    "plt.plot(scores)\n",
    "plt.title(\"KNN / 교차검증\") \n",
    "plt.ylabel(\"mean_test_score\")"
   ]
  },
  {
   "cell_type": "code",
   "execution_count": null,
   "metadata": {},
   "outputs": [],
   "source": [
    "# 최적 요인\n",
    "print(gcv.best_score_)\n",
    "print(gcv.best_params_) \n",
    "print(gcv.best_estimator_)"
   ]
  },
  {
   "cell_type": "code",
   "execution_count": null,
   "metadata": {},
   "outputs": [],
   "source": [
    "# 최적 요인 적용 / 교차 검증 10회 \n",
    "from sklearn.model_selection import cross_val_score\n",
    "import numpy as np\n",
    "model = KNeighborsClassifier(algorithm='ball_tree',\n",
    "n_neighbors=6, p=2, weights='uniform')\n",
    "result=cross_val_score(model, X, y, cv=10)\n",
    "\n",
    "print(result)\n",
    "print(np.mean(result))\n",
    "print(np.max(result))"
   ]
  },
  {
   "attachments": {},
   "cell_type": "markdown",
   "metadata": {},
   "source": [
    "#### 7. SVM (서포트벡터머신)"
   ]
  },
  {
   "cell_type": "code",
   "execution_count": null,
   "metadata": {},
   "outputs": [],
   "source": [
    "from sklearn.svm import SVC\n",
    "svm = SVC(random_state=10)\n",
    "svm.fit(X_train_scaled, y_train)\n",
    "print(\"학습용:\",svm.score(X_train_scaled, y_train))\n",
    "print(\"검증용:\",svm.score(X_test_scaled, y_test))"
   ]
  },
  {
   "cell_type": "code",
   "execution_count": null,
   "metadata": {},
   "outputs": [],
   "source": [
    "# 최적 C value  , Gamma value 탐색\n",
    "import numpy as np\n",
    "train_rate = []\n",
    "test_rate = []\n",
    "c_values = [0.001, 0.01, 0.1, 1, 10, 100, 1000]\n",
    "g_values = [0.0001, 0.001, 0.01, 0.1]\n",
    "for n in c_values:\n",
    "    for g in g_values:\n",
    "        svm = SVC(C=n,gamma=g,random_state=10)\n",
    "        svm.fit(X_train_scaled, y_train)\n",
    "        train_rate.append([n,g,svm.score(X_train_scaled,\n",
    "        y_train)])\n",
    "        test_rate.append([n,g,svm.score(X_test_scaled,\n",
    "        y_test)])\n",
    "        train_arr=np.array(train_rate) \n",
    "        test_arr=np.array(test_rate) \n",
    "        max_rate=np.max(test_arr[:,2])\n",
    "        idx=np.argmax(test_arr[:,2]) \n",
    "        print(\"최적의 c:\",test_rate[idx][0])\n",
    "        print(\"최적의 gamma:\",test_rate[idx][1])\n",
    "        print(\"최고 정확도:\",test_rate[idx][2])"
   ]
  },
  {
   "cell_type": "code",
   "execution_count": null,
   "metadata": {},
   "outputs": [],
   "source": [
    "plt.rcParams[\"font.size\"]=15\n",
    "plt.plot(range(len(train_rate)), train_arr[:,2], label=\"Train\")\n",
    "plt.plot(range(len(test_rate)), test_arr[:,2], label=\"Test\")\n",
    "plt.legend()\n",
    "plt.title(\"SVM / 정확도 그래프\")\n",
    "plt.ylabel(\"Score\")"
   ]
  },
  {
   "cell_type": "code",
   "execution_count": null,
   "metadata": {},
   "outputs": [],
   "source": [
    "# 최적 요인 적용\n",
    "from sklearn.svm import SVC\n",
    "svm = SVC(C=100,gamma=0.01,random_state=10)\n",
    "svm.fit(X_train_scaled, y_train)\n",
    "score_tr=svm.score(X_train_scaled, y_train)\n",
    "score_te=svm.score(X_test_scaled, y_test)\n",
    "print(\"학습용:\",score_tr)\n",
    "print(\"검증용:\",score_te)\n",
    "\n",
    "result_tr.append(score_tr)\n",
    "result_te.append(score_te)"
   ]
  },
  {
   "attachments": {},
   "cell_type": "markdown",
   "metadata": {},
   "source": [
    "#### 8. Sklearn (인공신경망 / ANN)"
   ]
  },
  {
   "cell_type": "code",
   "execution_count": null,
   "metadata": {},
   "outputs": [],
   "source": [
    "from sklearn.neural_network import MLPClassifier\n",
    "mlp = MLPClassifier(max_iter=1000, hidden_layer_sizes=[100,100], random_state=10)\n",
    "mlp.fit(X_train_scaled, y_train)\n",
    "score_tr=mlp.score(X_train_scaled, y_train)\n",
    "score_te=mlp.score(X_test_scaled, y_test)\n",
    "print(\"학습용:\",score_tr)\n",
    "print(\"검증용:\",score_te)\n",
    "\n",
    "result_tr.append(score_tr)\n",
    "result_te.append(score_te)"
   ]
  },
  {
   "cell_type": "code",
   "execution_count": null,
   "metadata": {},
   "outputs": [],
   "source": [
    "import numpy as np\n",
    "import matplotlib.pyplot as plt\n",
    "train_rate=[]\n",
    "test_rate=[]\n",
    "for i in range(100,301,100): \n",
    "    for j in range(100,301,100):\n",
    "        model=MLPClassifier(random_state=0, hidden_layer_sizes=[i,j],max_iter=1000)\n",
    "        model.fit(X_train_scaled,y_train)\n",
    "        train_rate.append(model.score(X_train_scaled,y_train))\n",
    "        test_rate.append(model.score(X_test_scaled,y_test))\n",
    "plt.rcParams['font.size']=15\n",
    "plt.plot(range(1,10),train_rate,label='Train')\n",
    "plt.plot(range(1,10),test_rate,label='Test')\n",
    "plt.title(\"ANN / 정확도 그래프\") \n",
    "plt.ylabel('Accuracy')\n",
    "plt.xlabel('count')\n",
    "plt.legend()"
   ]
  },
  {
   "cell_type": "code",
   "execution_count": null,
   "metadata": {},
   "outputs": [],
   "source": [
    "max_rate=max(test_rate) \n",
    "idx=np.where(test_rate == max_rate)[0][0]  \n",
    "print('idx:',idx)\n",
    "print('최고정확도:',max_rate)\n",
    "cnt=0\n",
    "for i in range(100,301,100):\n",
    "    for j in range(100,301,100):\n",
    "        if cnt == idx:\n",
    "            print(i,j)\n",
    "        cnt+=1\n",
    "model=MLPClassifier(hidden_layer_sizes=[300,100],random_state=0)\n",
    "model.fit(X_train_scaled,y_train)\n",
    "print('학습용:{:6.2f}%'.format(model.score(X_train_scaled,y_train)*100))\n",
    "print('검증용:{:6.2f}%'.format(model.score(X_test_scaled,y_test)*100))"
   ]
  },
  {
   "attachments": {},
   "cell_type": "markdown",
   "metadata": {},
   "source": [
    "#### 9. Tensorflow (딥러닝 / DNN)"
   ]
  },
  {
   "cell_type": "code",
   "execution_count": null,
   "metadata": {},
   "outputs": [],
   "source": [
    "from keras.models import Sequential\n",
    "from keras.layers import Dense\n",
    "from keras.optimizers import SGD\n",
    "model = Sequential()\n",
    "model.add(Dense(64,input_shape=(X.shape[1],),activation='relu'))\n",
    "model.add(Dense(64,activation='relu'))\n",
    "model.add(Dense(1,activation='sigmoid')) \n",
    "sgd = SGD(learning_rate=0.01)  \n",
    "model.compile(loss='binary_crossentropy',            \n",
    "optimizer='adam',\n",
    "metrics=['accuracy'])"
   ]
  },
  {
   "cell_type": "code",
   "execution_count": null,
   "metadata": {},
   "outputs": [],
   "source": [
    "hist = model.fit(X_train_scaled, y_train, epochs=100)"
   ]
  },
  {
   "cell_type": "code",
   "execution_count": null,
   "metadata": {},
   "outputs": [],
   "source": [
    "loss, acc_tr = model.evaluate(X_train_scaled,\n",
    "y_train, verbose=0)\n",
    "loss, acc_te = model.evaluate(X_test_scaled,\n",
    "y_test, verbose=0)\n",
    "print(acc_tr)\n",
    "print(acc_te)\n",
    "\n",
    "\n",
    "result_tr.append(acc_tr)\n",
    "result_te.append(acc_te)"
   ]
  },
  {
   "cell_type": "code",
   "execution_count": null,
   "metadata": {},
   "outputs": [],
   "source": [
    "result_tr"
   ]
  },
  {
   "cell_type": "code",
   "execution_count": null,
   "metadata": {},
   "outputs": [],
   "source": [
    "result_te"
   ]
  },
  {
   "attachments": {},
   "cell_type": "markdown",
   "metadata": {},
   "source": [
    "#### 10. 정형 데이터 분류 비교"
   ]
  },
  {
   "cell_type": "code",
   "execution_count": null,
   "metadata": {},
   "outputs": [],
   "source": [
    "methods=[\"LOGIT\",\"Tree\",\"RF\",\"KNN\",\"SVM\", \"ANN\",\"DNN\"]\n",
    "result_tr_arr=np.array(result_tr) \n",
    "max_rate_tr=np.max(result_tr_arr) \n",
    "idx_tr=np.argmax(result_tr_arr) \n",
    "result_te_arr=np.array(result_te) \n",
    "max_rate_te=np.max(result_te_arr) \n",
    "idx_te=np.argmax(result_te_arr) \n",
    "print(methods)\n",
    "print(result_tr)\n",
    "print(result_te)\n",
    "print(\"최적의 모형(학습용):\",methods[idx_tr])\n",
    "print(\"최고 정확도(학습용):\",max_rate_tr)\n",
    "print(\"최적의 모형(검증용):\",methods[idx_te])\n",
    "print(\"최고 정확도(검증용):\",max_rate_te)\n",
    "plt.rcParams[\"font.size\"]=15\n",
    "plt.plot(methods, result_tr_arr, label=\"Train\")\n",
    "plt.plot(methods, result_te_arr, label=\"Test\")\n",
    "plt.title(\"분류 모형별 Score\")\n",
    "plt.xlabel(\"분석방법\")\n",
    "plt.ylabel(\"Score\")\n",
    "plt.legend()"
   ]
  },
  {
   "cell_type": "code",
   "execution_count": null,
   "metadata": {},
   "outputs": [],
   "source": [
    "methods=[\"LOGIT\",\"Tree\",\"RF\",\"KNN\",\"SVM\",\"ANN\" ,\"DNN\"]\n",
    "scores_arr=np.array(result_tr) \n",
    "max_rate=np.max(result_tr_arr)\n",
    "idx_tr=np.argmax(result_tr_arr) \n",
    "print(methods)\n",
    "print(result_tr)\n",
    "print(\"최적의 모형:\",methods[idx_tr])\n",
    "print(\"최고 정확도:\",max_rate_tr)\n",
    "plt.rcParams[\"font.size\"]=15\n",
    "plt.bar(methods, result_tr_arr)\n",
    "plt.title(\"분류 모형별 정확도\")\n",
    "plt.xlabel(\"Classifier\")\n",
    "plt.ylabel(\"Accuracy\")"
   ]
  },
  {
   "attachments": {},
   "cell_type": "markdown",
   "metadata": {},
   "source": [
    "#### 11.GridSearchCV"
   ]
  },
  {
   "cell_type": "code",
   "execution_count": null,
   "metadata": {},
   "outputs": [],
   "source": [
    "#로짓\n",
    "from sklearn.pipeline import Pipeline\n",
    "from sklearn.preprocessing import StandardScaler\n",
    "from sklearn.linear_model import LogisticRegression\n",
    "from sklearn.model_selection import GridSearchCV\n",
    "pipe = Pipeline([\n",
    "('scaler', StandardScaler()),\n",
    "('clf', LogisticRegression(random_state=0)),\n",
    "])\n",
    "params = {\n",
    "'clf__C': [0.0001, 0.001, 0.01, 0.1, 1.0, 10, 100],\n",
    "}\n",
    "grid = GridSearchCV(pipe, params, scoring='accuracy', cv=3)\n",
    "grid.fit(X, y)\n",
    "print(grid.best_params_)\n",
    "print(grid.best_score_)"
   ]
  },
  {
   "cell_type": "code",
   "execution_count": null,
   "metadata": {},
   "outputs": [],
   "source": [
    "scores = []\n",
    "\n",
    "scores.append(grid.best_score_)\n",
    "scores"
   ]
  },
  {
   "cell_type": "code",
   "execution_count": null,
   "metadata": {},
   "outputs": [],
   "source": [
    "#Tree\n",
    "from sklearn.tree import DecisionTreeClassifier\n",
    "pipe = Pipeline([\n",
    "('scaler', StandardScaler()),('clf', DecisionTreeClassifier(random_state=0)),\n",
    "])\n",
    "params = {\n",
    "'clf__max_depth': list(range(3,6))\n",
    "}\n",
    "grid = GridSearchCV(pipe, params, scoring='accuracy', cv=3)\n",
    "grid.fit(X, y)\n",
    "print(grid.best_params_)\n",
    "print(grid.best_score_)"
   ]
  },
  {
   "cell_type": "code",
   "execution_count": null,
   "metadata": {},
   "outputs": [],
   "source": [
    "scores.append(grid.best_score_)\n",
    "scores"
   ]
  },
  {
   "cell_type": "code",
   "execution_count": null,
   "metadata": {},
   "outputs": [],
   "source": [
    "tree=grid.best_estimator_['clf']"
   ]
  },
  {
   "cell_type": "code",
   "execution_count": null,
   "metadata": {},
   "outputs": [],
   "source": [
    "from sklearn.tree import export_graphviz\n",
    "import pydotplus\n",
    "import graphviz\n",
    "from IPython.display import Image\n",
    "dot_data = export_graphviz(tree, out_file=None,\n",
    "feature_names=cols, class_names=[\"0\",\"1\"], filled=True,\n",
    "rounded=True, special_characters=True)\n",
    "graph = pydotplus.graph_from_dot_data(dot_data)\n",
    "Image(graph.create_png())"
   ]
  },
  {
   "cell_type": "code",
   "execution_count": null,
   "metadata": {},
   "outputs": [],
   "source": [
    "import numpy as np\n",
    "\n",
    "def plot_tree(model):\n",
    "    n_features = X.shape[1]\n",
    "    plt.rcParams [\"figure.figsize\"]=(16,9)\n",
    "    plt.barh(range(n_features), model.feature_importances_,align='center')\n",
    "    plt.yticks(np.arange(n_features), cols)\n",
    "    plt.title ('Tree-Grid 특성 요인분석')\n",
    "    plt.xlabel(\"importances\")\n",
    "    plt.ylabel(\"features\")\n",
    "    plt.ylim(-1, n_features)\n",
    "plot_tree(tree)"
   ]
  },
  {
   "cell_type": "code",
   "execution_count": null,
   "metadata": {},
   "outputs": [],
   "source": [
    "#RF\n",
    "from sklearn.ensemble import RandomForestClassifier\n",
    "pipe = Pipeline([\n",
    "('scaler', StandardScaler()),\n",
    "('clf', RandomForestClassifier(random_state=0)),\n",
    "])\n",
    "params = {\n",
    "'clf__max_depth': list(range(3,6)),\n",
    "'clf__n_estimators': list(range(10,110,10)),\n",
    "}\n",
    "grid = GridSearchCV(pipe, params, scoring='accuracy', cv=3)\n",
    "grid.fit(X, y)\n",
    "print(grid.best_params_)\n",
    "print(grid.best_score_)"
   ]
  },
  {
   "cell_type": "code",
   "execution_count": null,
   "metadata": {},
   "outputs": [],
   "source": [
    "scores.append(grid.best_score_)\n",
    "scores"
   ]
  },
  {
   "cell_type": "code",
   "execution_count": null,
   "metadata": {},
   "outputs": [],
   "source": [
    "rf=grid.best_estimator_['clf']\n",
    "plot_tree(rf)"
   ]
  },
  {
   "cell_type": "code",
   "execution_count": null,
   "metadata": {},
   "outputs": [],
   "source": [
    "#KNN\n",
    "from sklearn.neighbors import KNeighborsClassifier\n",
    "pipe = Pipeline([\n",
    "('scaler', StandardScaler()),\n",
    "('clf', KNeighborsClassifier()),\n",
    "])\n",
    "params = {\n",
    "'clf__n_neighbors': list(range(1,11)),\n",
    "}\n",
    "grid = GridSearchCV(pipe, params, scoring='accuracy', cv=3)\n",
    "grid.fit(X, y)\n",
    "print(grid.best_params_)\n",
    "print(grid.best_score_)"
   ]
  },
  {
   "cell_type": "code",
   "execution_count": null,
   "metadata": {},
   "outputs": [],
   "source": [
    "scores.append(grid.best_score_)\n",
    "scores"
   ]
  },
  {
   "cell_type": "code",
   "execution_count": null,
   "metadata": {},
   "outputs": [],
   "source": [
    "#svm\n",
    "from sklearn.svm import SVC\n",
    "pipe = Pipeline([\n",
    "('scaler', StandardScaler()),\n",
    "('clf', SVC(random_state=0)),\n",
    "])\n",
    "params = {\n",
    "'clf__C': [0.001, 0.01, 0.1, 1, 10, 100, 1000],\n",
    "'clf__gamma': [0.0001, 0.001, 0.01, 0.1],\n",
    "}\n",
    "grid = GridSearchCV(pipe, params, scoring='accuracy', cv=3)\n",
    "grid.fit(X, y)\n",
    "print(grid.best_params_)\n",
    "print(grid.best_score_)"
   ]
  },
  {
   "cell_type": "code",
   "execution_count": null,
   "metadata": {},
   "outputs": [],
   "source": [
    "scores.append(grid.best_score_)\n",
    "scores"
   ]
  },
  {
   "cell_type": "code",
   "execution_count": null,
   "metadata": {},
   "outputs": [],
   "source": [
    "#ANN\n",
    "from sklearn.neural_network import MLPClassifier\n",
    "pipe = Pipeline([\n",
    "('scaler', StandardScaler()),\n",
    "('clf', MLPClassifier(random_state=0, max_iter=5000)),\n",
    "])\n",
    "params = {\n",
    "'clf__hidden_layer_sizes': [(50,), (100,), (50,50),\n",
    "(100,100)],\n",
    "'clf__activation': ['tanh', 'relu'],\n",
    "'clf__alpha': [0.001, 0.01, 0.1]\n",
    "}\n",
    "grid = GridSearchCV(pipe, params, scoring='accuracy', cv=3)\n",
    "grid.fit(X, y)\n",
    "print(grid.best_params_)\n",
    "print(grid.best_score_)"
   ]
  },
  {
   "cell_type": "code",
   "execution_count": null,
   "metadata": {},
   "outputs": [],
   "source": [
    "scores.append(grid.best_score_)\n",
    "scores"
   ]
  },
  {
   "cell_type": "code",
   "execution_count": null,
   "metadata": {},
   "outputs": [],
   "source": [
    "#DNN\n",
    "from scikeras.wrappers import KerasClassifier\n",
    "from keras import models\n",
    "from keras import layers\n",
    "def create_network(optimizer=\"rmsprop\"):\n",
    "    network = models.Sequential()\n",
    "    network.add(layers.Dense(units=16,\n",
    "    activation=\"relu\",\n",
    "    input_shape=(X.shape[1],)))\n",
    "    network.add(layers.Dense(units=16, activation=\"relu\"))\n",
    "    network.add(layers.Dense(units=1,\n",
    "    activation=\"sigmoid\"))\n",
    "    network.compile(loss='binary_crossentropy',\n",
    "    optimizer=optimizer, \n",
    "    metrics=[\"accuracy\"])\n",
    "    return network"
   ]
  },
  {
   "cell_type": "code",
   "execution_count": null,
   "metadata": {},
   "outputs": [],
   "source": [
    "\n",
    "neural_network = KerasClassifier(model=create_network,\n",
    "verbose=0)\n",
    "pipe=Pipeline([\n",
    "('scaler',StandardScaler()),\n",
    "('clf',neural_network)\n",
    "])\n",
    "params={\n",
    "'clf__epochs': [50, 100],\n",
    "'clf__batch_size': [32,64,128],\n",
    "'clf__optimizer': [\"rmsprop\", \"adam\"],\n",
    "}\n",
    "grid=GridSearchCV(pipe,params,scoring='accuracy',cv=3)\n",
    "grid_result = grid.fit(X, y)"
   ]
  },
  {
   "cell_type": "code",
   "execution_count": null,
   "metadata": {},
   "outputs": [],
   "source": [
    "grid.best_score_"
   ]
  },
  {
   "cell_type": "code",
   "execution_count": null,
   "metadata": {},
   "outputs": [],
   "source": [
    "grid_result.best_params_"
   ]
  },
  {
   "cell_type": "code",
   "execution_count": null,
   "metadata": {},
   "outputs": [],
   "source": [
    "scores.append(grid.best_score_)\n",
    "scores"
   ]
  },
  {
   "cell_type": "code",
   "execution_count": null,
   "metadata": {},
   "outputs": [],
   "source": [
    "methods=[\"LOGIT\",\"Tree\",\"RF\",\"KNN\",\"SVM\",\"ANN\",\"DNN\"]\n",
    "scores_arr=np.array(scores) \n",
    "max_rate=np.max(scores_arr)\n",
    "idx=np.argmax(scores_arr) \n",
    "print(methods)\n",
    "print(scores_arr)\n",
    "print(\"최적의 모형:\",methods[idx])\n",
    "print(\"최고 정확도:\",max_rate)\n",
    "plt.rcParams[\"font.size\"]=15\n",
    "plt.bar(methods, scores_arr)\n",
    "plt.title('GridSearchCV 적용 모형별 정확도' )\n",
    "plt.xlabel(\"Classifier\")\n",
    "plt.ylabel(\"Accuracy\")"
   ]
  }
 ],
 "metadata": {
  "kernelspec": {
   "display_name": "base",
   "language": "python",
   "name": "python3"
  },
  "language_info": {
   "codemirror_mode": {
    "name": "ipython",
    "version": 3
   },
   "file_extension": ".py",
   "mimetype": "text/x-python",
   "name": "python",
   "nbconvert_exporter": "python",
   "pygments_lexer": "ipython3",
   "version": "3.9.13"
  },
  "orig_nbformat": 4
 },
 "nbformat": 4,
 "nbformat_minor": 2
}
